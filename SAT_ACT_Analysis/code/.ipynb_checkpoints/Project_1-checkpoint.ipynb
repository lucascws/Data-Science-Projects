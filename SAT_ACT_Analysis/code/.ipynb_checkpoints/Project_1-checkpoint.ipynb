{
 "cells": [
  {
   "cell_type": "markdown",
   "metadata": {},
   "source": [
    "<img src=\"http://imgur.com/1ZcRyrc.png\" style=\"float: left; margin: 20px; height: 55px\">\n",
    "\n",
    "# Project 1: Standardized Test Analysis"
   ]
  },
  {
   "cell_type": "markdown",
   "metadata": {},
   "source": [
    "## Problem Statement"
   ]
  },
  {
   "cell_type": "markdown",
   "metadata": {},
   "source": [
    "How do socio-economic indicators relate to state-level test scores?"
   ]
  },
  {
   "cell_type": "markdown",
   "metadata": {},
   "source": [
    "## Background"
   ]
  },
  {
   "cell_type": "markdown",
   "metadata": {},
   "source": [
    "The SAT and ACT are standardized tests that many colleges and universities in the United States require for their admissions process. This score is used along with other materials such as grade point average (GPA) and essay responses to determine whether or not a potential student will be accepted to the university.\n",
    "\n",
    "The SAT has two sections of the test: Evidence-Based Reading and Writing and Math ([*source*](https://www.princetonreview.com/college/sat-sections)). The ACT has 4 sections: English, Mathematics, Reading, and Science, with an additional optional writing section ([*source*](https://www.act.org/content/act/en/products-and-services/the-act/scores/understanding-your-scores.html)). \n",
    "* [SAT](https://collegereadiness.collegeboard.org/sat)\n",
    "* [ACT](https://www.act.org/content/act/en.html)\n",
    "\n",
    "In recent years, there are growing concerns that the SAT and ACT are not a fair measure of assessment for colleges and universities admission as they are affected various external socio-economic factors. ([*source*](https://www.forbes.com/sites/kimelsesser/2019/12/11/lawsuit-claims-sat-and-act-are-biased-heres-what-research-says/?sh=9d693b63c429)) This includes racial and economic biasness in the test scores. For instance, research has indicated that SAT scores for families with an income of more than USD100,000 is significantly higher than families with an income of lower than USD50,000. Additionally, White Students tend to perform better than African-American and Hispanic Students. ([*source*](https://www.forbes.com/sites/markkantrowitz/2021/05/21/how-admissions-tests-discriminate-against-low-income-and-minority-student-admissions-at-selective-colleges/?sh=77b5a88f3cc1))\n",
    "\n",
    "In 2019, there was even a lawsuit raised against the University of California claiming they are \"violating state civil rights laws by requiring applicants to take the SAT or ACT, standardized tests that unlawfully discriminate against disabled, low-income, multilingual and underrepresented minority students\". ([*source*](https://www.latimes.com/california/story/2019-12-10/uc-violates-civil-rights-of-disadvantaged-students-by-requiring-sat-for-admission-lawsuit-alleges)) In light of the rising number of claims challenging the fairness of the ACT and SAT for college admissions, we are task to conduct an analysis for the US Department of Education to gain a better understanding of some of these issues.\n",
    "\n",
    "As consultants to the US Department of Education, we are tasked with conducting a preliminary analysis on whether socio-economic factors do affect ACT and SAT test scores. In the analysis below, we will look further into three features of interest, the Human Development Index (HDI), Racial Diversity and Population Density, and look into how they affect the ACT and SAT Scores. Our preliminary analysis is done at the State level, comparing the state average scores with the State's HDI, Racial Diversity and Population Density."
   ]
  },
  {
   "cell_type": "markdown",
   "metadata": {},
   "source": [
    "### Dataset\n",
    "\n",
    "* [`act_2017.csv`](./data/act_2017.csv): 2017 ACT Scores by State\n",
    "* [`act_2018.csv`](./data/act_2018.csv): 2018 ACT Scores by State\n",
    "* [`act_2019.csv`](./data/act_2019.csv): 2019 ACT Scores by State\n",
    "* [`sat_2017.csv`](./data/sat_2017.csv): 2017 SAT Scores by State\n",
    "* [`sat_2018.csv`](./data/sat_2018.csv): 2018 SAT Scores by State\n",
    "* [`sat_2019.csv`](./data/sat_2019.csv): 2019 SAT Scores by State\n",
    "* [`race_perc_2019.csv`](./data/race_perc_2019.csv): Racial Composition of the Population by State\n",
    "* [`hdi_2019.csv`](./data/hdi_2019.csv): HDI Index by State\n",
    "* [`population_density_2020.csv`](./data/population_density_2020.csv): Population Density by State"
   ]
  },
  {
   "cell_type": "markdown",
   "metadata": {},
   "source": [
    "### Further Research - Other Datasets"
   ]
  },
  {
   "cell_type": "markdown",
   "metadata": {},
   "source": [
    "**Human Development Index (HDI)**\n",
    "\n",
    "- The HDI serves as a metric to assess the development of a region. (Not just economic growth) The key measures that make up a HDI are:\n",
    "    - Life Expectancy\n",
    "    - Knowledge\n",
    "    - Standard of Living\n",
    "- The HDI ranges from 0 to 1\n",
    "- A higher HDI incidates that the state is more developed\n",
    "- We will be assessing if there is a difference in ACT/SAT scores between states with higher or lower HDI\n",
    "\n",
    "* [HDI](https://hdr.undp.org/en/content/human-development-index-hdi)\n",
    "* [Data Source](https://globaldatalab.org/shdi/shdi/USA/?levels=1%2B4&interpolation=1&extrapolation=0&nearest_real=0&years=2019)"
   ]
  },
  {
   "cell_type": "markdown",
   "metadata": {},
   "source": [
    "**Racial Diversity**\n",
    "\n",
    "- The Racial Diversity metric serves as an indicator of how racially diverse a state is. This is an indicator of how racially diverse a state is (we do not consider the racial composition of the state itself)\n",
    "- To attain a metric for racial diversity of each state, we will be using an index called Herfindahl–Hirschman Index (HHI)\n",
    "    - The range of the HHI is from 0 to 1\n",
    "    - The HHI is calculated by squaring the proportion of each race in the state\n",
    "    - A higher HHI indicates that the state is less racially diverse\n",
    "- We will be assessing if there is a difference in ACT/SAT scores between states with higher or lower racial diversity\n",
    "\n",
    "* [HHI](https://www.justice.gov/atr/herfindahl-hirschman-index)\n",
    "* [Data Source](https://worldpopulationreview.com/states/states-by-race)    "
   ]
  },
  {
   "cell_type": "markdown",
   "metadata": {},
   "source": [
    "**Population Density**\n",
    "\n",
    "- The population density is a measure of how densely populated each states are\n",
    "- We will be using a measure of the population per km^2 in each state\n",
    "- We will be assessing if there is a difference in ACT/SAT scores between states with higher or lower population density\n",
    "\n",
    "* [Data Source](https://en.wikipedia.org/wiki/List_of_states_and_territories_of_the_United_States_by_population_density)    "
   ]
  },
  {
   "cell_type": "markdown",
   "metadata": {
    "tags": []
   },
   "source": [
    "# Data Importing and Cleaning"
   ]
  },
  {
   "cell_type": "markdown",
   "metadata": {},
   "source": [
    "## Importing libraries and loading dataset"
   ]
  },
  {
   "cell_type": "code",
   "execution_count": 1,
   "metadata": {},
   "outputs": [],
   "source": [
    "## Import libraries\n",
    "\n",
    "import pandas as pd\n",
    "import numpy as np\n",
    "import matplotlib.pyplot as plt\n",
    "import seaborn as sns\n",
    "import plotly.express as px\n",
    "\n",
    "sns.set_style('whitegrid')\n",
    "sns.set_theme()"
   ]
  },
  {
   "cell_type": "code",
   "execution_count": 2,
   "metadata": {},
   "outputs": [],
   "source": [
    "## Load ACT and SAT Dataset \n",
    "\n",
    "act_2017 = pd.read_csv('../data/act_2017.csv')\n",
    "act_2018 = pd.read_csv('../data/act_2018.csv')\n",
    "act_2019 = pd.read_csv('../data/act_2019.csv')\n",
    "\n",
    "sat_2017 = pd.read_csv('../data/sat_2017.csv')\n",
    "sat_2018 = pd.read_csv('../data/sat_2018.csv')\n",
    "sat_2019 = pd.read_csv('../data/sat_2019.csv')"
   ]
  },
  {
   "cell_type": "code",
   "execution_count": 3,
   "metadata": {},
   "outputs": [],
   "source": [
    "# Import HDI 2019 data set\n",
    "hdi_2019 = pd.read_csv(\"../data/hdi_2019.csv\")"
   ]
  },
  {
   "cell_type": "code",
   "execution_count": 4,
   "metadata": {},
   "outputs": [],
   "source": [
    "# Import Racial composition 2019 data set\n",
    "race_2019 = pd.read_csv(\"../data/race_perc_2019.csv\")"
   ]
  },
  {
   "cell_type": "code",
   "execution_count": 5,
   "metadata": {},
   "outputs": [],
   "source": [
    "# Import population density 2020 data set\n",
    "pop_den_2020 = pd.read_csv(\"../data/population_density_2020.csv\")"
   ]
  },
  {
   "cell_type": "markdown",
   "metadata": {},
   "source": [
    "## ACT and SAT Dataset"
   ]
  },
  {
   "cell_type": "markdown",
   "metadata": {},
   "source": [
    "### ACT dataset - summary"
   ]
  },
  {
   "cell_type": "markdown",
   "metadata": {},
   "source": [
    "**ACT 2017 Dataset**"
   ]
  },
  {
   "cell_type": "code",
   "execution_count": 6,
   "metadata": {},
   "outputs": [
    {
     "data": {
      "text/plain": [
       "(52, 7)"
      ]
     },
     "execution_count": 6,
     "metadata": {},
     "output_type": "execute_result"
    }
   ],
   "source": [
    "# Number of rows x Number of columns\n",
    "act_2017.shape"
   ]
  },
  {
   "cell_type": "code",
   "execution_count": 7,
   "metadata": {},
   "outputs": [
    {
     "name": "stdout",
     "output_type": "stream",
     "text": [
      "<class 'pandas.core.frame.DataFrame'>\n",
      "RangeIndex: 52 entries, 0 to 51\n",
      "Data columns (total 7 columns):\n",
      " #   Column         Non-Null Count  Dtype  \n",
      "---  ------         --------------  -----  \n",
      " 0   State          52 non-null     object \n",
      " 1   Participation  52 non-null     object \n",
      " 2   English        52 non-null     float64\n",
      " 3   Math           52 non-null     float64\n",
      " 4   Reading        52 non-null     float64\n",
      " 5   Science        52 non-null     float64\n",
      " 6   Composite      52 non-null     object \n",
      "dtypes: float64(4), object(3)\n",
      "memory usage: 3.0+ KB\n"
     ]
    }
   ],
   "source": [
    "act_2017.info()"
   ]
  },
  {
   "cell_type": "markdown",
   "metadata": {},
   "source": [
    "Initial Observations\n",
    "\n",
    "1. 52 rows\n",
    "2. Composite score column is a string instead of float"
   ]
  },
  {
   "cell_type": "code",
   "execution_count": 8,
   "metadata": {},
   "outputs": [
    {
     "data": {
      "text/html": [
       "<div>\n",
       "<style scoped>\n",
       "    .dataframe tbody tr th:only-of-type {\n",
       "        vertical-align: middle;\n",
       "    }\n",
       "\n",
       "    .dataframe tbody tr th {\n",
       "        vertical-align: top;\n",
       "    }\n",
       "\n",
       "    .dataframe thead th {\n",
       "        text-align: right;\n",
       "    }\n",
       "</style>\n",
       "<table border=\"1\" class=\"dataframe\">\n",
       "  <thead>\n",
       "    <tr style=\"text-align: right;\">\n",
       "      <th></th>\n",
       "      <th>State</th>\n",
       "      <th>Participation</th>\n",
       "      <th>English</th>\n",
       "      <th>Math</th>\n",
       "      <th>Reading</th>\n",
       "      <th>Science</th>\n",
       "      <th>Composite</th>\n",
       "    </tr>\n",
       "  </thead>\n",
       "  <tbody>\n",
       "    <tr>\n",
       "      <th>0</th>\n",
       "      <td>National</td>\n",
       "      <td>60%</td>\n",
       "      <td>20.3</td>\n",
       "      <td>20.7</td>\n",
       "      <td>21.4</td>\n",
       "      <td>21.0</td>\n",
       "      <td>21.0</td>\n",
       "    </tr>\n",
       "    <tr>\n",
       "      <th>1</th>\n",
       "      <td>Alabama</td>\n",
       "      <td>100%</td>\n",
       "      <td>18.9</td>\n",
       "      <td>18.4</td>\n",
       "      <td>19.7</td>\n",
       "      <td>19.4</td>\n",
       "      <td>19.2</td>\n",
       "    </tr>\n",
       "    <tr>\n",
       "      <th>2</th>\n",
       "      <td>Alaska</td>\n",
       "      <td>65%</td>\n",
       "      <td>18.7</td>\n",
       "      <td>19.8</td>\n",
       "      <td>20.4</td>\n",
       "      <td>19.9</td>\n",
       "      <td>19.8</td>\n",
       "    </tr>\n",
       "    <tr>\n",
       "      <th>3</th>\n",
       "      <td>Arizona</td>\n",
       "      <td>62%</td>\n",
       "      <td>18.6</td>\n",
       "      <td>19.8</td>\n",
       "      <td>20.1</td>\n",
       "      <td>19.8</td>\n",
       "      <td>19.7</td>\n",
       "    </tr>\n",
       "    <tr>\n",
       "      <th>4</th>\n",
       "      <td>Arkansas</td>\n",
       "      <td>100%</td>\n",
       "      <td>18.9</td>\n",
       "      <td>19.0</td>\n",
       "      <td>19.7</td>\n",
       "      <td>19.5</td>\n",
       "      <td>19.4</td>\n",
       "    </tr>\n",
       "  </tbody>\n",
       "</table>\n",
       "</div>"
      ],
      "text/plain": [
       "      State Participation  English  Math  Reading  Science Composite\n",
       "0  National           60%     20.3  20.7     21.4     21.0      21.0\n",
       "1   Alabama          100%     18.9  18.4     19.7     19.4      19.2\n",
       "2    Alaska           65%     18.7  19.8     20.4     19.9      19.8\n",
       "3   Arizona           62%     18.6  19.8     20.1     19.8      19.7\n",
       "4  Arkansas          100%     18.9  19.0     19.7     19.5      19.4"
      ]
     },
     "execution_count": 8,
     "metadata": {},
     "output_type": "execute_result"
    }
   ],
   "source": [
    "act_2017.head()"
   ]
  },
  {
   "cell_type": "code",
   "execution_count": 9,
   "metadata": {},
   "outputs": [
    {
     "data": {
      "text/plain": [
       "52"
      ]
     },
     "execution_count": 9,
     "metadata": {},
     "output_type": "execute_result"
    }
   ],
   "source": [
    "# check for number of unique state values\n",
    "act_2017['State'].nunique()"
   ]
  },
  {
   "cell_type": "code",
   "execution_count": 10,
   "metadata": {},
   "outputs": [
    {
     "data": {
      "text/plain": [
       "array(['National', 'Alabama', 'Alaska', 'Arizona', 'Arkansas',\n",
       "       'California', 'Colorado', 'Connecticut', 'Delaware',\n",
       "       'District of Columbia', 'Florida', 'Georgia', 'Hawaii', 'Idaho',\n",
       "       'Illinois', 'Indiana', 'Iowa', 'Kansas', 'Kentucky', 'Louisiana',\n",
       "       'Maine', 'Maryland', 'Massachusetts', 'Michigan', 'Minnesota',\n",
       "       'Mississippi', 'Missouri', 'Montana', 'Nebraska', 'Nevada',\n",
       "       'New Hampshire', 'New Jersey', 'New Mexico', 'New York',\n",
       "       'North Carolina', 'North Dakota', 'Ohio', 'Oklahoma', 'Oregon',\n",
       "       'Pennsylvania', 'Rhode Island', 'South Carolina', 'South Dakota',\n",
       "       'Tennessee', 'Texas', 'Utah', 'Vermont', 'Virginia', 'Washington',\n",
       "       'West Virginia', 'Wisconsin', 'Wyoming'], dtype=object)"
      ]
     },
     "execution_count": 10,
     "metadata": {},
     "output_type": "execute_result"
    }
   ],
   "source": [
    "# there should be 50 states in the US + District of Columbia (Washington DC)\n",
    "act_2017['State'].unique()"
   ]
  },
  {
   "cell_type": "code",
   "execution_count": 11,
   "metadata": {},
   "outputs": [
    {
     "data": {
      "text/html": [
       "<div>\n",
       "<style scoped>\n",
       "    .dataframe tbody tr th:only-of-type {\n",
       "        vertical-align: middle;\n",
       "    }\n",
       "\n",
       "    .dataframe tbody tr th {\n",
       "        vertical-align: top;\n",
       "    }\n",
       "\n",
       "    .dataframe thead th {\n",
       "        text-align: right;\n",
       "    }\n",
       "</style>\n",
       "<table border=\"1\" class=\"dataframe\">\n",
       "  <thead>\n",
       "    <tr style=\"text-align: right;\">\n",
       "      <th></th>\n",
       "      <th>State</th>\n",
       "      <th>Participation</th>\n",
       "      <th>English</th>\n",
       "      <th>Math</th>\n",
       "      <th>Reading</th>\n",
       "      <th>Science</th>\n",
       "      <th>Composite</th>\n",
       "    </tr>\n",
       "  </thead>\n",
       "  <tbody>\n",
       "    <tr>\n",
       "      <th>0</th>\n",
       "      <td>National</td>\n",
       "      <td>60%</td>\n",
       "      <td>20.3</td>\n",
       "      <td>20.7</td>\n",
       "      <td>21.4</td>\n",
       "      <td>21.0</td>\n",
       "      <td>21.0</td>\n",
       "    </tr>\n",
       "  </tbody>\n",
       "</table>\n",
       "</div>"
      ],
      "text/plain": [
       "      State Participation  English  Math  Reading  Science Composite\n",
       "0  National           60%     20.3  20.7     21.4     21.0      21.0"
      ]
     },
     "execution_count": 11,
     "metadata": {},
     "output_type": "execute_result"
    }
   ],
   "source": [
    "# National is not a state but a national average\n",
    "act_2017[act_2017['State'] == \"National\"]"
   ]
  },
  {
   "cell_type": "code",
   "execution_count": 12,
   "metadata": {},
   "outputs": [
    {
     "data": {
      "text/plain": [
       "array(['21.0', '19.2', '19.8', '19.7', '19.4', '22.8', '20.8', '25.2',\n",
       "       '24.1', '24.2', '21.4', '19.0', '22.3', '22.6', '21.9', '21.7',\n",
       "       '20.0', '19.5', '24.3', '23.6', '25.4', '21.5', '18.6', '20.4',\n",
       "       '20.3', '17.8', '25.5', '23.9', '19.1', '22.0', '21.8', '23.7',\n",
       "       '24.0', '18.7', '20.7', '23.8', '20.5', '20.2x'], dtype=object)"
      ]
     },
     "execution_count": 12,
     "metadata": {},
     "output_type": "execute_result"
    }
   ],
   "source": [
    "# Analysing why the composite score is a string unlike the other numerical score columns\n",
    "# one of the value is '20.2x'\n",
    "act_2017[\"Composite\"].unique()"
   ]
  },
  {
   "cell_type": "code",
   "execution_count": 13,
   "metadata": {},
   "outputs": [
    {
     "data": {
      "text/html": [
       "<div>\n",
       "<style scoped>\n",
       "    .dataframe tbody tr th:only-of-type {\n",
       "        vertical-align: middle;\n",
       "    }\n",
       "\n",
       "    .dataframe tbody tr th {\n",
       "        vertical-align: top;\n",
       "    }\n",
       "\n",
       "    .dataframe thead th {\n",
       "        text-align: right;\n",
       "    }\n",
       "</style>\n",
       "<table border=\"1\" class=\"dataframe\">\n",
       "  <thead>\n",
       "    <tr style=\"text-align: right;\">\n",
       "      <th></th>\n",
       "      <th>State</th>\n",
       "      <th>Participation</th>\n",
       "      <th>English</th>\n",
       "      <th>Math</th>\n",
       "      <th>Reading</th>\n",
       "      <th>Science</th>\n",
       "      <th>Composite</th>\n",
       "    </tr>\n",
       "  </thead>\n",
       "  <tbody>\n",
       "    <tr>\n",
       "      <th>51</th>\n",
       "      <td>Wyoming</td>\n",
       "      <td>100%</td>\n",
       "      <td>19.4</td>\n",
       "      <td>19.8</td>\n",
       "      <td>20.8</td>\n",
       "      <td>20.6</td>\n",
       "      <td>20.2x</td>\n",
       "    </tr>\n",
       "  </tbody>\n",
       "</table>\n",
       "</div>"
      ],
      "text/plain": [
       "      State Participation  English  Math  Reading  Science Composite\n",
       "51  Wyoming          100%     19.4  19.8     20.8     20.6     20.2x"
      ]
     },
     "execution_count": 13,
     "metadata": {},
     "output_type": "execute_result"
    }
   ],
   "source": [
    "act_2017[act_2017[\"Composite\"] == \"20.2x\"]"
   ]
  },
  {
   "cell_type": "markdown",
   "metadata": {},
   "source": [
    "**ACT 2018 Dataset**"
   ]
  },
  {
   "cell_type": "code",
   "execution_count": 14,
   "metadata": {},
   "outputs": [
    {
     "data": {
      "text/plain": [
       "(52, 3)"
      ]
     },
     "execution_count": 14,
     "metadata": {},
     "output_type": "execute_result"
    }
   ],
   "source": [
    "# Number of rows x Number of columns\n",
    "act_2018.shape"
   ]
  },
  {
   "cell_type": "code",
   "execution_count": 15,
   "metadata": {},
   "outputs": [
    {
     "name": "stdout",
     "output_type": "stream",
     "text": [
      "<class 'pandas.core.frame.DataFrame'>\n",
      "RangeIndex: 52 entries, 0 to 51\n",
      "Data columns (total 3 columns):\n",
      " #   Column         Non-Null Count  Dtype  \n",
      "---  ------         --------------  -----  \n",
      " 0   State          52 non-null     object \n",
      " 1   Participation  52 non-null     object \n",
      " 2   Composite      52 non-null     float64\n",
      "dtypes: float64(1), object(2)\n",
      "memory usage: 1.3+ KB\n"
     ]
    }
   ],
   "source": [
    "act_2018.info()"
   ]
  },
  {
   "cell_type": "markdown",
   "metadata": {},
   "source": [
    "Initial Observations\n",
    "\n",
    "1. 52 rows"
   ]
  },
  {
   "cell_type": "code",
   "execution_count": 16,
   "metadata": {},
   "outputs": [
    {
     "data": {
      "text/html": [
       "<div>\n",
       "<style scoped>\n",
       "    .dataframe tbody tr th:only-of-type {\n",
       "        vertical-align: middle;\n",
       "    }\n",
       "\n",
       "    .dataframe tbody tr th {\n",
       "        vertical-align: top;\n",
       "    }\n",
       "\n",
       "    .dataframe thead th {\n",
       "        text-align: right;\n",
       "    }\n",
       "</style>\n",
       "<table border=\"1\" class=\"dataframe\">\n",
       "  <thead>\n",
       "    <tr style=\"text-align: right;\">\n",
       "      <th></th>\n",
       "      <th>State</th>\n",
       "      <th>Participation</th>\n",
       "      <th>Composite</th>\n",
       "    </tr>\n",
       "  </thead>\n",
       "  <tbody>\n",
       "    <tr>\n",
       "      <th>0</th>\n",
       "      <td>Alabama</td>\n",
       "      <td>100%</td>\n",
       "      <td>19.1</td>\n",
       "    </tr>\n",
       "    <tr>\n",
       "      <th>1</th>\n",
       "      <td>Alaska</td>\n",
       "      <td>33%</td>\n",
       "      <td>20.8</td>\n",
       "    </tr>\n",
       "    <tr>\n",
       "      <th>2</th>\n",
       "      <td>Arizona</td>\n",
       "      <td>66%</td>\n",
       "      <td>19.2</td>\n",
       "    </tr>\n",
       "    <tr>\n",
       "      <th>3</th>\n",
       "      <td>Arkansas</td>\n",
       "      <td>100%</td>\n",
       "      <td>19.4</td>\n",
       "    </tr>\n",
       "    <tr>\n",
       "      <th>4</th>\n",
       "      <td>California</td>\n",
       "      <td>27%</td>\n",
       "      <td>22.7</td>\n",
       "    </tr>\n",
       "  </tbody>\n",
       "</table>\n",
       "</div>"
      ],
      "text/plain": [
       "        State Participation  Composite\n",
       "0     Alabama          100%       19.1\n",
       "1      Alaska           33%       20.8\n",
       "2     Arizona           66%       19.2\n",
       "3    Arkansas          100%       19.4\n",
       "4  California           27%       22.7"
      ]
     },
     "execution_count": 16,
     "metadata": {},
     "output_type": "execute_result"
    }
   ],
   "source": [
    "act_2018.head()"
   ]
  },
  {
   "cell_type": "code",
   "execution_count": 17,
   "metadata": {},
   "outputs": [
    {
     "data": {
      "text/plain": [
       "51"
      ]
     },
     "execution_count": 17,
     "metadata": {},
     "output_type": "execute_result"
    }
   ],
   "source": [
    "# Again, there should be 50 states + washington DC - check for unique state values\n",
    "act_2018['State'].nunique()"
   ]
  },
  {
   "cell_type": "code",
   "execution_count": 18,
   "metadata": {},
   "outputs": [
    {
     "data": {
      "text/html": [
       "<div>\n",
       "<style scoped>\n",
       "    .dataframe tbody tr th:only-of-type {\n",
       "        vertical-align: middle;\n",
       "    }\n",
       "\n",
       "    .dataframe tbody tr th {\n",
       "        vertical-align: top;\n",
       "    }\n",
       "\n",
       "    .dataframe thead th {\n",
       "        text-align: right;\n",
       "    }\n",
       "</style>\n",
       "<table border=\"1\" class=\"dataframe\">\n",
       "  <thead>\n",
       "    <tr style=\"text-align: right;\">\n",
       "      <th></th>\n",
       "      <th>State</th>\n",
       "      <th>Participation</th>\n",
       "      <th>Composite</th>\n",
       "    </tr>\n",
       "  </thead>\n",
       "  <tbody>\n",
       "    <tr>\n",
       "      <th>20</th>\n",
       "      <td>Maine</td>\n",
       "      <td>7%</td>\n",
       "      <td>24.0</td>\n",
       "    </tr>\n",
       "  </tbody>\n",
       "</table>\n",
       "</div>"
      ],
      "text/plain": [
       "    State Participation  Composite\n",
       "20  Maine            7%       24.0"
      ]
     },
     "execution_count": 18,
     "metadata": {},
     "output_type": "execute_result"
    }
   ],
   "source": [
    "# check for duplicated row\n",
    "act_2018[act_2018.duplicated()]"
   ]
  },
  {
   "cell_type": "markdown",
   "metadata": {},
   "source": [
    "**ACT 2019 Dataset**"
   ]
  },
  {
   "cell_type": "code",
   "execution_count": 19,
   "metadata": {},
   "outputs": [
    {
     "data": {
      "text/plain": [
       "(52, 3)"
      ]
     },
     "execution_count": 19,
     "metadata": {},
     "output_type": "execute_result"
    }
   ],
   "source": [
    "# Number of rows x Number of columns\n",
    "act_2019.shape"
   ]
  },
  {
   "cell_type": "code",
   "execution_count": 20,
   "metadata": {},
   "outputs": [
    {
     "name": "stdout",
     "output_type": "stream",
     "text": [
      "<class 'pandas.core.frame.DataFrame'>\n",
      "RangeIndex: 52 entries, 0 to 51\n",
      "Data columns (total 3 columns):\n",
      " #   Column         Non-Null Count  Dtype  \n",
      "---  ------         --------------  -----  \n",
      " 0   State          52 non-null     object \n",
      " 1   Participation  52 non-null     object \n",
      " 2   Composite      52 non-null     float64\n",
      "dtypes: float64(1), object(2)\n",
      "memory usage: 1.3+ KB\n"
     ]
    }
   ],
   "source": [
    "act_2019.info()"
   ]
  },
  {
   "cell_type": "code",
   "execution_count": 21,
   "metadata": {},
   "outputs": [
    {
     "data": {
      "text/html": [
       "<div>\n",
       "<style scoped>\n",
       "    .dataframe tbody tr th:only-of-type {\n",
       "        vertical-align: middle;\n",
       "    }\n",
       "\n",
       "    .dataframe tbody tr th {\n",
       "        vertical-align: top;\n",
       "    }\n",
       "\n",
       "    .dataframe thead th {\n",
       "        text-align: right;\n",
       "    }\n",
       "</style>\n",
       "<table border=\"1\" class=\"dataframe\">\n",
       "  <thead>\n",
       "    <tr style=\"text-align: right;\">\n",
       "      <th></th>\n",
       "      <th>State</th>\n",
       "      <th>Participation</th>\n",
       "      <th>Composite</th>\n",
       "    </tr>\n",
       "  </thead>\n",
       "  <tbody>\n",
       "    <tr>\n",
       "      <th>0</th>\n",
       "      <td>Alabama</td>\n",
       "      <td>100%</td>\n",
       "      <td>18.9</td>\n",
       "    </tr>\n",
       "    <tr>\n",
       "      <th>1</th>\n",
       "      <td>Alaska</td>\n",
       "      <td>38%</td>\n",
       "      <td>20.1</td>\n",
       "    </tr>\n",
       "    <tr>\n",
       "      <th>2</th>\n",
       "      <td>Arizona</td>\n",
       "      <td>73%</td>\n",
       "      <td>19.0</td>\n",
       "    </tr>\n",
       "    <tr>\n",
       "      <th>3</th>\n",
       "      <td>Arkansas</td>\n",
       "      <td>100%</td>\n",
       "      <td>19.3</td>\n",
       "    </tr>\n",
       "    <tr>\n",
       "      <th>4</th>\n",
       "      <td>California</td>\n",
       "      <td>23%</td>\n",
       "      <td>22.6</td>\n",
       "    </tr>\n",
       "  </tbody>\n",
       "</table>\n",
       "</div>"
      ],
      "text/plain": [
       "        State Participation  Composite\n",
       "0     Alabama          100%       18.9\n",
       "1      Alaska           38%       20.1\n",
       "2     Arizona           73%       19.0\n",
       "3    Arkansas          100%       19.3\n",
       "4  California           23%       22.6"
      ]
     },
     "execution_count": 21,
     "metadata": {},
     "output_type": "execute_result"
    }
   ],
   "source": [
    "act_2019.head()"
   ]
  },
  {
   "cell_type": "code",
   "execution_count": 22,
   "metadata": {},
   "outputs": [
    {
     "data": {
      "text/plain": [
       "52"
      ]
     },
     "execution_count": 22,
     "metadata": {},
     "output_type": "execute_result"
    }
   ],
   "source": [
    "# Again, there should be 50 states + Washington DC - check for unique state values\n",
    "act_2019['State'].nunique()"
   ]
  },
  {
   "cell_type": "code",
   "execution_count": 23,
   "metadata": {},
   "outputs": [
    {
     "data": {
      "text/html": [
       "<div>\n",
       "<style scoped>\n",
       "    .dataframe tbody tr th:only-of-type {\n",
       "        vertical-align: middle;\n",
       "    }\n",
       "\n",
       "    .dataframe tbody tr th {\n",
       "        vertical-align: top;\n",
       "    }\n",
       "\n",
       "    .dataframe thead th {\n",
       "        text-align: right;\n",
       "    }\n",
       "</style>\n",
       "<table border=\"1\" class=\"dataframe\">\n",
       "  <thead>\n",
       "    <tr style=\"text-align: right;\">\n",
       "      <th></th>\n",
       "      <th>State</th>\n",
       "      <th>Participation</th>\n",
       "      <th>Composite</th>\n",
       "    </tr>\n",
       "  </thead>\n",
       "  <tbody>\n",
       "    <tr>\n",
       "      <th>51</th>\n",
       "      <td>National</td>\n",
       "      <td>52%</td>\n",
       "      <td>20.7</td>\n",
       "    </tr>\n",
       "  </tbody>\n",
       "</table>\n",
       "</div>"
      ],
      "text/plain": [
       "       State Participation  Composite\n",
       "51  National           52%       20.7"
      ]
     },
     "execution_count": 23,
     "metadata": {},
     "output_type": "execute_result"
    }
   ],
   "source": [
    "# National is not a state but a national average\n",
    "act_2019[act_2019['State'] == \"National\"]"
   ]
  },
  {
   "cell_type": "markdown",
   "metadata": {},
   "source": [
    "### Findings for ACT\n",
    "\n",
    "- All three dataset has 52 rows. However, there are 50 states in the USA\n",
    "    - For 2017 and 2019 dataset: there is an additional row for the national average\n",
    "    - For 2018 dataset: there is one duplicated row (Maine)\n",
    "    - We are also dropping District of Columbia (Washington DC) which is actually not recognised as a state\n",
    "- The 2017 dataset has more columns than the 2018 and 2019 dataset - showing the the individual scores for each subject\n",
    "    - Drop these columns\n",
    "- Some of the numerical columns currently have string values\n",
    "    - 2017 dataset - there is one error row in the composite column with a typo ('20.2x')\n",
    "    - All three dataset - we would need to convert the participation column to a float datatype"
   ]
  },
  {
   "cell_type": "markdown",
   "metadata": {},
   "source": [
    "## SAT datasets"
   ]
  },
  {
   "cell_type": "markdown",
   "metadata": {},
   "source": [
    "**SAT 2017**"
   ]
  },
  {
   "cell_type": "code",
   "execution_count": 24,
   "metadata": {},
   "outputs": [
    {
     "data": {
      "text/plain": [
       "(51, 5)"
      ]
     },
     "execution_count": 24,
     "metadata": {},
     "output_type": "execute_result"
    }
   ],
   "source": [
    "# Number of rows x Number of columns\n",
    "sat_2017.shape"
   ]
  },
  {
   "cell_type": "code",
   "execution_count": 25,
   "metadata": {},
   "outputs": [
    {
     "name": "stdout",
     "output_type": "stream",
     "text": [
      "<class 'pandas.core.frame.DataFrame'>\n",
      "RangeIndex: 51 entries, 0 to 50\n",
      "Data columns (total 5 columns):\n",
      " #   Column                              Non-Null Count  Dtype \n",
      "---  ------                              --------------  ----- \n",
      " 0   State                               51 non-null     object\n",
      " 1   Participation                       51 non-null     object\n",
      " 2   Evidence-Based Reading and Writing  51 non-null     int64 \n",
      " 3   Math                                51 non-null     int64 \n",
      " 4   Total                               51 non-null     int64 \n",
      "dtypes: int64(3), object(2)\n",
      "memory usage: 2.1+ KB\n"
     ]
    }
   ],
   "source": [
    "sat_2017.info()"
   ]
  },
  {
   "cell_type": "code",
   "execution_count": 26,
   "metadata": {},
   "outputs": [
    {
     "data": {
      "text/html": [
       "<div>\n",
       "<style scoped>\n",
       "    .dataframe tbody tr th:only-of-type {\n",
       "        vertical-align: middle;\n",
       "    }\n",
       "\n",
       "    .dataframe tbody tr th {\n",
       "        vertical-align: top;\n",
       "    }\n",
       "\n",
       "    .dataframe thead th {\n",
       "        text-align: right;\n",
       "    }\n",
       "</style>\n",
       "<table border=\"1\" class=\"dataframe\">\n",
       "  <thead>\n",
       "    <tr style=\"text-align: right;\">\n",
       "      <th></th>\n",
       "      <th>State</th>\n",
       "      <th>Participation</th>\n",
       "      <th>Evidence-Based Reading and Writing</th>\n",
       "      <th>Math</th>\n",
       "      <th>Total</th>\n",
       "    </tr>\n",
       "  </thead>\n",
       "  <tbody>\n",
       "    <tr>\n",
       "      <th>0</th>\n",
       "      <td>Alabama</td>\n",
       "      <td>5%</td>\n",
       "      <td>593</td>\n",
       "      <td>572</td>\n",
       "      <td>1165</td>\n",
       "    </tr>\n",
       "    <tr>\n",
       "      <th>1</th>\n",
       "      <td>Alaska</td>\n",
       "      <td>38%</td>\n",
       "      <td>547</td>\n",
       "      <td>533</td>\n",
       "      <td>1080</td>\n",
       "    </tr>\n",
       "    <tr>\n",
       "      <th>2</th>\n",
       "      <td>Arizona</td>\n",
       "      <td>30%</td>\n",
       "      <td>563</td>\n",
       "      <td>553</td>\n",
       "      <td>1116</td>\n",
       "    </tr>\n",
       "    <tr>\n",
       "      <th>3</th>\n",
       "      <td>Arkansas</td>\n",
       "      <td>3%</td>\n",
       "      <td>614</td>\n",
       "      <td>594</td>\n",
       "      <td>1208</td>\n",
       "    </tr>\n",
       "    <tr>\n",
       "      <th>4</th>\n",
       "      <td>California</td>\n",
       "      <td>53%</td>\n",
       "      <td>531</td>\n",
       "      <td>524</td>\n",
       "      <td>1055</td>\n",
       "    </tr>\n",
       "  </tbody>\n",
       "</table>\n",
       "</div>"
      ],
      "text/plain": [
       "        State Participation  Evidence-Based Reading and Writing  Math  Total\n",
       "0     Alabama            5%                                 593   572   1165\n",
       "1      Alaska           38%                                 547   533   1080\n",
       "2     Arizona           30%                                 563   553   1116\n",
       "3    Arkansas            3%                                 614   594   1208\n",
       "4  California           53%                                 531   524   1055"
      ]
     },
     "execution_count": 26,
     "metadata": {},
     "output_type": "execute_result"
    }
   ],
   "source": [
    "sat_2017.head()"
   ]
  },
  {
   "cell_type": "markdown",
   "metadata": {},
   "source": [
    "**SAT 2017**"
   ]
  },
  {
   "cell_type": "code",
   "execution_count": 27,
   "metadata": {},
   "outputs": [
    {
     "data": {
      "text/plain": [
       "(51, 5)"
      ]
     },
     "execution_count": 27,
     "metadata": {},
     "output_type": "execute_result"
    }
   ],
   "source": [
    "# Number of rows x Number of columns\n",
    "sat_2018.shape"
   ]
  },
  {
   "cell_type": "code",
   "execution_count": 28,
   "metadata": {},
   "outputs": [
    {
     "name": "stdout",
     "output_type": "stream",
     "text": [
      "<class 'pandas.core.frame.DataFrame'>\n",
      "RangeIndex: 51 entries, 0 to 50\n",
      "Data columns (total 5 columns):\n",
      " #   Column                              Non-Null Count  Dtype \n",
      "---  ------                              --------------  ----- \n",
      " 0   State                               51 non-null     object\n",
      " 1   Participation                       51 non-null     object\n",
      " 2   Evidence-Based Reading and Writing  51 non-null     int64 \n",
      " 3   Math                                51 non-null     int64 \n",
      " 4   Total                               51 non-null     int64 \n",
      "dtypes: int64(3), object(2)\n",
      "memory usage: 2.1+ KB\n"
     ]
    }
   ],
   "source": [
    "sat_2018.info()"
   ]
  },
  {
   "cell_type": "code",
   "execution_count": 29,
   "metadata": {},
   "outputs": [
    {
     "data": {
      "text/html": [
       "<div>\n",
       "<style scoped>\n",
       "    .dataframe tbody tr th:only-of-type {\n",
       "        vertical-align: middle;\n",
       "    }\n",
       "\n",
       "    .dataframe tbody tr th {\n",
       "        vertical-align: top;\n",
       "    }\n",
       "\n",
       "    .dataframe thead th {\n",
       "        text-align: right;\n",
       "    }\n",
       "</style>\n",
       "<table border=\"1\" class=\"dataframe\">\n",
       "  <thead>\n",
       "    <tr style=\"text-align: right;\">\n",
       "      <th></th>\n",
       "      <th>State</th>\n",
       "      <th>Participation</th>\n",
       "      <th>Evidence-Based Reading and Writing</th>\n",
       "      <th>Math</th>\n",
       "      <th>Total</th>\n",
       "    </tr>\n",
       "  </thead>\n",
       "  <tbody>\n",
       "    <tr>\n",
       "      <th>0</th>\n",
       "      <td>Alabama</td>\n",
       "      <td>6%</td>\n",
       "      <td>595</td>\n",
       "      <td>571</td>\n",
       "      <td>1166</td>\n",
       "    </tr>\n",
       "    <tr>\n",
       "      <th>1</th>\n",
       "      <td>Alaska</td>\n",
       "      <td>43%</td>\n",
       "      <td>562</td>\n",
       "      <td>544</td>\n",
       "      <td>1106</td>\n",
       "    </tr>\n",
       "    <tr>\n",
       "      <th>2</th>\n",
       "      <td>Arizona</td>\n",
       "      <td>29%</td>\n",
       "      <td>577</td>\n",
       "      <td>572</td>\n",
       "      <td>1149</td>\n",
       "    </tr>\n",
       "    <tr>\n",
       "      <th>3</th>\n",
       "      <td>Arkansas</td>\n",
       "      <td>5%</td>\n",
       "      <td>592</td>\n",
       "      <td>576</td>\n",
       "      <td>1169</td>\n",
       "    </tr>\n",
       "    <tr>\n",
       "      <th>4</th>\n",
       "      <td>California</td>\n",
       "      <td>60%</td>\n",
       "      <td>540</td>\n",
       "      <td>536</td>\n",
       "      <td>1076</td>\n",
       "    </tr>\n",
       "  </tbody>\n",
       "</table>\n",
       "</div>"
      ],
      "text/plain": [
       "        State Participation  Evidence-Based Reading and Writing  Math  Total\n",
       "0     Alabama            6%                                 595   571   1166\n",
       "1      Alaska           43%                                 562   544   1106\n",
       "2     Arizona           29%                                 577   572   1149\n",
       "3    Arkansas            5%                                 592   576   1169\n",
       "4  California           60%                                 540   536   1076"
      ]
     },
     "execution_count": 29,
     "metadata": {},
     "output_type": "execute_result"
    }
   ],
   "source": [
    "sat_2018.head()"
   ]
  },
  {
   "cell_type": "markdown",
   "metadata": {},
   "source": [
    "**SAT 2019**"
   ]
  },
  {
   "cell_type": "code",
   "execution_count": 30,
   "metadata": {},
   "outputs": [
    {
     "data": {
      "text/plain": [
       "(53, 5)"
      ]
     },
     "execution_count": 30,
     "metadata": {},
     "output_type": "execute_result"
    }
   ],
   "source": [
    "# Number of rows x Number of columns\n",
    "sat_2019.shape"
   ]
  },
  {
   "cell_type": "code",
   "execution_count": 31,
   "metadata": {},
   "outputs": [
    {
     "name": "stdout",
     "output_type": "stream",
     "text": [
      "<class 'pandas.core.frame.DataFrame'>\n",
      "RangeIndex: 53 entries, 0 to 52\n",
      "Data columns (total 5 columns):\n",
      " #   Column              Non-Null Count  Dtype \n",
      "---  ------              --------------  ----- \n",
      " 0   State               53 non-null     object\n",
      " 1   Participation Rate  53 non-null     object\n",
      " 2   EBRW                53 non-null     int64 \n",
      " 3   Math                53 non-null     int64 \n",
      " 4   Total               53 non-null     int64 \n",
      "dtypes: int64(3), object(2)\n",
      "memory usage: 2.2+ KB\n"
     ]
    }
   ],
   "source": [
    "sat_2019.info()"
   ]
  },
  {
   "cell_type": "markdown",
   "metadata": {},
   "source": [
    "Initial observations\n",
    "\n",
    "1. 2 more rows in this dataset\n",
    "2. Name of columns are slightly different"
   ]
  },
  {
   "cell_type": "code",
   "execution_count": 32,
   "metadata": {},
   "outputs": [
    {
     "data": {
      "text/html": [
       "<div>\n",
       "<style scoped>\n",
       "    .dataframe tbody tr th:only-of-type {\n",
       "        vertical-align: middle;\n",
       "    }\n",
       "\n",
       "    .dataframe tbody tr th {\n",
       "        vertical-align: top;\n",
       "    }\n",
       "\n",
       "    .dataframe thead th {\n",
       "        text-align: right;\n",
       "    }\n",
       "</style>\n",
       "<table border=\"1\" class=\"dataframe\">\n",
       "  <thead>\n",
       "    <tr style=\"text-align: right;\">\n",
       "      <th></th>\n",
       "      <th>State</th>\n",
       "      <th>Participation Rate</th>\n",
       "      <th>EBRW</th>\n",
       "      <th>Math</th>\n",
       "      <th>Total</th>\n",
       "    </tr>\n",
       "  </thead>\n",
       "  <tbody>\n",
       "    <tr>\n",
       "      <th>0</th>\n",
       "      <td>Alabama</td>\n",
       "      <td>7%</td>\n",
       "      <td>583</td>\n",
       "      <td>560</td>\n",
       "      <td>1143</td>\n",
       "    </tr>\n",
       "    <tr>\n",
       "      <th>1</th>\n",
       "      <td>Alaska</td>\n",
       "      <td>41%</td>\n",
       "      <td>556</td>\n",
       "      <td>541</td>\n",
       "      <td>1097</td>\n",
       "    </tr>\n",
       "    <tr>\n",
       "      <th>2</th>\n",
       "      <td>Arizona</td>\n",
       "      <td>31%</td>\n",
       "      <td>569</td>\n",
       "      <td>565</td>\n",
       "      <td>1134</td>\n",
       "    </tr>\n",
       "    <tr>\n",
       "      <th>3</th>\n",
       "      <td>Arkansas</td>\n",
       "      <td>6%</td>\n",
       "      <td>582</td>\n",
       "      <td>559</td>\n",
       "      <td>1141</td>\n",
       "    </tr>\n",
       "    <tr>\n",
       "      <th>4</th>\n",
       "      <td>California</td>\n",
       "      <td>63%</td>\n",
       "      <td>534</td>\n",
       "      <td>531</td>\n",
       "      <td>1065</td>\n",
       "    </tr>\n",
       "  </tbody>\n",
       "</table>\n",
       "</div>"
      ],
      "text/plain": [
       "        State Participation Rate  EBRW  Math  Total\n",
       "0     Alabama                 7%   583   560   1143\n",
       "1      Alaska                41%   556   541   1097\n",
       "2     Arizona                31%   569   565   1134\n",
       "3    Arkansas                 6%   582   559   1141\n",
       "4  California                63%   534   531   1065"
      ]
     },
     "execution_count": 32,
     "metadata": {},
     "output_type": "execute_result"
    }
   ],
   "source": [
    "sat_2019.head()"
   ]
  },
  {
   "cell_type": "code",
   "execution_count": 33,
   "metadata": {},
   "outputs": [
    {
     "data": {
      "text/plain": [
       "array(['7%', '41%', '31%', '6%', '63%', '100%', '94%', '71%', '54%',\n",
       "       '66%', '3%', '4%', '5%', '99%', '82%', '81%', '9%', '20%', '95%',\n",
       "       '18%', '79%', '51%', '2%', '19%', '22%', '70%', '—', '68%'],\n",
       "      dtype=object)"
      ]
     },
     "execution_count": 33,
     "metadata": {},
     "output_type": "execute_result"
    }
   ],
   "source": [
    "sat_2019[\"Participation Rate\"].unique()"
   ]
  },
  {
   "cell_type": "code",
   "execution_count": 34,
   "metadata": {},
   "outputs": [
    {
     "data": {
      "text/html": [
       "<div>\n",
       "<style scoped>\n",
       "    .dataframe tbody tr th:only-of-type {\n",
       "        vertical-align: middle;\n",
       "    }\n",
       "\n",
       "    .dataframe tbody tr th {\n",
       "        vertical-align: top;\n",
       "    }\n",
       "\n",
       "    .dataframe thead th {\n",
       "        text-align: right;\n",
       "    }\n",
       "</style>\n",
       "<table border=\"1\" class=\"dataframe\">\n",
       "  <thead>\n",
       "    <tr style=\"text-align: right;\">\n",
       "      <th></th>\n",
       "      <th>State</th>\n",
       "      <th>Participation Rate</th>\n",
       "      <th>EBRW</th>\n",
       "      <th>Math</th>\n",
       "      <th>Total</th>\n",
       "    </tr>\n",
       "  </thead>\n",
       "  <tbody>\n",
       "    <tr>\n",
       "      <th>39</th>\n",
       "      <td>Puerto Rico</td>\n",
       "      <td>—</td>\n",
       "      <td>483</td>\n",
       "      <td>462</td>\n",
       "      <td>944</td>\n",
       "    </tr>\n",
       "    <tr>\n",
       "      <th>47</th>\n",
       "      <td>Virgin Islands</td>\n",
       "      <td>—</td>\n",
       "      <td>490</td>\n",
       "      <td>445</td>\n",
       "      <td>935</td>\n",
       "    </tr>\n",
       "  </tbody>\n",
       "</table>\n",
       "</div>"
      ],
      "text/plain": [
       "             State Participation Rate  EBRW  Math  Total\n",
       "39     Puerto Rico                  —   483   462    944\n",
       "47  Virgin Islands                  —   490   445    935"
      ]
     },
     "execution_count": 34,
     "metadata": {},
     "output_type": "execute_result"
    }
   ],
   "source": [
    "sat_2019[sat_2019[\"Participation Rate\"] == \"—\"]"
   ]
  },
  {
   "cell_type": "code",
   "execution_count": 35,
   "metadata": {},
   "outputs": [],
   "source": [
    "# Renaming column name\n",
    "sat_2019.rename({\"Participation Rate\": \"Participation\"}, axis=1, inplace=True)"
   ]
  },
  {
   "cell_type": "code",
   "execution_count": 36,
   "metadata": {},
   "outputs": [
    {
     "data": {
      "text/plain": [
       "Index(['State', 'Participation', 'EBRW', 'Math', 'Total'], dtype='object')"
      ]
     },
     "execution_count": 36,
     "metadata": {},
     "output_type": "execute_result"
    }
   ],
   "source": [
    "sat_2019.columns"
   ]
  },
  {
   "cell_type": "markdown",
   "metadata": {},
   "source": [
    "### Findings for SAT datasets\n",
    "\n",
    "- SAT 2019 dataset has 53 rows\n",
    "    - There are two rows that has no participation rate value. These two rows (Puerto Rico and Virgin Islands) are not UAS states as well\n",
    "    - We are also dropping District of Columbia (Washington DC) which is actually not recognised as a state\n",
    "- The are redundant columns\n",
    "    - We only need the State, Participation Rate and Total columns\n",
    "- The names of the column varies across the three dataset\n",
    "    - We need to standardise the names"
   ]
  },
  {
   "cell_type": "markdown",
   "metadata": {},
   "source": [
    "## Data Cleaning and adding columns (ACT and SAT dataset)"
   ]
  },
  {
   "cell_type": "markdown",
   "metadata": {},
   "source": [
    "**Define functions to clean datasets**"
   ]
  },
  {
   "cell_type": "code",
   "execution_count": 37,
   "metadata": {},
   "outputs": [],
   "source": [
    "# Define functions for cleaning data\n",
    "\n",
    "# function to set all column names to lower case and remove redundant columns\n",
    "def clean_col(df):\n",
    "    df.columns = df.columns.str.lower()\n",
    "    df = df.loc[:, df.columns.isin([\"state\", \"participation\", \"composite\", \"total\", 'participation rate'])]\n",
    "    return df\n",
    "\n",
    "# clean state columns - remove duplicates and 'national' data. convert all state names to lower case to standardise the naming\n",
    "def clean_state_col(df, column):\n",
    "    df[column] = df[column].str.lower()\n",
    "    df = df[~df[column].isin([\"national\", \"puerto rico\", \"virgin islands\", \"district of columbia\"])]\n",
    "    df = df.drop_duplicates(ignore_index = True)\n",
    "    return df\n",
    "\n",
    "# clean participation column - convert string into a float from 0 to 1 (percentage)\n",
    "def clean_participation(df, col):\n",
    "    df[col] = df[col].apply(lambda x: float(x.replace(\"%\", \"\")))\n",
    "    df[col] = df[col] / 100\n",
    "    return df\n",
    "\n",
    "# clean score column (composite - ACT, total - SAT) - remove redundant characters and convert string type to a float if data is not a float type already\n",
    "def clean_score(df, col):\n",
    "    try:\n",
    "        df[col] = df[col].apply(lambda x: x.replace(\"x\", \"\"))\n",
    "        df[col] = df[col].astype(float)\n",
    "    except:\n",
    "        df[col] = df[col].astype(float)\n",
    "    return df\n",
    "\n",
    "#Adding two columns: Compulsary SAT/ACT and the Year\n",
    "def add_columns(df, year, participation_col, test):\n",
    "    df[\"high_participation\"] = df[participation_col].apply(lambda x: True if x>=0.9 else False)\n",
    "    df[\"year\"] = int(year)\n",
    "    df['test'] = test\n",
    "    return df"
   ]
  },
  {
   "cell_type": "markdown",
   "metadata": {},
   "source": [
    "**ACT dataset**"
   ]
  },
  {
   "cell_type": "code",
   "execution_count": 38,
   "metadata": {},
   "outputs": [],
   "source": [
    "# Clean ACT 2017 dataset\n",
    "act_2017 = clean_col(act_2017)\n",
    "act_2017 = clean_state_col(act_2017, 'state')\n",
    "act_2017 = clean_participation(act_2017, 'participation')\n",
    "act_2017 = clean_score(act_2017, 'composite')\n",
    "act_2017 = add_columns(act_2017, \"2017\", 'participation', \"ACT\")"
   ]
  },
  {
   "cell_type": "code",
   "execution_count": 39,
   "metadata": {},
   "outputs": [],
   "source": [
    "# Clean ACT 2018 dataset\n",
    "act_2018 = clean_col(act_2018)\n",
    "act_2018 = clean_state_col(act_2018, 'state')\n",
    "act_2018 = clean_participation(act_2018, 'participation')\n",
    "act_2018 = clean_score(act_2018, 'composite')\n",
    "act_2018 = add_columns(act_2018, \"2018\", 'participation', \"ACT\")"
   ]
  },
  {
   "cell_type": "code",
   "execution_count": 40,
   "metadata": {},
   "outputs": [],
   "source": [
    "# Clean ACT 2019 dataset\n",
    "act_2019 = clean_col(act_2019)\n",
    "act_2019 = clean_state_col(act_2019, 'state')\n",
    "act_2019 = clean_participation(act_2019, 'participation')\n",
    "act_2019 = clean_score(act_2019, 'composite')\n",
    "act_2019 = add_columns(act_2019, \"2019\", 'participation', \"ACT\")"
   ]
  },
  {
   "cell_type": "code",
   "execution_count": 41,
   "metadata": {},
   "outputs": [],
   "source": [
    "# Combining ACT dataset (all three years)\n",
    "act_df = pd.concat([act_2017, act_2018, act_2019])"
   ]
  },
  {
   "cell_type": "code",
   "execution_count": 42,
   "metadata": {},
   "outputs": [
    {
     "data": {
      "text/plain": [
       "(150, 6)"
      ]
     },
     "execution_count": 42,
     "metadata": {},
     "output_type": "execute_result"
    }
   ],
   "source": [
    "# Check number of rows and columns\n",
    "act_df.shape"
   ]
  },
  {
   "cell_type": "code",
   "execution_count": 43,
   "metadata": {},
   "outputs": [
    {
     "name": "stdout",
     "output_type": "stream",
     "text": [
      "<class 'pandas.core.frame.DataFrame'>\n",
      "Int64Index: 150 entries, 0 to 49\n",
      "Data columns (total 6 columns):\n",
      " #   Column              Non-Null Count  Dtype  \n",
      "---  ------              --------------  -----  \n",
      " 0   state               150 non-null    object \n",
      " 1   participation       150 non-null    float64\n",
      " 2   composite           150 non-null    float64\n",
      " 3   high_participation  150 non-null    bool   \n",
      " 4   year                150 non-null    int64  \n",
      " 5   test                150 non-null    object \n",
      "dtypes: bool(1), float64(2), int64(1), object(2)\n",
      "memory usage: 7.2+ KB\n"
     ]
    }
   ],
   "source": [
    "# Check data type of act dataset\n",
    "act_df.info()"
   ]
  },
  {
   "cell_type": "code",
   "execution_count": 44,
   "metadata": {},
   "outputs": [
    {
     "data": {
      "text/html": [
       "<div>\n",
       "<style scoped>\n",
       "    .dataframe tbody tr th:only-of-type {\n",
       "        vertical-align: middle;\n",
       "    }\n",
       "\n",
       "    .dataframe tbody tr th {\n",
       "        vertical-align: top;\n",
       "    }\n",
       "\n",
       "    .dataframe thead th {\n",
       "        text-align: right;\n",
       "    }\n",
       "</style>\n",
       "<table border=\"1\" class=\"dataframe\">\n",
       "  <thead>\n",
       "    <tr style=\"text-align: right;\">\n",
       "      <th></th>\n",
       "      <th>state</th>\n",
       "      <th>participation</th>\n",
       "      <th>composite</th>\n",
       "      <th>high_participation</th>\n",
       "      <th>year</th>\n",
       "      <th>test</th>\n",
       "    </tr>\n",
       "  </thead>\n",
       "  <tbody>\n",
       "    <tr>\n",
       "      <th>0</th>\n",
       "      <td>alabama</td>\n",
       "      <td>1.00</td>\n",
       "      <td>19.2</td>\n",
       "      <td>True</td>\n",
       "      <td>2017</td>\n",
       "      <td>ACT</td>\n",
       "    </tr>\n",
       "    <tr>\n",
       "      <th>1</th>\n",
       "      <td>alaska</td>\n",
       "      <td>0.65</td>\n",
       "      <td>19.8</td>\n",
       "      <td>False</td>\n",
       "      <td>2017</td>\n",
       "      <td>ACT</td>\n",
       "    </tr>\n",
       "    <tr>\n",
       "      <th>2</th>\n",
       "      <td>arizona</td>\n",
       "      <td>0.62</td>\n",
       "      <td>19.7</td>\n",
       "      <td>False</td>\n",
       "      <td>2017</td>\n",
       "      <td>ACT</td>\n",
       "    </tr>\n",
       "    <tr>\n",
       "      <th>3</th>\n",
       "      <td>arkansas</td>\n",
       "      <td>1.00</td>\n",
       "      <td>19.4</td>\n",
       "      <td>True</td>\n",
       "      <td>2017</td>\n",
       "      <td>ACT</td>\n",
       "    </tr>\n",
       "    <tr>\n",
       "      <th>4</th>\n",
       "      <td>california</td>\n",
       "      <td>0.31</td>\n",
       "      <td>22.8</td>\n",
       "      <td>False</td>\n",
       "      <td>2017</td>\n",
       "      <td>ACT</td>\n",
       "    </tr>\n",
       "  </tbody>\n",
       "</table>\n",
       "</div>"
      ],
      "text/plain": [
       "        state  participation  composite  high_participation  year test\n",
       "0     alabama           1.00       19.2                True  2017  ACT\n",
       "1      alaska           0.65       19.8               False  2017  ACT\n",
       "2     arizona           0.62       19.7               False  2017  ACT\n",
       "3    arkansas           1.00       19.4                True  2017  ACT\n",
       "4  california           0.31       22.8               False  2017  ACT"
      ]
     },
     "execution_count": 44,
     "metadata": {},
     "output_type": "execute_result"
    }
   ],
   "source": [
    "act_df.head()"
   ]
  },
  {
   "cell_type": "markdown",
   "metadata": {},
   "source": [
    "**SAT dataset**"
   ]
  },
  {
   "cell_type": "code",
   "execution_count": 45,
   "metadata": {},
   "outputs": [],
   "source": [
    "# Clean SAT 2017 dataset\n",
    "sat_2017 = clean_col(sat_2017)\n",
    "sat_2017 = clean_state_col(sat_2017, 'state')\n",
    "sat_2017 = clean_participation(sat_2017, 'participation')\n",
    "sat_2017 = clean_score(sat_2017, 'total')\n",
    "sat_2017 = add_columns(sat_2017, \"2017\", 'participation', \"SAT\")"
   ]
  },
  {
   "cell_type": "code",
   "execution_count": 46,
   "metadata": {},
   "outputs": [],
   "source": [
    "# Clean SAT 2018 dataset\n",
    "sat_2018 = clean_col(sat_2018)\n",
    "sat_2018 = clean_state_col(sat_2018, 'state')\n",
    "sat_2018 = clean_participation(sat_2018, 'participation')\n",
    "sat_2018 = clean_score(sat_2018, 'total')\n",
    "sat_2018 = add_columns(sat_2018, \"2018\", 'participation', \"SAT\")"
   ]
  },
  {
   "cell_type": "code",
   "execution_count": 47,
   "metadata": {},
   "outputs": [],
   "source": [
    "# Clean SAT 2019 dataset\n",
    "sat_2019 = clean_col(sat_2019)\n",
    "sat_2019 = clean_state_col(sat_2019, 'state')\n",
    "sat_2019 = clean_participation(sat_2019, 'participation')\n",
    "sat_2019 = clean_score(sat_2019, 'total')\n",
    "sat_2019 = add_columns(sat_2019, \"2019\", 'participation', \"SAT\")"
   ]
  },
  {
   "cell_type": "code",
   "execution_count": 48,
   "metadata": {},
   "outputs": [],
   "source": [
    "# Combining SAT dataset (all three years)\n",
    "sat_df = pd.concat([sat_2017, sat_2018, sat_2019])"
   ]
  },
  {
   "cell_type": "code",
   "execution_count": 49,
   "metadata": {},
   "outputs": [
    {
     "data": {
      "text/plain": [
       "(150, 6)"
      ]
     },
     "execution_count": 49,
     "metadata": {},
     "output_type": "execute_result"
    }
   ],
   "source": [
    "# Check for number of rows and columns\n",
    "sat_df.shape"
   ]
  },
  {
   "cell_type": "code",
   "execution_count": 50,
   "metadata": {},
   "outputs": [
    {
     "name": "stdout",
     "output_type": "stream",
     "text": [
      "<class 'pandas.core.frame.DataFrame'>\n",
      "Int64Index: 150 entries, 0 to 49\n",
      "Data columns (total 6 columns):\n",
      " #   Column              Non-Null Count  Dtype  \n",
      "---  ------              --------------  -----  \n",
      " 0   state               150 non-null    object \n",
      " 1   participation       150 non-null    float64\n",
      " 2   total               150 non-null    float64\n",
      " 3   high_participation  150 non-null    bool   \n",
      " 4   year                150 non-null    int64  \n",
      " 5   test                150 non-null    object \n",
      "dtypes: bool(1), float64(2), int64(1), object(2)\n",
      "memory usage: 7.2+ KB\n"
     ]
    }
   ],
   "source": [
    "# Check for data type for each columns\n",
    "sat_df.info()"
   ]
  },
  {
   "cell_type": "code",
   "execution_count": 51,
   "metadata": {},
   "outputs": [
    {
     "data": {
      "text/html": [
       "<div>\n",
       "<style scoped>\n",
       "    .dataframe tbody tr th:only-of-type {\n",
       "        vertical-align: middle;\n",
       "    }\n",
       "\n",
       "    .dataframe tbody tr th {\n",
       "        vertical-align: top;\n",
       "    }\n",
       "\n",
       "    .dataframe thead th {\n",
       "        text-align: right;\n",
       "    }\n",
       "</style>\n",
       "<table border=\"1\" class=\"dataframe\">\n",
       "  <thead>\n",
       "    <tr style=\"text-align: right;\">\n",
       "      <th></th>\n",
       "      <th>state</th>\n",
       "      <th>participation</th>\n",
       "      <th>total</th>\n",
       "      <th>high_participation</th>\n",
       "      <th>year</th>\n",
       "      <th>test</th>\n",
       "    </tr>\n",
       "  </thead>\n",
       "  <tbody>\n",
       "    <tr>\n",
       "      <th>0</th>\n",
       "      <td>alabama</td>\n",
       "      <td>0.05</td>\n",
       "      <td>1165.0</td>\n",
       "      <td>False</td>\n",
       "      <td>2017</td>\n",
       "      <td>SAT</td>\n",
       "    </tr>\n",
       "    <tr>\n",
       "      <th>1</th>\n",
       "      <td>alaska</td>\n",
       "      <td>0.38</td>\n",
       "      <td>1080.0</td>\n",
       "      <td>False</td>\n",
       "      <td>2017</td>\n",
       "      <td>SAT</td>\n",
       "    </tr>\n",
       "    <tr>\n",
       "      <th>2</th>\n",
       "      <td>arizona</td>\n",
       "      <td>0.30</td>\n",
       "      <td>1116.0</td>\n",
       "      <td>False</td>\n",
       "      <td>2017</td>\n",
       "      <td>SAT</td>\n",
       "    </tr>\n",
       "    <tr>\n",
       "      <th>3</th>\n",
       "      <td>arkansas</td>\n",
       "      <td>0.03</td>\n",
       "      <td>1208.0</td>\n",
       "      <td>False</td>\n",
       "      <td>2017</td>\n",
       "      <td>SAT</td>\n",
       "    </tr>\n",
       "    <tr>\n",
       "      <th>4</th>\n",
       "      <td>california</td>\n",
       "      <td>0.53</td>\n",
       "      <td>1055.0</td>\n",
       "      <td>False</td>\n",
       "      <td>2017</td>\n",
       "      <td>SAT</td>\n",
       "    </tr>\n",
       "  </tbody>\n",
       "</table>\n",
       "</div>"
      ],
      "text/plain": [
       "        state  participation   total  high_participation  year test\n",
       "0     alabama           0.05  1165.0               False  2017  SAT\n",
       "1      alaska           0.38  1080.0               False  2017  SAT\n",
       "2     arizona           0.30  1116.0               False  2017  SAT\n",
       "3    arkansas           0.03  1208.0               False  2017  SAT\n",
       "4  california           0.53  1055.0               False  2017  SAT"
      ]
     },
     "execution_count": 51,
     "metadata": {},
     "output_type": "execute_result"
    }
   ],
   "source": [
    "sat_df.head()"
   ]
  },
  {
   "cell_type": "markdown",
   "metadata": {},
   "source": [
    "**Combining into final dataframe**\n",
    "\n",
    "1. Combine ACT and SAT dataset into 1 pandas dataframe\n",
    "2. Number of columns and row are the same for both dataset\n",
    "3. Column datatype are the same\n",
    "4. rename \"composite\" and \"total\" column to \"score\" to standardised column names"
   ]
  },
  {
   "cell_type": "code",
   "execution_count": 52,
   "metadata": {},
   "outputs": [],
   "source": [
    "# Rename total column to score and resetting index\n",
    "sat_df.rename({\"total\": \"score\"}, axis=1, inplace=True)\n",
    "sat_df.reset_index(drop=True, inplace=True)"
   ]
  },
  {
   "cell_type": "code",
   "execution_count": 53,
   "metadata": {},
   "outputs": [],
   "source": [
    "# Rename composite column to score and resetting index\n",
    "act_df.rename({\"composite\": \"score\"}, axis=1, inplace=True)\n",
    "act_df.reset_index(drop=True, inplace=True)"
   ]
  },
  {
   "cell_type": "code",
   "execution_count": 54,
   "metadata": {},
   "outputs": [],
   "source": [
    "# Combine into one dataframe and reset index\n",
    "exam_df = pd.concat([act_df, sat_df])\n",
    "exam_df.reset_index(drop=True, inplace=True)"
   ]
  },
  {
   "cell_type": "code",
   "execution_count": 55,
   "metadata": {},
   "outputs": [
    {
     "data": {
      "text/plain": [
       "(300, 6)"
      ]
     },
     "execution_count": 55,
     "metadata": {},
     "output_type": "execute_result"
    }
   ],
   "source": [
    "# Check for number of rows\n",
    "exam_df.shape"
   ]
  },
  {
   "cell_type": "code",
   "execution_count": 56,
   "metadata": {},
   "outputs": [
    {
     "data": {
      "text/html": [
       "<div>\n",
       "<style scoped>\n",
       "    .dataframe tbody tr th:only-of-type {\n",
       "        vertical-align: middle;\n",
       "    }\n",
       "\n",
       "    .dataframe tbody tr th {\n",
       "        vertical-align: top;\n",
       "    }\n",
       "\n",
       "    .dataframe thead th {\n",
       "        text-align: right;\n",
       "    }\n",
       "</style>\n",
       "<table border=\"1\" class=\"dataframe\">\n",
       "  <thead>\n",
       "    <tr style=\"text-align: right;\">\n",
       "      <th></th>\n",
       "      <th>state</th>\n",
       "      <th>participation</th>\n",
       "      <th>score</th>\n",
       "      <th>high_participation</th>\n",
       "      <th>year</th>\n",
       "      <th>test</th>\n",
       "    </tr>\n",
       "  </thead>\n",
       "  <tbody>\n",
       "    <tr>\n",
       "      <th>66</th>\n",
       "      <td>kentucky</td>\n",
       "      <td>1.00</td>\n",
       "      <td>20.2</td>\n",
       "      <td>True</td>\n",
       "      <td>2018</td>\n",
       "      <td>ACT</td>\n",
       "    </tr>\n",
       "    <tr>\n",
       "      <th>105</th>\n",
       "      <td>colorado</td>\n",
       "      <td>0.27</td>\n",
       "      <td>23.8</td>\n",
       "      <td>False</td>\n",
       "      <td>2019</td>\n",
       "      <td>ACT</td>\n",
       "    </tr>\n",
       "    <tr>\n",
       "      <th>33</th>\n",
       "      <td>north dakota</td>\n",
       "      <td>0.98</td>\n",
       "      <td>20.3</td>\n",
       "      <td>True</td>\n",
       "      <td>2017</td>\n",
       "      <td>ACT</td>\n",
       "    </tr>\n",
       "    <tr>\n",
       "      <th>128</th>\n",
       "      <td>new hampshire</td>\n",
       "      <td>0.14</td>\n",
       "      <td>25.0</td>\n",
       "      <td>False</td>\n",
       "      <td>2019</td>\n",
       "      <td>ACT</td>\n",
       "    </tr>\n",
       "    <tr>\n",
       "      <th>236</th>\n",
       "      <td>oregon</td>\n",
       "      <td>0.48</td>\n",
       "      <td>1117.0</td>\n",
       "      <td>False</td>\n",
       "      <td>2018</td>\n",
       "      <td>SAT</td>\n",
       "    </tr>\n",
       "  </tbody>\n",
       "</table>\n",
       "</div>"
      ],
      "text/plain": [
       "             state  participation   score  high_participation  year test\n",
       "66        kentucky           1.00    20.2                True  2018  ACT\n",
       "105       colorado           0.27    23.8               False  2019  ACT\n",
       "33    north dakota           0.98    20.3                True  2017  ACT\n",
       "128  new hampshire           0.14    25.0               False  2019  ACT\n",
       "236         oregon           0.48  1117.0               False  2018  SAT"
      ]
     },
     "execution_count": 56,
     "metadata": {},
     "output_type": "execute_result"
    }
   ],
   "source": [
    "exam_df.sample(5)"
   ]
  },
  {
   "cell_type": "code",
   "execution_count": 57,
   "metadata": {},
   "outputs": [
    {
     "name": "stdout",
     "output_type": "stream",
     "text": [
      "<class 'pandas.core.frame.DataFrame'>\n",
      "RangeIndex: 300 entries, 0 to 299\n",
      "Data columns (total 6 columns):\n",
      " #   Column              Non-Null Count  Dtype  \n",
      "---  ------              --------------  -----  \n",
      " 0   state               300 non-null    object \n",
      " 1   participation       300 non-null    float64\n",
      " 2   score               300 non-null    float64\n",
      " 3   high_participation  300 non-null    bool   \n",
      " 4   year                300 non-null    int64  \n",
      " 5   test                300 non-null    object \n",
      "dtypes: bool(1), float64(2), int64(1), object(2)\n",
      "memory usage: 12.1+ KB\n"
     ]
    }
   ],
   "source": [
    "# Check for data type of the columns\n",
    "exam_df.info()"
   ]
  },
  {
   "cell_type": "code",
   "execution_count": 58,
   "metadata": {},
   "outputs": [],
   "source": [
    "# Export dataframe 1\n",
    "exam_df.to_csv(\"../output/exam_df.csv\")"
   ]
  },
  {
   "cell_type": "markdown",
   "metadata": {
    "tags": []
   },
   "source": [
    "### Data Dictionary - Dataset 1 (SAT and ACT scores by state for all three years) - \"exam_df\""
   ]
  },
  {
   "cell_type": "markdown",
   "metadata": {},
   "source": [
    "|Feature|Type|Description|\n",
    "|---|---|---|\n",
    "|state|string|Name of the State (used as the label and key for the row)|\n",
    "|score|float|The average test score - our main variable of concern|\n",
    "|high_participation|bool|Whether the participation rate of the state is more than 90%|\n",
    "|year|integer|The year where the average test score relates to|\n",
    "|test|string|type of test - \"ACT\" or \"SAT\"|"
   ]
  },
  {
   "cell_type": "markdown",
   "metadata": {},
   "source": [
    "## Data Cleaning for Additional Dataset - HDI, Racial Composition and Population Density"
   ]
  },
  {
   "cell_type": "markdown",
   "metadata": {},
   "source": [
    "### Human Development Dataset"
   ]
  },
  {
   "cell_type": "code",
   "execution_count": 59,
   "metadata": {},
   "outputs": [],
   "source": [
    "# Get Dataset for 2019\n",
    "exam_2019_df = exam_df[exam_df['year'] == 2019]"
   ]
  },
  {
   "cell_type": "code",
   "execution_count": 60,
   "metadata": {},
   "outputs": [
    {
     "data": {
      "text/plain": [
       "(52, 6)"
      ]
     },
     "execution_count": 60,
     "metadata": {},
     "output_type": "execute_result"
    }
   ],
   "source": [
    "# Check for HDI rows and column\n",
    "hdi_2019.shape"
   ]
  },
  {
   "cell_type": "code",
   "execution_count": 61,
   "metadata": {},
   "outputs": [
    {
     "name": "stdout",
     "output_type": "stream",
     "text": [
      "<class 'pandas.core.frame.DataFrame'>\n",
      "RangeIndex: 52 entries, 0 to 51\n",
      "Data columns (total 6 columns):\n",
      " #   Column    Non-Null Count  Dtype  \n",
      "---  ------    --------------  -----  \n",
      " 0   Country   52 non-null     object \n",
      " 1   ISO_Code  52 non-null     object \n",
      " 2   Level     52 non-null     object \n",
      " 3   GDLCODE   52 non-null     object \n",
      " 4   Region    52 non-null     object \n",
      " 5   2019      52 non-null     float64\n",
      "dtypes: float64(1), object(5)\n",
      "memory usage: 2.6+ KB\n"
     ]
    }
   ],
   "source": [
    "# Check data type and columns\n",
    "hdi_2019.info()"
   ]
  },
  {
   "cell_type": "code",
   "execution_count": 62,
   "metadata": {},
   "outputs": [
    {
     "data": {
      "text/html": [
       "<div>\n",
       "<style scoped>\n",
       "    .dataframe tbody tr th:only-of-type {\n",
       "        vertical-align: middle;\n",
       "    }\n",
       "\n",
       "    .dataframe tbody tr th {\n",
       "        vertical-align: top;\n",
       "    }\n",
       "\n",
       "    .dataframe thead th {\n",
       "        text-align: right;\n",
       "    }\n",
       "</style>\n",
       "<table border=\"1\" class=\"dataframe\">\n",
       "  <thead>\n",
       "    <tr style=\"text-align: right;\">\n",
       "      <th></th>\n",
       "      <th>Country</th>\n",
       "      <th>ISO_Code</th>\n",
       "      <th>Level</th>\n",
       "      <th>GDLCODE</th>\n",
       "      <th>Region</th>\n",
       "      <th>2019</th>\n",
       "    </tr>\n",
       "  </thead>\n",
       "  <tbody>\n",
       "    <tr>\n",
       "      <th>0</th>\n",
       "      <td>United States</td>\n",
       "      <td>USA</td>\n",
       "      <td>National</td>\n",
       "      <td>USAt</td>\n",
       "      <td>Total</td>\n",
       "      <td>0.926</td>\n",
       "    </tr>\n",
       "    <tr>\n",
       "      <th>1</th>\n",
       "      <td>United States</td>\n",
       "      <td>USA</td>\n",
       "      <td>Subnat</td>\n",
       "      <td>USAr101</td>\n",
       "      <td>Alabama</td>\n",
       "      <td>0.886</td>\n",
       "    </tr>\n",
       "    <tr>\n",
       "      <th>2</th>\n",
       "      <td>United States</td>\n",
       "      <td>USA</td>\n",
       "      <td>Subnat</td>\n",
       "      <td>USAr102</td>\n",
       "      <td>Alaska</td>\n",
       "      <td>0.936</td>\n",
       "    </tr>\n",
       "    <tr>\n",
       "      <th>3</th>\n",
       "      <td>United States</td>\n",
       "      <td>USA</td>\n",
       "      <td>Subnat</td>\n",
       "      <td>USAr103</td>\n",
       "      <td>Arizona</td>\n",
       "      <td>0.913</td>\n",
       "    </tr>\n",
       "    <tr>\n",
       "      <th>4</th>\n",
       "      <td>United States</td>\n",
       "      <td>USA</td>\n",
       "      <td>Subnat</td>\n",
       "      <td>USAr104</td>\n",
       "      <td>Arkansas</td>\n",
       "      <td>0.886</td>\n",
       "    </tr>\n",
       "  </tbody>\n",
       "</table>\n",
       "</div>"
      ],
      "text/plain": [
       "         Country ISO_Code     Level  GDLCODE    Region   2019\n",
       "0  United States      USA  National     USAt     Total  0.926\n",
       "1  United States      USA    Subnat  USAr101   Alabama  0.886\n",
       "2  United States      USA    Subnat  USAr102    Alaska  0.936\n",
       "3  United States      USA    Subnat  USAr103   Arizona  0.913\n",
       "4  United States      USA    Subnat  USAr104  Arkansas  0.886"
      ]
     },
     "execution_count": 62,
     "metadata": {},
     "output_type": "execute_result"
    }
   ],
   "source": [
    "hdi_2019.head()"
   ]
  },
  {
   "cell_type": "code",
   "execution_count": 63,
   "metadata": {},
   "outputs": [],
   "source": [
    "# Remove other redundant columns - only keep HDI index for each state\n",
    "hdi_2019 = hdi_2019[[\"Region\", \"2019\"]]"
   ]
  },
  {
   "cell_type": "code",
   "execution_count": 64,
   "metadata": {},
   "outputs": [],
   "source": [
    "# Renaming region to state to match our dataset\n",
    "hdi_2019.rename({\"Region\" : \"state\", \"2019\": \"hdi\"}, axis=1, inplace=True)\n",
    "hdi_2019['state'] = hdi_2019['state'].str.lower()"
   ]
  },
  {
   "cell_type": "code",
   "execution_count": 65,
   "metadata": {},
   "outputs": [],
   "source": [
    "# Merge on 'state' column \n",
    "exam_2019_df = exam_2019_df.merge(hdi_2019, on=\"state\")"
   ]
  },
  {
   "cell_type": "code",
   "execution_count": 66,
   "metadata": {},
   "outputs": [
    {
     "data": {
      "text/html": [
       "<div>\n",
       "<style scoped>\n",
       "    .dataframe tbody tr th:only-of-type {\n",
       "        vertical-align: middle;\n",
       "    }\n",
       "\n",
       "    .dataframe tbody tr th {\n",
       "        vertical-align: top;\n",
       "    }\n",
       "\n",
       "    .dataframe thead th {\n",
       "        text-align: right;\n",
       "    }\n",
       "</style>\n",
       "<table border=\"1\" class=\"dataframe\">\n",
       "  <thead>\n",
       "    <tr style=\"text-align: right;\">\n",
       "      <th></th>\n",
       "      <th>state</th>\n",
       "      <th>participation</th>\n",
       "      <th>score</th>\n",
       "      <th>high_participation</th>\n",
       "      <th>year</th>\n",
       "      <th>test</th>\n",
       "      <th>hdi</th>\n",
       "    </tr>\n",
       "  </thead>\n",
       "  <tbody>\n",
       "    <tr>\n",
       "      <th>0</th>\n",
       "      <td>alabama</td>\n",
       "      <td>1.00</td>\n",
       "      <td>18.9</td>\n",
       "      <td>True</td>\n",
       "      <td>2019</td>\n",
       "      <td>ACT</td>\n",
       "      <td>0.886</td>\n",
       "    </tr>\n",
       "    <tr>\n",
       "      <th>1</th>\n",
       "      <td>alabama</td>\n",
       "      <td>0.07</td>\n",
       "      <td>1143.0</td>\n",
       "      <td>False</td>\n",
       "      <td>2019</td>\n",
       "      <td>SAT</td>\n",
       "      <td>0.886</td>\n",
       "    </tr>\n",
       "    <tr>\n",
       "      <th>2</th>\n",
       "      <td>alaska</td>\n",
       "      <td>0.38</td>\n",
       "      <td>20.1</td>\n",
       "      <td>False</td>\n",
       "      <td>2019</td>\n",
       "      <td>ACT</td>\n",
       "      <td>0.936</td>\n",
       "    </tr>\n",
       "    <tr>\n",
       "      <th>3</th>\n",
       "      <td>alaska</td>\n",
       "      <td>0.41</td>\n",
       "      <td>1097.0</td>\n",
       "      <td>False</td>\n",
       "      <td>2019</td>\n",
       "      <td>SAT</td>\n",
       "      <td>0.936</td>\n",
       "    </tr>\n",
       "    <tr>\n",
       "      <th>4</th>\n",
       "      <td>arizona</td>\n",
       "      <td>0.73</td>\n",
       "      <td>19.0</td>\n",
       "      <td>False</td>\n",
       "      <td>2019</td>\n",
       "      <td>ACT</td>\n",
       "      <td>0.913</td>\n",
       "    </tr>\n",
       "  </tbody>\n",
       "</table>\n",
       "</div>"
      ],
      "text/plain": [
       "     state  participation   score  high_participation  year test    hdi\n",
       "0  alabama           1.00    18.9                True  2019  ACT  0.886\n",
       "1  alabama           0.07  1143.0               False  2019  SAT  0.886\n",
       "2   alaska           0.38    20.1               False  2019  ACT  0.936\n",
       "3   alaska           0.41  1097.0               False  2019  SAT  0.936\n",
       "4  arizona           0.73    19.0               False  2019  ACT  0.913"
      ]
     },
     "execution_count": 66,
     "metadata": {},
     "output_type": "execute_result"
    }
   ],
   "source": [
    "exam_2019_df.head()"
   ]
  },
  {
   "cell_type": "code",
   "execution_count": 67,
   "metadata": {},
   "outputs": [
    {
     "data": {
      "text/plain": [
       "(100, 7)"
      ]
     },
     "execution_count": 67,
     "metadata": {},
     "output_type": "execute_result"
    }
   ],
   "source": [
    "# Number of columns\n",
    "exam_2019_df.shape"
   ]
  },
  {
   "cell_type": "code",
   "execution_count": 68,
   "metadata": {},
   "outputs": [
    {
     "name": "stdout",
     "output_type": "stream",
     "text": [
      "<class 'pandas.core.frame.DataFrame'>\n",
      "Int64Index: 100 entries, 0 to 99\n",
      "Data columns (total 7 columns):\n",
      " #   Column              Non-Null Count  Dtype  \n",
      "---  ------              --------------  -----  \n",
      " 0   state               100 non-null    object \n",
      " 1   participation       100 non-null    float64\n",
      " 2   score               100 non-null    float64\n",
      " 3   high_participation  100 non-null    bool   \n",
      " 4   year                100 non-null    int64  \n",
      " 5   test                100 non-null    object \n",
      " 6   hdi                 100 non-null    float64\n",
      "dtypes: bool(1), float64(3), int64(1), object(2)\n",
      "memory usage: 5.6+ KB\n"
     ]
    }
   ],
   "source": [
    "# Datatype\n",
    "exam_2019_df.info()"
   ]
  },
  {
   "cell_type": "markdown",
   "metadata": {},
   "source": [
    "### Racial Composition Dataset"
   ]
  },
  {
   "cell_type": "code",
   "execution_count": 69,
   "metadata": {},
   "outputs": [
    {
     "data": {
      "text/html": [
       "<div>\n",
       "<style scoped>\n",
       "    .dataframe tbody tr th:only-of-type {\n",
       "        vertical-align: middle;\n",
       "    }\n",
       "\n",
       "    .dataframe tbody tr th {\n",
       "        vertical-align: top;\n",
       "    }\n",
       "\n",
       "    .dataframe thead th {\n",
       "        text-align: right;\n",
       "    }\n",
       "</style>\n",
       "<table border=\"1\" class=\"dataframe\">\n",
       "  <thead>\n",
       "    <tr style=\"text-align: right;\">\n",
       "      <th></th>\n",
       "      <th>State</th>\n",
       "      <th>WhiteTotalPerc</th>\n",
       "      <th>BlackTotalPerc</th>\n",
       "      <th>IndianTotalPerc</th>\n",
       "      <th>AsianTotalPerc</th>\n",
       "      <th>HawaiianTotalPerc</th>\n",
       "      <th>OtherTotalPerc</th>\n",
       "    </tr>\n",
       "  </thead>\n",
       "  <tbody>\n",
       "    <tr>\n",
       "      <th>0</th>\n",
       "      <td>Alabama</td>\n",
       "      <td>0.6809</td>\n",
       "      <td>0.2664</td>\n",
       "      <td>0.0052</td>\n",
       "      <td>0.0136</td>\n",
       "      <td>0.0005</td>\n",
       "      <td>0.0334</td>\n",
       "    </tr>\n",
       "    <tr>\n",
       "      <th>1</th>\n",
       "      <td>Alaska</td>\n",
       "      <td>0.6458</td>\n",
       "      <td>0.0328</td>\n",
       "      <td>0.1489</td>\n",
       "      <td>0.0623</td>\n",
       "      <td>0.0125</td>\n",
       "      <td>0.0976</td>\n",
       "    </tr>\n",
       "    <tr>\n",
       "      <th>2</th>\n",
       "      <td>Arizona</td>\n",
       "      <td>0.7722</td>\n",
       "      <td>0.0450</td>\n",
       "      <td>0.0450</td>\n",
       "      <td>0.0331</td>\n",
       "      <td>0.0021</td>\n",
       "      <td>0.1026</td>\n",
       "    </tr>\n",
       "    <tr>\n",
       "      <th>3</th>\n",
       "      <td>Arkansas</td>\n",
       "      <td>0.7672</td>\n",
       "      <td>0.1532</td>\n",
       "      <td>0.0068</td>\n",
       "      <td>0.0152</td>\n",
       "      <td>0.0029</td>\n",
       "      <td>0.0547</td>\n",
       "    </tr>\n",
       "    <tr>\n",
       "      <th>4</th>\n",
       "      <td>California</td>\n",
       "      <td>0.5970</td>\n",
       "      <td>0.0579</td>\n",
       "      <td>0.0077</td>\n",
       "      <td>0.1449</td>\n",
       "      <td>0.0040</td>\n",
       "      <td>0.1885</td>\n",
       "    </tr>\n",
       "  </tbody>\n",
       "</table>\n",
       "</div>"
      ],
      "text/plain": [
       "        State  WhiteTotalPerc  BlackTotalPerc  IndianTotalPerc  \\\n",
       "0     Alabama          0.6809          0.2664           0.0052   \n",
       "1      Alaska          0.6458          0.0328           0.1489   \n",
       "2     Arizona          0.7722          0.0450           0.0450   \n",
       "3    Arkansas          0.7672          0.1532           0.0068   \n",
       "4  California          0.5970          0.0579           0.0077   \n",
       "\n",
       "   AsianTotalPerc  HawaiianTotalPerc  OtherTotalPerc  \n",
       "0          0.0136             0.0005          0.0334  \n",
       "1          0.0623             0.0125          0.0976  \n",
       "2          0.0331             0.0021          0.1026  \n",
       "3          0.0152             0.0029          0.0547  \n",
       "4          0.1449             0.0040          0.1885  "
      ]
     },
     "execution_count": 69,
     "metadata": {},
     "output_type": "execute_result"
    }
   ],
   "source": [
    "race_2019.head()"
   ]
  },
  {
   "cell_type": "code",
   "execution_count": 70,
   "metadata": {},
   "outputs": [
    {
     "data": {
      "text/plain": [
       "(52, 7)"
      ]
     },
     "execution_count": 70,
     "metadata": {},
     "output_type": "execute_result"
    }
   ],
   "source": [
    "# number of rows\n",
    "race_2019.shape"
   ]
  },
  {
   "cell_type": "code",
   "execution_count": 71,
   "metadata": {},
   "outputs": [
    {
     "name": "stdout",
     "output_type": "stream",
     "text": [
      "<class 'pandas.core.frame.DataFrame'>\n",
      "RangeIndex: 52 entries, 0 to 51\n",
      "Data columns (total 7 columns):\n",
      " #   Column             Non-Null Count  Dtype  \n",
      "---  ------             --------------  -----  \n",
      " 0   State              52 non-null     object \n",
      " 1   WhiteTotalPerc     52 non-null     float64\n",
      " 2   BlackTotalPerc     52 non-null     float64\n",
      " 3   IndianTotalPerc    52 non-null     float64\n",
      " 4   AsianTotalPerc     52 non-null     float64\n",
      " 5   HawaiianTotalPerc  52 non-null     float64\n",
      " 6   OtherTotalPerc     52 non-null     float64\n",
      "dtypes: float64(6), object(1)\n",
      "memory usage: 3.0+ KB\n"
     ]
    }
   ],
   "source": [
    "# Column information\n",
    "race_2019.info()"
   ]
  },
  {
   "cell_type": "markdown",
   "metadata": {},
   "source": [
    "To get a metric for racial diversity, we will use a metric called the Herfindahl–Hirschman index. We will square the proportion of each race and get the sum total to get the index. The higher the value (max of 1), the lower the racial diversity of the state"
   ]
  },
  {
   "cell_type": "code",
   "execution_count": 72,
   "metadata": {},
   "outputs": [],
   "source": [
    "# Square each column for race proportion\n",
    "race_2019[['WhiteTotalPerc', 'BlackTotalPerc', 'IndianTotalPerc', 'AsianTotalPerc', 'HawaiianTotalPerc', 'OtherTotalPerc']] = race_2019[['WhiteTotalPerc', 'BlackTotalPerc', 'IndianTotalPerc', 'AsianTotalPerc', 'HawaiianTotalPerc', 'OtherTotalPerc']].apply(lambda x: x**2)"
   ]
  },
  {
   "cell_type": "code",
   "execution_count": 73,
   "metadata": {},
   "outputs": [
    {
     "name": "stderr",
     "output_type": "stream",
     "text": [
      "C:\\Users\\LUCASC~1\\AppData\\Local\\Temp/ipykernel_9864/3019549441.py:2: FutureWarning: Dropping of nuisance columns in DataFrame reductions (with 'numeric_only=None') is deprecated; in a future version this will raise TypeError.  Select only valid columns before calling the reduction.\n",
      "  race_2019[\"diversity_metric\"] = race_2019.sum(axis=1)\n"
     ]
    }
   ],
   "source": [
    "# create new column for racial diversity metric\n",
    "race_2019[\"diversity_metric\"] = race_2019.sum(axis=1)"
   ]
  },
  {
   "cell_type": "code",
   "execution_count": 74,
   "metadata": {},
   "outputs": [],
   "source": [
    "# Retain state and race diversity metric column\n",
    "race_2019_final = race_2019[['State', 'diversity_metric']]"
   ]
  },
  {
   "cell_type": "code",
   "execution_count": 75,
   "metadata": {},
   "outputs": [
    {
     "name": "stderr",
     "output_type": "stream",
     "text": [
      "C:\\Users\\Lucas Cher\\anaconda3\\lib\\site-packages\\pandas\\core\\frame.py:5039: SettingWithCopyWarning: \n",
      "A value is trying to be set on a copy of a slice from a DataFrame\n",
      "\n",
      "See the caveats in the documentation: https://pandas.pydata.org/pandas-docs/stable/user_guide/indexing.html#returning-a-view-versus-a-copy\n",
      "  return super().rename(\n",
      "C:\\Users\\LUCASC~1\\AppData\\Local\\Temp/ipykernel_9864/959856136.py:3: SettingWithCopyWarning: \n",
      "A value is trying to be set on a copy of a slice from a DataFrame.\n",
      "Try using .loc[row_indexer,col_indexer] = value instead\n",
      "\n",
      "See the caveats in the documentation: https://pandas.pydata.org/pandas-docs/stable/user_guide/indexing.html#returning-a-view-versus-a-copy\n",
      "  race_2019_final['state'] = race_2019_final['state'].str.lower()\n"
     ]
    }
   ],
   "source": [
    "# Rename column to match datafram\n",
    "race_2019_final.rename({\"State\": \"state\"}, axis=1, inplace=True)\n",
    "race_2019_final['state'] = race_2019_final['state'].str.lower()"
   ]
  },
  {
   "cell_type": "code",
   "execution_count": 76,
   "metadata": {},
   "outputs": [],
   "source": [
    "# Merge on State Column\n",
    "exam_2019_df = exam_2019_df.merge(race_2019_final, on='state')"
   ]
  },
  {
   "cell_type": "code",
   "execution_count": 77,
   "metadata": {},
   "outputs": [
    {
     "data": {
      "text/html": [
       "<div>\n",
       "<style scoped>\n",
       "    .dataframe tbody tr th:only-of-type {\n",
       "        vertical-align: middle;\n",
       "    }\n",
       "\n",
       "    .dataframe tbody tr th {\n",
       "        vertical-align: top;\n",
       "    }\n",
       "\n",
       "    .dataframe thead th {\n",
       "        text-align: right;\n",
       "    }\n",
       "</style>\n",
       "<table border=\"1\" class=\"dataframe\">\n",
       "  <thead>\n",
       "    <tr style=\"text-align: right;\">\n",
       "      <th></th>\n",
       "      <th>state</th>\n",
       "      <th>participation</th>\n",
       "      <th>score</th>\n",
       "      <th>high_participation</th>\n",
       "      <th>year</th>\n",
       "      <th>test</th>\n",
       "      <th>hdi</th>\n",
       "      <th>diversity_metric</th>\n",
       "    </tr>\n",
       "  </thead>\n",
       "  <tbody>\n",
       "    <tr>\n",
       "      <th>0</th>\n",
       "      <td>alabama</td>\n",
       "      <td>1.00</td>\n",
       "      <td>18.9</td>\n",
       "      <td>True</td>\n",
       "      <td>2019</td>\n",
       "      <td>ACT</td>\n",
       "      <td>0.886</td>\n",
       "      <td>0.535922</td>\n",
       "    </tr>\n",
       "    <tr>\n",
       "      <th>1</th>\n",
       "      <td>alabama</td>\n",
       "      <td>0.07</td>\n",
       "      <td>1143.0</td>\n",
       "      <td>False</td>\n",
       "      <td>2019</td>\n",
       "      <td>SAT</td>\n",
       "      <td>0.886</td>\n",
       "      <td>0.535922</td>\n",
       "    </tr>\n",
       "    <tr>\n",
       "      <th>2</th>\n",
       "      <td>alaska</td>\n",
       "      <td>0.38</td>\n",
       "      <td>20.1</td>\n",
       "      <td>False</td>\n",
       "      <td>2019</td>\n",
       "      <td>ACT</td>\n",
       "      <td>0.936</td>\n",
       "      <td>0.453868</td>\n",
       "    </tr>\n",
       "    <tr>\n",
       "      <th>3</th>\n",
       "      <td>alaska</td>\n",
       "      <td>0.41</td>\n",
       "      <td>1097.0</td>\n",
       "      <td>False</td>\n",
       "      <td>2019</td>\n",
       "      <td>SAT</td>\n",
       "      <td>0.936</td>\n",
       "      <td>0.453868</td>\n",
       "    </tr>\n",
       "    <tr>\n",
       "      <th>4</th>\n",
       "      <td>arizona</td>\n",
       "      <td>0.73</td>\n",
       "      <td>19.0</td>\n",
       "      <td>False</td>\n",
       "      <td>2019</td>\n",
       "      <td>ACT</td>\n",
       "      <td>0.913</td>\n",
       "      <td>0.611970</td>\n",
       "    </tr>\n",
       "  </tbody>\n",
       "</table>\n",
       "</div>"
      ],
      "text/plain": [
       "     state  participation   score  high_participation  year test    hdi  \\\n",
       "0  alabama           1.00    18.9                True  2019  ACT  0.886   \n",
       "1  alabama           0.07  1143.0               False  2019  SAT  0.886   \n",
       "2   alaska           0.38    20.1               False  2019  ACT  0.936   \n",
       "3   alaska           0.41  1097.0               False  2019  SAT  0.936   \n",
       "4  arizona           0.73    19.0               False  2019  ACT  0.913   \n",
       "\n",
       "   diversity_metric  \n",
       "0          0.535922  \n",
       "1          0.535922  \n",
       "2          0.453868  \n",
       "3          0.453868  \n",
       "4          0.611970  "
      ]
     },
     "execution_count": 77,
     "metadata": {},
     "output_type": "execute_result"
    }
   ],
   "source": [
    "exam_2019_df.head()"
   ]
  },
  {
   "cell_type": "code",
   "execution_count": 78,
   "metadata": {},
   "outputs": [
    {
     "data": {
      "text/plain": [
       "(100, 8)"
      ]
     },
     "execution_count": 78,
     "metadata": {},
     "output_type": "execute_result"
    }
   ],
   "source": [
    "exam_2019_df.shape"
   ]
  },
  {
   "cell_type": "code",
   "execution_count": 79,
   "metadata": {},
   "outputs": [
    {
     "name": "stdout",
     "output_type": "stream",
     "text": [
      "<class 'pandas.core.frame.DataFrame'>\n",
      "Int64Index: 100 entries, 0 to 99\n",
      "Data columns (total 8 columns):\n",
      " #   Column              Non-Null Count  Dtype  \n",
      "---  ------              --------------  -----  \n",
      " 0   state               100 non-null    object \n",
      " 1   participation       100 non-null    float64\n",
      " 2   score               100 non-null    float64\n",
      " 3   high_participation  100 non-null    bool   \n",
      " 4   year                100 non-null    int64  \n",
      " 5   test                100 non-null    object \n",
      " 6   hdi                 100 non-null    float64\n",
      " 7   diversity_metric    100 non-null    float64\n",
      "dtypes: bool(1), float64(4), int64(1), object(2)\n",
      "memory usage: 6.3+ KB\n"
     ]
    }
   ],
   "source": [
    "# Check for number of columns\n",
    "exam_2019_df.info()"
   ]
  },
  {
   "cell_type": "markdown",
   "metadata": {},
   "source": [
    "### Population Density Dataset"
   ]
  },
  {
   "cell_type": "code",
   "execution_count": 80,
   "metadata": {},
   "outputs": [
    {
     "data": {
      "text/html": [
       "<div>\n",
       "<style scoped>\n",
       "    .dataframe tbody tr th:only-of-type {\n",
       "        vertical-align: middle;\n",
       "    }\n",
       "\n",
       "    .dataframe tbody tr th {\n",
       "        vertical-align: top;\n",
       "    }\n",
       "\n",
       "    .dataframe thead th {\n",
       "        text-align: right;\n",
       "    }\n",
       "</style>\n",
       "<table border=\"1\" class=\"dataframe\">\n",
       "  <thead>\n",
       "    <tr style=\"text-align: right;\">\n",
       "      <th></th>\n",
       "      <th>State</th>\n",
       "      <th>Population density</th>\n",
       "      <th>People</th>\n",
       "      <th>Land Area</th>\n",
       "    </tr>\n",
       "  </thead>\n",
       "  <tbody>\n",
       "    <tr>\n",
       "      <th>0</th>\n",
       "      <td>Alabama</td>\n",
       "      <td>38.3</td>\n",
       "      <td>5024279</td>\n",
       "      <td>131169.9</td>\n",
       "    </tr>\n",
       "    <tr>\n",
       "      <th>1</th>\n",
       "      <td>Alaska</td>\n",
       "      <td>0.5</td>\n",
       "      <td>733391</td>\n",
       "      <td>1477953.4</td>\n",
       "    </tr>\n",
       "    <tr>\n",
       "      <th>2</th>\n",
       "      <td>American Samoa</td>\n",
       "      <td>251.0</td>\n",
       "      <td>49710</td>\n",
       "      <td>199.4</td>\n",
       "    </tr>\n",
       "    <tr>\n",
       "      <th>3</th>\n",
       "      <td>Arizona</td>\n",
       "      <td>24.3</td>\n",
       "      <td>7151502</td>\n",
       "      <td>294207.1</td>\n",
       "    </tr>\n",
       "    <tr>\n",
       "      <th>4</th>\n",
       "      <td>Arkansas</td>\n",
       "      <td>22.3</td>\n",
       "      <td>3011524</td>\n",
       "      <td>134770.0</td>\n",
       "    </tr>\n",
       "  </tbody>\n",
       "</table>\n",
       "</div>"
      ],
      "text/plain": [
       "             State  Population density   People  Land Area\n",
       "0          Alabama                38.3  5024279   131169.9\n",
       "1           Alaska                 0.5   733391  1477953.4\n",
       "2   American Samoa               251.0    49710      199.4\n",
       "3          Arizona                24.3  7151502   294207.1\n",
       "4         Arkansas                22.3  3011524   134770.0"
      ]
     },
     "execution_count": 80,
     "metadata": {},
     "output_type": "execute_result"
    }
   ],
   "source": [
    "pop_den_2020.head()"
   ]
  },
  {
   "cell_type": "code",
   "execution_count": 81,
   "metadata": {},
   "outputs": [
    {
     "data": {
      "text/plain": [
       "(56, 4)"
      ]
     },
     "execution_count": 81,
     "metadata": {},
     "output_type": "execute_result"
    }
   ],
   "source": [
    "pop_den_2020.shape"
   ]
  },
  {
   "cell_type": "code",
   "execution_count": 82,
   "metadata": {},
   "outputs": [
    {
     "name": "stdout",
     "output_type": "stream",
     "text": [
      "<class 'pandas.core.frame.DataFrame'>\n",
      "RangeIndex: 56 entries, 0 to 55\n",
      "Data columns (total 4 columns):\n",
      " #   Column              Non-Null Count  Dtype  \n",
      "---  ------              --------------  -----  \n",
      " 0   State               56 non-null     object \n",
      " 1   Population density  56 non-null     float64\n",
      " 2   People              56 non-null     int64  \n",
      " 3   Land Area           56 non-null     float64\n",
      "dtypes: float64(2), int64(1), object(1)\n",
      "memory usage: 1.9+ KB\n"
     ]
    }
   ],
   "source": [
    "pop_den_2020.info()"
   ]
  },
  {
   "cell_type": "code",
   "execution_count": 83,
   "metadata": {},
   "outputs": [
    {
     "data": {
      "text/plain": [
       "array(['\\xa0Alabama', '\\xa0Alaska', '\\xa0American Samoa', '\\xa0Arizona',\n",
       "       '\\xa0Arkansas', '\\xa0California', '\\xa0Colorado',\n",
       "       '\\xa0Connecticut', '\\xa0Delaware', '\\xa0District of Columbia',\n",
       "       '\\xa0Florida', '\\xa0Georgia', '\\xa0Guam', '\\xa0Hawaii',\n",
       "       '\\xa0Idaho', '\\xa0Illinois', '\\xa0Indiana', '\\xa0Iowa',\n",
       "       '\\xa0Kansas', '\\xa0Kentucky', '\\xa0Louisiana', '\\xa0Maine',\n",
       "       '\\xa0Maryland', '\\xa0Massachusetts', '\\xa0Michigan',\n",
       "       '\\xa0Minnesota', '\\xa0Mississippi', '\\xa0Missouri', '\\xa0Montana',\n",
       "       '\\xa0Nebraska', '\\xa0Nevada', '\\xa0New Hampshire',\n",
       "       '\\xa0New Jersey', '\\xa0New Mexico', '\\xa0New York',\n",
       "       '\\xa0North Carolina', '\\xa0North Dakota',\n",
       "       '\\xa0Northern Mariana Islands', '\\xa0Ohio', '\\xa0Oklahoma',\n",
       "       '\\xa0Oregon', '\\xa0Pennsylvania', '\\xa0Puerto Rico',\n",
       "       '\\xa0Rhode Island', '\\xa0South Carolina', '\\xa0South Dakota',\n",
       "       '\\xa0Tennessee', '\\xa0Texas', '\\xa0US Virgin Islands', '\\xa0Utah',\n",
       "       '\\xa0Vermont', '\\xa0Virginia', '\\xa0Washington',\n",
       "       '\\xa0West Virginia', '\\xa0Wisconsin', '\\xa0Wyoming'], dtype=object)"
      ]
     },
     "execution_count": 83,
     "metadata": {},
     "output_type": "execute_result"
    }
   ],
   "source": [
    "#Check for state column unique\n",
    "pop_den_2020['State'].unique()"
   ]
  },
  {
   "cell_type": "code",
   "execution_count": 84,
   "metadata": {},
   "outputs": [],
   "source": [
    "# Remove '\\xa0' prefix from state column values\n",
    "pop_den_2020['State'] = pop_den_2020['State'].str.replace(\"\\xa0\", \"\")"
   ]
  },
  {
   "cell_type": "code",
   "execution_count": 85,
   "metadata": {},
   "outputs": [],
   "source": [
    "# Retain State and population density columns\n",
    "pop_den_2020 = pop_den_2020[[\"State\", \"Population density\"]]"
   ]
  },
  {
   "cell_type": "code",
   "execution_count": 86,
   "metadata": {},
   "outputs": [],
   "source": [
    "# rename column names to match datafram\n",
    "pop_den_2020.rename({\"State\": \"state\", \"Population density\": \"population_density\"}, axis=1, inplace=True)\n",
    "pop_den_2020['state'] = pop_den_2020['state'].str.lower()"
   ]
  },
  {
   "cell_type": "code",
   "execution_count": 87,
   "metadata": {},
   "outputs": [],
   "source": [
    "exam_2019_df = exam_2019_df.merge(pop_den_2020, on='state')"
   ]
  },
  {
   "cell_type": "code",
   "execution_count": 88,
   "metadata": {},
   "outputs": [
    {
     "data": {
      "text/html": [
       "<div>\n",
       "<style scoped>\n",
       "    .dataframe tbody tr th:only-of-type {\n",
       "        vertical-align: middle;\n",
       "    }\n",
       "\n",
       "    .dataframe tbody tr th {\n",
       "        vertical-align: top;\n",
       "    }\n",
       "\n",
       "    .dataframe thead th {\n",
       "        text-align: right;\n",
       "    }\n",
       "</style>\n",
       "<table border=\"1\" class=\"dataframe\">\n",
       "  <thead>\n",
       "    <tr style=\"text-align: right;\">\n",
       "      <th></th>\n",
       "      <th>state</th>\n",
       "      <th>participation</th>\n",
       "      <th>score</th>\n",
       "      <th>high_participation</th>\n",
       "      <th>year</th>\n",
       "      <th>test</th>\n",
       "      <th>hdi</th>\n",
       "      <th>diversity_metric</th>\n",
       "      <th>population_density</th>\n",
       "    </tr>\n",
       "  </thead>\n",
       "  <tbody>\n",
       "    <tr>\n",
       "      <th>0</th>\n",
       "      <td>alabama</td>\n",
       "      <td>1.00</td>\n",
       "      <td>18.9</td>\n",
       "      <td>True</td>\n",
       "      <td>2019</td>\n",
       "      <td>ACT</td>\n",
       "      <td>0.886</td>\n",
       "      <td>0.535922</td>\n",
       "      <td>38.3</td>\n",
       "    </tr>\n",
       "    <tr>\n",
       "      <th>1</th>\n",
       "      <td>alabama</td>\n",
       "      <td>0.07</td>\n",
       "      <td>1143.0</td>\n",
       "      <td>False</td>\n",
       "      <td>2019</td>\n",
       "      <td>SAT</td>\n",
       "      <td>0.886</td>\n",
       "      <td>0.535922</td>\n",
       "      <td>38.3</td>\n",
       "    </tr>\n",
       "    <tr>\n",
       "      <th>2</th>\n",
       "      <td>alaska</td>\n",
       "      <td>0.38</td>\n",
       "      <td>20.1</td>\n",
       "      <td>False</td>\n",
       "      <td>2019</td>\n",
       "      <td>ACT</td>\n",
       "      <td>0.936</td>\n",
       "      <td>0.453868</td>\n",
       "      <td>0.5</td>\n",
       "    </tr>\n",
       "    <tr>\n",
       "      <th>3</th>\n",
       "      <td>alaska</td>\n",
       "      <td>0.41</td>\n",
       "      <td>1097.0</td>\n",
       "      <td>False</td>\n",
       "      <td>2019</td>\n",
       "      <td>SAT</td>\n",
       "      <td>0.936</td>\n",
       "      <td>0.453868</td>\n",
       "      <td>0.5</td>\n",
       "    </tr>\n",
       "    <tr>\n",
       "      <th>4</th>\n",
       "      <td>arizona</td>\n",
       "      <td>0.73</td>\n",
       "      <td>19.0</td>\n",
       "      <td>False</td>\n",
       "      <td>2019</td>\n",
       "      <td>ACT</td>\n",
       "      <td>0.913</td>\n",
       "      <td>0.611970</td>\n",
       "      <td>24.3</td>\n",
       "    </tr>\n",
       "  </tbody>\n",
       "</table>\n",
       "</div>"
      ],
      "text/plain": [
       "     state  participation   score  high_participation  year test    hdi  \\\n",
       "0  alabama           1.00    18.9                True  2019  ACT  0.886   \n",
       "1  alabama           0.07  1143.0               False  2019  SAT  0.886   \n",
       "2   alaska           0.38    20.1               False  2019  ACT  0.936   \n",
       "3   alaska           0.41  1097.0               False  2019  SAT  0.936   \n",
       "4  arizona           0.73    19.0               False  2019  ACT  0.913   \n",
       "\n",
       "   diversity_metric  population_density  \n",
       "0          0.535922                38.3  \n",
       "1          0.535922                38.3  \n",
       "2          0.453868                 0.5  \n",
       "3          0.453868                 0.5  \n",
       "4          0.611970                24.3  "
      ]
     },
     "execution_count": 88,
     "metadata": {},
     "output_type": "execute_result"
    }
   ],
   "source": [
    "exam_2019_df.head()"
   ]
  },
  {
   "cell_type": "code",
   "execution_count": 89,
   "metadata": {},
   "outputs": [
    {
     "data": {
      "text/plain": [
       "(100, 9)"
      ]
     },
     "execution_count": 89,
     "metadata": {},
     "output_type": "execute_result"
    }
   ],
   "source": [
    "# Check number of columns\n",
    "exam_2019_df.shape"
   ]
  },
  {
   "cell_type": "code",
   "execution_count": 90,
   "metadata": {},
   "outputs": [
    {
     "name": "stdout",
     "output_type": "stream",
     "text": [
      "<class 'pandas.core.frame.DataFrame'>\n",
      "Int64Index: 100 entries, 0 to 99\n",
      "Data columns (total 9 columns):\n",
      " #   Column              Non-Null Count  Dtype  \n",
      "---  ------              --------------  -----  \n",
      " 0   state               100 non-null    object \n",
      " 1   participation       100 non-null    float64\n",
      " 2   score               100 non-null    float64\n",
      " 3   high_participation  100 non-null    bool   \n",
      " 4   year                100 non-null    int64  \n",
      " 5   test                100 non-null    object \n",
      " 6   hdi                 100 non-null    float64\n",
      " 7   diversity_metric    100 non-null    float64\n",
      " 8   population_density  100 non-null    float64\n",
      "dtypes: bool(1), float64(5), int64(1), object(2)\n",
      "memory usage: 7.1+ KB\n"
     ]
    }
   ],
   "source": [
    "# Check for column information\n",
    "exam_2019_df.info()"
   ]
  },
  {
   "cell_type": "code",
   "execution_count": 91,
   "metadata": {},
   "outputs": [],
   "source": [
    "# Export dataframe 2 - 2019 dataset\n",
    "exam_2019_df.to_csv(\"../output/exam_2019_df.csv\")"
   ]
  },
  {
   "cell_type": "markdown",
   "metadata": {},
   "source": [
    "### Data Dictionary for 2019 dataset - (\"exam_2019_df\")"
   ]
  },
  {
   "cell_type": "markdown",
   "metadata": {},
   "source": [
    "|Feature|Type|Description|Source|\n",
    "|---|---|---|---|\n",
    "|state|string|Name of the State (used as the label and key for the row)|act/sat|\n",
    "|score|float|The average test score - our main variable of concern|act/sat|\n",
    "|high_participation|bool|Whether the participation rate of the state is more than 90%|act/sat|\n",
    "|year|integer|The year where the average test score relates to|act/sat|\n",
    "|test|string|type of test - \"ACT\" or \"SAT\"|act/sat|\n",
    "|hdi|float|The HDI index of the state in 2019|hdi_2019|\n",
    "|diversity_metric|float|The HHI Diversity index of the state in 2019 (the closer the value to 1 - the lower the racial diversity of the state)|race_perc_2019|\n",
    "|population_density|float|The population density of the state in 2020 (number of pax per km^2|population_density_2019|"
   ]
  },
  {
   "cell_type": "markdown",
   "metadata": {
    "tags": []
   },
   "source": [
    "# Exploratory Analysis"
   ]
  },
  {
   "cell_type": "markdown",
   "metadata": {},
   "source": [
    "## Initial Analysis of our primary variable of concern - \"Score\""
   ]
  },
  {
   "cell_type": "markdown",
   "metadata": {},
   "source": [
    "### Top performing state and worst performing for each year for each test**"
   ]
  },
  {
   "cell_type": "code",
   "execution_count": 92,
   "metadata": {},
   "outputs": [
    {
     "data": {
      "text/plain": [
       "test  year\n",
       "ACT   2017      25.5\n",
       "      2018      25.6\n",
       "      2019      25.5\n",
       "SAT   2017    1295.0\n",
       "      2018    1298.0\n",
       "      2019    1284.0\n",
       "Name: score, dtype: float64"
      ]
     },
     "execution_count": 92,
     "metadata": {},
     "output_type": "execute_result"
    }
   ],
   "source": [
    "exam_df.groupby(['test', 'year']).max()['score']"
   ]
  },
  {
   "cell_type": "code",
   "execution_count": 93,
   "metadata": {},
   "outputs": [
    {
     "data": {
      "text/html": [
       "<div>\n",
       "<style scoped>\n",
       "    .dataframe tbody tr th:only-of-type {\n",
       "        vertical-align: middle;\n",
       "    }\n",
       "\n",
       "    .dataframe tbody tr th {\n",
       "        vertical-align: top;\n",
       "    }\n",
       "\n",
       "    .dataframe thead th {\n",
       "        text-align: right;\n",
       "    }\n",
       "</style>\n",
       "<table border=\"1\" class=\"dataframe\">\n",
       "  <thead>\n",
       "    <tr style=\"text-align: right;\">\n",
       "      <th></th>\n",
       "      <th>state</th>\n",
       "      <th>participation</th>\n",
       "      <th>score</th>\n",
       "      <th>high_participation</th>\n",
       "      <th>year</th>\n",
       "      <th>test</th>\n",
       "    </tr>\n",
       "  </thead>\n",
       "  <tbody>\n",
       "    <tr>\n",
       "      <th>28</th>\n",
       "      <td>new hampshire</td>\n",
       "      <td>0.18</td>\n",
       "      <td>25.5</td>\n",
       "      <td>False</td>\n",
       "      <td>2017</td>\n",
       "      <td>ACT</td>\n",
       "    </tr>\n",
       "  </tbody>\n",
       "</table>\n",
       "</div>"
      ],
      "text/plain": [
       "            state  participation  score  high_participation  year test\n",
       "28  new hampshire           0.18   25.5               False  2017  ACT"
      ]
     },
     "metadata": {},
     "output_type": "display_data"
    },
    {
     "data": {
      "text/html": [
       "<div>\n",
       "<style scoped>\n",
       "    .dataframe tbody tr th:only-of-type {\n",
       "        vertical-align: middle;\n",
       "    }\n",
       "\n",
       "    .dataframe tbody tr th {\n",
       "        vertical-align: top;\n",
       "    }\n",
       "\n",
       "    .dataframe thead th {\n",
       "        text-align: right;\n",
       "    }\n",
       "</style>\n",
       "<table border=\"1\" class=\"dataframe\">\n",
       "  <thead>\n",
       "    <tr style=\"text-align: right;\">\n",
       "      <th></th>\n",
       "      <th>state</th>\n",
       "      <th>participation</th>\n",
       "      <th>score</th>\n",
       "      <th>high_participation</th>\n",
       "      <th>year</th>\n",
       "      <th>test</th>\n",
       "    </tr>\n",
       "  </thead>\n",
       "  <tbody>\n",
       "    <tr>\n",
       "      <th>56</th>\n",
       "      <td>connecticut</td>\n",
       "      <td>0.26</td>\n",
       "      <td>25.6</td>\n",
       "      <td>False</td>\n",
       "      <td>2018</td>\n",
       "      <td>ACT</td>\n",
       "    </tr>\n",
       "  </tbody>\n",
       "</table>\n",
       "</div>"
      ],
      "text/plain": [
       "          state  participation  score  high_participation  year test\n",
       "56  connecticut           0.26   25.6               False  2018  ACT"
      ]
     },
     "metadata": {},
     "output_type": "display_data"
    },
    {
     "data": {
      "text/html": [
       "<div>\n",
       "<style scoped>\n",
       "    .dataframe tbody tr th:only-of-type {\n",
       "        vertical-align: middle;\n",
       "    }\n",
       "\n",
       "    .dataframe tbody tr th {\n",
       "        vertical-align: top;\n",
       "    }\n",
       "\n",
       "    .dataframe thead th {\n",
       "        text-align: right;\n",
       "    }\n",
       "</style>\n",
       "<table border=\"1\" class=\"dataframe\">\n",
       "  <thead>\n",
       "    <tr style=\"text-align: right;\">\n",
       "      <th></th>\n",
       "      <th>state</th>\n",
       "      <th>participation</th>\n",
       "      <th>score</th>\n",
       "      <th>high_participation</th>\n",
       "      <th>year</th>\n",
       "      <th>test</th>\n",
       "    </tr>\n",
       "  </thead>\n",
       "  <tbody>\n",
       "    <tr>\n",
       "      <th>106</th>\n",
       "      <td>connecticut</td>\n",
       "      <td>0.22</td>\n",
       "      <td>25.5</td>\n",
       "      <td>False</td>\n",
       "      <td>2019</td>\n",
       "      <td>ACT</td>\n",
       "    </tr>\n",
       "    <tr>\n",
       "      <th>120</th>\n",
       "      <td>massachusetts</td>\n",
       "      <td>0.21</td>\n",
       "      <td>25.5</td>\n",
       "      <td>False</td>\n",
       "      <td>2019</td>\n",
       "      <td>ACT</td>\n",
       "    </tr>\n",
       "  </tbody>\n",
       "</table>\n",
       "</div>"
      ],
      "text/plain": [
       "             state  participation  score  high_participation  year test\n",
       "106    connecticut           0.22   25.5               False  2019  ACT\n",
       "120  massachusetts           0.21   25.5               False  2019  ACT"
      ]
     },
     "metadata": {},
     "output_type": "display_data"
    },
    {
     "data": {
      "text/html": [
       "<div>\n",
       "<style scoped>\n",
       "    .dataframe tbody tr th:only-of-type {\n",
       "        vertical-align: middle;\n",
       "    }\n",
       "\n",
       "    .dataframe tbody tr th {\n",
       "        vertical-align: top;\n",
       "    }\n",
       "\n",
       "    .dataframe thead th {\n",
       "        text-align: right;\n",
       "    }\n",
       "</style>\n",
       "<table border=\"1\" class=\"dataframe\">\n",
       "  <thead>\n",
       "    <tr style=\"text-align: right;\">\n",
       "      <th></th>\n",
       "      <th>state</th>\n",
       "      <th>participation</th>\n",
       "      <th>score</th>\n",
       "      <th>high_participation</th>\n",
       "      <th>year</th>\n",
       "      <th>test</th>\n",
       "    </tr>\n",
       "  </thead>\n",
       "  <tbody>\n",
       "    <tr>\n",
       "      <th>172</th>\n",
       "      <td>minnesota</td>\n",
       "      <td>0.03</td>\n",
       "      <td>1295.0</td>\n",
       "      <td>False</td>\n",
       "      <td>2017</td>\n",
       "      <td>SAT</td>\n",
       "    </tr>\n",
       "  </tbody>\n",
       "</table>\n",
       "</div>"
      ],
      "text/plain": [
       "         state  participation   score  high_participation  year test\n",
       "172  minnesota           0.03  1295.0               False  2017  SAT"
      ]
     },
     "metadata": {},
     "output_type": "display_data"
    },
    {
     "data": {
      "text/html": [
       "<div>\n",
       "<style scoped>\n",
       "    .dataframe tbody tr th:only-of-type {\n",
       "        vertical-align: middle;\n",
       "    }\n",
       "\n",
       "    .dataframe tbody tr th {\n",
       "        vertical-align: top;\n",
       "    }\n",
       "\n",
       "    .dataframe thead th {\n",
       "        text-align: right;\n",
       "    }\n",
       "</style>\n",
       "<table border=\"1\" class=\"dataframe\">\n",
       "  <thead>\n",
       "    <tr style=\"text-align: right;\">\n",
       "      <th></th>\n",
       "      <th>state</th>\n",
       "      <th>participation</th>\n",
       "      <th>score</th>\n",
       "      <th>high_participation</th>\n",
       "      <th>year</th>\n",
       "      <th>test</th>\n",
       "    </tr>\n",
       "  </thead>\n",
       "  <tbody>\n",
       "    <tr>\n",
       "      <th>222</th>\n",
       "      <td>minnesota</td>\n",
       "      <td>0.04</td>\n",
       "      <td>1298.0</td>\n",
       "      <td>False</td>\n",
       "      <td>2018</td>\n",
       "      <td>SAT</td>\n",
       "    </tr>\n",
       "  </tbody>\n",
       "</table>\n",
       "</div>"
      ],
      "text/plain": [
       "         state  participation   score  high_participation  year test\n",
       "222  minnesota           0.04  1298.0               False  2018  SAT"
      ]
     },
     "metadata": {},
     "output_type": "display_data"
    },
    {
     "data": {
      "text/html": [
       "<div>\n",
       "<style scoped>\n",
       "    .dataframe tbody tr th:only-of-type {\n",
       "        vertical-align: middle;\n",
       "    }\n",
       "\n",
       "    .dataframe tbody tr th {\n",
       "        vertical-align: top;\n",
       "    }\n",
       "\n",
       "    .dataframe thead th {\n",
       "        text-align: right;\n",
       "    }\n",
       "</style>\n",
       "<table border=\"1\" class=\"dataframe\">\n",
       "  <thead>\n",
       "    <tr style=\"text-align: right;\">\n",
       "      <th></th>\n",
       "      <th>state</th>\n",
       "      <th>participation</th>\n",
       "      <th>score</th>\n",
       "      <th>high_participation</th>\n",
       "      <th>year</th>\n",
       "      <th>test</th>\n",
       "    </tr>\n",
       "  </thead>\n",
       "  <tbody>\n",
       "    <tr>\n",
       "      <th>272</th>\n",
       "      <td>minnesota</td>\n",
       "      <td>0.04</td>\n",
       "      <td>1284.0</td>\n",
       "      <td>False</td>\n",
       "      <td>2019</td>\n",
       "      <td>SAT</td>\n",
       "    </tr>\n",
       "  </tbody>\n",
       "</table>\n",
       "</div>"
      ],
      "text/plain": [
       "         state  participation   score  high_participation  year test\n",
       "272  minnesota           0.04  1284.0               False  2019  SAT"
      ]
     },
     "metadata": {},
     "output_type": "display_data"
    }
   ],
   "source": [
    "# Best Performing States for each test in each year\n",
    "display(exam_df[(exam_df['score'] == 25.5) & (exam_df['year'] == 2017)])\n",
    "display(exam_df[(exam_df['score'] == 25.6) & (exam_df['year'] == 2018)])\n",
    "display(exam_df[(exam_df['score'] == 25.5) & (exam_df['year'] == 2019)])\n",
    "display(exam_df[(exam_df['score'] == 1295.0) & (exam_df['year'] == 2017)])\n",
    "display(exam_df[(exam_df['score'] == 1298.0) & (exam_df['year'] == 2018)])\n",
    "display(exam_df[(exam_df['score'] == 1284.0) & (exam_df['year'] == 2019)])"
   ]
  },
  {
   "cell_type": "code",
   "execution_count": 94,
   "metadata": {},
   "outputs": [
    {
     "data": {
      "text/plain": [
       "test  year\n",
       "ACT   2017     17.8\n",
       "      2018     17.7\n",
       "      2019     17.9\n",
       "SAT   2017    996.0\n",
       "      2018    998.0\n",
       "      2019    943.0\n",
       "Name: score, dtype: float64"
      ]
     },
     "execution_count": 94,
     "metadata": {},
     "output_type": "execute_result"
    }
   ],
   "source": [
    "exam_df.groupby(['test', 'year']).min()['score']"
   ]
  },
  {
   "cell_type": "code",
   "execution_count": 95,
   "metadata": {},
   "outputs": [
    {
     "data": {
      "text/html": [
       "<div>\n",
       "<style scoped>\n",
       "    .dataframe tbody tr th:only-of-type {\n",
       "        vertical-align: middle;\n",
       "    }\n",
       "\n",
       "    .dataframe tbody tr th {\n",
       "        vertical-align: top;\n",
       "    }\n",
       "\n",
       "    .dataframe thead th {\n",
       "        text-align: right;\n",
       "    }\n",
       "</style>\n",
       "<table border=\"1\" class=\"dataframe\">\n",
       "  <thead>\n",
       "    <tr style=\"text-align: right;\">\n",
       "      <th></th>\n",
       "      <th>state</th>\n",
       "      <th>participation</th>\n",
       "      <th>score</th>\n",
       "      <th>high_participation</th>\n",
       "      <th>year</th>\n",
       "      <th>test</th>\n",
       "    </tr>\n",
       "  </thead>\n",
       "  <tbody>\n",
       "    <tr>\n",
       "      <th>27</th>\n",
       "      <td>nevada</td>\n",
       "      <td>1.0</td>\n",
       "      <td>17.8</td>\n",
       "      <td>True</td>\n",
       "      <td>2017</td>\n",
       "      <td>ACT</td>\n",
       "    </tr>\n",
       "  </tbody>\n",
       "</table>\n",
       "</div>"
      ],
      "text/plain": [
       "     state  participation  score  high_participation  year test\n",
       "27  nevada            1.0   17.8                True  2017  ACT"
      ]
     },
     "metadata": {},
     "output_type": "display_data"
    },
    {
     "data": {
      "text/html": [
       "<div>\n",
       "<style scoped>\n",
       "    .dataframe tbody tr th:only-of-type {\n",
       "        vertical-align: middle;\n",
       "    }\n",
       "\n",
       "    .dataframe tbody tr th {\n",
       "        vertical-align: top;\n",
       "    }\n",
       "\n",
       "    .dataframe thead th {\n",
       "        text-align: right;\n",
       "    }\n",
       "</style>\n",
       "<table border=\"1\" class=\"dataframe\">\n",
       "  <thead>\n",
       "    <tr style=\"text-align: right;\">\n",
       "      <th></th>\n",
       "      <th>state</th>\n",
       "      <th>participation</th>\n",
       "      <th>score</th>\n",
       "      <th>high_participation</th>\n",
       "      <th>year</th>\n",
       "      <th>test</th>\n",
       "    </tr>\n",
       "  </thead>\n",
       "  <tbody>\n",
       "    <tr>\n",
       "      <th>77</th>\n",
       "      <td>nevada</td>\n",
       "      <td>1.0</td>\n",
       "      <td>17.7</td>\n",
       "      <td>True</td>\n",
       "      <td>2018</td>\n",
       "      <td>ACT</td>\n",
       "    </tr>\n",
       "  </tbody>\n",
       "</table>\n",
       "</div>"
      ],
      "text/plain": [
       "     state  participation  score  high_participation  year test\n",
       "77  nevada            1.0   17.7                True  2018  ACT"
      ]
     },
     "metadata": {},
     "output_type": "display_data"
    },
    {
     "data": {
      "text/html": [
       "<div>\n",
       "<style scoped>\n",
       "    .dataframe tbody tr th:only-of-type {\n",
       "        vertical-align: middle;\n",
       "    }\n",
       "\n",
       "    .dataframe tbody tr th {\n",
       "        vertical-align: top;\n",
       "    }\n",
       "\n",
       "    .dataframe thead th {\n",
       "        text-align: right;\n",
       "    }\n",
       "</style>\n",
       "<table border=\"1\" class=\"dataframe\">\n",
       "  <thead>\n",
       "    <tr style=\"text-align: right;\">\n",
       "      <th></th>\n",
       "      <th>state</th>\n",
       "      <th>participation</th>\n",
       "      <th>score</th>\n",
       "      <th>high_participation</th>\n",
       "      <th>year</th>\n",
       "      <th>test</th>\n",
       "    </tr>\n",
       "  </thead>\n",
       "  <tbody>\n",
       "    <tr>\n",
       "      <th>127</th>\n",
       "      <td>nevada</td>\n",
       "      <td>1.0</td>\n",
       "      <td>17.9</td>\n",
       "      <td>True</td>\n",
       "      <td>2019</td>\n",
       "      <td>ACT</td>\n",
       "    </tr>\n",
       "  </tbody>\n",
       "</table>\n",
       "</div>"
      ],
      "text/plain": [
       "      state  participation  score  high_participation  year test\n",
       "127  nevada            1.0   17.9                True  2019  ACT"
      ]
     },
     "metadata": {},
     "output_type": "display_data"
    },
    {
     "data": {
      "text/html": [
       "<div>\n",
       "<style scoped>\n",
       "    .dataframe tbody tr th:only-of-type {\n",
       "        vertical-align: middle;\n",
       "    }\n",
       "\n",
       "    .dataframe tbody tr th {\n",
       "        vertical-align: top;\n",
       "    }\n",
       "\n",
       "    .dataframe thead th {\n",
       "        text-align: right;\n",
       "    }\n",
       "</style>\n",
       "<table border=\"1\" class=\"dataframe\">\n",
       "  <thead>\n",
       "    <tr style=\"text-align: right;\">\n",
       "      <th></th>\n",
       "      <th>state</th>\n",
       "      <th>participation</th>\n",
       "      <th>score</th>\n",
       "      <th>high_participation</th>\n",
       "      <th>year</th>\n",
       "      <th>test</th>\n",
       "    </tr>\n",
       "  </thead>\n",
       "  <tbody>\n",
       "    <tr>\n",
       "      <th>157</th>\n",
       "      <td>delaware</td>\n",
       "      <td>1.0</td>\n",
       "      <td>996.0</td>\n",
       "      <td>True</td>\n",
       "      <td>2017</td>\n",
       "      <td>SAT</td>\n",
       "    </tr>\n",
       "  </tbody>\n",
       "</table>\n",
       "</div>"
      ],
      "text/plain": [
       "        state  participation  score  high_participation  year test\n",
       "157  delaware            1.0  996.0                True  2017  SAT"
      ]
     },
     "metadata": {},
     "output_type": "display_data"
    },
    {
     "data": {
      "text/html": [
       "<div>\n",
       "<style scoped>\n",
       "    .dataframe tbody tr th:only-of-type {\n",
       "        vertical-align: middle;\n",
       "    }\n",
       "\n",
       "    .dataframe tbody tr th {\n",
       "        vertical-align: top;\n",
       "    }\n",
       "\n",
       "    .dataframe thead th {\n",
       "        text-align: right;\n",
       "    }\n",
       "</style>\n",
       "<table border=\"1\" class=\"dataframe\">\n",
       "  <thead>\n",
       "    <tr style=\"text-align: right;\">\n",
       "      <th></th>\n",
       "      <th>state</th>\n",
       "      <th>participation</th>\n",
       "      <th>score</th>\n",
       "      <th>high_participation</th>\n",
       "      <th>year</th>\n",
       "      <th>test</th>\n",
       "    </tr>\n",
       "  </thead>\n",
       "  <tbody>\n",
       "    <tr>\n",
       "      <th>207</th>\n",
       "      <td>delaware</td>\n",
       "      <td>1.0</td>\n",
       "      <td>998.0</td>\n",
       "      <td>True</td>\n",
       "      <td>2018</td>\n",
       "      <td>SAT</td>\n",
       "    </tr>\n",
       "  </tbody>\n",
       "</table>\n",
       "</div>"
      ],
      "text/plain": [
       "        state  participation  score  high_participation  year test\n",
       "207  delaware            1.0  998.0                True  2018  SAT"
      ]
     },
     "metadata": {},
     "output_type": "display_data"
    },
    {
     "data": {
      "text/html": [
       "<div>\n",
       "<style scoped>\n",
       "    .dataframe tbody tr th:only-of-type {\n",
       "        vertical-align: middle;\n",
       "    }\n",
       "\n",
       "    .dataframe tbody tr th {\n",
       "        vertical-align: top;\n",
       "    }\n",
       "\n",
       "    .dataframe thead th {\n",
       "        text-align: right;\n",
       "    }\n",
       "</style>\n",
       "<table border=\"1\" class=\"dataframe\">\n",
       "  <thead>\n",
       "    <tr style=\"text-align: right;\">\n",
       "      <th></th>\n",
       "      <th>state</th>\n",
       "      <th>participation</th>\n",
       "      <th>score</th>\n",
       "      <th>high_participation</th>\n",
       "      <th>year</th>\n",
       "      <th>test</th>\n",
       "    </tr>\n",
       "  </thead>\n",
       "  <tbody>\n",
       "    <tr>\n",
       "      <th>297</th>\n",
       "      <td>west virginia</td>\n",
       "      <td>0.99</td>\n",
       "      <td>943.0</td>\n",
       "      <td>True</td>\n",
       "      <td>2019</td>\n",
       "      <td>SAT</td>\n",
       "    </tr>\n",
       "  </tbody>\n",
       "</table>\n",
       "</div>"
      ],
      "text/plain": [
       "             state  participation  score  high_participation  year test\n",
       "297  west virginia           0.99  943.0                True  2019  SAT"
      ]
     },
     "metadata": {},
     "output_type": "display_data"
    }
   ],
   "source": [
    "# Worst Performing States for each test in each year\n",
    "display(exam_df[(exam_df['score'] == 17.8) & (exam_df['year'] == 2017)])\n",
    "display(exam_df[(exam_df['score'] == 17.7) & (exam_df['year'] == 2018)])\n",
    "display(exam_df[(exam_df['score'] == 17.9) & (exam_df['year'] == 2019)])\n",
    "display(exam_df[(exam_df['score'] == 996.0) & (exam_df['year'] == 2017)])\n",
    "display(exam_df[(exam_df['score'] == 998.0) & (exam_df['year'] == 2018)])\n",
    "display(exam_df[(exam_df['score'] == 943.0) & (exam_df['year'] == 2019)])"
   ]
  },
  {
   "cell_type": "markdown",
   "metadata": {},
   "source": [
    "|Year|Test|Best|Best Score|Worst|Worst Score|\n",
    "|---|---|---|---|---|---|\n",
    "|2017|ACT|new hampshire|25.5|nevada|17.8|\n",
    "|2018|ACT|connecticut|25.6|nevada|17.7|\n",
    "|2019|ACT|connecticut/massachusetts|25.5|nevada|17.9|\n",
    "|2017|SAT|minnesota|1295.0|delaware|996.0|\n",
    "|2018|SAT|minnesota|1298.0|delaware|996.0|\n",
    "|2019|SAT|minnesota|1284.0|west virginia|943.0|\n",
    "\n",
    "For ACT: Conneticut has been the best performing state for 2 years, while Nevada has been the worst performing state for all three years.\n",
    "\n",
    "For SAT: Minnesota has been the best performing state for all three years while delaware has been the worst performing state in 2017-2018"
   ]
  },
  {
   "cell_type": "markdown",
   "metadata": {},
   "source": [
    "### Test summary statistics over the years"
   ]
  },
  {
   "cell_type": "code",
   "execution_count": 96,
   "metadata": {},
   "outputs": [
    {
     "data": {
      "text/html": [
       "<div>\n",
       "<style scoped>\n",
       "    .dataframe tbody tr th:only-of-type {\n",
       "        vertical-align: middle;\n",
       "    }\n",
       "\n",
       "    .dataframe tbody tr th {\n",
       "        vertical-align: top;\n",
       "    }\n",
       "\n",
       "    .dataframe thead tr th {\n",
       "        text-align: left;\n",
       "    }\n",
       "</style>\n",
       "<table border=\"1\" class=\"dataframe\">\n",
       "  <thead>\n",
       "    <tr>\n",
       "      <th>test</th>\n",
       "      <th colspan=\"3\" halign=\"left\">ACT</th>\n",
       "      <th colspan=\"3\" halign=\"left\">SAT</th>\n",
       "    </tr>\n",
       "    <tr>\n",
       "      <th>year</th>\n",
       "      <th>2017</th>\n",
       "      <th>2018</th>\n",
       "      <th>2019</th>\n",
       "      <th>2017</th>\n",
       "      <th>2018</th>\n",
       "      <th>2019</th>\n",
       "    </tr>\n",
       "  </thead>\n",
       "  <tbody>\n",
       "    <tr>\n",
       "      <th>count</th>\n",
       "      <td>50.000000</td>\n",
       "      <td>50.000000</td>\n",
       "      <td>50.000000</td>\n",
       "      <td>50.000000</td>\n",
       "      <td>50.000000</td>\n",
       "      <td>50.000000</td>\n",
       "    </tr>\n",
       "    <tr>\n",
       "      <th>mean</th>\n",
       "      <td>21.466000</td>\n",
       "      <td>21.454000</td>\n",
       "      <td>21.424000</td>\n",
       "      <td>1129.620000</td>\n",
       "      <td>1122.880000</td>\n",
       "      <td>1115.840000</td>\n",
       "    </tr>\n",
       "    <tr>\n",
       "      <th>std</th>\n",
       "      <td>2.004241</td>\n",
       "      <td>2.111312</td>\n",
       "      <td>2.197267</td>\n",
       "      <td>89.913085</td>\n",
       "      <td>92.845634</td>\n",
       "      <td>96.142403</td>\n",
       "    </tr>\n",
       "    <tr>\n",
       "      <th>min</th>\n",
       "      <td>17.800000</td>\n",
       "      <td>17.700000</td>\n",
       "      <td>17.900000</td>\n",
       "      <td>996.000000</td>\n",
       "      <td>998.000000</td>\n",
       "      <td>943.000000</td>\n",
       "    </tr>\n",
       "    <tr>\n",
       "      <th>25%</th>\n",
       "      <td>19.800000</td>\n",
       "      <td>19.925000</td>\n",
       "      <td>19.800000</td>\n",
       "      <td>1057.000000</td>\n",
       "      <td>1062.250000</td>\n",
       "      <td>1049.000000</td>\n",
       "    </tr>\n",
       "    <tr>\n",
       "      <th>50%</th>\n",
       "      <td>21.400000</td>\n",
       "      <td>21.050000</td>\n",
       "      <td>20.950000</td>\n",
       "      <td>1107.500000</td>\n",
       "      <td>1098.500000</td>\n",
       "      <td>1098.500000</td>\n",
       "    </tr>\n",
       "    <tr>\n",
       "      <th>75%</th>\n",
       "      <td>23.400000</td>\n",
       "      <td>23.650000</td>\n",
       "      <td>23.750000</td>\n",
       "      <td>1214.000000</td>\n",
       "      <td>1207.000000</td>\n",
       "      <td>1215.000000</td>\n",
       "    </tr>\n",
       "    <tr>\n",
       "      <th>max</th>\n",
       "      <td>25.500000</td>\n",
       "      <td>25.600000</td>\n",
       "      <td>25.500000</td>\n",
       "      <td>1295.000000</td>\n",
       "      <td>1298.000000</td>\n",
       "      <td>1284.000000</td>\n",
       "    </tr>\n",
       "  </tbody>\n",
       "</table>\n",
       "</div>"
      ],
      "text/plain": [
       "test         ACT                                SAT                          \n",
       "year        2017       2018       2019         2017         2018         2019\n",
       "count  50.000000  50.000000  50.000000    50.000000    50.000000    50.000000\n",
       "mean   21.466000  21.454000  21.424000  1129.620000  1122.880000  1115.840000\n",
       "std     2.004241   2.111312   2.197267    89.913085    92.845634    96.142403\n",
       "min    17.800000  17.700000  17.900000   996.000000   998.000000   943.000000\n",
       "25%    19.800000  19.925000  19.800000  1057.000000  1062.250000  1049.000000\n",
       "50%    21.400000  21.050000  20.950000  1107.500000  1098.500000  1098.500000\n",
       "75%    23.400000  23.650000  23.750000  1214.000000  1207.000000  1215.000000\n",
       "max    25.500000  25.600000  25.500000  1295.000000  1298.000000  1284.000000"
      ]
     },
     "execution_count": 96,
     "metadata": {},
     "output_type": "execute_result"
    }
   ],
   "source": [
    "# Summary Statistics of the test score for each test over the three years\n",
    "exam_df.groupby(['test', 'year']).describe()['score'].T"
   ]
  },
  {
   "cell_type": "code",
   "execution_count": 97,
   "metadata": {},
   "outputs": [
    {
     "data": {
      "image/png": "[encoded data removed]",
      "text/plain": [
       "<Figure size 432x288 with 1 Axes>"
      ]
     },
     "metadata": {},
     "output_type": "display_data"
    }
   ],
   "source": [
    "sns.violinplot(data=act_df, y=\"score\", x='year')\n",
    "plt.title(\"Violin Plot of ACT Score\")\n",
    "plt.show()"
   ]
  },
  {
   "cell_type": "code",
   "execution_count": 98,
   "metadata": {},
   "outputs": [
    {
     "data": {
      "image/png": "[encoded data removed]",
      "text/plain": [
       "<Figure size 432x288 with 1 Axes>"
      ]
     },
     "metadata": {},
     "output_type": "display_data"
    }
   ],
   "source": [
    "sns.violinplot(data=sat_df, y=\"score\", x='year')\n",
    "plt.title(\"Violin Plot of SAT Score\")\n",
    "plt.show()"
   ]
  },
  {
   "cell_type": "markdown",
   "metadata": {},
   "source": [
    "Some findings:\n",
    "1. The mean score for both ACT and SAT does not vary much over the three years (SAT scores vary slightly more)\n",
    "2. The standard deviation also remains quite similar over the three years\n",
    "3. The range of the ACT score is around 17.6 to 25.6, while the range of the SAT Score is around 950 to 1300\n",
    "4. Overall the summary statistics seems very similar across the three years - this is expected as the difference overall test scores between years should be very minimal"
   ]
  },
  {
   "cell_type": "markdown",
   "metadata": {},
   "source": [
    "### Participation Rate over the years"
   ]
  },
  {
   "cell_type": "markdown",
   "metadata": {},
   "source": [
    "**ACT**"
   ]
  },
  {
   "cell_type": "code",
   "execution_count": 99,
   "metadata": {},
   "outputs": [
    {
     "data": {
      "text/html": [
       "<div>\n",
       "<style scoped>\n",
       "    .dataframe tbody tr th:only-of-type {\n",
       "        vertical-align: middle;\n",
       "    }\n",
       "\n",
       "    .dataframe tbody tr th {\n",
       "        vertical-align: top;\n",
       "    }\n",
       "\n",
       "    .dataframe thead th {\n",
       "        text-align: right;\n",
       "    }\n",
       "</style>\n",
       "<table border=\"1\" class=\"dataframe\">\n",
       "  <thead>\n",
       "    <tr style=\"text-align: right;\">\n",
       "      <th>year</th>\n",
       "      <th>2017</th>\n",
       "      <th>2018</th>\n",
       "      <th>2019</th>\n",
       "    </tr>\n",
       "  </thead>\n",
       "  <tbody>\n",
       "    <tr>\n",
       "      <th>count</th>\n",
       "      <td>50.000000</td>\n",
       "      <td>50.000000</td>\n",
       "      <td>50.000000</td>\n",
       "    </tr>\n",
       "    <tr>\n",
       "      <th>mean</th>\n",
       "      <td>0.659200</td>\n",
       "      <td>0.623200</td>\n",
       "      <td>0.592000</td>\n",
       "    </tr>\n",
       "    <tr>\n",
       "      <th>std</th>\n",
       "      <td>0.321107</td>\n",
       "      <td>0.341141</td>\n",
       "      <td>0.346534</td>\n",
       "    </tr>\n",
       "    <tr>\n",
       "      <th>min</th>\n",
       "      <td>0.080000</td>\n",
       "      <td>0.070000</td>\n",
       "      <td>0.060000</td>\n",
       "    </tr>\n",
       "    <tr>\n",
       "      <th>25%</th>\n",
       "      <td>0.310000</td>\n",
       "      <td>0.277500</td>\n",
       "      <td>0.242500</td>\n",
       "    </tr>\n",
       "    <tr>\n",
       "      <th>50%</th>\n",
       "      <td>0.710000</td>\n",
       "      <td>0.660000</td>\n",
       "      <td>0.585000</td>\n",
       "    </tr>\n",
       "    <tr>\n",
       "      <th>75%</th>\n",
       "      <td>1.000000</td>\n",
       "      <td>1.000000</td>\n",
       "      <td>1.000000</td>\n",
       "    </tr>\n",
       "    <tr>\n",
       "      <th>max</th>\n",
       "      <td>1.000000</td>\n",
       "      <td>1.000000</td>\n",
       "      <td>1.000000</td>\n",
       "    </tr>\n",
       "  </tbody>\n",
       "</table>\n",
       "</div>"
      ],
      "text/plain": [
       "year        2017       2018       2019\n",
       "count  50.000000  50.000000  50.000000\n",
       "mean    0.659200   0.623200   0.592000\n",
       "std     0.321107   0.341141   0.346534\n",
       "min     0.080000   0.070000   0.060000\n",
       "25%     0.310000   0.277500   0.242500\n",
       "50%     0.710000   0.660000   0.585000\n",
       "75%     1.000000   1.000000   1.000000\n",
       "max     1.000000   1.000000   1.000000"
      ]
     },
     "execution_count": 99,
     "metadata": {},
     "output_type": "execute_result"
    }
   ],
   "source": [
    "# Pariticpation Rate over the years\n",
    "act_df.groupby('year').describe()['participation'].T"
   ]
  },
  {
   "cell_type": "code",
   "execution_count": 100,
   "metadata": {},
   "outputs": [
    {
     "data": {
      "image/png": "[encoded data removed]",
      "text/plain": [
       "<Figure size 432x288 with 1 Axes>"
      ]
     },
     "metadata": {},
     "output_type": "display_data"
    }
   ],
   "source": [
    "act_df.groupby('year').mean()['participation'].plot(kind=\"bar\")\n",
    "plt.title(\"Average ACT Participation Rate Over the Years\")\n",
    "plt.ylabel(\"Participation Rate\")\n",
    "plt.show()"
   ]
  },
  {
   "cell_type": "markdown",
   "metadata": {},
   "source": [
    "The average Participation Rate for the ACT has fallen over the years."
   ]
  },
  {
   "cell_type": "code",
   "execution_count": 101,
   "metadata": {},
   "outputs": [
    {
     "data": {
      "image/png": "[encoded data removed]",
      "text/plain": [
       "<Figure size 1080x360 with 3 Axes>"
      ]
     },
     "metadata": {},
     "output_type": "display_data"
    }
   ],
   "source": [
    "# ACT participation over the years\n",
    "sns.displot(data = act_df, x=\"participation\", col = \"year\")\n",
    "plt.suptitle(\"Participation Rates of the ACT (2017-2019)\")\n",
    "plt.tight_layout()\n",
    "plt.show()"
   ]
  },
  {
   "cell_type": "markdown",
   "metadata": {},
   "source": [
    "Majority of the states have participation rate of over 90%."
   ]
  },
  {
   "cell_type": "markdown",
   "metadata": {
    "jp-MarkdownHeadingCollapsed": true,
    "tags": []
   },
   "source": [
    "**SAT**"
   ]
  },
  {
   "cell_type": "code",
   "execution_count": 102,
   "metadata": {},
   "outputs": [
    {
     "data": {
      "text/html": [
       "<div>\n",
       "<style scoped>\n",
       "    .dataframe tbody tr th:only-of-type {\n",
       "        vertical-align: middle;\n",
       "    }\n",
       "\n",
       "    .dataframe tbody tr th {\n",
       "        vertical-align: top;\n",
       "    }\n",
       "\n",
       "    .dataframe thead th {\n",
       "        text-align: right;\n",
       "    }\n",
       "</style>\n",
       "<table border=\"1\" class=\"dataframe\">\n",
       "  <thead>\n",
       "    <tr style=\"text-align: right;\">\n",
       "      <th>year</th>\n",
       "      <th>2017</th>\n",
       "      <th>2018</th>\n",
       "      <th>2019</th>\n",
       "    </tr>\n",
       "  </thead>\n",
       "  <tbody>\n",
       "    <tr>\n",
       "      <th>count</th>\n",
       "      <td>50.000000</td>\n",
       "      <td>50.000000</td>\n",
       "      <td>50.000000</td>\n",
       "    </tr>\n",
       "    <tr>\n",
       "      <th>mean</th>\n",
       "      <td>0.386000</td>\n",
       "      <td>0.448200</td>\n",
       "      <td>0.481600</td>\n",
       "    </tr>\n",
       "    <tr>\n",
       "      <th>std</th>\n",
       "      <td>0.345602</td>\n",
       "      <td>0.370976</td>\n",
       "      <td>0.386002</td>\n",
       "    </tr>\n",
       "    <tr>\n",
       "      <th>min</th>\n",
       "      <td>0.020000</td>\n",
       "      <td>0.020000</td>\n",
       "      <td>0.020000</td>\n",
       "    </tr>\n",
       "    <tr>\n",
       "      <th>25%</th>\n",
       "      <td>0.040000</td>\n",
       "      <td>0.042500</td>\n",
       "      <td>0.052500</td>\n",
       "    </tr>\n",
       "    <tr>\n",
       "      <th>50%</th>\n",
       "      <td>0.340000</td>\n",
       "      <td>0.500000</td>\n",
       "      <td>0.525000</td>\n",
       "    </tr>\n",
       "    <tr>\n",
       "      <th>75%</th>\n",
       "      <td>0.650000</td>\n",
       "      <td>0.745000</td>\n",
       "      <td>0.817500</td>\n",
       "    </tr>\n",
       "    <tr>\n",
       "      <th>max</th>\n",
       "      <td>1.000000</td>\n",
       "      <td>1.000000</td>\n",
       "      <td>1.000000</td>\n",
       "    </tr>\n",
       "  </tbody>\n",
       "</table>\n",
       "</div>"
      ],
      "text/plain": [
       "year        2017       2018       2019\n",
       "count  50.000000  50.000000  50.000000\n",
       "mean    0.386000   0.448200   0.481600\n",
       "std     0.345602   0.370976   0.386002\n",
       "min     0.020000   0.020000   0.020000\n",
       "25%     0.040000   0.042500   0.052500\n",
       "50%     0.340000   0.500000   0.525000\n",
       "75%     0.650000   0.745000   0.817500\n",
       "max     1.000000   1.000000   1.000000"
      ]
     },
     "execution_count": 102,
     "metadata": {},
     "output_type": "execute_result"
    }
   ],
   "source": [
    "# Participation Rate over the years\n",
    "sat_df.groupby('year').describe()['participation'].T"
   ]
  },
  {
   "cell_type": "code",
   "execution_count": 103,
   "metadata": {},
   "outputs": [
    {
     "data": {
      "image/png": "[encoded data removed]",
      "text/plain": [
       "<Figure size 432x288 with 1 Axes>"
      ]
     },
     "metadata": {},
     "output_type": "display_data"
    }
   ],
   "source": [
    "sat_df.groupby('year').mean()['participation'].plot(kind=\"bar\")\n",
    "plt.title(\"Average SAT Participation Rate Over the Years\")\n",
    "plt.ylabel(\"Participation Rate\")\n",
    "plt.show()"
   ]
  },
  {
   "cell_type": "markdown",
   "metadata": {},
   "source": [
    "The average Participation Rate for the SAT has risen steadily over the years."
   ]
  },
  {
   "cell_type": "code",
   "execution_count": 104,
   "metadata": {},
   "outputs": [
    {
     "data": {
      "image/png": "[encoded data removed]",
      "text/plain": [
       "<Figure size 1080x360 with 3 Axes>"
      ]
     },
     "metadata": {},
     "output_type": "display_data"
    }
   ],
   "source": [
    "# SAT participation over the years\n",
    "sns.displot(data = sat_df, x=\"participation\", col = \"year\")\n",
    "plt.suptitle(\"Participation Rates of the SAT (2017-2019)\")\n",
    "plt.tight_layout()\n",
    "plt.show()"
   ]
  },
  {
   "cell_type": "markdown",
   "metadata": {},
   "source": [
    "Most states have a participation rate of less than 0.1. Unlike the ACT, the SAT participation rate has been increasing steadily over the years"
   ]
  },
  {
   "cell_type": "markdown",
   "metadata": {},
   "source": [
    "### HDI"
   ]
  },
  {
   "cell_type": "code",
   "execution_count": 105,
   "metadata": {},
   "outputs": [],
   "source": [
    "# get 1 set of HDI Dataset for the 50 states\n",
    "hdi_df = exam_2019_df[exam_2019_df['test'] == 'ACT'][[\"state\", \"hdi\"]]"
   ]
  },
  {
   "cell_type": "code",
   "execution_count": 106,
   "metadata": {},
   "outputs": [
    {
     "data": {
      "text/plain": [
       "(50, 2)"
      ]
     },
     "execution_count": 106,
     "metadata": {},
     "output_type": "execute_result"
    }
   ],
   "source": [
    "hdi_df.shape"
   ]
  },
  {
   "cell_type": "code",
   "execution_count": 107,
   "metadata": {},
   "outputs": [
    {
     "data": {
      "text/html": [
       "<div>\n",
       "<style scoped>\n",
       "    .dataframe tbody tr th:only-of-type {\n",
       "        vertical-align: middle;\n",
       "    }\n",
       "\n",
       "    .dataframe tbody tr th {\n",
       "        vertical-align: top;\n",
       "    }\n",
       "\n",
       "    .dataframe thead th {\n",
       "        text-align: right;\n",
       "    }\n",
       "</style>\n",
       "<table border=\"1\" class=\"dataframe\">\n",
       "  <thead>\n",
       "    <tr style=\"text-align: right;\">\n",
       "      <th></th>\n",
       "      <th>state</th>\n",
       "      <th>hdi</th>\n",
       "    </tr>\n",
       "  </thead>\n",
       "  <tbody>\n",
       "    <tr>\n",
       "      <th>0</th>\n",
       "      <td>alabama</td>\n",
       "      <td>0.886</td>\n",
       "    </tr>\n",
       "    <tr>\n",
       "      <th>2</th>\n",
       "      <td>alaska</td>\n",
       "      <td>0.936</td>\n",
       "    </tr>\n",
       "    <tr>\n",
       "      <th>4</th>\n",
       "      <td>arizona</td>\n",
       "      <td>0.913</td>\n",
       "    </tr>\n",
       "    <tr>\n",
       "      <th>6</th>\n",
       "      <td>arkansas</td>\n",
       "      <td>0.886</td>\n",
       "    </tr>\n",
       "    <tr>\n",
       "      <th>8</th>\n",
       "      <td>california</td>\n",
       "      <td>0.936</td>\n",
       "    </tr>\n",
       "  </tbody>\n",
       "</table>\n",
       "</div>"
      ],
      "text/plain": [
       "        state    hdi\n",
       "0     alabama  0.886\n",
       "2      alaska  0.936\n",
       "4     arizona  0.913\n",
       "6    arkansas  0.886\n",
       "8  california  0.936"
      ]
     },
     "execution_count": 107,
     "metadata": {},
     "output_type": "execute_result"
    }
   ],
   "source": [
    "hdi_df.head()"
   ]
  },
  {
   "cell_type": "code",
   "execution_count": 108,
   "metadata": {},
   "outputs": [
    {
     "data": {
      "text/html": [
       "<div>\n",
       "<style scoped>\n",
       "    .dataframe tbody tr th:only-of-type {\n",
       "        vertical-align: middle;\n",
       "    }\n",
       "\n",
       "    .dataframe tbody tr th {\n",
       "        vertical-align: top;\n",
       "    }\n",
       "\n",
       "    .dataframe thead th {\n",
       "        text-align: right;\n",
       "    }\n",
       "</style>\n",
       "<table border=\"1\" class=\"dataframe\">\n",
       "  <thead>\n",
       "    <tr style=\"text-align: right;\">\n",
       "      <th></th>\n",
       "      <th>hdi</th>\n",
       "    </tr>\n",
       "  </thead>\n",
       "  <tbody>\n",
       "    <tr>\n",
       "      <th>count</th>\n",
       "      <td>50.000000</td>\n",
       "    </tr>\n",
       "    <tr>\n",
       "      <th>mean</th>\n",
       "      <td>0.923780</td>\n",
       "    </tr>\n",
       "    <tr>\n",
       "      <th>std</th>\n",
       "      <td>0.020933</td>\n",
       "    </tr>\n",
       "    <tr>\n",
       "      <th>min</th>\n",
       "      <td>0.871000</td>\n",
       "    </tr>\n",
       "    <tr>\n",
       "      <th>25%</th>\n",
       "      <td>0.912000</td>\n",
       "    </tr>\n",
       "    <tr>\n",
       "      <th>50%</th>\n",
       "      <td>0.929000</td>\n",
       "    </tr>\n",
       "    <tr>\n",
       "      <th>75%</th>\n",
       "      <td>0.938750</td>\n",
       "    </tr>\n",
       "    <tr>\n",
       "      <th>max</th>\n",
       "      <td>0.956000</td>\n",
       "    </tr>\n",
       "  </tbody>\n",
       "</table>\n",
       "</div>"
      ],
      "text/plain": [
       "             hdi\n",
       "count  50.000000\n",
       "mean    0.923780\n",
       "std     0.020933\n",
       "min     0.871000\n",
       "25%     0.912000\n",
       "50%     0.929000\n",
       "75%     0.938750\n",
       "max     0.956000"
      ]
     },
     "execution_count": 108,
     "metadata": {},
     "output_type": "execute_result"
    }
   ],
   "source": [
    "hdi_df.describe()"
   ]
  },
  {
   "cell_type": "code",
   "execution_count": 109,
   "metadata": {},
   "outputs": [
    {
     "data": {
      "image/png": "[encoded data removed]",
      "text/plain": [
       "<Figure size 360x360 with 1 Axes>"
      ]
     },
     "metadata": {},
     "output_type": "display_data"
    }
   ],
   "source": [
    "sns.displot(data = hdi_df, x=\"hdi\")\n",
    "plt.title(\"Distribution of HDI Index Across the States\")\n",
    "plt.show()"
   ]
  },
  {
   "cell_type": "code",
   "execution_count": 110,
   "metadata": {},
   "outputs": [
    {
     "data": {
      "image/png": "[encoded data removed]",
      "text/plain": [
       "<Figure size 432x288 with 1 Axes>"
      ]
     },
     "metadata": {},
     "output_type": "display_data"
    }
   ],
   "source": [
    "sns.violinplot(data=hdi_df, y='hdi')\n",
    "plt.title(\"Violin Plot of HDI Index\")\n",
    "plt.show()"
   ]
  },
  {
   "cell_type": "markdown",
   "metadata": {},
   "source": [
    "1. The Average HDI across the 50 states is 0.92\n",
    "2. The range of the HDI is from 0.87 to 0.95\n",
    "3. The Distribution of the HDI index is left skewed - most states have a HDI score of higher than 0.9"
   ]
  },
  {
   "cell_type": "code",
   "execution_count": 111,
   "metadata": {},
   "outputs": [
    {
     "name": "stdout",
     "output_type": "stream",
     "text": [
      "            state    hdi\n",
      "44      minnesota  0.953\n",
      "12    connecticut  0.954\n",
      "40  massachusetts  0.956\n",
      "            state    hdi\n",
      "46    mississippi  0.871\n",
      "94  west virginia  0.882\n",
      "0         alabama  0.886\n"
     ]
    }
   ],
   "source": [
    "# Top 3 HDI and Worst 3 HDI\n",
    "sorted_hdi = hdi_df.sort_values(by='hdi')\n",
    "top_3_hdi = sorted_hdi.tail(3)\n",
    "worst_3_hdi = sorted_hdi.head(3)\n",
    "print(top_3_hdi)\n",
    "print(worst_3_hdi)"
   ]
  },
  {
   "cell_type": "markdown",
   "metadata": {},
   "source": [
    "The top 3 states in terms of HDI are Minnesota, Connecticut and Massachusetts with a HDI of above 0.95.\n",
    "\n",
    "The bottom 3 states in terms of HDI are Mississippi, West Virginia and Alabama with a HDI of around 0.87 to 0.88."
   ]
  },
  {
   "cell_type": "markdown",
   "metadata": {},
   "source": [
    "### Racial Diversity"
   ]
  },
  {
   "cell_type": "code",
   "execution_count": 112,
   "metadata": {},
   "outputs": [],
   "source": [
    "# get 1 set of Racial Diversity Dataset for the 50 states\n",
    "race_df = exam_2019_df[exam_2019_df['test'] == 'ACT'][[\"state\", \"diversity_metric\"]]"
   ]
  },
  {
   "cell_type": "code",
   "execution_count": 113,
   "metadata": {},
   "outputs": [
    {
     "data": {
      "text/plain": [
       "(50, 2)"
      ]
     },
     "execution_count": 113,
     "metadata": {},
     "output_type": "execute_result"
    }
   ],
   "source": [
    "race_df.shape"
   ]
  },
  {
   "cell_type": "code",
   "execution_count": 114,
   "metadata": {},
   "outputs": [
    {
     "data": {
      "text/html": [
       "<div>\n",
       "<style scoped>\n",
       "    .dataframe tbody tr th:only-of-type {\n",
       "        vertical-align: middle;\n",
       "    }\n",
       "\n",
       "    .dataframe tbody tr th {\n",
       "        vertical-align: top;\n",
       "    }\n",
       "\n",
       "    .dataframe thead th {\n",
       "        text-align: right;\n",
       "    }\n",
       "</style>\n",
       "<table border=\"1\" class=\"dataframe\">\n",
       "  <thead>\n",
       "    <tr style=\"text-align: right;\">\n",
       "      <th></th>\n",
       "      <th>state</th>\n",
       "      <th>diversity_metric</th>\n",
       "    </tr>\n",
       "  </thead>\n",
       "  <tbody>\n",
       "    <tr>\n",
       "      <th>0</th>\n",
       "      <td>alabama</td>\n",
       "      <td>0.535922</td>\n",
       "    </tr>\n",
       "    <tr>\n",
       "      <th>2</th>\n",
       "      <td>alaska</td>\n",
       "      <td>0.453868</td>\n",
       "    </tr>\n",
       "    <tr>\n",
       "      <th>4</th>\n",
       "      <td>arizona</td>\n",
       "      <td>0.611970</td>\n",
       "    </tr>\n",
       "    <tr>\n",
       "      <th>6</th>\n",
       "      <td>arkansas</td>\n",
       "      <td>0.615344</td>\n",
       "    </tr>\n",
       "    <tr>\n",
       "      <th>8</th>\n",
       "      <td>california</td>\n",
       "      <td>0.416365</td>\n",
       "    </tr>\n",
       "  </tbody>\n",
       "</table>\n",
       "</div>"
      ],
      "text/plain": [
       "        state  diversity_metric\n",
       "0     alabama          0.535922\n",
       "2      alaska          0.453868\n",
       "4     arizona          0.611970\n",
       "6    arkansas          0.615344\n",
       "8  california          0.416365"
      ]
     },
     "execution_count": 114,
     "metadata": {},
     "output_type": "execute_result"
    }
   ],
   "source": [
    "race_df.head()"
   ]
  },
  {
   "cell_type": "code",
   "execution_count": 115,
   "metadata": {},
   "outputs": [
    {
     "data": {
      "text/html": [
       "<div>\n",
       "<style scoped>\n",
       "    .dataframe tbody tr th:only-of-type {\n",
       "        vertical-align: middle;\n",
       "    }\n",
       "\n",
       "    .dataframe tbody tr th {\n",
       "        vertical-align: top;\n",
       "    }\n",
       "\n",
       "    .dataframe thead th {\n",
       "        text-align: right;\n",
       "    }\n",
       "</style>\n",
       "<table border=\"1\" class=\"dataframe\">\n",
       "  <thead>\n",
       "    <tr style=\"text-align: right;\">\n",
       "      <th></th>\n",
       "      <th>diversity_metric</th>\n",
       "    </tr>\n",
       "  </thead>\n",
       "  <tbody>\n",
       "    <tr>\n",
       "      <th>count</th>\n",
       "      <td>50.000000</td>\n",
       "    </tr>\n",
       "    <tr>\n",
       "      <th>mean</th>\n",
       "      <td>0.633051</td>\n",
       "    </tr>\n",
       "    <tr>\n",
       "      <th>std</th>\n",
       "      <td>0.142364</td>\n",
       "    </tr>\n",
       "    <tr>\n",
       "      <th>min</th>\n",
       "      <td>0.278622</td>\n",
       "    </tr>\n",
       "    <tr>\n",
       "      <th>25%</th>\n",
       "      <td>0.524909</td>\n",
       "    </tr>\n",
       "    <tr>\n",
       "      <th>50%</th>\n",
       "      <td>0.628381</td>\n",
       "    </tr>\n",
       "    <tr>\n",
       "      <th>75%</th>\n",
       "      <td>0.732541</td>\n",
       "    </tr>\n",
       "    <tr>\n",
       "      <th>max</th>\n",
       "      <td>0.890423</td>\n",
       "    </tr>\n",
       "  </tbody>\n",
       "</table>\n",
       "</div>"
      ],
      "text/plain": [
       "       diversity_metric\n",
       "count         50.000000\n",
       "mean           0.633051\n",
       "std            0.142364\n",
       "min            0.278622\n",
       "25%            0.524909\n",
       "50%            0.628381\n",
       "75%            0.732541\n",
       "max            0.890423"
      ]
     },
     "execution_count": 115,
     "metadata": {},
     "output_type": "execute_result"
    }
   ],
   "source": [
    "race_df.describe()"
   ]
  },
  {
   "cell_type": "code",
   "execution_count": 116,
   "metadata": {},
   "outputs": [
    {
     "data": {
      "image/png": "[encoded data removed]",
      "text/plain": [
       "<Figure size 360x360 with 1 Axes>"
      ]
     },
     "metadata": {},
     "output_type": "display_data"
    }
   ],
   "source": [
    "sns.displot(data = race_df, x=\"diversity_metric\")\n",
    "plt.title(\"Distribution of Racial Diversity Metric Across the States\")\n",
    "plt.show()"
   ]
  },
  {
   "cell_type": "code",
   "execution_count": 117,
   "metadata": {},
   "outputs": [
    {
     "data": {
      "image/png": "[encoded data removed]",
      "text/plain": [
       "<Figure size 432x288 with 1 Axes>"
      ]
     },
     "metadata": {},
     "output_type": "display_data"
    }
   ],
   "source": [
    "sns.violinplot(data=race_df, y='diversity_metric')\n",
    "plt.title(\"Violin Plot of Racial Diversity Metric\")\n",
    "plt.show()"
   ]
  },
  {
   "cell_type": "markdown",
   "metadata": {},
   "source": [
    "1. The Average Racial Diversity metric across the 50 states is 0.633\n",
    "2. The range of the HDI index is from 0.278 to 0.890\n",
    "3. Most states have a Racial Diversity Metric of higher than 0.4 - This suggest that there are a small number of states with very diverse racial composition (The lower the score, the more diverse the racial composition)"
   ]
  },
  {
   "cell_type": "code",
   "execution_count": 118,
   "metadata": {},
   "outputs": [
    {
     "name": "stdout",
     "output_type": "stream",
     "text": [
      "         state  diversity_metric\n",
      "20      hawaii          0.278622\n",
      "38    maryland          0.408098\n",
      "8   california          0.416365\n",
      "            state  diversity_metric\n",
      "94  west virginia          0.868307\n",
      "88        vermont          0.887666\n",
      "36          maine          0.890423\n"
     ]
    }
   ],
   "source": [
    "# Top 3 HDI and Bottom 3 Racial Diversity\n",
    "sorted_race = race_df.sort_values(by='diversity_metric')\n",
    "top_3_race = sorted_race.head(3)\n",
    "worst_3_race = sorted_race.tail(3)\n",
    "print(top_3_race)\n",
    "print(worst_3_race)"
   ]
  },
  {
   "cell_type": "markdown",
   "metadata": {},
   "source": [
    "The 3 most racially diverse States are Hawaii, Maryland and California\n",
    "\n",
    "The 3 least racially diverse States are West Virginia, Vermont and Maine"
   ]
  },
  {
   "cell_type": "markdown",
   "metadata": {},
   "source": [
    "### Population Density"
   ]
  },
  {
   "cell_type": "code",
   "execution_count": 119,
   "metadata": {},
   "outputs": [],
   "source": [
    "# get 1 set of Population Dataset for the 50 states\n",
    "pop_df = exam_2019_df[exam_2019_df['test'] == 'ACT'][[\"state\", \"population_density\"]]"
   ]
  },
  {
   "cell_type": "code",
   "execution_count": 120,
   "metadata": {},
   "outputs": [
    {
     "data": {
      "text/plain": [
       "(50, 2)"
      ]
     },
     "execution_count": 120,
     "metadata": {},
     "output_type": "execute_result"
    }
   ],
   "source": [
    "pop_df.shape"
   ]
  },
  {
   "cell_type": "code",
   "execution_count": 121,
   "metadata": {},
   "outputs": [
    {
     "data": {
      "text/html": [
       "<div>\n",
       "<style scoped>\n",
       "    .dataframe tbody tr th:only-of-type {\n",
       "        vertical-align: middle;\n",
       "    }\n",
       "\n",
       "    .dataframe tbody tr th {\n",
       "        vertical-align: top;\n",
       "    }\n",
       "\n",
       "    .dataframe thead th {\n",
       "        text-align: right;\n",
       "    }\n",
       "</style>\n",
       "<table border=\"1\" class=\"dataframe\">\n",
       "  <thead>\n",
       "    <tr style=\"text-align: right;\">\n",
       "      <th></th>\n",
       "      <th>state</th>\n",
       "      <th>population_density</th>\n",
       "    </tr>\n",
       "  </thead>\n",
       "  <tbody>\n",
       "    <tr>\n",
       "      <th>0</th>\n",
       "      <td>alabama</td>\n",
       "      <td>38.3</td>\n",
       "    </tr>\n",
       "    <tr>\n",
       "      <th>2</th>\n",
       "      <td>alaska</td>\n",
       "      <td>0.5</td>\n",
       "    </tr>\n",
       "    <tr>\n",
       "      <th>4</th>\n",
       "      <td>arizona</td>\n",
       "      <td>24.3</td>\n",
       "    </tr>\n",
       "    <tr>\n",
       "      <th>6</th>\n",
       "      <td>arkansas</td>\n",
       "      <td>22.3</td>\n",
       "    </tr>\n",
       "    <tr>\n",
       "      <th>8</th>\n",
       "      <td>california</td>\n",
       "      <td>98.0</td>\n",
       "    </tr>\n",
       "  </tbody>\n",
       "</table>\n",
       "</div>"
      ],
      "text/plain": [
       "        state  population_density\n",
       "0     alabama                38.3\n",
       "2      alaska                 0.5\n",
       "4     arizona                24.3\n",
       "6    arkansas                22.3\n",
       "8  california                98.0"
      ]
     },
     "execution_count": 121,
     "metadata": {},
     "output_type": "execute_result"
    }
   ],
   "source": [
    "pop_df.head()"
   ]
  },
  {
   "cell_type": "code",
   "execution_count": 122,
   "metadata": {},
   "outputs": [
    {
     "data": {
      "text/html": [
       "<div>\n",
       "<style scoped>\n",
       "    .dataframe tbody tr th:only-of-type {\n",
       "        vertical-align: middle;\n",
       "    }\n",
       "\n",
       "    .dataframe tbody tr th {\n",
       "        vertical-align: top;\n",
       "    }\n",
       "\n",
       "    .dataframe thead th {\n",
       "        text-align: right;\n",
       "    }\n",
       "</style>\n",
       "<table border=\"1\" class=\"dataframe\">\n",
       "  <thead>\n",
       "    <tr style=\"text-align: right;\">\n",
       "      <th></th>\n",
       "      <th>population_density</th>\n",
       "    </tr>\n",
       "  </thead>\n",
       "  <tbody>\n",
       "    <tr>\n",
       "      <th>count</th>\n",
       "      <td>50.000000</td>\n",
       "    </tr>\n",
       "    <tr>\n",
       "      <th>mean</th>\n",
       "      <td>79.768000</td>\n",
       "    </tr>\n",
       "    <tr>\n",
       "      <th>std</th>\n",
       "      <td>106.216591</td>\n",
       "    </tr>\n",
       "    <tr>\n",
       "      <th>min</th>\n",
       "      <td>0.500000</td>\n",
       "    </tr>\n",
       "    <tr>\n",
       "      <th>25%</th>\n",
       "      <td>18.200000</td>\n",
       "    </tr>\n",
       "    <tr>\n",
       "      <th>50%</th>\n",
       "      <td>41.800000</td>\n",
       "    </tr>\n",
       "    <tr>\n",
       "      <th>75%</th>\n",
       "      <td>86.725000</td>\n",
       "    </tr>\n",
       "    <tr>\n",
       "      <th>max</th>\n",
       "      <td>488.000000</td>\n",
       "    </tr>\n",
       "  </tbody>\n",
       "</table>\n",
       "</div>"
      ],
      "text/plain": [
       "       population_density\n",
       "count           50.000000\n",
       "mean            79.768000\n",
       "std            106.216591\n",
       "min              0.500000\n",
       "25%             18.200000\n",
       "50%             41.800000\n",
       "75%             86.725000\n",
       "max            488.000000"
      ]
     },
     "execution_count": 122,
     "metadata": {},
     "output_type": "execute_result"
    }
   ],
   "source": [
    "pop_df.describe()"
   ]
  },
  {
   "cell_type": "code",
   "execution_count": 123,
   "metadata": {},
   "outputs": [
    {
     "data": {
      "image/png": "[encoded data removed]",
      "text/plain": [
       "<Figure size 360x360 with 1 Axes>"
      ]
     },
     "metadata": {},
     "output_type": "display_data"
    }
   ],
   "source": [
    "sns.displot(data = pop_df, x=\"population_density\")\n",
    "plt.title(\"Distribution of Population Density Across the States\")\n",
    "plt.show()"
   ]
  },
  {
   "cell_type": "code",
   "execution_count": 124,
   "metadata": {},
   "outputs": [
    {
     "data": {
      "image/png": "[encoded data removed]",
      "text/plain": [
       "<Figure size 432x288 with 1 Axes>"
      ]
     },
     "metadata": {},
     "output_type": "display_data"
    }
   ],
   "source": [
    "sns.violinplot(data=pop_df, y='population_density')\n",
    "plt.title(\"Violin Plot of Population Density\")\n",
    "plt.show()"
   ]
  },
  {
   "cell_type": "markdown",
   "metadata": {},
   "source": [
    "1. The Average Population Desnsity across the 50 states is 79.77 per km^2\n",
    "2. The range of the HDI index is from 0.5 to 488 per km^2\n",
    "3. The distrbution of the population density is very positively skewed - most states have a population density of less than 100 km^2"
   ]
  },
  {
   "cell_type": "code",
   "execution_count": 125,
   "metadata": {},
   "outputs": [
    {
     "name": "stdout",
     "output_type": "stream",
     "text": [
      "            state  population_density\n",
      "40  massachusetts               348.0\n",
      "76   rhode island               410.0\n",
      "58     new jersey               488.0\n",
      "      state  population_density\n",
      "2    alaska                 0.5\n",
      "98  wyoming                 2.3\n",
      "50  montana                 2.9\n"
     ]
    }
   ],
   "source": [
    "# Top 3 HDI and Bottom 3 Population Density\n",
    "sorted_pop = pop_df.sort_values(by='population_density')\n",
    "top_3_pop = sorted_pop.tail(3)\n",
    "worst_3_pop = sorted_pop.head(3)\n",
    "print(top_3_pop)\n",
    "print(worst_3_pop)"
   ]
  },
  {
   "cell_type": "markdown",
   "metadata": {},
   "source": [
    "The 3 most densely populated states are New Jersey, Rhode Island and Massachusetts. They have a population density of over 300 per km^2. For New Jersey, it is almost 500 per km^2\n",
    "\n",
    "The 3 least densely populated states are Alaska, Wyoming and Montana. The population density of these states are less than 3 per km^2. It only 0.5 for Alaska"
   ]
  },
  {
   "cell_type": "markdown",
   "metadata": {},
   "source": [
    "# Data Visualisation"
   ]
  },
  {
   "cell_type": "markdown",
   "metadata": {},
   "source": [
    "## Participation Rate VS Score"
   ]
  },
  {
   "cell_type": "markdown",
   "metadata": {},
   "source": [
    "In this section we will examine the participation rate to see if there is any relation to the scores"
   ]
  },
  {
   "cell_type": "code",
   "execution_count": 126,
   "metadata": {},
   "outputs": [
    {
     "data": {
      "image/png": "[encoded data removed]",
      "text/plain": [
       "<Figure size 432x288 with 2 Axes>"
      ]
     },
     "metadata": {},
     "output_type": "display_data"
    }
   ],
   "source": [
    "sns.heatmap(act_df.corr(), cmap=\"YlGnBu\", annot=True)\n",
    "plt.title(\"Correlation Heatmap of ACT scores and other variables (2017-2019)\")\n",
    "plt.show()"
   ]
  },
  {
   "cell_type": "code",
   "execution_count": 127,
   "metadata": {},
   "outputs": [
    {
     "data": {
      "image/png": "[encoded data removed]",
      "text/plain": [
       "<Figure size 432x288 with 2 Axes>"
      ]
     },
     "metadata": {},
     "output_type": "display_data"
    }
   ],
   "source": [
    "sns.heatmap(sat_df.corr(), cmap=\"YlGnBu\", annot=True)\n",
    "plt.title(\"Correlation Heatmap of SAT scores and other variables (2017-2019)\")\n",
    "plt.show()"
   ]
  },
  {
   "cell_type": "code",
   "execution_count": 128,
   "metadata": {},
   "outputs": [
    {
     "data": {
      "image/png": "[encoded data removed]",
      "text/plain": [
       "<Figure size 1182.3x360 with 3 Axes>"
      ]
     },
     "metadata": {},
     "output_type": "display_data"
    }
   ],
   "source": [
    "sns.relplot(data=act_df, x=\"participation\", y='score', hue='high_participation', col='year')\n",
    "plt.suptitle('Participation Rate VS ACT Score (2017-2019)')\n",
    "plt.tight_layout()\n",
    "plt.show()"
   ]
  },
  {
   "cell_type": "code",
   "execution_count": 129,
   "metadata": {},
   "outputs": [
    {
     "data": {
      "image/png": "[encoded data removed]",
      "text/plain": [
       "<Figure size 1182.3x360 with 3 Axes>"
      ]
     },
     "metadata": {},
     "output_type": "display_data"
    }
   ],
   "source": [
    "rel = sns.relplot(data=sat_df, x=\"participation\", y='score', hue='high_participation', col='year')\n",
    "rel.fig.suptitle('Participation Rate VS SAT Score (2017-2019)')\n",
    "plt.tight_layout()\n",
    "plt.show()"
   ]
  },
  {
   "cell_type": "markdown",
   "metadata": {},
   "source": [
    "For both the ACT and SAT, there seems to be an obvious negative correlation between the scores and participation rate. This also does not seem to change over the three years. As participation rate increases, the average test score of the state tend to be lower. With a correlation of -0.86 and -0.83, this indicates a strong negative correlation."
   ]
  },
  {
   "cell_type": "markdown",
   "metadata": {},
   "source": [
    "## 2019 Dataset"
   ]
  },
  {
   "cell_type": "code",
   "execution_count": 130,
   "metadata": {},
   "outputs": [],
   "source": [
    "# Separate data into ACT and SAT\n",
    "exam_2019_df_act = exam_2019_df[exam_2019_df['test'] == \"ACT\" ].drop('year', axis=1)\n",
    "exam_2019_df_sat = exam_2019_df[exam_2019_df['test'] == \"SAT\" ].drop('year', axis=1)"
   ]
  },
  {
   "cell_type": "code",
   "execution_count": 131,
   "metadata": {},
   "outputs": [
    {
     "data": {
      "image/png": "[encoded data removed]",
      "text/plain": [
       "<Figure size 432x288 with 2 Axes>"
      ]
     },
     "metadata": {},
     "output_type": "display_data"
    }
   ],
   "source": [
    "sns.heatmap(exam_2019_df_act.corr(), cmap=\"YlGnBu\", annot=True)\n",
    "plt.title(\"Correlation Heatmap of ACT scores and other variables (2019)\")\n",
    "plt.show()"
   ]
  },
  {
   "cell_type": "code",
   "execution_count": 132,
   "metadata": {},
   "outputs": [
    {
     "data": {
      "image/png": "[encoded data removed]",
      "text/plain": [
       "<Figure size 432x288 with 2 Axes>"
      ]
     },
     "metadata": {},
     "output_type": "display_data"
    }
   ],
   "source": [
    "sns.heatmap(exam_2019_df_sat.corr(), cmap=\"YlGnBu\", annot=True)\n",
    "plt.title(\"Correlation Heatmap of SAT scores and other variables (2019)\")\n",
    "plt.show()"
   ]
  },
  {
   "cell_type": "markdown",
   "metadata": {},
   "source": [
    "## Human Development Index vs scores"
   ]
  },
  {
   "cell_type": "code",
   "execution_count": 133,
   "metadata": {},
   "outputs": [
    {
     "data": {
      "image/png": "[encoded data removed]",
      "text/plain": [
       "<Figure size 432x288 with 1 Axes>"
      ]
     },
     "metadata": {},
     "output_type": "display_data"
    }
   ],
   "source": [
    "sns.regplot(data=exam_2019_df_act, x=\"hdi\", y='score')\n",
    "plt.title(\"HDI vs ACT scores\")\n",
    "plt.show()"
   ]
  },
  {
   "cell_type": "code",
   "execution_count": 134,
   "metadata": {},
   "outputs": [
    {
     "data": {
      "image/png": "[encoded data removed]",
      "text/plain": [
       "<Figure size 432x288 with 1 Axes>"
      ]
     },
     "metadata": {},
     "output_type": "display_data"
    }
   ],
   "source": [
    "sns.regplot(data=exam_2019_df_sat, x=\"hdi\", y='score')\n",
    "plt.title(\"HDI vs SAT scores\")\n",
    "plt.show()"
   ]
  },
  {
   "cell_type": "markdown",
   "metadata": {},
   "source": [
    "For the SAT scores, there does not seem to be any relationship between the state average scores and the HDI of the state. However, there seem to be some relationship between the HDI and the state average ACT scores as the two variables have a correlation of 0.61. This indicates that as the for states with higher HDI, the state average ACT scores tend to be higher. Thus, there is some suggestion that states that have a higher level of \"Human Development\" (Long and healthy life, knowledge and standard of living) tend to do better in ACT."
   ]
  },
  {
   "cell_type": "markdown",
   "metadata": {},
   "source": [
    "## Racial diversity vs score"
   ]
  },
  {
   "cell_type": "code",
   "execution_count": 135,
   "metadata": {},
   "outputs": [
    {
     "data": {
      "image/png": "[encoded data removed]",
      "text/plain": [
       "<Figure size 432x288 with 1 Axes>"
      ]
     },
     "metadata": {},
     "output_type": "display_data"
    }
   ],
   "source": [
    "sns.regplot(data=exam_2019_df_act, x=\"diversity_metric\", y='score')\n",
    "plt.title(\"Racial Diversity vs ACT scores\")\n",
    "plt.show()"
   ]
  },
  {
   "cell_type": "code",
   "execution_count": 136,
   "metadata": {},
   "outputs": [
    {
     "data": {
      "image/png": "[encoded data removed]",
      "text/plain": [
       "<Figure size 432x288 with 1 Axes>"
      ]
     },
     "metadata": {},
     "output_type": "display_data"
    }
   ],
   "source": [
    "sns.regplot(data=exam_2019_df_sat, x=\"diversity_metric\", y='score')\n",
    "plt.title(\"Racial Diversity vs SAT scores\")\n",
    "plt.show()"
   ]
  },
  {
   "cell_type": "markdown",
   "metadata": {},
   "source": [
    "For both the ACT and SAT, there is a small positive correlation between Racial Diversity Metric and the State average score. As a higher value of the Racial Diversity metric inidicates a state is less racially diverse, there is some suggestion that the less racially diverse state perform better. However, the correlation relatively small."
   ]
  },
  {
   "cell_type": "markdown",
   "metadata": {},
   "source": [
    "## Population density vs Score"
   ]
  },
  {
   "cell_type": "code",
   "execution_count": 137,
   "metadata": {},
   "outputs": [
    {
     "data": {
      "image/png": "[encoded data removed]",
      "text/plain": [
       "<Figure size 432x288 with 1 Axes>"
      ]
     },
     "metadata": {},
     "output_type": "display_data"
    }
   ],
   "source": [
    "sns.regplot(data=exam_2019_df_act, x=\"population_density\", y='score')\n",
    "plt.title(\"Population Density vs ACT scores\")\n",
    "plt.show()"
   ]
  },
  {
   "cell_type": "code",
   "execution_count": 138,
   "metadata": {},
   "outputs": [
    {
     "data": {
      "image/png": "[encoded data removed]",
      "text/plain": [
       "<Figure size 432x288 with 1 Axes>"
      ]
     },
     "metadata": {},
     "output_type": "display_data"
    }
   ],
   "source": [
    "sns.regplot(data=exam_2019_df_sat, x=\"population_density\", y='score')\n",
    "plt.title(\"Population Density vs SAT scores\")\n",
    "plt.show()"
   ]
  },
  {
   "cell_type": "markdown",
   "metadata": {},
   "source": [
    "There is a positive correlation for ACT scores and a negtiave correlation for SAT scores. This suggest that states with higher population density tend to perform better on the ACTs but worse on the SATs. However, the correlation seems to be highly affected by a handful of states with much higher population density than the rest."
   ]
  },
  {
   "cell_type": "markdown",
   "metadata": {},
   "source": [
    "## Summary of Findings"
   ]
  },
  {
   "cell_type": "markdown",
   "metadata": {},
   "source": [
    "|Feature|Correlation with ACT|Correlation with SAT|Summary|\n",
    "|---|---|---|---|\n",
    "|Participation Rate|-0.86|-0.83|High negative correlation with Participation Rate for both ACT and SAT scores|\n",
    "|HDI|0.61|0.036|High positive correlation with HDI for ACT but no correlation for SAT|\n",
    "|Racial Diversity|0.17|0.22|Low positive correlation with Racial Diversity for both ACT and SAT scores|\n",
    "|Population Density|0.55|-0.38|Moderate positive correlation with Population Density for ACT but moderate negative correlation for SAT|"
   ]
  },
  {
   "cell_type": "markdown",
   "metadata": {},
   "source": [
    "**Participation Rate**\n",
    "\n",
    "Our analysis indicates that both SAT and ACT scores tend to be lower as Participation rate of the state increases. \n",
    "\n",
    "**HDI**\n",
    "\n",
    "States with higher HDI tend to have better ACT scores. However, there does not seem to be any relationship between HDI and the SAT scores based on the Pearson's correlation coefficient.\n",
    "\n",
    "**Racial Diversity**\n",
    "\n",
    "States that are more racially diverse tend to perform worse for both ACT and SAT. (Higher Racial Diversity Metric indicate a lower Racial Diversity in the state) However, the correlation coefficient is relatively low, which suggest that the relationship might not be strong.\n",
    "\n",
    "**Population Density**\n",
    "\n",
    "States which have a higher population density tend to perform better on the ACT. However, the opposite observation can been seen for SAT, where states with a higher population density tend to perform worse."
   ]
  },
  {
   "cell_type": "markdown",
   "metadata": {
    "tags": []
   },
   "source": [
    "## Conclusions and Recommendations"
   ]
  },
  {
   "cell_type": "markdown",
   "metadata": {},
   "source": [
    "**Conclusion**\n",
    "\n",
    "From our analysis, socio-economic factors definitely does seem to affect ACT and SAT score. The ACT and SAT scores seem to be affected by the different socio-economic factors we have analysed to varying degrees. Some that are noteworthy are:\n",
    "\n",
    "1. ACT scores are strongly positively correlated with HDI\n",
    "2. Population Density affects ACT and SAT in opposite directions (Positive Correlation with ACT and Negative Correlation with SAT)\n",
    "\n",
    "However, there is also a strong possibility that they are not independent of one another. Nevertheless, the evidence does indicate that the ACT and SAT are affected by external socio-economic factors.\n",
    "\n",
    "**Recommendations**\n",
    "\n",
    "Our prelimnary analysis indicates that ACT and SAT scores are affected by socio-economic factors on a state level. In order to tackle the issue of fairness of the ACT and SAT test, further analysis would be needed to explore out the magnitude of a socio-economic factor on an individual's ACT and SAT score. For instance, one further analysis that can can be done on how each race perform on the tests and whether the test are fair across the various race. \n",
    "\n",
    "1. Study other socio-economic features (such as Scores between Genders)\n",
    "2. Analysis on individual student level instead of just state level"
   ]
  }
 ],
 "metadata": {
  "anaconda-cloud": {},
  "kernelspec": {
   "display_name": "Python 3 (ipykernel)",
   "language": "python",
   "name": "python3"
  },
  "language_info": {
   "codemirror_mode": {
    "name": "ipython",
    "version": 3
   },
   "file_extension": ".py",
   "mimetype": "text/x-python",
   "name": "python",
   "nbconvert_exporter": "python",
   "pygments_lexer": "ipython3",
   "version": "3.9.7"
  }
 },
 "nbformat": 4,
 "nbformat_minor": 4
}
