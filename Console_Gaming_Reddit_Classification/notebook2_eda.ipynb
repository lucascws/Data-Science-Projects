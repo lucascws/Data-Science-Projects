{
 "cells": [
  {
   "cell_type": "markdown",
   "id": "b91e02e0-df1c-4d6d-b60d-fff6eac29d75",
   "metadata": {},
   "source": [
    "# Data Cleaning and EDA\n",
    "### Notebook 2 of 4"
   ]
  },
  {
   "cell_type": "markdown",
   "id": "32df63a4-afb6-400e-96ec-99e211fccf23",
   "metadata": {
    "tags": []
   },
   "source": [
    "# EDA"
   ]
  },
  {
   "cell_type": "code",
   "execution_count": 1,
   "id": "776ebfbc-f762-4059-910a-c88dc8095b3f",
   "metadata": {},
   "outputs": [
    {
     "name": "stderr",
     "output_type": "stream",
     "text": [
      "Since the GPL-licensed package `unidecode` is not installed, using Python's `unicodedata` package which yields worse results.\n"
     ]
    },
    {
     "data": {
      "text/plain": [
       "<function seaborn.rcmod.set_theme(context='notebook', style='darkgrid', palette='deep', font='sans-serif', font_scale=1, color_codes=True, rc=None)>"
      ]
     },
     "execution_count": 1,
     "metadata": {},
     "output_type": "execute_result"
    }
   ],
   "source": [
    "# Import Libraries\n",
    "import pandas as pd\n",
    "import numpy as np\n",
    "import matplotlib.pyplot as plt\n",
    "import seaborn as sns\n",
    "import re\n",
    "from nltk.stem.porter import PorterStemmer\n",
    "from nltk.stem import WordNetLemmatizer\n",
    "from nltk.corpus import stopwords\n",
    "from sklearn.feature_extraction.text import CountVectorizer, TfidfVectorizer\n",
    "from nltk.tokenize import word_tokenize, RegexpTokenizer\n",
    "import emoji\n",
    "from cleantext import clean\n",
    "\n",
    "sns.set_theme"
   ]
  },
  {
   "cell_type": "code",
   "execution_count": 2,
   "id": "cf8f9576-69b3-44f8-8698-25670d9d3d56",
   "metadata": {},
   "outputs": [
    {
     "name": "stderr",
     "output_type": "stream",
     "text": [
      "C:\\Users\\cherw\\AppData\\Local\\Temp\\ipykernel_6328\\994618823.py:2: DtypeWarning: Columns (86) have mixed types. Specify dtype option on import or set low_memory=False.\n",
      "  ps5_df = pd.read_csv(\"data/ps5.csv\")\n",
      "C:\\Users\\cherw\\AppData\\Local\\Temp\\ipykernel_6328\\994618823.py:3: DtypeWarning: Columns (87) have mixed types. Specify dtype option on import or set low_memory=False.\n",
      "  xbox_df = pd.read_csv(\"data/xbox.csv\")\n"
     ]
    }
   ],
   "source": [
    "# Import dataset\n",
    "ps5_df = pd.read_csv(\"data/ps5.csv\")\n",
    "xbox_df = pd.read_csv(\"data/xbox.csv\")"
   ]
  },
  {
   "cell_type": "code",
   "execution_count": 3,
   "id": "77f1a452-1443-426e-9610-a5646fa1bf7c",
   "metadata": {},
   "outputs": [
    {
     "data": {
      "text/html": [
       "<div>\n",
       "<style scoped>\n",
       "    .dataframe tbody tr th:only-of-type {\n",
       "        vertical-align: middle;\n",
       "    }\n",
       "\n",
       "    .dataframe tbody tr th {\n",
       "        vertical-align: top;\n",
       "    }\n",
       "\n",
       "    .dataframe thead th {\n",
       "        text-align: right;\n",
       "    }\n",
       "</style>\n",
       "<table border=\"1\" class=\"dataframe\">\n",
       "  <thead>\n",
       "    <tr style=\"text-align: right;\">\n",
       "      <th></th>\n",
       "      <th>Unnamed: 0</th>\n",
       "      <th>all_awardings</th>\n",
       "      <th>allow_live_comments</th>\n",
       "      <th>author</th>\n",
       "      <th>author_flair_css_class</th>\n",
       "      <th>author_flair_richtext</th>\n",
       "      <th>author_flair_text</th>\n",
       "      <th>author_flair_type</th>\n",
       "      <th>author_fullname</th>\n",
       "      <th>author_is_blocked</th>\n",
       "      <th>...</th>\n",
       "      <th>crosspost_parent_list</th>\n",
       "      <th>distinguished</th>\n",
       "      <th>media_metadata</th>\n",
       "      <th>banned_by</th>\n",
       "      <th>suggested_sort</th>\n",
       "      <th>discussion_type</th>\n",
       "      <th>call_to_action</th>\n",
       "      <th>category</th>\n",
       "      <th>edited</th>\n",
       "      <th>collections</th>\n",
       "    </tr>\n",
       "  </thead>\n",
       "  <tbody>\n",
       "    <tr>\n",
       "      <th>0</th>\n",
       "      <td>0</td>\n",
       "      <td>[]</td>\n",
       "      <td>False</td>\n",
       "      <td>lowlifectc</td>\n",
       "      <td>NaN</td>\n",
       "      <td>[]</td>\n",
       "      <td>NaN</td>\n",
       "      <td>text</td>\n",
       "      <td>t2_8ts292c3</td>\n",
       "      <td>False</td>\n",
       "      <td>...</td>\n",
       "      <td>NaN</td>\n",
       "      <td>NaN</td>\n",
       "      <td>NaN</td>\n",
       "      <td>NaN</td>\n",
       "      <td>NaN</td>\n",
       "      <td>NaN</td>\n",
       "      <td>NaN</td>\n",
       "      <td>NaN</td>\n",
       "      <td>NaN</td>\n",
       "      <td>NaN</td>\n",
       "    </tr>\n",
       "    <tr>\n",
       "      <th>1</th>\n",
       "      <td>1</td>\n",
       "      <td>[]</td>\n",
       "      <td>False</td>\n",
       "      <td>willdearborn-</td>\n",
       "      <td>NaN</td>\n",
       "      <td>[]</td>\n",
       "      <td>NaN</td>\n",
       "      <td>text</td>\n",
       "      <td>t2_8b1hlted</td>\n",
       "      <td>False</td>\n",
       "      <td>...</td>\n",
       "      <td>NaN</td>\n",
       "      <td>NaN</td>\n",
       "      <td>NaN</td>\n",
       "      <td>NaN</td>\n",
       "      <td>NaN</td>\n",
       "      <td>NaN</td>\n",
       "      <td>NaN</td>\n",
       "      <td>NaN</td>\n",
       "      <td>NaN</td>\n",
       "      <td>NaN</td>\n",
       "    </tr>\n",
       "    <tr>\n",
       "      <th>2</th>\n",
       "      <td>2</td>\n",
       "      <td>[]</td>\n",
       "      <td>False</td>\n",
       "      <td>stvxv</td>\n",
       "      <td>NaN</td>\n",
       "      <td>[]</td>\n",
       "      <td>NaN</td>\n",
       "      <td>text</td>\n",
       "      <td>t2_mfebh2g1</td>\n",
       "      <td>False</td>\n",
       "      <td>...</td>\n",
       "      <td>NaN</td>\n",
       "      <td>NaN</td>\n",
       "      <td>NaN</td>\n",
       "      <td>NaN</td>\n",
       "      <td>NaN</td>\n",
       "      <td>NaN</td>\n",
       "      <td>NaN</td>\n",
       "      <td>NaN</td>\n",
       "      <td>NaN</td>\n",
       "      <td>NaN</td>\n",
       "    </tr>\n",
       "    <tr>\n",
       "      <th>3</th>\n",
       "      <td>3</td>\n",
       "      <td>[]</td>\n",
       "      <td>False</td>\n",
       "      <td>darkexistor</td>\n",
       "      <td>NaN</td>\n",
       "      <td>[]</td>\n",
       "      <td>NaN</td>\n",
       "      <td>text</td>\n",
       "      <td>t2_5z5018j7</td>\n",
       "      <td>False</td>\n",
       "      <td>...</td>\n",
       "      <td>NaN</td>\n",
       "      <td>NaN</td>\n",
       "      <td>NaN</td>\n",
       "      <td>NaN</td>\n",
       "      <td>NaN</td>\n",
       "      <td>NaN</td>\n",
       "      <td>NaN</td>\n",
       "      <td>NaN</td>\n",
       "      <td>NaN</td>\n",
       "      <td>NaN</td>\n",
       "    </tr>\n",
       "    <tr>\n",
       "      <th>4</th>\n",
       "      <td>4</td>\n",
       "      <td>[]</td>\n",
       "      <td>False</td>\n",
       "      <td>ItsNaws</td>\n",
       "      <td>NaN</td>\n",
       "      <td>[]</td>\n",
       "      <td>NaN</td>\n",
       "      <td>text</td>\n",
       "      <td>t2_mwboj532</td>\n",
       "      <td>False</td>\n",
       "      <td>...</td>\n",
       "      <td>NaN</td>\n",
       "      <td>NaN</td>\n",
       "      <td>NaN</td>\n",
       "      <td>NaN</td>\n",
       "      <td>NaN</td>\n",
       "      <td>NaN</td>\n",
       "      <td>NaN</td>\n",
       "      <td>NaN</td>\n",
       "      <td>NaN</td>\n",
       "      <td>NaN</td>\n",
       "    </tr>\n",
       "  </tbody>\n",
       "</table>\n",
       "<p>5 rows × 87 columns</p>\n",
       "</div>"
      ],
      "text/plain": [
       "   Unnamed: 0 all_awardings  allow_live_comments         author  \\\n",
       "0           0            []                False     lowlifectc   \n",
       "1           1            []                False  willdearborn-   \n",
       "2           2            []                False          stvxv   \n",
       "3           3            []                False    darkexistor   \n",
       "4           4            []                False        ItsNaws   \n",
       "\n",
       "  author_flair_css_class author_flair_richtext author_flair_text  \\\n",
       "0                    NaN                    []               NaN   \n",
       "1                    NaN                    []               NaN   \n",
       "2                    NaN                    []               NaN   \n",
       "3                    NaN                    []               NaN   \n",
       "4                    NaN                    []               NaN   \n",
       "\n",
       "  author_flair_type author_fullname  author_is_blocked  ...  \\\n",
       "0              text     t2_8ts292c3              False  ...   \n",
       "1              text     t2_8b1hlted              False  ...   \n",
       "2              text     t2_mfebh2g1              False  ...   \n",
       "3              text     t2_5z5018j7              False  ...   \n",
       "4              text     t2_mwboj532              False  ...   \n",
       "\n",
       "  crosspost_parent_list distinguished media_metadata  banned_by  \\\n",
       "0                   NaN           NaN            NaN        NaN   \n",
       "1                   NaN           NaN            NaN        NaN   \n",
       "2                   NaN           NaN            NaN        NaN   \n",
       "3                   NaN           NaN            NaN        NaN   \n",
       "4                   NaN           NaN            NaN        NaN   \n",
       "\n",
       "   suggested_sort  discussion_type call_to_action category edited collections  \n",
       "0             NaN              NaN            NaN      NaN    NaN         NaN  \n",
       "1             NaN              NaN            NaN      NaN    NaN         NaN  \n",
       "2             NaN              NaN            NaN      NaN    NaN         NaN  \n",
       "3             NaN              NaN            NaN      NaN    NaN         NaN  \n",
       "4             NaN              NaN            NaN      NaN    NaN         NaN  \n",
       "\n",
       "[5 rows x 87 columns]"
      ]
     },
     "execution_count": 3,
     "metadata": {},
     "output_type": "execute_result"
    }
   ],
   "source": [
    "ps5_df.head()"
   ]
  },
  {
   "cell_type": "code",
   "execution_count": 4,
   "id": "1417d8be-15d6-4cbe-9128-152a7711ff5f",
   "metadata": {},
   "outputs": [
    {
     "data": {
      "text/html": [
       "<div>\n",
       "<style scoped>\n",
       "    .dataframe tbody tr th:only-of-type {\n",
       "        vertical-align: middle;\n",
       "    }\n",
       "\n",
       "    .dataframe tbody tr th {\n",
       "        vertical-align: top;\n",
       "    }\n",
       "\n",
       "    .dataframe thead th {\n",
       "        text-align: right;\n",
       "    }\n",
       "</style>\n",
       "<table border=\"1\" class=\"dataframe\">\n",
       "  <thead>\n",
       "    <tr style=\"text-align: right;\">\n",
       "      <th></th>\n",
       "      <th>Unnamed: 0</th>\n",
       "      <th>all_awardings</th>\n",
       "      <th>allow_live_comments</th>\n",
       "      <th>author</th>\n",
       "      <th>author_flair_css_class</th>\n",
       "      <th>author_flair_richtext</th>\n",
       "      <th>author_flair_text</th>\n",
       "      <th>author_flair_type</th>\n",
       "      <th>author_fullname</th>\n",
       "      <th>author_is_blocked</th>\n",
       "      <th>...</th>\n",
       "      <th>collections</th>\n",
       "      <th>poll_data</th>\n",
       "      <th>distinguished</th>\n",
       "      <th>discussion_type</th>\n",
       "      <th>tournament_data</th>\n",
       "      <th>call_to_action</th>\n",
       "      <th>category</th>\n",
       "      <th>edited</th>\n",
       "      <th>crosspost_parent</th>\n",
       "      <th>crosspost_parent_list</th>\n",
       "    </tr>\n",
       "  </thead>\n",
       "  <tbody>\n",
       "    <tr>\n",
       "      <th>0</th>\n",
       "      <td>0</td>\n",
       "      <td>[]</td>\n",
       "      <td>False</td>\n",
       "      <td>OchoaJuan2004</td>\n",
       "      <td>NaN</td>\n",
       "      <td>[]</td>\n",
       "      <td>NaN</td>\n",
       "      <td>text</td>\n",
       "      <td>t2_55m20ag7</td>\n",
       "      <td>False</td>\n",
       "      <td>...</td>\n",
       "      <td>NaN</td>\n",
       "      <td>NaN</td>\n",
       "      <td>NaN</td>\n",
       "      <td>NaN</td>\n",
       "      <td>NaN</td>\n",
       "      <td>NaN</td>\n",
       "      <td>NaN</td>\n",
       "      <td>NaN</td>\n",
       "      <td>NaN</td>\n",
       "      <td>NaN</td>\n",
       "    </tr>\n",
       "    <tr>\n",
       "      <th>1</th>\n",
       "      <td>1</td>\n",
       "      <td>[]</td>\n",
       "      <td>False</td>\n",
       "      <td>Aggravating-Credit95</td>\n",
       "      <td>NaN</td>\n",
       "      <td>[]</td>\n",
       "      <td>NaN</td>\n",
       "      <td>text</td>\n",
       "      <td>t2_cflg5v8x</td>\n",
       "      <td>False</td>\n",
       "      <td>...</td>\n",
       "      <td>NaN</td>\n",
       "      <td>NaN</td>\n",
       "      <td>NaN</td>\n",
       "      <td>NaN</td>\n",
       "      <td>NaN</td>\n",
       "      <td>NaN</td>\n",
       "      <td>NaN</td>\n",
       "      <td>NaN</td>\n",
       "      <td>NaN</td>\n",
       "      <td>NaN</td>\n",
       "    </tr>\n",
       "    <tr>\n",
       "      <th>2</th>\n",
       "      <td>2</td>\n",
       "      <td>[]</td>\n",
       "      <td>False</td>\n",
       "      <td>timmy-failure</td>\n",
       "      <td>NaN</td>\n",
       "      <td>[]</td>\n",
       "      <td>NaN</td>\n",
       "      <td>text</td>\n",
       "      <td>t2_2n88e3am</td>\n",
       "      <td>False</td>\n",
       "      <td>...</td>\n",
       "      <td>NaN</td>\n",
       "      <td>NaN</td>\n",
       "      <td>NaN</td>\n",
       "      <td>NaN</td>\n",
       "      <td>NaN</td>\n",
       "      <td>NaN</td>\n",
       "      <td>NaN</td>\n",
       "      <td>NaN</td>\n",
       "      <td>NaN</td>\n",
       "      <td>NaN</td>\n",
       "    </tr>\n",
       "    <tr>\n",
       "      <th>3</th>\n",
       "      <td>3</td>\n",
       "      <td>[]</td>\n",
       "      <td>False</td>\n",
       "      <td>lilgingabredd</td>\n",
       "      <td>NaN</td>\n",
       "      <td>[]</td>\n",
       "      <td>NaN</td>\n",
       "      <td>text</td>\n",
       "      <td>t2_6wkbgmtx</td>\n",
       "      <td>False</td>\n",
       "      <td>...</td>\n",
       "      <td>NaN</td>\n",
       "      <td>NaN</td>\n",
       "      <td>NaN</td>\n",
       "      <td>NaN</td>\n",
       "      <td>NaN</td>\n",
       "      <td>NaN</td>\n",
       "      <td>NaN</td>\n",
       "      <td>NaN</td>\n",
       "      <td>NaN</td>\n",
       "      <td>NaN</td>\n",
       "    </tr>\n",
       "    <tr>\n",
       "      <th>4</th>\n",
       "      <td>4</td>\n",
       "      <td>[]</td>\n",
       "      <td>False</td>\n",
       "      <td>Mocti_54</td>\n",
       "      <td>NaN</td>\n",
       "      <td>[]</td>\n",
       "      <td>NaN</td>\n",
       "      <td>text</td>\n",
       "      <td>t2_58wvgb04</td>\n",
       "      <td>False</td>\n",
       "      <td>...</td>\n",
       "      <td>NaN</td>\n",
       "      <td>NaN</td>\n",
       "      <td>NaN</td>\n",
       "      <td>NaN</td>\n",
       "      <td>NaN</td>\n",
       "      <td>NaN</td>\n",
       "      <td>NaN</td>\n",
       "      <td>NaN</td>\n",
       "      <td>NaN</td>\n",
       "      <td>NaN</td>\n",
       "    </tr>\n",
       "  </tbody>\n",
       "</table>\n",
       "<p>5 rows × 93 columns</p>\n",
       "</div>"
      ],
      "text/plain": [
       "   Unnamed: 0 all_awardings  allow_live_comments                author  \\\n",
       "0           0            []                False         OchoaJuan2004   \n",
       "1           1            []                False  Aggravating-Credit95   \n",
       "2           2            []                False         timmy-failure   \n",
       "3           3            []                False         lilgingabredd   \n",
       "4           4            []                False              Mocti_54   \n",
       "\n",
       "   author_flair_css_class author_flair_richtext author_flair_text  \\\n",
       "0                     NaN                    []               NaN   \n",
       "1                     NaN                    []               NaN   \n",
       "2                     NaN                    []               NaN   \n",
       "3                     NaN                    []               NaN   \n",
       "4                     NaN                    []               NaN   \n",
       "\n",
       "  author_flair_type author_fullname  author_is_blocked  ... collections  \\\n",
       "0              text     t2_55m20ag7              False  ...         NaN   \n",
       "1              text     t2_cflg5v8x              False  ...         NaN   \n",
       "2              text     t2_2n88e3am              False  ...         NaN   \n",
       "3              text     t2_6wkbgmtx              False  ...         NaN   \n",
       "4              text     t2_58wvgb04              False  ...         NaN   \n",
       "\n",
       "  poll_data distinguished  discussion_type  tournament_data  call_to_action  \\\n",
       "0       NaN           NaN              NaN              NaN             NaN   \n",
       "1       NaN           NaN              NaN              NaN             NaN   \n",
       "2       NaN           NaN              NaN              NaN             NaN   \n",
       "3       NaN           NaN              NaN              NaN             NaN   \n",
       "4       NaN           NaN              NaN              NaN             NaN   \n",
       "\n",
       "  category edited crosspost_parent crosspost_parent_list  \n",
       "0      NaN    NaN              NaN                   NaN  \n",
       "1      NaN    NaN              NaN                   NaN  \n",
       "2      NaN    NaN              NaN                   NaN  \n",
       "3      NaN    NaN              NaN                   NaN  \n",
       "4      NaN    NaN              NaN                   NaN  \n",
       "\n",
       "[5 rows x 93 columns]"
      ]
     },
     "execution_count": 4,
     "metadata": {},
     "output_type": "execute_result"
    }
   ],
   "source": [
    "xbox_df.head()"
   ]
  },
  {
   "cell_type": "markdown",
   "id": "98b9249b-6bad-4602-aad8-ca70fb1c8927",
   "metadata": {},
   "source": [
    "We will use the title, subreddit and created date for our analysis"
   ]
  },
  {
   "cell_type": "code",
   "execution_count": 5,
   "id": "2da2297c-b865-4b8a-8e3d-ad5ab2289fdc",
   "metadata": {},
   "outputs": [],
   "source": [
    "ps5_text_df = ps5_df[['subreddit', 'title', 'created_utc']]"
   ]
  },
  {
   "cell_type": "code",
   "execution_count": 6,
   "id": "f420693c-e212-49b2-859f-82343bdc0f41",
   "metadata": {},
   "outputs": [],
   "source": [
    "xbox_text_df = xbox_df[['subreddit', 'title',  'created_utc']]"
   ]
  },
  {
   "cell_type": "code",
   "execution_count": 7,
   "id": "64cd76b7-c6e3-4e37-b8e4-fae0f390eccd",
   "metadata": {},
   "outputs": [
    {
     "name": "stdout",
     "output_type": "stream",
     "text": [
      "<class 'pandas.core.frame.DataFrame'>\n",
      "RangeIndex: 14986 entries, 0 to 14985\n",
      "Data columns (total 3 columns):\n",
      " #   Column       Non-Null Count  Dtype \n",
      "---  ------       --------------  ----- \n",
      " 0   subreddit    14986 non-null  object\n",
      " 1   title        14986 non-null  object\n",
      " 2   created_utc  14986 non-null  int64 \n",
      "dtypes: int64(1), object(2)\n",
      "memory usage: 351.4+ KB\n"
     ]
    }
   ],
   "source": [
    "ps5_text_df.info()"
   ]
  },
  {
   "cell_type": "markdown",
   "id": "8281ef4e-792c-42c7-8cff-0f2d1f2b7b8d",
   "metadata": {},
   "source": [
    "There are no Null values for the PS5 dataset"
   ]
  },
  {
   "cell_type": "code",
   "execution_count": 8,
   "id": "534b3045-ae41-41e4-8b4b-cf7b5227e0f5",
   "metadata": {},
   "outputs": [
    {
     "data": {
      "text/html": [
       "<div>\n",
       "<style scoped>\n",
       "    .dataframe tbody tr th:only-of-type {\n",
       "        vertical-align: middle;\n",
       "    }\n",
       "\n",
       "    .dataframe tbody tr th {\n",
       "        vertical-align: top;\n",
       "    }\n",
       "\n",
       "    .dataframe thead th {\n",
       "        text-align: right;\n",
       "    }\n",
       "</style>\n",
       "<table border=\"1\" class=\"dataframe\">\n",
       "  <thead>\n",
       "    <tr style=\"text-align: right;\">\n",
       "      <th></th>\n",
       "      <th>subreddit</th>\n",
       "      <th>title</th>\n",
       "      <th>created_utc</th>\n",
       "    </tr>\n",
       "  </thead>\n",
       "  <tbody>\n",
       "    <tr>\n",
       "      <th>0</th>\n",
       "      <td>PS5</td>\n",
       "      <td>How did yall get your ps5s?</td>\n",
       "      <td>1656026890</td>\n",
       "    </tr>\n",
       "    <tr>\n",
       "      <th>1</th>\n",
       "      <td>PS5</td>\n",
       "      <td>PS5 Horizon Bundle still in stock on PS Direct</td>\n",
       "      <td>1656026393</td>\n",
       "    </tr>\n",
       "    <tr>\n",
       "      <th>2</th>\n",
       "      <td>PS5</td>\n",
       "      <td>Ps5 doesn’t work</td>\n",
       "      <td>1656024401</td>\n",
       "    </tr>\n",
       "    <tr>\n",
       "      <th>3</th>\n",
       "      <td>PS5</td>\n",
       "      <td>VRR support for HDMI 1.4...</td>\n",
       "      <td>1656023983</td>\n",
       "    </tr>\n",
       "    <tr>\n",
       "      <th>4</th>\n",
       "      <td>PS5</td>\n",
       "      <td>Slow download speeds?</td>\n",
       "      <td>1656023471</td>\n",
       "    </tr>\n",
       "  </tbody>\n",
       "</table>\n",
       "</div>"
      ],
      "text/plain": [
       "  subreddit                                           title  created_utc\n",
       "0       PS5                     How did yall get your ps5s?   1656026890\n",
       "1       PS5  PS5 Horizon Bundle still in stock on PS Direct   1656026393\n",
       "2       PS5                                Ps5 doesn’t work   1656024401\n",
       "3       PS5                     VRR support for HDMI 1.4...   1656023983\n",
       "4       PS5                           Slow download speeds?   1656023471"
      ]
     },
     "execution_count": 8,
     "metadata": {},
     "output_type": "execute_result"
    }
   ],
   "source": [
    "ps5_text_df.head()"
   ]
  },
  {
   "cell_type": "code",
   "execution_count": 9,
   "id": "a2b281f0-a25e-4ac1-b02d-d9b160389c3b",
   "metadata": {},
   "outputs": [
    {
     "name": "stdout",
     "output_type": "stream",
     "text": [
      "<class 'pandas.core.frame.DataFrame'>\n",
      "RangeIndex: 14996 entries, 0 to 14995\n",
      "Data columns (total 3 columns):\n",
      " #   Column       Non-Null Count  Dtype \n",
      "---  ------       --------------  ----- \n",
      " 0   subreddit    14996 non-null  object\n",
      " 1   title        14996 non-null  object\n",
      " 2   created_utc  14996 non-null  int64 \n",
      "dtypes: int64(1), object(2)\n",
      "memory usage: 351.6+ KB\n"
     ]
    }
   ],
   "source": [
    "xbox_text_df.info()"
   ]
  },
  {
   "cell_type": "markdown",
   "id": "8dfc3121-6e11-45d3-a55c-3c6bc3ba5f0d",
   "metadata": {},
   "source": [
    "There are no Null values for the Xbox dataset"
   ]
  },
  {
   "cell_type": "code",
   "execution_count": 10,
   "id": "50f2fe5c-d2d8-4dfc-8832-7d4e356fb7d4",
   "metadata": {},
   "outputs": [
    {
     "data": {
      "text/html": [
       "<div>\n",
       "<style scoped>\n",
       "    .dataframe tbody tr th:only-of-type {\n",
       "        vertical-align: middle;\n",
       "    }\n",
       "\n",
       "    .dataframe tbody tr th {\n",
       "        vertical-align: top;\n",
       "    }\n",
       "\n",
       "    .dataframe thead th {\n",
       "        text-align: right;\n",
       "    }\n",
       "</style>\n",
       "<table border=\"1\" class=\"dataframe\">\n",
       "  <thead>\n",
       "    <tr style=\"text-align: right;\">\n",
       "      <th></th>\n",
       "      <th>subreddit</th>\n",
       "      <th>title</th>\n",
       "      <th>created_utc</th>\n",
       "    </tr>\n",
       "  </thead>\n",
       "  <tbody>\n",
       "    <tr>\n",
       "      <th>0</th>\n",
       "      <td>XboxSeriesX</td>\n",
       "      <td>anyone know how to fix this?</td>\n",
       "      <td>1656028695</td>\n",
       "    </tr>\n",
       "    <tr>\n",
       "      <th>1</th>\n",
       "      <td>XboxSeriesX</td>\n",
       "      <td>Resident Evil Disc</td>\n",
       "      <td>1656028592</td>\n",
       "    </tr>\n",
       "    <tr>\n",
       "      <th>2</th>\n",
       "      <td>XboxSeriesX</td>\n",
       "      <td>Xbox has released a teaser for their fictional...</td>\n",
       "      <td>1656028539</td>\n",
       "    </tr>\n",
       "    <tr>\n",
       "      <th>3</th>\n",
       "      <td>XboxSeriesX</td>\n",
       "      <td>!!!</td>\n",
       "      <td>1656027959</td>\n",
       "    </tr>\n",
       "    <tr>\n",
       "      <th>4</th>\n",
       "      <td>XboxSeriesX</td>\n",
       "      <td>I'm finally getting a 4k TV what do I install?</td>\n",
       "      <td>1656027813</td>\n",
       "    </tr>\n",
       "  </tbody>\n",
       "</table>\n",
       "</div>"
      ],
      "text/plain": [
       "     subreddit                                              title  created_utc\n",
       "0  XboxSeriesX                       anyone know how to fix this?   1656028695\n",
       "1  XboxSeriesX                                 Resident Evil Disc   1656028592\n",
       "2  XboxSeriesX  Xbox has released a teaser for their fictional...   1656028539\n",
       "3  XboxSeriesX                                                !!!   1656027959\n",
       "4  XboxSeriesX     I'm finally getting a 4k TV what do I install?   1656027813"
      ]
     },
     "execution_count": 10,
     "metadata": {},
     "output_type": "execute_result"
    }
   ],
   "source": [
    "xbox_text_df.head()"
   ]
  },
  {
   "cell_type": "markdown",
   "id": "156bceee-9cac-46e1-bbb7-bf161d70d1b0",
   "metadata": {},
   "source": [
    "## PS5 top words"
   ]
  },
  {
   "cell_type": "markdown",
   "id": "357e7e5a-edd9-413c-ae6e-47c353bc2724",
   "metadata": {},
   "source": [
    "### Unigram"
   ]
  },
  {
   "cell_type": "markdown",
   "id": "a2107cf8-3431-4de0-9a53-0fb47c275c02",
   "metadata": {},
   "source": [
    "**Count Vectorizer**"
   ]
  },
  {
   "cell_type": "code",
   "execution_count": 11,
   "id": "ff899cc3-a973-43db-9f2d-8111754debbb",
   "metadata": {},
   "outputs": [],
   "source": [
    "cvec = CountVectorizer(stop_words = 'english')\n",
    "ps5_cvec = pd.DataFrame(\n",
    "    cvec.fit_transform(ps5_text_df['title']).todense(),\n",
    "    columns = cvec.get_feature_names()\n",
    ")"
   ]
  },
  {
   "cell_type": "code",
   "execution_count": 12,
   "id": "43b23565-c9b7-4340-897a-37855cff7c3a",
   "metadata": {},
   "outputs": [
    {
     "data": {
      "text/plain": [
       "10479"
      ]
     },
     "execution_count": 12,
     "metadata": {},
     "output_type": "execute_result"
    }
   ],
   "source": [
    "len(ps5_cvec.columns)"
   ]
  },
  {
   "cell_type": "markdown",
   "id": "e547c7e0-1a00-4b80-b8db-59bff42498cd",
   "metadata": {},
   "source": [
    "There are 10479 unique words in the ps5 corpus"
   ]
  },
  {
   "cell_type": "code",
   "execution_count": 13,
   "id": "a9f3a409-3904-44db-b3f2-3b7a04786d1d",
   "metadata": {},
   "outputs": [],
   "source": [
    "ps5_word_count = ps5_cvec.sum().sort_values(ascending=False)"
   ]
  },
  {
   "cell_type": "code",
   "execution_count": 14,
   "id": "54e53578-f29e-4131-9004-77a604e729bd",
   "metadata": {},
   "outputs": [],
   "source": [
    "ps5_top_20 = ps5_word_count[:20]"
   ]
  },
  {
   "cell_type": "code",
   "execution_count": 15,
   "id": "16cd3905-347a-40a8-8885-042bbddfbb4f",
   "metadata": {},
   "outputs": [
    {
     "data": {
      "image/png": "[encoded data removed]",
      "text/plain": [
       "<Figure size 432x288 with 1 Axes>"
      ]
     },
     "metadata": {
      "needs_background": "light"
     },
     "output_type": "display_data"
    }
   ],
   "source": [
    "sns.barplot(x=ps5_top_20.values, y=ps5_top_20.index)\n",
    "plt.title('PS5 Top Words')\n",
    "plt.show()"
   ]
  },
  {
   "cell_type": "markdown",
   "id": "dd4db6ae-186f-404f-a0c6-bb2d10b6fe08",
   "metadata": {},
   "source": [
    "Most of the top words are what we expect to be attributed to PS5 - playstation, sony, etc"
   ]
  },
  {
   "cell_type": "code",
   "execution_count": 16,
   "id": "c37760ba-2a9a-45e4-b7aa-9905eedbce0f",
   "metadata": {},
   "outputs": [],
   "source": [
    "ps5_bot_20 = ps5_word_count[ps5_word_count == 1]"
   ]
  },
  {
   "cell_type": "code",
   "execution_count": 17,
   "id": "176d7c3b-5408-412e-b81c-3f9004d2d4b1",
   "metadata": {},
   "outputs": [
    {
     "data": {
      "text/plain": [
       "4925"
      ]
     },
     "execution_count": 17,
     "metadata": {},
     "output_type": "execute_result"
    }
   ],
   "source": [
    "len(ps5_bot_20)"
   ]
  },
  {
   "cell_type": "markdown",
   "id": "cafa9d3f-fcd6-43ef-a2be-e7d84bfcd157",
   "metadata": {},
   "source": [
    "4925 of the words appeared only once in the corpus"
   ]
  },
  {
   "cell_type": "markdown",
   "id": "34a02bc2-a598-4e53-a1cb-bf50c9c9dd6a",
   "metadata": {},
   "source": [
    "**TF-IDF Vectorizer**"
   ]
  },
  {
   "cell_type": "markdown",
   "id": "61c46b77-c0cb-4da4-bfa2-f4c36d6f7834",
   "metadata": {},
   "source": [
    "We will use the TF-IDF to identify words that are important"
   ]
  },
  {
   "cell_type": "code",
   "execution_count": 18,
   "id": "f5f62e58-e7ba-4e16-996e-34bb4c9cc467",
   "metadata": {},
   "outputs": [],
   "source": [
    "tvec = TfidfVectorizer(stop_words = 'english')\n",
    "ps5_tvec = pd.DataFrame(\n",
    "    tvec.fit_transform(ps5_text_df['title']).todense(),\n",
    "    columns = tvec.get_feature_names()\n",
    ")"
   ]
  },
  {
   "cell_type": "code",
   "execution_count": 19,
   "id": "1105b855-a150-43cd-95d3-2a52628826c8",
   "metadata": {},
   "outputs": [],
   "source": [
    "ps5_word_tfidf = ps5_tvec.sum().sort_values(ascending=False)"
   ]
  },
  {
   "cell_type": "code",
   "execution_count": 20,
   "id": "264435fe-c9f6-444f-9611-5269e1652c22",
   "metadata": {},
   "outputs": [],
   "source": [
    "ps5_top_20_tfidf = ps5_word_tfidf[:20]"
   ]
  },
  {
   "cell_type": "code",
   "execution_count": 21,
   "id": "9ce5e8b2-9f9b-48b7-8a76-54db2947d976",
   "metadata": {},
   "outputs": [
    {
     "data": {
      "image/png": "[encoded data removed]",
      "text/plain": [
       "<Figure size 432x288 with 1 Axes>"
      ]
     },
     "metadata": {
      "needs_background": "light"
     },
     "output_type": "display_data"
    }
   ],
   "source": [
    "sns.barplot(x=ps5_top_20_tfidf.values, y=ps5_top_20_tfidf.index)\n",
    "plt.title('PS5 Top Words - TFIDF')\n",
    "plt.show()"
   ]
  },
  {
   "cell_type": "markdown",
   "id": "2896b8bd-7791-4e95-bb93-362db6f61793",
   "metadata": {},
   "source": [
    "Most of the top TF-IDF words are similar to the most frequent words"
   ]
  },
  {
   "cell_type": "markdown",
   "id": "7248d525-463a-481f-9a71-ee2b1c51a8e1",
   "metadata": {},
   "source": [
    "### Bigram"
   ]
  },
  {
   "cell_type": "code",
   "execution_count": 22,
   "id": "30bfd0fb-1fe8-44b4-9df8-83fb818cb6b6",
   "metadata": {},
   "outputs": [],
   "source": [
    "cvec = CountVectorizer(stop_words = 'english', ngram_range=(2,2))\n",
    "ps5_cvec = pd.DataFrame(\n",
    "    cvec.fit_transform(ps5_text_df['title']).todense(),\n",
    "    columns = cvec.get_feature_names()\n",
    ")"
   ]
  },
  {
   "cell_type": "code",
   "execution_count": 23,
   "id": "e75dc4ec-4a72-4172-b5f9-eb840061b158",
   "metadata": {},
   "outputs": [],
   "source": [
    "ps5_word_count_bi = ps5_cvec.sum().sort_values(ascending=False)"
   ]
  },
  {
   "cell_type": "code",
   "execution_count": 24,
   "id": "2db3fecb-d842-4787-b1f2-7722027a9165",
   "metadata": {},
   "outputs": [],
   "source": [
    "ps5_top_20_bi = ps5_word_count_bi[:20]"
   ]
  },
  {
   "cell_type": "code",
   "execution_count": 25,
   "id": "6df7c7f4-b6b8-4a3c-9ef5-69847378665f",
   "metadata": {},
   "outputs": [
    {
     "data": {
      "image/png": "[encoded data removed]",
      "text/plain": [
       "<Figure size 432x288 with 1 Axes>"
      ]
     },
     "metadata": {
      "needs_background": "light"
     },
     "output_type": "display_data"
    }
   ],
   "source": [
    "sns.barplot(x=ps5_top_20_bi.values, y=ps5_top_20_bi.index)\n",
    "plt.title('PS5 Top Words - Bigram')\n",
    "plt.show()"
   ]
  },
  {
   "cell_type": "markdown",
   "id": "1ca90a87-74cb-49c5-965f-174a4d4dbf91",
   "metadata": {},
   "source": [
    "Top bigram words for PS5 are \n",
    "- PS Plus - subscription service\n",
    "- Games such as Elden Ring, Final Fantasy, Horizon Forbidden West\n",
    "- PS5 Controller \n",
    "\n",
    "These are indicative of the topics of interest"
   ]
  },
  {
   "cell_type": "code",
   "execution_count": 26,
   "id": "de0c9753-2c34-4e2d-ad87-e5ad8447f0cb",
   "metadata": {},
   "outputs": [],
   "source": [
    "tvec = TfidfVectorizer(stop_words = 'english', ngram_range=(2,2))\n",
    "ps5_tvec = pd.DataFrame(\n",
    "    tvec.fit_transform(ps5_text_df['title']).todense(),\n",
    "    columns = tvec.get_feature_names()\n",
    ")"
   ]
  },
  {
   "cell_type": "code",
   "execution_count": 27,
   "id": "03f6ce3b-fb89-4710-a0ec-080e7ab15ee5",
   "metadata": {},
   "outputs": [],
   "source": [
    "ps5_word_tfidf_bi = ps5_tvec.sum().sort_values(ascending=False)"
   ]
  },
  {
   "cell_type": "code",
   "execution_count": 28,
   "id": "110cb8b4-74a8-4bf1-90b0-6e0f67d6cab8",
   "metadata": {},
   "outputs": [],
   "source": [
    "ps5_top_20_tfidf_bi = ps5_word_tfidf_bi[:20]"
   ]
  },
  {
   "cell_type": "code",
   "execution_count": 29,
   "id": "788960b8-8a38-4f3a-9443-ce7b7d12a84f",
   "metadata": {},
   "outputs": [
    {
     "data": {
      "image/png": "[encoded data removed]",
      "text/plain": [
       "<Figure size 432x288 with 1 Axes>"
      ]
     },
     "metadata": {
      "needs_background": "light"
     },
     "output_type": "display_data"
    }
   ],
   "source": [
    "sns.barplot(x=ps5_top_20_tfidf_bi.values, y=ps5_top_20_tfidf_bi.index)\n",
    "plt.title('PS5 Top Words - TF-IDF Bigram')\n",
    "plt.show()"
   ]
  },
  {
   "cell_type": "markdown",
   "id": "03f39f2f-209c-476a-b90c-f453a9f301ce",
   "metadata": {},
   "source": [
    "Most of the top TF-IDF words are similar to the most frequent words"
   ]
  },
  {
   "cell_type": "markdown",
   "id": "b9ddc17b-79a0-4731-8994-15e94d155b68",
   "metadata": {},
   "source": [
    "## Xbox top words"
   ]
  },
  {
   "cell_type": "markdown",
   "id": "3dc364a9-4fe3-4b4e-9c7d-881ffe4af66a",
   "metadata": {},
   "source": [
    "### Unigram"
   ]
  },
  {
   "cell_type": "markdown",
   "id": "22e6ee37-71b1-4946-928a-762db63cac75",
   "metadata": {},
   "source": [
    "**Count Vectorizer**"
   ]
  },
  {
   "cell_type": "code",
   "execution_count": 30,
   "id": "63bc206b-a34a-473e-b71e-6f7803edf434",
   "metadata": {},
   "outputs": [],
   "source": [
    "cvec = CountVectorizer(stop_words = 'english')\n",
    "xbox_cvec = pd.DataFrame(\n",
    "    cvec.fit_transform(xbox_text_df['title']).todense(),\n",
    "    columns = cvec.get_feature_names()\n",
    ")"
   ]
  },
  {
   "cell_type": "code",
   "execution_count": 31,
   "id": "3413076d-49ee-4a6a-a203-8798585609ae",
   "metadata": {},
   "outputs": [
    {
     "data": {
      "text/plain": [
       "10003"
      ]
     },
     "execution_count": 31,
     "metadata": {},
     "output_type": "execute_result"
    }
   ],
   "source": [
    "len(xbox_cvec.columns)"
   ]
  },
  {
   "cell_type": "markdown",
   "id": "bcc1952e-e647-4f28-acaa-b20a8b1d9f6a",
   "metadata": {},
   "source": [
    "There are 10003 unique words in the Xbox corpus"
   ]
  },
  {
   "cell_type": "code",
   "execution_count": 32,
   "id": "7c1a0956-588a-4a19-b175-d3e2571ad4e9",
   "metadata": {},
   "outputs": [],
   "source": [
    "xbox_word_count = xbox_cvec.sum().sort_values(ascending=False)"
   ]
  },
  {
   "cell_type": "code",
   "execution_count": 33,
   "id": "aa252f08-61e5-4dd4-ae44-5eb4eb97586d",
   "metadata": {},
   "outputs": [],
   "source": [
    "xbox_top_20 = xbox_word_count[:20]"
   ]
  },
  {
   "cell_type": "code",
   "execution_count": 34,
   "id": "5c05d738-89e2-4774-8707-4f20ce80395b",
   "metadata": {},
   "outputs": [
    {
     "data": {
      "image/png": "[encoded data removed]",
      "text/plain": [
       "<Figure size 432x288 with 1 Axes>"
      ]
     },
     "metadata": {
      "needs_background": "light"
     },
     "output_type": "display_data"
    }
   ],
   "source": [
    "sns.barplot(x=xbox_top_20.values, y=xbox_top_20.index)\n",
    "plt.title('Xbox Top Words')\n",
    "plt.show()"
   ]
  },
  {
   "cell_type": "markdown",
   "id": "449e3a15-5fba-4d8e-89b9-b46aba993cb0",
   "metadata": {},
   "source": [
    "Most of the top words are what we expect to be attributed to Xbox - Xbox Series X, microsoft, gamepass, etc"
   ]
  },
  {
   "cell_type": "code",
   "execution_count": 35,
   "id": "8d9ec3ce-37ff-43e5-90a5-8e835c20f491",
   "metadata": {},
   "outputs": [],
   "source": [
    "xbox_bot = xbox_word_count[xbox_word_count == 1]"
   ]
  },
  {
   "cell_type": "code",
   "execution_count": 36,
   "id": "042b116b-ed2f-419a-b62a-341a820202c1",
   "metadata": {},
   "outputs": [
    {
     "data": {
      "text/plain": [
       "4787"
      ]
     },
     "execution_count": 36,
     "metadata": {},
     "output_type": "execute_result"
    }
   ],
   "source": [
    "len(xbox_bot)"
   ]
  },
  {
   "cell_type": "markdown",
   "id": "30c5ba70-9005-4685-9d23-2e218e9cc824",
   "metadata": {},
   "source": [
    "4787 of the words appeared only once in the corpus"
   ]
  },
  {
   "cell_type": "markdown",
   "id": "d5161400-49de-4da9-b59d-efd9d8318167",
   "metadata": {},
   "source": [
    "**TF-IDF Vectorizer**"
   ]
  },
  {
   "cell_type": "code",
   "execution_count": 37,
   "id": "ebc58004-e2fa-4284-b41f-21c4ff636a50",
   "metadata": {},
   "outputs": [],
   "source": [
    "tvec = TfidfVectorizer(stop_words = 'english', ngram_range=(1,1))\n",
    "xbox_tvec = pd.DataFrame(\n",
    "    tvec.fit_transform(xbox_text_df['title']).todense(),\n",
    "    columns = tvec.get_feature_names()\n",
    ")"
   ]
  },
  {
   "cell_type": "code",
   "execution_count": 38,
   "id": "d3408e08-d430-44b4-b917-b9d68bb216f1",
   "metadata": {},
   "outputs": [],
   "source": [
    "xbox_word_count_tfidf = xbox_tvec.sum().sort_values(ascending=False)"
   ]
  },
  {
   "cell_type": "code",
   "execution_count": 39,
   "id": "bbec86b6-98c5-4413-b242-995cda9e7573",
   "metadata": {},
   "outputs": [],
   "source": [
    "xbox_top_20_tfidf = xbox_word_count_tfidf[:20]"
   ]
  },
  {
   "cell_type": "code",
   "execution_count": 40,
   "id": "3765f9e8-1676-44fa-9c05-c238b7fe2c44",
   "metadata": {},
   "outputs": [
    {
     "data": {
      "image/png": "[encoded data removed]",
      "text/plain": [
       "<Figure size 432x288 with 1 Axes>"
      ]
     },
     "metadata": {
      "needs_background": "light"
     },
     "output_type": "display_data"
    }
   ],
   "source": [
    "sns.barplot(x=xbox_top_20_tfidf.values, y=xbox_top_20_tfidf.index)\n",
    "plt.title('Xbox Top Words - TF-IDF')\n",
    "plt.show()"
   ]
  },
  {
   "cell_type": "markdown",
   "id": "d43dd0e8-8a64-4457-a27a-1a3a2a478a92",
   "metadata": {},
   "source": [
    "Most of the top TF-IDF words are similar to the most frequent words"
   ]
  },
  {
   "cell_type": "markdown",
   "id": "2bf546e0-e647-4613-b2d1-5ca402426f87",
   "metadata": {},
   "source": [
    "### Bigram"
   ]
  },
  {
   "cell_type": "markdown",
   "id": "e0b8734c-0ef8-454a-8170-a5b583ebc91f",
   "metadata": {},
   "source": [
    "**CountVec**"
   ]
  },
  {
   "cell_type": "code",
   "execution_count": 41,
   "id": "ddccbcdd-0393-4804-bc6c-681c31a79176",
   "metadata": {},
   "outputs": [],
   "source": [
    "cvec = CountVectorizer(stop_words = 'english', ngram_range=(2,2))\n",
    "xbox_cvec = pd.DataFrame(\n",
    "    cvec.fit_transform(xbox_text_df['title']).todense(),\n",
    "    columns = cvec.get_feature_names()\n",
    ")"
   ]
  },
  {
   "cell_type": "code",
   "execution_count": 42,
   "id": "fe06793a-1be2-45ec-a768-d2fffb48bf59",
   "metadata": {},
   "outputs": [],
   "source": [
    "xbox_word_count_bi = xbox_cvec.sum().sort_values(ascending=False)"
   ]
  },
  {
   "cell_type": "code",
   "execution_count": 43,
   "id": "7a5720e6-1999-4a2b-914e-2c4d72a479e9",
   "metadata": {},
   "outputs": [],
   "source": [
    "xbox_top_20_bi = xbox_word_count_bi[:20]"
   ]
  },
  {
   "cell_type": "code",
   "execution_count": 44,
   "id": "89b44310-6de3-44b0-ac81-19334b7c0770",
   "metadata": {},
   "outputs": [
    {
     "data": {
      "image/png": "[encoded data removed]",
      "text/plain": [
       "<Figure size 432x288 with 1 Axes>"
      ]
     },
     "metadata": {
      "needs_background": "light"
     },
     "output_type": "display_data"
    }
   ],
   "source": [
    "sns.barplot(x=xbox_top_20_bi.values, y=xbox_top_20_bi.index)\n",
    "plt.title('Xbox Top Words - Bigram')\n",
    "plt.show()"
   ]
  },
  {
   "cell_type": "markdown",
   "id": "db290ea5-6d32-4a01-b639-47fb64d7cab3",
   "metadata": {},
   "source": [
    "This gives us some ideas about the hot topics of discussion for Xbox\n",
    "- Some top games such as Dying Light, Halo and Elden Ring\n",
    "- Game Pass - subscription service\n",
    "- Xbox Series X Controller"
   ]
  },
  {
   "cell_type": "markdown",
   "id": "44069673-b63a-42de-a8cb-c2c4f04917eb",
   "metadata": {},
   "source": [
    "**TF-IDF**"
   ]
  },
  {
   "cell_type": "code",
   "execution_count": 45,
   "id": "53446222-7025-4246-bf36-ab379d0a797b",
   "metadata": {},
   "outputs": [],
   "source": [
    "tvec = TfidfVectorizer(stop_words = 'english', ngram_range=(2,2))\n",
    "xbox_tvec = pd.DataFrame(\n",
    "    tvec.fit_transform(xbox_text_df['title']).todense(),\n",
    "    columns = tvec.get_feature_names()\n",
    ")"
   ]
  },
  {
   "cell_type": "code",
   "execution_count": 46,
   "id": "0c46b18d-3d5e-42c5-b4a3-ce6b08591e6e",
   "metadata": {},
   "outputs": [],
   "source": [
    "xbox_word_count_tfidf_bi = xbox_tvec.sum().sort_values(ascending=False)"
   ]
  },
  {
   "cell_type": "code",
   "execution_count": 47,
   "id": "54bd9109-fb33-4115-9549-eaacb4f4ebc1",
   "metadata": {},
   "outputs": [],
   "source": [
    "xbox_top_20_tfidf_bi = xbox_word_count_tfidf_bi[:20]"
   ]
  },
  {
   "cell_type": "code",
   "execution_count": 48,
   "id": "a2d8a76f-335c-46d3-90c2-f2fadf114768",
   "metadata": {},
   "outputs": [
    {
     "data": {
      "image/png": "[encoded data removed]",
      "text/plain": [
       "<Figure size 432x288 with 1 Axes>"
      ]
     },
     "metadata": {
      "needs_background": "light"
     },
     "output_type": "display_data"
    }
   ],
   "source": [
    "sns.barplot(x=xbox_top_20_tfidf_bi.values, y=xbox_top_20_tfidf_bi.index)\n",
    "plt.title('Xbox Top Words - TF-IDF Bigram')\n",
    "plt.show()"
   ]
  },
  {
   "cell_type": "markdown",
   "id": "d1a6354c-ffef-4045-b0b0-39ac6b24eea9",
   "metadata": {},
   "source": [
    "Most of the top TF-IDF words are similar to the most frequent words"
   ]
  },
  {
   "cell_type": "markdown",
   "id": "9fdfca61-d206-4a21-a1b8-93bd623d82a9",
   "metadata": {},
   "source": [
    "## Combining datasets"
   ]
  },
  {
   "cell_type": "code",
   "execution_count": 49,
   "id": "9e33ae3f-c958-4edd-a355-85a0b1f28902",
   "metadata": {},
   "outputs": [],
   "source": [
    "console_df = pd.concat([ps5_text_df, xbox_text_df])"
   ]
  },
  {
   "cell_type": "code",
   "execution_count": 50,
   "id": "35202f9d-239d-4421-a659-1a25ae40e225",
   "metadata": {},
   "outputs": [],
   "source": [
    "console_df = console_df.reset_index(drop=True)"
   ]
  },
  {
   "cell_type": "code",
   "execution_count": 51,
   "id": "bdee51a9-94c8-4a05-be26-38cf525179c6",
   "metadata": {},
   "outputs": [
    {
     "name": "stdout",
     "output_type": "stream",
     "text": [
      "<class 'pandas.core.frame.DataFrame'>\n",
      "RangeIndex: 29982 entries, 0 to 29981\n",
      "Data columns (total 3 columns):\n",
      " #   Column       Non-Null Count  Dtype \n",
      "---  ------       --------------  ----- \n",
      " 0   subreddit    29982 non-null  object\n",
      " 1   title        29982 non-null  object\n",
      " 2   created_utc  29982 non-null  int64 \n",
      "dtypes: int64(1), object(2)\n",
      "memory usage: 702.8+ KB\n"
     ]
    }
   ],
   "source": [
    "console_df.info()"
   ]
  },
  {
   "cell_type": "markdown",
   "id": "d906b2a3-d9b2-4cf1-a904-ae01015e54a6",
   "metadata": {},
   "source": [
    "There are no null values in the combined dataframe"
   ]
  },
  {
   "cell_type": "code",
   "execution_count": 52,
   "id": "dbd7ead2-eee5-42b1-8ed9-14951b067cfc",
   "metadata": {},
   "outputs": [
    {
     "data": {
      "text/plain": [
       "(29982, 3)"
      ]
     },
     "execution_count": 52,
     "metadata": {},
     "output_type": "execute_result"
    }
   ],
   "source": [
    "console_df.shape"
   ]
  },
  {
   "cell_type": "code",
   "execution_count": 53,
   "id": "88d3cf85-d36a-43f8-9e1e-bf9ba3940add",
   "metadata": {},
   "outputs": [
    {
     "data": {
      "text/html": [
       "<div>\n",
       "<style scoped>\n",
       "    .dataframe tbody tr th:only-of-type {\n",
       "        vertical-align: middle;\n",
       "    }\n",
       "\n",
       "    .dataframe tbody tr th {\n",
       "        vertical-align: top;\n",
       "    }\n",
       "\n",
       "    .dataframe thead th {\n",
       "        text-align: right;\n",
       "    }\n",
       "</style>\n",
       "<table border=\"1\" class=\"dataframe\">\n",
       "  <thead>\n",
       "    <tr style=\"text-align: right;\">\n",
       "      <th></th>\n",
       "      <th>subreddit</th>\n",
       "      <th>title</th>\n",
       "      <th>created_utc</th>\n",
       "    </tr>\n",
       "  </thead>\n",
       "  <tbody>\n",
       "    <tr>\n",
       "      <th>0</th>\n",
       "      <td>PS5</td>\n",
       "      <td>How did yall get your ps5s?</td>\n",
       "      <td>1656026890</td>\n",
       "    </tr>\n",
       "    <tr>\n",
       "      <th>1</th>\n",
       "      <td>PS5</td>\n",
       "      <td>PS5 Horizon Bundle still in stock on PS Direct</td>\n",
       "      <td>1656026393</td>\n",
       "    </tr>\n",
       "    <tr>\n",
       "      <th>2</th>\n",
       "      <td>PS5</td>\n",
       "      <td>Ps5 doesn’t work</td>\n",
       "      <td>1656024401</td>\n",
       "    </tr>\n",
       "    <tr>\n",
       "      <th>3</th>\n",
       "      <td>PS5</td>\n",
       "      <td>VRR support for HDMI 1.4...</td>\n",
       "      <td>1656023983</td>\n",
       "    </tr>\n",
       "    <tr>\n",
       "      <th>4</th>\n",
       "      <td>PS5</td>\n",
       "      <td>Slow download speeds?</td>\n",
       "      <td>1656023471</td>\n",
       "    </tr>\n",
       "  </tbody>\n",
       "</table>\n",
       "</div>"
      ],
      "text/plain": [
       "  subreddit                                           title  created_utc\n",
       "0       PS5                     How did yall get your ps5s?   1656026890\n",
       "1       PS5  PS5 Horizon Bundle still in stock on PS Direct   1656026393\n",
       "2       PS5                                Ps5 doesn’t work   1656024401\n",
       "3       PS5                     VRR support for HDMI 1.4...   1656023983\n",
       "4       PS5                           Slow download speeds?   1656023471"
      ]
     },
     "execution_count": 53,
     "metadata": {},
     "output_type": "execute_result"
    }
   ],
   "source": [
    "console_df.head()"
   ]
  },
  {
   "cell_type": "markdown",
   "id": "c91491da-d5fc-4770-924a-b7149fb156ce",
   "metadata": {},
   "source": [
    "## Period of data"
   ]
  },
  {
   "cell_type": "code",
   "execution_count": 54,
   "id": "ef66e294-45e0-40af-a3ea-f59c08b7e103",
   "metadata": {},
   "outputs": [
    {
     "data": {
      "text/plain": [
       "Text(0.5, 1.0, 'Period of Reddit Post')"
      ]
     },
     "execution_count": 54,
     "metadata": {},
     "output_type": "execute_result"
    },
    {
     "data": {
      "image/png": "[encoded data removed]",
      "text/plain": [
       "<Figure size 458.375x360 with 1 Axes>"
      ]
     },
     "metadata": {
      "needs_background": "light"
     },
     "output_type": "display_data"
    }
   ],
   "source": [
    "sns.displot(data=console_df, x='created_utc', hue='subreddit')\n",
    "plt.title(\"Period of Reddit Post\")"
   ]
  },
  {
   "cell_type": "markdown",
   "id": "4e1ceb7a-ef45-4c3c-83a8-fec7f907f558",
   "metadata": {},
   "source": [
    "Judging by the count of post and the period of the 15,000 post for each subreddit, PS5 definitely looks like it is the more popular console\n",
    "- The period of the last 15,000 posts is shorter\n",
    "- During the last few months, ps5 has more post on average for almost every interval period (About 20-40% more)"
   ]
  },
  {
   "cell_type": "markdown",
   "id": "c7859eea-d704-47bc-b9ad-48c634c56aa1",
   "metadata": {},
   "source": [
    "## Binarizing target variable - PS5: 1, Xbox Series X: 0"
   ]
  },
  {
   "cell_type": "code",
   "execution_count": 55,
   "id": "499fa9a2-5fb6-4e70-bd6d-ed205d26c6b7",
   "metadata": {},
   "outputs": [],
   "source": [
    "console_df['subreddit'] = console_df['subreddit'].map({'PS5' : 1, 'XboxSeriesX' : 0})"
   ]
  },
  {
   "cell_type": "code",
   "execution_count": 56,
   "id": "4e8719b4-6426-4408-890b-4c3e297f8644",
   "metadata": {},
   "outputs": [
    {
     "data": {
      "text/html": [
       "<div>\n",
       "<style scoped>\n",
       "    .dataframe tbody tr th:only-of-type {\n",
       "        vertical-align: middle;\n",
       "    }\n",
       "\n",
       "    .dataframe tbody tr th {\n",
       "        vertical-align: top;\n",
       "    }\n",
       "\n",
       "    .dataframe thead th {\n",
       "        text-align: right;\n",
       "    }\n",
       "</style>\n",
       "<table border=\"1\" class=\"dataframe\">\n",
       "  <thead>\n",
       "    <tr style=\"text-align: right;\">\n",
       "      <th></th>\n",
       "      <th>subreddit</th>\n",
       "      <th>title</th>\n",
       "      <th>created_utc</th>\n",
       "    </tr>\n",
       "  </thead>\n",
       "  <tbody>\n",
       "    <tr>\n",
       "      <th>0</th>\n",
       "      <td>1</td>\n",
       "      <td>How did yall get your ps5s?</td>\n",
       "      <td>1656026890</td>\n",
       "    </tr>\n",
       "    <tr>\n",
       "      <th>1</th>\n",
       "      <td>1</td>\n",
       "      <td>PS5 Horizon Bundle still in stock on PS Direct</td>\n",
       "      <td>1656026393</td>\n",
       "    </tr>\n",
       "    <tr>\n",
       "      <th>2</th>\n",
       "      <td>1</td>\n",
       "      <td>Ps5 doesn’t work</td>\n",
       "      <td>1656024401</td>\n",
       "    </tr>\n",
       "    <tr>\n",
       "      <th>3</th>\n",
       "      <td>1</td>\n",
       "      <td>VRR support for HDMI 1.4...</td>\n",
       "      <td>1656023983</td>\n",
       "    </tr>\n",
       "    <tr>\n",
       "      <th>4</th>\n",
       "      <td>1</td>\n",
       "      <td>Slow download speeds?</td>\n",
       "      <td>1656023471</td>\n",
       "    </tr>\n",
       "  </tbody>\n",
       "</table>\n",
       "</div>"
      ],
      "text/plain": [
       "   subreddit                                           title  created_utc\n",
       "0          1                     How did yall get your ps5s?   1656026890\n",
       "1          1  PS5 Horizon Bundle still in stock on PS Direct   1656026393\n",
       "2          1                                Ps5 doesn’t work   1656024401\n",
       "3          1                     VRR support for HDMI 1.4...   1656023983\n",
       "4          1                           Slow download speeds?   1656023471"
      ]
     },
     "execution_count": 56,
     "metadata": {},
     "output_type": "execute_result"
    }
   ],
   "source": [
    "console_df.head()"
   ]
  },
  {
   "cell_type": "markdown",
   "id": "11607c82-1a9d-4bc9-ab74-a021b2299067",
   "metadata": {},
   "source": [
    "# Data Cleaning"
   ]
  },
  {
   "cell_type": "markdown",
   "id": "adde2bbf-5111-432c-b6f1-0520e4e1bd00",
   "metadata": {
    "tags": []
   },
   "source": [
    "### Define Stopwords"
   ]
  },
  {
   "cell_type": "markdown",
   "id": "ab606cdc-db37-4f2e-9103-203cc06cc13c",
   "metadata": {},
   "source": [
    "In accordance to our problem statement - we are trying to categorise post without the words PS5 or Xbox in them. Thus we will remove these words from our text data"
   ]
  },
  {
   "cell_type": "code",
   "execution_count": 57,
   "id": "8bf66e03-4f2e-41d4-8df8-dbfa2d95788c",
   "metadata": {},
   "outputs": [],
   "source": [
    "sw = stopwords.words(\"english\")"
   ]
  },
  {
   "cell_type": "code",
   "execution_count": 58,
   "id": "8ef158c8-5aae-496a-84fb-2450fb09b8f3",
   "metadata": {},
   "outputs": [],
   "source": [
    "#custom stopwords\n",
    "\n",
    "custom_sw = ['ps5s', 'ps5', 'ps4', 'ps', 'xbox series x', 'xbox series', 'xboxs', 'xbox', 'series', 'playstation']"
   ]
  },
  {
   "cell_type": "code",
   "execution_count": 59,
   "id": "9a5a36af-3390-42bc-8ea3-d91108c2395a",
   "metadata": {},
   "outputs": [],
   "source": [
    "sw += custom_sw"
   ]
  },
  {
   "cell_type": "code",
   "execution_count": 60,
   "id": "15d9ddb5-f538-4922-a2a4-d4a432ad4774",
   "metadata": {
    "tags": []
   },
   "outputs": [
    {
     "data": {
      "text/plain": [
       "['ps5s',\n",
       " 'ps5',\n",
       " 'ps4',\n",
       " 'ps',\n",
       " 'xbox series x',\n",
       " 'xbox series',\n",
       " 'xboxs',\n",
       " 'xbox',\n",
       " 'series',\n",
       " 'playstation']"
      ]
     },
     "execution_count": 60,
     "metadata": {},
     "output_type": "execute_result"
    }
   ],
   "source": [
    "sw[-10:]"
   ]
  },
  {
   "cell_type": "markdown",
   "id": "b28e6969-730b-41a8-b066-496c762dc32b",
   "metadata": {},
   "source": [
    "### Remove http links, new line, &amp, /r"
   ]
  },
  {
   "cell_type": "code",
   "execution_count": 61,
   "id": "81fe4918-700c-4d3d-acb9-02742d9a8993",
   "metadata": {},
   "outputs": [],
   "source": [
    "#removing links\n",
    "console_df['title'] = console_df['title'].map(lambda x: re.sub(r\"http\\S+\", '', x))\n",
    "#removing &amp\n",
    "console_df['title'] = console_df['title'].map(lambda x: x.replace('&amp;',''))\n",
    "#removing /r\n",
    "console_df['title'] = console_df['title'].map(lambda x: x.replace('r/',''))"
   ]
  },
  {
   "cell_type": "markdown",
   "id": "9b98f301-faa3-4ad8-8e81-fa65fa0f53e8",
   "metadata": {},
   "source": [
    "### Remove Emoji, non-english words, tokenizing and clean text"
   ]
  },
  {
   "cell_type": "code",
   "execution_count": 62,
   "id": "b3cfbfa1-316e-4cf4-ad8a-e3bd77520f8d",
   "metadata": {},
   "outputs": [
    {
     "data": {
      "text/plain": [
       "subreddit                                              0\n",
       "title          Apparently I made this clip 52 years ago😂\n",
       "created_utc                                   1648737827\n",
       "Name: 23282, dtype: object"
      ]
     },
     "execution_count": 62,
     "metadata": {},
     "output_type": "execute_result"
    }
   ],
   "source": [
    "# sample emoji row\n",
    "console_df.loc[23282,:]"
   ]
  },
  {
   "cell_type": "code",
   "execution_count": 63,
   "id": "d717d417-4d00-4cc7-b7f0-54155bccada6",
   "metadata": {},
   "outputs": [],
   "source": [
    "# Demojize\n",
    "console_df['title'] = console_df['title'].apply(lambda x: emoji.demojize(x, delimiters=(\"\", \"\")))"
   ]
  },
  {
   "cell_type": "code",
   "execution_count": 64,
   "id": "a15e72af-8218-48f6-ab9d-90af9fff95f8",
   "metadata": {},
   "outputs": [
    {
     "data": {
      "text/plain": [
       "'Apparently I made this clip 52 years agoface_with_tears_of_joy'"
      ]
     },
     "execution_count": 64,
     "metadata": {},
     "output_type": "execute_result"
    }
   ],
   "source": [
    "console_df.loc[23282,'title']"
   ]
  },
  {
   "cell_type": "markdown",
   "id": "c782bff1-e197-4470-a2fc-5e9d2752edfa",
   "metadata": {},
   "source": [
    "We will use Clean from the clean-text library to remove symbols, markdown language"
   ]
  },
  {
   "cell_type": "code",
   "execution_count": 65,
   "id": "d314522c-501b-4cec-a00d-e5c194638b2a",
   "metadata": {},
   "outputs": [],
   "source": [
    "# clean text\n",
    "console_df['title'] = console_df['title'].apply(lambda x: clean(x))"
   ]
  },
  {
   "cell_type": "markdown",
   "id": "71c080aa-304a-4768-8e8b-17a64f66be32",
   "metadata": {},
   "source": [
    "### Export cleaned text for Hugging Face Analysis"
   ]
  },
  {
   "cell_type": "code",
   "execution_count": 66,
   "id": "c66dca54-fe5e-4570-a9ba-79dd192f48eb",
   "metadata": {},
   "outputs": [],
   "source": [
    "console_df.to_csv('data/console_cleaned_text.csv', index_label=False)"
   ]
  },
  {
   "cell_type": "markdown",
   "id": "9229c79b-d526-49b9-84bf-eee815c3e27b",
   "metadata": {},
   "source": [
    "### Tokenize and keep words"
   ]
  },
  {
   "cell_type": "code",
   "execution_count": 67,
   "id": "eb7014f8-0aef-4bc4-a5c8-f7629519975d",
   "metadata": {},
   "outputs": [],
   "source": [
    "tokenizer = RegexpTokenizer(r'\\w+')"
   ]
  },
  {
   "cell_type": "code",
   "execution_count": 68,
   "id": "292beb2c-e3c8-48aa-ab8a-e7578d4c7cef",
   "metadata": {},
   "outputs": [],
   "source": [
    "console_df['tokenized'] = console_df['title'].apply(lambda x: tokenizer.tokenize(x.lower()))"
   ]
  },
  {
   "cell_type": "code",
   "execution_count": 69,
   "id": "baa68447-e8e3-43a9-8af8-4cda86907c7c",
   "metadata": {},
   "outputs": [
    {
     "data": {
      "text/html": [
       "<div>\n",
       "<style scoped>\n",
       "    .dataframe tbody tr th:only-of-type {\n",
       "        vertical-align: middle;\n",
       "    }\n",
       "\n",
       "    .dataframe tbody tr th {\n",
       "        vertical-align: top;\n",
       "    }\n",
       "\n",
       "    .dataframe thead th {\n",
       "        text-align: right;\n",
       "    }\n",
       "</style>\n",
       "<table border=\"1\" class=\"dataframe\">\n",
       "  <thead>\n",
       "    <tr style=\"text-align: right;\">\n",
       "      <th></th>\n",
       "      <th>subreddit</th>\n",
       "      <th>title</th>\n",
       "      <th>created_utc</th>\n",
       "      <th>tokenized</th>\n",
       "    </tr>\n",
       "  </thead>\n",
       "  <tbody>\n",
       "    <tr>\n",
       "      <th>0</th>\n",
       "      <td>1</td>\n",
       "      <td>how did yall get your ps5s?</td>\n",
       "      <td>1656026890</td>\n",
       "      <td>[how, did, yall, get, your, ps5s]</td>\n",
       "    </tr>\n",
       "    <tr>\n",
       "      <th>1</th>\n",
       "      <td>1</td>\n",
       "      <td>ps5 horizon bundle still in stock on ps direct</td>\n",
       "      <td>1656026393</td>\n",
       "      <td>[ps5, horizon, bundle, still, in, stock, on, p...</td>\n",
       "    </tr>\n",
       "    <tr>\n",
       "      <th>2</th>\n",
       "      <td>1</td>\n",
       "      <td>ps5 doesn't work</td>\n",
       "      <td>1656024401</td>\n",
       "      <td>[ps5, doesn, t, work]</td>\n",
       "    </tr>\n",
       "    <tr>\n",
       "      <th>3</th>\n",
       "      <td>1</td>\n",
       "      <td>vrr support for hdmi 1.4...</td>\n",
       "      <td>1656023983</td>\n",
       "      <td>[vrr, support, for, hdmi, 1, 4]</td>\n",
       "    </tr>\n",
       "    <tr>\n",
       "      <th>4</th>\n",
       "      <td>1</td>\n",
       "      <td>slow download speeds?</td>\n",
       "      <td>1656023471</td>\n",
       "      <td>[slow, download, speeds]</td>\n",
       "    </tr>\n",
       "  </tbody>\n",
       "</table>\n",
       "</div>"
      ],
      "text/plain": [
       "   subreddit                                           title  created_utc  \\\n",
       "0          1                     how did yall get your ps5s?   1656026890   \n",
       "1          1  ps5 horizon bundle still in stock on ps direct   1656026393   \n",
       "2          1                                ps5 doesn't work   1656024401   \n",
       "3          1                     vrr support for hdmi 1.4...   1656023983   \n",
       "4          1                           slow download speeds?   1656023471   \n",
       "\n",
       "                                           tokenized  \n",
       "0                  [how, did, yall, get, your, ps5s]  \n",
       "1  [ps5, horizon, bundle, still, in, stock, on, p...  \n",
       "2                              [ps5, doesn, t, work]  \n",
       "3                    [vrr, support, for, hdmi, 1, 4]  \n",
       "4                           [slow, download, speeds]  "
      ]
     },
     "execution_count": 69,
     "metadata": {},
     "output_type": "execute_result"
    }
   ],
   "source": [
    "console_df.head()"
   ]
  },
  {
   "cell_type": "markdown",
   "id": "e64e44e5-fe5e-42a0-b57b-e30b37af2a8c",
   "metadata": {},
   "source": [
    "### Remove Stop Words"
   ]
  },
  {
   "cell_type": "code",
   "execution_count": 70,
   "id": "67c6b397-50be-4c80-9194-e70ae2458ce1",
   "metadata": {},
   "outputs": [],
   "source": [
    "def remove_stop_words(list_of_words):\n",
    "    for word in sw:\n",
    "        if word in list_of_words:\n",
    "            list_of_words.remove(word)\n",
    "    return list_of_words"
   ]
  },
  {
   "cell_type": "code",
   "execution_count": 71,
   "id": "ceedff26-7ac3-42a4-80cd-53073f1d92b7",
   "metadata": {},
   "outputs": [],
   "source": [
    "console_df['tokenized'] = console_df['tokenized'].apply(remove_stop_words)"
   ]
  },
  {
   "cell_type": "code",
   "execution_count": 72,
   "id": "97a5b99d-8657-4ff4-84ba-3fa8051257ab",
   "metadata": {},
   "outputs": [],
   "source": [
    "console_df['length_of_sentence'] = console_df['tokenized'].apply(len)"
   ]
  },
  {
   "cell_type": "code",
   "execution_count": 73,
   "id": "d5866dc1-e82e-4f38-859d-3b763be79c74",
   "metadata": {},
   "outputs": [
    {
     "data": {
      "text/plain": [
       "Text(0.5, 1.0, 'length of document after stop words removal')"
      ]
     },
     "execution_count": 73,
     "metadata": {},
     "output_type": "execute_result"
    },
    {
     "data": {
      "image/png": "[encoded data removed]",
      "text/plain": [
       "<Figure size 432x288 with 1 Axes>"
      ]
     },
     "metadata": {
      "needs_background": "light"
     },
     "output_type": "display_data"
    }
   ],
   "source": [
    "console_df['length_of_sentence'].plot(kind='hist', bins=20)\n",
    "plt.title(\"length of document after stop words removal\")"
   ]
  },
  {
   "cell_type": "markdown",
   "id": "23d5f109-6d58-44aa-bf7a-a354cac7035f",
   "metadata": {},
   "source": [
    "Most Documents have words less than 13 words. There are a small group of documetns with more than 20 words."
   ]
  },
  {
   "cell_type": "code",
   "execution_count": 74,
   "id": "e4fe158a-2882-43cf-b49d-0fa76a71b440",
   "metadata": {},
   "outputs": [
    {
     "data": {
      "text/html": [
       "<div>\n",
       "<style scoped>\n",
       "    .dataframe tbody tr th:only-of-type {\n",
       "        vertical-align: middle;\n",
       "    }\n",
       "\n",
       "    .dataframe tbody tr th {\n",
       "        vertical-align: top;\n",
       "    }\n",
       "\n",
       "    .dataframe thead th {\n",
       "        text-align: right;\n",
       "    }\n",
       "</style>\n",
       "<table border=\"1\" class=\"dataframe\">\n",
       "  <thead>\n",
       "    <tr style=\"text-align: right;\">\n",
       "      <th></th>\n",
       "      <th>subreddit</th>\n",
       "      <th>title</th>\n",
       "      <th>created_utc</th>\n",
       "      <th>tokenized</th>\n",
       "      <th>length_of_sentence</th>\n",
       "    </tr>\n",
       "  </thead>\n",
       "  <tbody>\n",
       "    <tr>\n",
       "      <th>8037</th>\n",
       "      <td>1</td>\n",
       "      <td>just got a ps5</td>\n",
       "      <td>1650914502</td>\n",
       "      <td>[got]</td>\n",
       "      <td>1</td>\n",
       "    </tr>\n",
       "    <tr>\n",
       "      <th>19647</th>\n",
       "      <td>0</td>\n",
       "      <td>what are you doing while xbox live is down?</td>\n",
       "      <td>1651963389</td>\n",
       "      <td>[live]</td>\n",
       "      <td>1</td>\n",
       "    </tr>\n",
       "    <tr>\n",
       "      <th>16165</th>\n",
       "      <td>0</td>\n",
       "      <td>so, goldeneye</td>\n",
       "      <td>1655107946</td>\n",
       "      <td>[goldeneye]</td>\n",
       "      <td>1</td>\n",
       "    </tr>\n",
       "    <tr>\n",
       "      <th>19467</th>\n",
       "      <td>0</td>\n",
       "      <td>spooky xbox</td>\n",
       "      <td>1652120184</td>\n",
       "      <td>[spooky]</td>\n",
       "      <td>1</td>\n",
       "    </tr>\n",
       "    <tr>\n",
       "      <th>18348</th>\n",
       "      <td>0</td>\n",
       "      <td>hi</td>\n",
       "      <td>1653175681</td>\n",
       "      <td>[hi]</td>\n",
       "      <td>1</td>\n",
       "    </tr>\n",
       "    <tr>\n",
       "      <th>8181</th>\n",
       "      <td>1</td>\n",
       "      <td>disney+ on ps5</td>\n",
       "      <td>1650817562</td>\n",
       "      <td>[disney]</td>\n",
       "      <td>1</td>\n",
       "    </tr>\n",
       "    <tr>\n",
       "      <th>13440</th>\n",
       "      <td>1</td>\n",
       "      <td>just purchased ps5</td>\n",
       "      <td>1647582300</td>\n",
       "      <td>[purchased]</td>\n",
       "      <td>1</td>\n",
       "    </tr>\n",
       "    <tr>\n",
       "      <th>29608</th>\n",
       "      <td>0</td>\n",
       "      <td>ethernet</td>\n",
       "      <td>1643925025</td>\n",
       "      <td>[ethernet]</td>\n",
       "      <td>1</td>\n",
       "    </tr>\n",
       "    <tr>\n",
       "      <th>29781</th>\n",
       "      <td>0</td>\n",
       "      <td>xbox series s?</td>\n",
       "      <td>1643802507</td>\n",
       "      <td>[]</td>\n",
       "      <td>0</td>\n",
       "    </tr>\n",
       "    <tr>\n",
       "      <th>28724</th>\n",
       "      <td>0</td>\n",
       "      <td>xcloud?</td>\n",
       "      <td>1644540751</td>\n",
       "      <td>[xcloud]</td>\n",
       "      <td>1</td>\n",
       "    </tr>\n",
       "  </tbody>\n",
       "</table>\n",
       "</div>"
      ],
      "text/plain": [
       "       subreddit                                        title  created_utc  \\\n",
       "8037           1                               just got a ps5   1650914502   \n",
       "19647          0  what are you doing while xbox live is down?   1651963389   \n",
       "16165          0                                so, goldeneye   1655107946   \n",
       "19467          0                                  spooky xbox   1652120184   \n",
       "18348          0                                           hi   1653175681   \n",
       "8181           1                               disney+ on ps5   1650817562   \n",
       "13440          1                           just purchased ps5   1647582300   \n",
       "29608          0                                     ethernet   1643925025   \n",
       "29781          0                               xbox series s?   1643802507   \n",
       "28724          0                                      xcloud?   1644540751   \n",
       "\n",
       "         tokenized  length_of_sentence  \n",
       "8037         [got]                   1  \n",
       "19647       [live]                   1  \n",
       "16165  [goldeneye]                   1  \n",
       "19467     [spooky]                   1  \n",
       "18348         [hi]                   1  \n",
       "8181      [disney]                   1  \n",
       "13440  [purchased]                   1  \n",
       "29608   [ethernet]                   1  \n",
       "29781           []                   0  \n",
       "28724     [xcloud]                   1  "
      ]
     },
     "execution_count": 74,
     "metadata": {},
     "output_type": "execute_result"
    }
   ],
   "source": [
    "# Documents with less than 2 words\n",
    "console_df[console_df['length_of_sentence'] < 2].sample(10)"
   ]
  },
  {
   "cell_type": "code",
   "execution_count": 75,
   "id": "09c08244-4c3d-41f3-8baf-fc187a906745",
   "metadata": {},
   "outputs": [
    {
     "data": {
      "text/html": [
       "<div>\n",
       "<style scoped>\n",
       "    .dataframe tbody tr th:only-of-type {\n",
       "        vertical-align: middle;\n",
       "    }\n",
       "\n",
       "    .dataframe tbody tr th {\n",
       "        vertical-align: top;\n",
       "    }\n",
       "\n",
       "    .dataframe thead th {\n",
       "        text-align: right;\n",
       "    }\n",
       "</style>\n",
       "<table border=\"1\" class=\"dataframe\">\n",
       "  <thead>\n",
       "    <tr style=\"text-align: right;\">\n",
       "      <th></th>\n",
       "      <th>subreddit</th>\n",
       "      <th>title</th>\n",
       "      <th>created_utc</th>\n",
       "      <th>tokenized</th>\n",
       "      <th>length_of_sentence</th>\n",
       "    </tr>\n",
       "  </thead>\n",
       "  <tbody>\n",
       "    <tr>\n",
       "      <th>6889</th>\n",
       "      <td>1</td>\n",
       "      <td>mattias engstorm joins joins the crysis family...</td>\n",
       "      <td>1651598232</td>\n",
       "      <td>[mattias, engstorm, joins, joins, crysis, fami...</td>\n",
       "      <td>16</td>\n",
       "    </tr>\n",
       "    <tr>\n",
       "      <th>29435</th>\n",
       "      <td>0</td>\n",
       "      <td>fyi, dying light 2 does not support cross gen ...</td>\n",
       "      <td>1644034846</td>\n",
       "      <td>[fyi, dying, light, 2, support, cross, gen, co...</td>\n",
       "      <td>19</td>\n",
       "    </tr>\n",
       "    <tr>\n",
       "      <th>20821</th>\n",
       "      <td>0</td>\n",
       "      <td>go big or go home! i think i overdid it with t...</td>\n",
       "      <td>1650858490</td>\n",
       "      <td>[go, big, go, home, think, i, overdid, 85, tv,...</td>\n",
       "      <td>17</td>\n",
       "    </tr>\n",
       "    <tr>\n",
       "      <th>25146</th>\n",
       "      <td>0</td>\n",
       "      <td>my 1st decent gaming/living room. xbox sx, lgc...</td>\n",
       "      <td>1647207965</td>\n",
       "      <td>[1st, decent, gaming, living, room, sx, lgc1, ...</td>\n",
       "      <td>23</td>\n",
       "    </tr>\n",
       "    <tr>\n",
       "      <th>27895</th>\n",
       "      <td>0</td>\n",
       "      <td>if i select dolby atmos in xbox settings. what...</td>\n",
       "      <td>1645121351</td>\n",
       "      <td>[select, dolby, atmos, settings, i, select, au...</td>\n",
       "      <td>16</td>\n",
       "    </tr>\n",
       "    <tr>\n",
       "      <th>8718</th>\n",
       "      <td>1</td>\n",
       "      <td>digital foundry: the ps5 ran the matrix awaken...</td>\n",
       "      <td>1650466352</td>\n",
       "      <td>[digital, foundry, ran, the, matrix, awakens, ...</td>\n",
       "      <td>22</td>\n",
       "    </tr>\n",
       "    <tr>\n",
       "      <th>25129</th>\n",
       "      <td>0</td>\n",
       "      <td>do you think ms will eventually offer a specia...</td>\n",
       "      <td>1647215067</td>\n",
       "      <td>[think, ms, eventually, offer, special, trade,...</td>\n",
       "      <td>17</td>\n",
       "    </tr>\n",
       "    <tr>\n",
       "      <th>23102</th>\n",
       "      <td>0</td>\n",
       "      <td>\"in our outcomes report for season 1 of #haloi...</td>\n",
       "      <td>1648861780</td>\n",
       "      <td>[outcomes, report, season, 1, haloinfinite, re...</td>\n",
       "      <td>20</td>\n",
       "    </tr>\n",
       "    <tr>\n",
       "      <th>4924</th>\n",
       "      <td>1</td>\n",
       "      <td>from embracer group's earnings report today: y...</td>\n",
       "      <td>1652977684</td>\n",
       "      <td>[embracer, group, earnings, report, today, pro...</td>\n",
       "      <td>22</td>\n",
       "    </tr>\n",
       "    <tr>\n",
       "      <th>21495</th>\n",
       "      <td>0</td>\n",
       "      <td>my tv is just 1080p/60fps , and i wanted to kn...</td>\n",
       "      <td>1650218534</td>\n",
       "      <td>[tv, 1080p, 60fps, wanted, know, is, worth, to...</td>\n",
       "      <td>18</td>\n",
       "    </tr>\n",
       "  </tbody>\n",
       "</table>\n",
       "</div>"
      ],
      "text/plain": [
       "       subreddit                                              title  \\\n",
       "6889           1  mattias engstorm joins joins the crysis family...   \n",
       "29435          0  fyi, dying light 2 does not support cross gen ...   \n",
       "20821          0  go big or go home! i think i overdid it with t...   \n",
       "25146          0  my 1st decent gaming/living room. xbox sx, lgc...   \n",
       "27895          0  if i select dolby atmos in xbox settings. what...   \n",
       "8718           1  digital foundry: the ps5 ran the matrix awaken...   \n",
       "25129          0  do you think ms will eventually offer a specia...   \n",
       "23102          0  \"in our outcomes report for season 1 of #haloi...   \n",
       "4924           1  from embracer group's earnings report today: y...   \n",
       "21495          0  my tv is just 1080p/60fps , and i wanted to kn...   \n",
       "\n",
       "       created_utc                                          tokenized  \\\n",
       "6889    1651598232  [mattias, engstorm, joins, joins, crysis, fami...   \n",
       "29435   1644034846  [fyi, dying, light, 2, support, cross, gen, co...   \n",
       "20821   1650858490  [go, big, go, home, think, i, overdid, 85, tv,...   \n",
       "25146   1647207965  [1st, decent, gaming, living, room, sx, lgc1, ...   \n",
       "27895   1645121351  [select, dolby, atmos, settings, i, select, au...   \n",
       "8718    1650466352  [digital, foundry, ran, the, matrix, awakens, ...   \n",
       "25129   1647215067  [think, ms, eventually, offer, special, trade,...   \n",
       "23102   1648861780  [outcomes, report, season, 1, haloinfinite, re...   \n",
       "4924    1652977684  [embracer, group, earnings, report, today, pro...   \n",
       "21495   1650218534  [tv, 1080p, 60fps, wanted, know, is, worth, to...   \n",
       "\n",
       "       length_of_sentence  \n",
       "6889                   16  \n",
       "29435                  19  \n",
       "20821                  17  \n",
       "25146                  23  \n",
       "27895                  16  \n",
       "8718                   22  \n",
       "25129                  17  \n",
       "23102                  20  \n",
       "4924                   22  \n",
       "21495                  18  "
      ]
     },
     "execution_count": 75,
     "metadata": {},
     "output_type": "execute_result"
    }
   ],
   "source": [
    "# Documents with more than 15 words\n",
    "console_df[console_df['length_of_sentence'] > 15].sample(10)"
   ]
  },
  {
   "cell_type": "markdown",
   "id": "c9bf635c-e0a3-4335-936a-22cdaabd2f20",
   "metadata": {},
   "source": [
    "We will keep documents with at least two words as those with just 1 word do not seem to be useful. Documents with two words might be game titles that could be useful. The documents with more words than usual looks to still contain useful information, we will keep them"
   ]
  },
  {
   "cell_type": "code",
   "execution_count": 76,
   "id": "c8bf0e2a-27a0-4070-b77f-a26632fbcf25",
   "metadata": {},
   "outputs": [],
   "source": [
    "console_df = console_df[console_df['length_of_sentence'] >= 2]"
   ]
  },
  {
   "cell_type": "markdown",
   "id": "ca3e885e-ca39-440a-b065-41d41083d2a1",
   "metadata": {
    "tags": []
   },
   "source": [
    "## Stemming/lemmatizing of words"
   ]
  },
  {
   "cell_type": "markdown",
   "id": "7f64eb6c-99ac-4886-8d26-d74eb0cdf100",
   "metadata": {},
   "source": [
    "In this section, we will assess if stemming or lemmatizing is suitable"
   ]
  },
  {
   "cell_type": "markdown",
   "id": "d9686ef9-5598-4877-b4d4-bd659d042fac",
   "metadata": {},
   "source": [
    "### Stemming"
   ]
  },
  {
   "cell_type": "code",
   "execution_count": 77,
   "id": "5ed41738-f25b-49a9-a3b9-b3a62bcd55b9",
   "metadata": {},
   "outputs": [],
   "source": [
    "p_stemmer = PorterStemmer()"
   ]
  },
  {
   "cell_type": "code",
   "execution_count": 78,
   "id": "b0ea72fd-47ba-4931-ab1b-89159dcaafd1",
   "metadata": {},
   "outputs": [],
   "source": [
    "console_df['stemmed'] = console_df['tokenized'].apply(lambda x: [p_stemmer.stem(word) for word in x])"
   ]
  },
  {
   "cell_type": "code",
   "execution_count": 79,
   "id": "b5bc6dae-87bc-431a-a9db-682462bbcbcb",
   "metadata": {},
   "outputs": [],
   "source": [
    "# join back into one title string\n",
    "console_df['stemmed_title'] = console_df['stemmed'].apply(lambda x: \" \".join(x))"
   ]
  },
  {
   "cell_type": "code",
   "execution_count": 80,
   "id": "e7ccb35d-4e1f-4087-84e8-cdb0d57316ab",
   "metadata": {},
   "outputs": [
    {
     "data": {
      "text/plain": [
       "0                                                 yall get\n",
       "1                         horizon bundl still stock direct\n",
       "3                                     vrr support hdmi 1 4\n",
       "4                                      slow download speed\n",
       "5                          help wireless control bluetooth\n",
       "                               ...                        \n",
       "29977                                            disc work\n",
       "29978                 look buy x i internet still worth it\n",
       "29979              dog tip my x im probabl irreversib fuck\n",
       "29980                           anyon xsx alienwar aw2521h\n",
       "29981    crash bandicoot microsoft exclus make kid cri ...\n",
       "Name: stemmed_title, Length: 29184, dtype: object"
      ]
     },
     "execution_count": 80,
     "metadata": {},
     "output_type": "execute_result"
    }
   ],
   "source": [
    "console_df['stemmed_title']"
   ]
  },
  {
   "cell_type": "code",
   "execution_count": 81,
   "id": "8cf585ed-38d9-463f-9d37-e0d7bf50ae9b",
   "metadata": {},
   "outputs": [
    {
     "data": {
      "text/html": [
       "<div>\n",
       "<style scoped>\n",
       "    .dataframe tbody tr th:only-of-type {\n",
       "        vertical-align: middle;\n",
       "    }\n",
       "\n",
       "    .dataframe tbody tr th {\n",
       "        vertical-align: top;\n",
       "    }\n",
       "\n",
       "    .dataframe thead th {\n",
       "        text-align: right;\n",
       "    }\n",
       "</style>\n",
       "<table border=\"1\" class=\"dataframe\">\n",
       "  <thead>\n",
       "    <tr style=\"text-align: right;\">\n",
       "      <th></th>\n",
       "      <th>subreddit</th>\n",
       "      <th>title</th>\n",
       "      <th>created_utc</th>\n",
       "      <th>tokenized</th>\n",
       "      <th>length_of_sentence</th>\n",
       "      <th>stemmed</th>\n",
       "      <th>stemmed_title</th>\n",
       "    </tr>\n",
       "  </thead>\n",
       "  <tbody>\n",
       "    <tr>\n",
       "      <th>0</th>\n",
       "      <td>1</td>\n",
       "      <td>how did yall get your ps5s?</td>\n",
       "      <td>1656026890</td>\n",
       "      <td>[yall, get]</td>\n",
       "      <td>2</td>\n",
       "      <td>[yall, get]</td>\n",
       "      <td>yall get</td>\n",
       "    </tr>\n",
       "    <tr>\n",
       "      <th>1</th>\n",
       "      <td>1</td>\n",
       "      <td>ps5 horizon bundle still in stock on ps direct</td>\n",
       "      <td>1656026393</td>\n",
       "      <td>[horizon, bundle, still, stock, direct]</td>\n",
       "      <td>5</td>\n",
       "      <td>[horizon, bundl, still, stock, direct]</td>\n",
       "      <td>horizon bundl still stock direct</td>\n",
       "    </tr>\n",
       "    <tr>\n",
       "      <th>3</th>\n",
       "      <td>1</td>\n",
       "      <td>vrr support for hdmi 1.4...</td>\n",
       "      <td>1656023983</td>\n",
       "      <td>[vrr, support, hdmi, 1, 4]</td>\n",
       "      <td>5</td>\n",
       "      <td>[vrr, support, hdmi, 1, 4]</td>\n",
       "      <td>vrr support hdmi 1 4</td>\n",
       "    </tr>\n",
       "    <tr>\n",
       "      <th>4</th>\n",
       "      <td>1</td>\n",
       "      <td>slow download speeds?</td>\n",
       "      <td>1656023471</td>\n",
       "      <td>[slow, download, speeds]</td>\n",
       "      <td>3</td>\n",
       "      <td>[slow, download, speed]</td>\n",
       "      <td>slow download speed</td>\n",
       "    </tr>\n",
       "    <tr>\n",
       "      <th>5</th>\n",
       "      <td>1</td>\n",
       "      <td>help with wireless controller bluetooth</td>\n",
       "      <td>1656022598</td>\n",
       "      <td>[help, wireless, controller, bluetooth]</td>\n",
       "      <td>4</td>\n",
       "      <td>[help, wireless, control, bluetooth]</td>\n",
       "      <td>help wireless control bluetooth</td>\n",
       "    </tr>\n",
       "  </tbody>\n",
       "</table>\n",
       "</div>"
      ],
      "text/plain": [
       "   subreddit                                           title  created_utc  \\\n",
       "0          1                     how did yall get your ps5s?   1656026890   \n",
       "1          1  ps5 horizon bundle still in stock on ps direct   1656026393   \n",
       "3          1                     vrr support for hdmi 1.4...   1656023983   \n",
       "4          1                           slow download speeds?   1656023471   \n",
       "5          1         help with wireless controller bluetooth   1656022598   \n",
       "\n",
       "                                 tokenized  length_of_sentence  \\\n",
       "0                              [yall, get]                   2   \n",
       "1  [horizon, bundle, still, stock, direct]                   5   \n",
       "3               [vrr, support, hdmi, 1, 4]                   5   \n",
       "4                 [slow, download, speeds]                   3   \n",
       "5  [help, wireless, controller, bluetooth]                   4   \n",
       "\n",
       "                                  stemmed                     stemmed_title  \n",
       "0                             [yall, get]                          yall get  \n",
       "1  [horizon, bundl, still, stock, direct]  horizon bundl still stock direct  \n",
       "3              [vrr, support, hdmi, 1, 4]              vrr support hdmi 1 4  \n",
       "4                 [slow, download, speed]               slow download speed  \n",
       "5    [help, wireless, control, bluetooth]   help wireless control bluetooth  "
      ]
     },
     "execution_count": 81,
     "metadata": {},
     "output_type": "execute_result"
    }
   ],
   "source": [
    "console_df.head()"
   ]
  },
  {
   "cell_type": "markdown",
   "id": "051c23b9-75e9-4468-94d6-99bda2d4e4d0",
   "metadata": {},
   "source": [
    "### Lemmatizer"
   ]
  },
  {
   "cell_type": "code",
   "execution_count": 82,
   "id": "9fa94c2d-11e1-49fe-a559-3ac03c6cdbac",
   "metadata": {},
   "outputs": [],
   "source": [
    "lemmatizer = WordNetLemmatizer()"
   ]
  },
  {
   "cell_type": "code",
   "execution_count": 83,
   "id": "4ce8d4ea-0284-4b22-a4c1-6a7190da33c4",
   "metadata": {},
   "outputs": [],
   "source": [
    "console_df['lemmatized'] = console_df['tokenized'].apply(lambda x: [lemmatizer.lemmatize(word) for word in x])"
   ]
  },
  {
   "cell_type": "code",
   "execution_count": 84,
   "id": "344ca4d5-27e2-479c-8343-a22af5f19a18",
   "metadata": {},
   "outputs": [],
   "source": [
    "# join back into one title string\n",
    "console_df['lemmatized_title'] = console_df['lemmatized'].apply(lambda x: \" \".join(x))"
   ]
  },
  {
   "cell_type": "code",
   "execution_count": 85,
   "id": "6397e74b-abeb-488d-9a89-1ccbeab29294",
   "metadata": {},
   "outputs": [
    {
     "data": {
      "text/html": [
       "<div>\n",
       "<style scoped>\n",
       "    .dataframe tbody tr th:only-of-type {\n",
       "        vertical-align: middle;\n",
       "    }\n",
       "\n",
       "    .dataframe tbody tr th {\n",
       "        vertical-align: top;\n",
       "    }\n",
       "\n",
       "    .dataframe thead th {\n",
       "        text-align: right;\n",
       "    }\n",
       "</style>\n",
       "<table border=\"1\" class=\"dataframe\">\n",
       "  <thead>\n",
       "    <tr style=\"text-align: right;\">\n",
       "      <th></th>\n",
       "      <th>subreddit</th>\n",
       "      <th>title</th>\n",
       "      <th>created_utc</th>\n",
       "      <th>tokenized</th>\n",
       "      <th>length_of_sentence</th>\n",
       "      <th>stemmed</th>\n",
       "      <th>stemmed_title</th>\n",
       "      <th>lemmatized</th>\n",
       "      <th>lemmatized_title</th>\n",
       "    </tr>\n",
       "  </thead>\n",
       "  <tbody>\n",
       "    <tr>\n",
       "      <th>0</th>\n",
       "      <td>1</td>\n",
       "      <td>how did yall get your ps5s?</td>\n",
       "      <td>1656026890</td>\n",
       "      <td>[yall, get]</td>\n",
       "      <td>2</td>\n",
       "      <td>[yall, get]</td>\n",
       "      <td>yall get</td>\n",
       "      <td>[yall, get]</td>\n",
       "      <td>yall get</td>\n",
       "    </tr>\n",
       "    <tr>\n",
       "      <th>1</th>\n",
       "      <td>1</td>\n",
       "      <td>ps5 horizon bundle still in stock on ps direct</td>\n",
       "      <td>1656026393</td>\n",
       "      <td>[horizon, bundle, still, stock, direct]</td>\n",
       "      <td>5</td>\n",
       "      <td>[horizon, bundl, still, stock, direct]</td>\n",
       "      <td>horizon bundl still stock direct</td>\n",
       "      <td>[horizon, bundle, still, stock, direct]</td>\n",
       "      <td>horizon bundle still stock direct</td>\n",
       "    </tr>\n",
       "    <tr>\n",
       "      <th>3</th>\n",
       "      <td>1</td>\n",
       "      <td>vrr support for hdmi 1.4...</td>\n",
       "      <td>1656023983</td>\n",
       "      <td>[vrr, support, hdmi, 1, 4]</td>\n",
       "      <td>5</td>\n",
       "      <td>[vrr, support, hdmi, 1, 4]</td>\n",
       "      <td>vrr support hdmi 1 4</td>\n",
       "      <td>[vrr, support, hdmi, 1, 4]</td>\n",
       "      <td>vrr support hdmi 1 4</td>\n",
       "    </tr>\n",
       "    <tr>\n",
       "      <th>4</th>\n",
       "      <td>1</td>\n",
       "      <td>slow download speeds?</td>\n",
       "      <td>1656023471</td>\n",
       "      <td>[slow, download, speeds]</td>\n",
       "      <td>3</td>\n",
       "      <td>[slow, download, speed]</td>\n",
       "      <td>slow download speed</td>\n",
       "      <td>[slow, download, speed]</td>\n",
       "      <td>slow download speed</td>\n",
       "    </tr>\n",
       "    <tr>\n",
       "      <th>5</th>\n",
       "      <td>1</td>\n",
       "      <td>help with wireless controller bluetooth</td>\n",
       "      <td>1656022598</td>\n",
       "      <td>[help, wireless, controller, bluetooth]</td>\n",
       "      <td>4</td>\n",
       "      <td>[help, wireless, control, bluetooth]</td>\n",
       "      <td>help wireless control bluetooth</td>\n",
       "      <td>[help, wireless, controller, bluetooth]</td>\n",
       "      <td>help wireless controller bluetooth</td>\n",
       "    </tr>\n",
       "  </tbody>\n",
       "</table>\n",
       "</div>"
      ],
      "text/plain": [
       "   subreddit                                           title  created_utc  \\\n",
       "0          1                     how did yall get your ps5s?   1656026890   \n",
       "1          1  ps5 horizon bundle still in stock on ps direct   1656026393   \n",
       "3          1                     vrr support for hdmi 1.4...   1656023983   \n",
       "4          1                           slow download speeds?   1656023471   \n",
       "5          1         help with wireless controller bluetooth   1656022598   \n",
       "\n",
       "                                 tokenized  length_of_sentence  \\\n",
       "0                              [yall, get]                   2   \n",
       "1  [horizon, bundle, still, stock, direct]                   5   \n",
       "3               [vrr, support, hdmi, 1, 4]                   5   \n",
       "4                 [slow, download, speeds]                   3   \n",
       "5  [help, wireless, controller, bluetooth]                   4   \n",
       "\n",
       "                                  stemmed                     stemmed_title  \\\n",
       "0                             [yall, get]                          yall get   \n",
       "1  [horizon, bundl, still, stock, direct]  horizon bundl still stock direct   \n",
       "3              [vrr, support, hdmi, 1, 4]              vrr support hdmi 1 4   \n",
       "4                 [slow, download, speed]               slow download speed   \n",
       "5    [help, wireless, control, bluetooth]   help wireless control bluetooth   \n",
       "\n",
       "                                lemmatized                    lemmatized_title  \n",
       "0                              [yall, get]                            yall get  \n",
       "1  [horizon, bundle, still, stock, direct]   horizon bundle still stock direct  \n",
       "3               [vrr, support, hdmi, 1, 4]                vrr support hdmi 1 4  \n",
       "4                  [slow, download, speed]                 slow download speed  \n",
       "5  [help, wireless, controller, bluetooth]  help wireless controller bluetooth  "
      ]
     },
     "execution_count": 85,
     "metadata": {},
     "output_type": "execute_result"
    }
   ],
   "source": [
    "console_df.head()"
   ]
  },
  {
   "cell_type": "markdown",
   "id": "3d71e30f-7acb-4fb2-93a2-731627bb3c67",
   "metadata": {},
   "source": [
    "### Compare Stemming and Lemmatizing"
   ]
  },
  {
   "cell_type": "code",
   "execution_count": 86,
   "id": "17c1a2f7-32a9-41a3-ab4e-79de24bbe64f",
   "metadata": {},
   "outputs": [],
   "source": [
    "cvec = CountVectorizer(stop_words = sw)\n",
    "stem_cvec = pd.DataFrame(\n",
    "    cvec.fit_transform(console_df['stemmed_title']).todense(),\n",
    "    columns = cvec.get_feature_names()\n",
    ")"
   ]
  },
  {
   "cell_type": "code",
   "execution_count": 87,
   "id": "2c35a810-8114-449c-afe8-fe048f892313",
   "metadata": {},
   "outputs": [
    {
     "data": {
      "text/html": [
       "<div>\n",
       "<style scoped>\n",
       "    .dataframe tbody tr th:only-of-type {\n",
       "        vertical-align: middle;\n",
       "    }\n",
       "\n",
       "    .dataframe tbody tr th {\n",
       "        vertical-align: top;\n",
       "    }\n",
       "\n",
       "    .dataframe thead th {\n",
       "        text-align: right;\n",
       "    }\n",
       "</style>\n",
       "<table border=\"1\" class=\"dataframe\">\n",
       "  <thead>\n",
       "    <tr style=\"text-align: right;\">\n",
       "      <th></th>\n",
       "      <th>00</th>\n",
       "      <th>000</th>\n",
       "      <th>00000004</th>\n",
       "      <th>00001</th>\n",
       "      <th>00008</th>\n",
       "      <th>000g</th>\n",
       "      <th>002</th>\n",
       "      <th>003</th>\n",
       "      <th>007</th>\n",
       "      <th>009</th>\n",
       "      <th>...</th>\n",
       "      <th>zombi</th>\n",
       "      <th>zone</th>\n",
       "      <th>zoo</th>\n",
       "      <th>zoom</th>\n",
       "      <th>zorro</th>\n",
       "      <th>zowi</th>\n",
       "      <th>zu</th>\n",
       "      <th>zum</th>\n",
       "      <th>zur</th>\n",
       "      <th>zynga</th>\n",
       "    </tr>\n",
       "  </thead>\n",
       "  <tbody>\n",
       "    <tr>\n",
       "      <th>0</th>\n",
       "      <td>0</td>\n",
       "      <td>0</td>\n",
       "      <td>0</td>\n",
       "      <td>0</td>\n",
       "      <td>0</td>\n",
       "      <td>0</td>\n",
       "      <td>0</td>\n",
       "      <td>0</td>\n",
       "      <td>0</td>\n",
       "      <td>0</td>\n",
       "      <td>...</td>\n",
       "      <td>0</td>\n",
       "      <td>0</td>\n",
       "      <td>0</td>\n",
       "      <td>0</td>\n",
       "      <td>0</td>\n",
       "      <td>0</td>\n",
       "      <td>0</td>\n",
       "      <td>0</td>\n",
       "      <td>0</td>\n",
       "      <td>0</td>\n",
       "    </tr>\n",
       "    <tr>\n",
       "      <th>1</th>\n",
       "      <td>0</td>\n",
       "      <td>0</td>\n",
       "      <td>0</td>\n",
       "      <td>0</td>\n",
       "      <td>0</td>\n",
       "      <td>0</td>\n",
       "      <td>0</td>\n",
       "      <td>0</td>\n",
       "      <td>0</td>\n",
       "      <td>0</td>\n",
       "      <td>...</td>\n",
       "      <td>0</td>\n",
       "      <td>0</td>\n",
       "      <td>0</td>\n",
       "      <td>0</td>\n",
       "      <td>0</td>\n",
       "      <td>0</td>\n",
       "      <td>0</td>\n",
       "      <td>0</td>\n",
       "      <td>0</td>\n",
       "      <td>0</td>\n",
       "    </tr>\n",
       "    <tr>\n",
       "      <th>2</th>\n",
       "      <td>0</td>\n",
       "      <td>0</td>\n",
       "      <td>0</td>\n",
       "      <td>0</td>\n",
       "      <td>0</td>\n",
       "      <td>0</td>\n",
       "      <td>0</td>\n",
       "      <td>0</td>\n",
       "      <td>0</td>\n",
       "      <td>0</td>\n",
       "      <td>...</td>\n",
       "      <td>0</td>\n",
       "      <td>0</td>\n",
       "      <td>0</td>\n",
       "      <td>0</td>\n",
       "      <td>0</td>\n",
       "      <td>0</td>\n",
       "      <td>0</td>\n",
       "      <td>0</td>\n",
       "      <td>0</td>\n",
       "      <td>0</td>\n",
       "    </tr>\n",
       "    <tr>\n",
       "      <th>3</th>\n",
       "      <td>0</td>\n",
       "      <td>0</td>\n",
       "      <td>0</td>\n",
       "      <td>0</td>\n",
       "      <td>0</td>\n",
       "      <td>0</td>\n",
       "      <td>0</td>\n",
       "      <td>0</td>\n",
       "      <td>0</td>\n",
       "      <td>0</td>\n",
       "      <td>...</td>\n",
       "      <td>0</td>\n",
       "      <td>0</td>\n",
       "      <td>0</td>\n",
       "      <td>0</td>\n",
       "      <td>0</td>\n",
       "      <td>0</td>\n",
       "      <td>0</td>\n",
       "      <td>0</td>\n",
       "      <td>0</td>\n",
       "      <td>0</td>\n",
       "    </tr>\n",
       "    <tr>\n",
       "      <th>4</th>\n",
       "      <td>0</td>\n",
       "      <td>0</td>\n",
       "      <td>0</td>\n",
       "      <td>0</td>\n",
       "      <td>0</td>\n",
       "      <td>0</td>\n",
       "      <td>0</td>\n",
       "      <td>0</td>\n",
       "      <td>0</td>\n",
       "      <td>0</td>\n",
       "      <td>...</td>\n",
       "      <td>0</td>\n",
       "      <td>0</td>\n",
       "      <td>0</td>\n",
       "      <td>0</td>\n",
       "      <td>0</td>\n",
       "      <td>0</td>\n",
       "      <td>0</td>\n",
       "      <td>0</td>\n",
       "      <td>0</td>\n",
       "      <td>0</td>\n",
       "    </tr>\n",
       "  </tbody>\n",
       "</table>\n",
       "<p>5 rows × 11354 columns</p>\n",
       "</div>"
      ],
      "text/plain": [
       "   00  000  00000004  00001  00008  000g  002  003  007  009  ...  zombi  \\\n",
       "0   0    0         0      0      0     0    0    0    0    0  ...      0   \n",
       "1   0    0         0      0      0     0    0    0    0    0  ...      0   \n",
       "2   0    0         0      0      0     0    0    0    0    0  ...      0   \n",
       "3   0    0         0      0      0     0    0    0    0    0  ...      0   \n",
       "4   0    0         0      0      0     0    0    0    0    0  ...      0   \n",
       "\n",
       "   zone  zoo  zoom  zorro  zowi  zu  zum  zur  zynga  \n",
       "0     0    0     0      0     0   0    0    0      0  \n",
       "1     0    0     0      0     0   0    0    0      0  \n",
       "2     0    0     0      0     0   0    0    0      0  \n",
       "3     0    0     0      0     0   0    0    0      0  \n",
       "4     0    0     0      0     0   0    0    0      0  \n",
       "\n",
       "[5 rows x 11354 columns]"
      ]
     },
     "execution_count": 87,
     "metadata": {},
     "output_type": "execute_result"
    }
   ],
   "source": [
    "stem_cvec.head()"
   ]
  },
  {
   "cell_type": "code",
   "execution_count": 88,
   "id": "eba2848d-b6cc-458f-a3bc-97e0cd6b67c3",
   "metadata": {},
   "outputs": [
    {
     "data": {
      "text/plain": [
       "11354"
      ]
     },
     "execution_count": 88,
     "metadata": {},
     "output_type": "execute_result"
    }
   ],
   "source": [
    "len(stem_cvec.columns)"
   ]
  },
  {
   "cell_type": "code",
   "execution_count": 89,
   "id": "08b9841b-ec86-4d27-a1b1-cc8446b1521a",
   "metadata": {},
   "outputs": [],
   "source": [
    "cvec = CountVectorizer(stop_words = sw)\n",
    "lem_cvec = pd.DataFrame(\n",
    "    cvec.fit_transform(console_df['lemmatized_title']).todense(),\n",
    "    columns = cvec.get_feature_names()\n",
    ")"
   ]
  },
  {
   "cell_type": "code",
   "execution_count": 90,
   "id": "8c8e713f-8d79-47e3-81ce-b2b016c9bd59",
   "metadata": {},
   "outputs": [
    {
     "data": {
      "text/html": [
       "<div>\n",
       "<style scoped>\n",
       "    .dataframe tbody tr th:only-of-type {\n",
       "        vertical-align: middle;\n",
       "    }\n",
       "\n",
       "    .dataframe tbody tr th {\n",
       "        vertical-align: top;\n",
       "    }\n",
       "\n",
       "    .dataframe thead th {\n",
       "        text-align: right;\n",
       "    }\n",
       "</style>\n",
       "<table border=\"1\" class=\"dataframe\">\n",
       "  <thead>\n",
       "    <tr style=\"text-align: right;\">\n",
       "      <th></th>\n",
       "      <th>00</th>\n",
       "      <th>000</th>\n",
       "      <th>00000004</th>\n",
       "      <th>00001</th>\n",
       "      <th>00008</th>\n",
       "      <th>000gs</th>\n",
       "      <th>002</th>\n",
       "      <th>003</th>\n",
       "      <th>007</th>\n",
       "      <th>009</th>\n",
       "      <th>...</th>\n",
       "      <th>zone</th>\n",
       "      <th>zoo</th>\n",
       "      <th>zoom</th>\n",
       "      <th>zoomed</th>\n",
       "      <th>zorro</th>\n",
       "      <th>zowie</th>\n",
       "      <th>zu</th>\n",
       "      <th>zum</th>\n",
       "      <th>zur</th>\n",
       "      <th>zynga</th>\n",
       "    </tr>\n",
       "  </thead>\n",
       "  <tbody>\n",
       "    <tr>\n",
       "      <th>0</th>\n",
       "      <td>0</td>\n",
       "      <td>0</td>\n",
       "      <td>0</td>\n",
       "      <td>0</td>\n",
       "      <td>0</td>\n",
       "      <td>0</td>\n",
       "      <td>0</td>\n",
       "      <td>0</td>\n",
       "      <td>0</td>\n",
       "      <td>0</td>\n",
       "      <td>...</td>\n",
       "      <td>0</td>\n",
       "      <td>0</td>\n",
       "      <td>0</td>\n",
       "      <td>0</td>\n",
       "      <td>0</td>\n",
       "      <td>0</td>\n",
       "      <td>0</td>\n",
       "      <td>0</td>\n",
       "      <td>0</td>\n",
       "      <td>0</td>\n",
       "    </tr>\n",
       "    <tr>\n",
       "      <th>1</th>\n",
       "      <td>0</td>\n",
       "      <td>0</td>\n",
       "      <td>0</td>\n",
       "      <td>0</td>\n",
       "      <td>0</td>\n",
       "      <td>0</td>\n",
       "      <td>0</td>\n",
       "      <td>0</td>\n",
       "      <td>0</td>\n",
       "      <td>0</td>\n",
       "      <td>...</td>\n",
       "      <td>0</td>\n",
       "      <td>0</td>\n",
       "      <td>0</td>\n",
       "      <td>0</td>\n",
       "      <td>0</td>\n",
       "      <td>0</td>\n",
       "      <td>0</td>\n",
       "      <td>0</td>\n",
       "      <td>0</td>\n",
       "      <td>0</td>\n",
       "    </tr>\n",
       "    <tr>\n",
       "      <th>2</th>\n",
       "      <td>0</td>\n",
       "      <td>0</td>\n",
       "      <td>0</td>\n",
       "      <td>0</td>\n",
       "      <td>0</td>\n",
       "      <td>0</td>\n",
       "      <td>0</td>\n",
       "      <td>0</td>\n",
       "      <td>0</td>\n",
       "      <td>0</td>\n",
       "      <td>...</td>\n",
       "      <td>0</td>\n",
       "      <td>0</td>\n",
       "      <td>0</td>\n",
       "      <td>0</td>\n",
       "      <td>0</td>\n",
       "      <td>0</td>\n",
       "      <td>0</td>\n",
       "      <td>0</td>\n",
       "      <td>0</td>\n",
       "      <td>0</td>\n",
       "    </tr>\n",
       "    <tr>\n",
       "      <th>3</th>\n",
       "      <td>0</td>\n",
       "      <td>0</td>\n",
       "      <td>0</td>\n",
       "      <td>0</td>\n",
       "      <td>0</td>\n",
       "      <td>0</td>\n",
       "      <td>0</td>\n",
       "      <td>0</td>\n",
       "      <td>0</td>\n",
       "      <td>0</td>\n",
       "      <td>...</td>\n",
       "      <td>0</td>\n",
       "      <td>0</td>\n",
       "      <td>0</td>\n",
       "      <td>0</td>\n",
       "      <td>0</td>\n",
       "      <td>0</td>\n",
       "      <td>0</td>\n",
       "      <td>0</td>\n",
       "      <td>0</td>\n",
       "      <td>0</td>\n",
       "    </tr>\n",
       "    <tr>\n",
       "      <th>4</th>\n",
       "      <td>0</td>\n",
       "      <td>0</td>\n",
       "      <td>0</td>\n",
       "      <td>0</td>\n",
       "      <td>0</td>\n",
       "      <td>0</td>\n",
       "      <td>0</td>\n",
       "      <td>0</td>\n",
       "      <td>0</td>\n",
       "      <td>0</td>\n",
       "      <td>...</td>\n",
       "      <td>0</td>\n",
       "      <td>0</td>\n",
       "      <td>0</td>\n",
       "      <td>0</td>\n",
       "      <td>0</td>\n",
       "      <td>0</td>\n",
       "      <td>0</td>\n",
       "      <td>0</td>\n",
       "      <td>0</td>\n",
       "      <td>0</td>\n",
       "    </tr>\n",
       "    <tr>\n",
       "      <th>...</th>\n",
       "      <td>...</td>\n",
       "      <td>...</td>\n",
       "      <td>...</td>\n",
       "      <td>...</td>\n",
       "      <td>...</td>\n",
       "      <td>...</td>\n",
       "      <td>...</td>\n",
       "      <td>...</td>\n",
       "      <td>...</td>\n",
       "      <td>...</td>\n",
       "      <td>...</td>\n",
       "      <td>...</td>\n",
       "      <td>...</td>\n",
       "      <td>...</td>\n",
       "      <td>...</td>\n",
       "      <td>...</td>\n",
       "      <td>...</td>\n",
       "      <td>...</td>\n",
       "      <td>...</td>\n",
       "      <td>...</td>\n",
       "      <td>...</td>\n",
       "    </tr>\n",
       "    <tr>\n",
       "      <th>29179</th>\n",
       "      <td>0</td>\n",
       "      <td>0</td>\n",
       "      <td>0</td>\n",
       "      <td>0</td>\n",
       "      <td>0</td>\n",
       "      <td>0</td>\n",
       "      <td>0</td>\n",
       "      <td>0</td>\n",
       "      <td>0</td>\n",
       "      <td>0</td>\n",
       "      <td>...</td>\n",
       "      <td>0</td>\n",
       "      <td>0</td>\n",
       "      <td>0</td>\n",
       "      <td>0</td>\n",
       "      <td>0</td>\n",
       "      <td>0</td>\n",
       "      <td>0</td>\n",
       "      <td>0</td>\n",
       "      <td>0</td>\n",
       "      <td>0</td>\n",
       "    </tr>\n",
       "    <tr>\n",
       "      <th>29180</th>\n",
       "      <td>0</td>\n",
       "      <td>0</td>\n",
       "      <td>0</td>\n",
       "      <td>0</td>\n",
       "      <td>0</td>\n",
       "      <td>0</td>\n",
       "      <td>0</td>\n",
       "      <td>0</td>\n",
       "      <td>0</td>\n",
       "      <td>0</td>\n",
       "      <td>...</td>\n",
       "      <td>0</td>\n",
       "      <td>0</td>\n",
       "      <td>0</td>\n",
       "      <td>0</td>\n",
       "      <td>0</td>\n",
       "      <td>0</td>\n",
       "      <td>0</td>\n",
       "      <td>0</td>\n",
       "      <td>0</td>\n",
       "      <td>0</td>\n",
       "    </tr>\n",
       "    <tr>\n",
       "      <th>29181</th>\n",
       "      <td>0</td>\n",
       "      <td>0</td>\n",
       "      <td>0</td>\n",
       "      <td>0</td>\n",
       "      <td>0</td>\n",
       "      <td>0</td>\n",
       "      <td>0</td>\n",
       "      <td>0</td>\n",
       "      <td>0</td>\n",
       "      <td>0</td>\n",
       "      <td>...</td>\n",
       "      <td>0</td>\n",
       "      <td>0</td>\n",
       "      <td>0</td>\n",
       "      <td>0</td>\n",
       "      <td>0</td>\n",
       "      <td>0</td>\n",
       "      <td>0</td>\n",
       "      <td>0</td>\n",
       "      <td>0</td>\n",
       "      <td>0</td>\n",
       "    </tr>\n",
       "    <tr>\n",
       "      <th>29182</th>\n",
       "      <td>0</td>\n",
       "      <td>0</td>\n",
       "      <td>0</td>\n",
       "      <td>0</td>\n",
       "      <td>0</td>\n",
       "      <td>0</td>\n",
       "      <td>0</td>\n",
       "      <td>0</td>\n",
       "      <td>0</td>\n",
       "      <td>0</td>\n",
       "      <td>...</td>\n",
       "      <td>0</td>\n",
       "      <td>0</td>\n",
       "      <td>0</td>\n",
       "      <td>0</td>\n",
       "      <td>0</td>\n",
       "      <td>0</td>\n",
       "      <td>0</td>\n",
       "      <td>0</td>\n",
       "      <td>0</td>\n",
       "      <td>0</td>\n",
       "    </tr>\n",
       "    <tr>\n",
       "      <th>29183</th>\n",
       "      <td>0</td>\n",
       "      <td>0</td>\n",
       "      <td>0</td>\n",
       "      <td>0</td>\n",
       "      <td>0</td>\n",
       "      <td>0</td>\n",
       "      <td>0</td>\n",
       "      <td>0</td>\n",
       "      <td>0</td>\n",
       "      <td>0</td>\n",
       "      <td>...</td>\n",
       "      <td>0</td>\n",
       "      <td>0</td>\n",
       "      <td>0</td>\n",
       "      <td>0</td>\n",
       "      <td>0</td>\n",
       "      <td>0</td>\n",
       "      <td>0</td>\n",
       "      <td>0</td>\n",
       "      <td>0</td>\n",
       "      <td>0</td>\n",
       "    </tr>\n",
       "  </tbody>\n",
       "</table>\n",
       "<p>29184 rows × 13581 columns</p>\n",
       "</div>"
      ],
      "text/plain": [
       "       00  000  00000004  00001  00008  000gs  002  003  007  009  ...  zone  \\\n",
       "0       0    0         0      0      0      0    0    0    0    0  ...     0   \n",
       "1       0    0         0      0      0      0    0    0    0    0  ...     0   \n",
       "2       0    0         0      0      0      0    0    0    0    0  ...     0   \n",
       "3       0    0         0      0      0      0    0    0    0    0  ...     0   \n",
       "4       0    0         0      0      0      0    0    0    0    0  ...     0   \n",
       "...    ..  ...       ...    ...    ...    ...  ...  ...  ...  ...  ...   ...   \n",
       "29179   0    0         0      0      0      0    0    0    0    0  ...     0   \n",
       "29180   0    0         0      0      0      0    0    0    0    0  ...     0   \n",
       "29181   0    0         0      0      0      0    0    0    0    0  ...     0   \n",
       "29182   0    0         0      0      0      0    0    0    0    0  ...     0   \n",
       "29183   0    0         0      0      0      0    0    0    0    0  ...     0   \n",
       "\n",
       "       zoo  zoom  zoomed  zorro  zowie  zu  zum  zur  zynga  \n",
       "0        0     0       0      0      0   0    0    0      0  \n",
       "1        0     0       0      0      0   0    0    0      0  \n",
       "2        0     0       0      0      0   0    0    0      0  \n",
       "3        0     0       0      0      0   0    0    0      0  \n",
       "4        0     0       0      0      0   0    0    0      0  \n",
       "...    ...   ...     ...    ...    ...  ..  ...  ...    ...  \n",
       "29179    0     0       0      0      0   0    0    0      0  \n",
       "29180    0     0       0      0      0   0    0    0      0  \n",
       "29181    0     0       0      0      0   0    0    0      0  \n",
       "29182    0     0       0      0      0   0    0    0      0  \n",
       "29183    0     0       0      0      0   0    0    0      0  \n",
       "\n",
       "[29184 rows x 13581 columns]"
      ]
     },
     "execution_count": 90,
     "metadata": {},
     "output_type": "execute_result"
    }
   ],
   "source": [
    "lem_cvec"
   ]
  },
  {
   "cell_type": "code",
   "execution_count": 91,
   "id": "da1af5ce-4a35-4a67-a10f-ab3ab98aac28",
   "metadata": {},
   "outputs": [
    {
     "data": {
      "text/plain": [
       "13581"
      ]
     },
     "execution_count": 91,
     "metadata": {},
     "output_type": "execute_result"
    }
   ],
   "source": [
    "len(lem_cvec.columns)"
   ]
  },
  {
   "cell_type": "markdown",
   "id": "4add1d1f-d218-4e69-9ff4-b7f7958f442d",
   "metadata": {},
   "source": [
    "There are 11354 words remaining after stemming and 13581 after lemmatizing. We will go with stemming to reduce the number of features further."
   ]
  },
  {
   "cell_type": "markdown",
   "id": "be2cdcbc-b11b-49d4-a652-441e4df2ce9d",
   "metadata": {},
   "source": [
    "## Prepare Data for Modelling"
   ]
  },
  {
   "cell_type": "code",
   "execution_count": 92,
   "id": "3c179597-5565-4a82-858b-e71397fe5921",
   "metadata": {},
   "outputs": [],
   "source": [
    "console_cleaned = console_df[['subreddit', 'title', 'created_utc', 'stemmed_title']]"
   ]
  },
  {
   "cell_type": "code",
   "execution_count": 93,
   "id": "90e0b2b6-465c-4d9d-aa52-70803f92f536",
   "metadata": {},
   "outputs": [
    {
     "data": {
      "text/html": [
       "<div>\n",
       "<style scoped>\n",
       "    .dataframe tbody tr th:only-of-type {\n",
       "        vertical-align: middle;\n",
       "    }\n",
       "\n",
       "    .dataframe tbody tr th {\n",
       "        vertical-align: top;\n",
       "    }\n",
       "\n",
       "    .dataframe thead th {\n",
       "        text-align: right;\n",
       "    }\n",
       "</style>\n",
       "<table border=\"1\" class=\"dataframe\">\n",
       "  <thead>\n",
       "    <tr style=\"text-align: right;\">\n",
       "      <th></th>\n",
       "      <th>subreddit</th>\n",
       "      <th>title</th>\n",
       "      <th>created_utc</th>\n",
       "      <th>stemmed_title</th>\n",
       "    </tr>\n",
       "  </thead>\n",
       "  <tbody>\n",
       "    <tr>\n",
       "      <th>0</th>\n",
       "      <td>1</td>\n",
       "      <td>how did yall get your ps5s?</td>\n",
       "      <td>1656026890</td>\n",
       "      <td>yall get</td>\n",
       "    </tr>\n",
       "    <tr>\n",
       "      <th>1</th>\n",
       "      <td>1</td>\n",
       "      <td>ps5 horizon bundle still in stock on ps direct</td>\n",
       "      <td>1656026393</td>\n",
       "      <td>horizon bundl still stock direct</td>\n",
       "    </tr>\n",
       "    <tr>\n",
       "      <th>3</th>\n",
       "      <td>1</td>\n",
       "      <td>vrr support for hdmi 1.4...</td>\n",
       "      <td>1656023983</td>\n",
       "      <td>vrr support hdmi 1 4</td>\n",
       "    </tr>\n",
       "    <tr>\n",
       "      <th>4</th>\n",
       "      <td>1</td>\n",
       "      <td>slow download speeds?</td>\n",
       "      <td>1656023471</td>\n",
       "      <td>slow download speed</td>\n",
       "    </tr>\n",
       "    <tr>\n",
       "      <th>5</th>\n",
       "      <td>1</td>\n",
       "      <td>help with wireless controller bluetooth</td>\n",
       "      <td>1656022598</td>\n",
       "      <td>help wireless control bluetooth</td>\n",
       "    </tr>\n",
       "  </tbody>\n",
       "</table>\n",
       "</div>"
      ],
      "text/plain": [
       "   subreddit                                           title  created_utc  \\\n",
       "0          1                     how did yall get your ps5s?   1656026890   \n",
       "1          1  ps5 horizon bundle still in stock on ps direct   1656026393   \n",
       "3          1                     vrr support for hdmi 1.4...   1656023983   \n",
       "4          1                           slow download speeds?   1656023471   \n",
       "5          1         help with wireless controller bluetooth   1656022598   \n",
       "\n",
       "                      stemmed_title  \n",
       "0                          yall get  \n",
       "1  horizon bundl still stock direct  \n",
       "3              vrr support hdmi 1 4  \n",
       "4               slow download speed  \n",
       "5   help wireless control bluetooth  "
      ]
     },
     "execution_count": 93,
     "metadata": {},
     "output_type": "execute_result"
    }
   ],
   "source": [
    "console_cleaned.head()"
   ]
  },
  {
   "cell_type": "markdown",
   "id": "a169d24f-3b5b-40d0-a4e1-34768a7d7185",
   "metadata": {},
   "source": [
    "### Remaining Top words"
   ]
  },
  {
   "cell_type": "markdown",
   "id": "b4b904c9-c728-406a-9438-67a02955db4e",
   "metadata": {},
   "source": [
    "**Unigram**"
   ]
  },
  {
   "cell_type": "code",
   "execution_count": 94,
   "id": "9b8f9558-fc3b-4e91-941d-e64659fd3bf2",
   "metadata": {},
   "outputs": [],
   "source": [
    "cvec = CountVectorizer(stop_words = 'english', ngram_range=(1,1), max_features=1000)\n",
    "console_cvec = pd.DataFrame(\n",
    "    cvec.fit_transform(console_cleaned['stemmed_title']).todense(),\n",
    "    columns = cvec.get_feature_names()\n",
    ")"
   ]
  },
  {
   "cell_type": "code",
   "execution_count": 95,
   "id": "87d1d1de-c0c8-4976-8c15-de5b14783138",
   "metadata": {},
   "outputs": [],
   "source": [
    "console_word_count = console_cvec.sum().sort_values(ascending=False)"
   ]
  },
  {
   "cell_type": "code",
   "execution_count": 96,
   "id": "5b63ab72-dc58-437e-a939-2b1bccb71806",
   "metadata": {},
   "outputs": [],
   "source": [
    "console_top_20 = console_word_count[:20]"
   ]
  },
  {
   "cell_type": "code",
   "execution_count": 97,
   "id": "286b9740-5151-499e-a9ab-46931e0952c8",
   "metadata": {},
   "outputs": [
    {
     "data": {
      "image/png": "[encoded data removed]",
      "text/plain": [
       "<Figure size 432x288 with 1 Axes>"
      ]
     },
     "metadata": {
      "needs_background": "light"
     },
     "output_type": "display_data"
    }
   ],
   "source": [
    "sns.barplot(x=console_top_20.values, y=console_top_20.index)\n",
    "plt.title('Console Top Words')\n",
    "plt.show()"
   ]
  },
  {
   "cell_type": "markdown",
   "id": "e1043291-02f3-4f13-a26c-50ff2bb694d0",
   "metadata": {},
   "source": [
    "**bigram**"
   ]
  },
  {
   "cell_type": "code",
   "execution_count": 98,
   "id": "c5aac2e9-4446-4593-832f-26a4cabc9ccc",
   "metadata": {},
   "outputs": [],
   "source": [
    "cvec = CountVectorizer(stop_words = 'english', ngram_range=(2,2), max_features=1000)\n",
    "console_cvec2 = pd.DataFrame(\n",
    "    cvec.fit_transform(console_cleaned['stemmed_title']).todense(),\n",
    "    columns = cvec.get_feature_names()\n",
    ")"
   ]
  },
  {
   "cell_type": "code",
   "execution_count": 99,
   "id": "1ddf6ef6-58d9-43a1-9cf0-169fd7046089",
   "metadata": {},
   "outputs": [],
   "source": [
    "console_word_count = console_cvec2.sum().sort_values(ascending=False)"
   ]
  },
  {
   "cell_type": "code",
   "execution_count": 100,
   "id": "a6d94b1e-6230-4b64-a7fe-75d663b123c8",
   "metadata": {},
   "outputs": [],
   "source": [
    "console_top_20 = console_word_count[:20]"
   ]
  },
  {
   "cell_type": "code",
   "execution_count": 101,
   "id": "c24ba6c4-0851-4203-849e-e3a8481d38d2",
   "metadata": {},
   "outputs": [
    {
     "data": {
      "image/png": "[encoded data removed]",
      "text/plain": [
       "<Figure size 432x288 with 1 Axes>"
      ]
     },
     "metadata": {
      "needs_background": "light"
     },
     "output_type": "display_data"
    }
   ],
   "source": [
    "sns.barplot(x=console_top_20.values, y=console_top_20.index)\n",
    "plt.title('Console Top Words - bigram')\n",
    "plt.show()"
   ]
  },
  {
   "cell_type": "markdown",
   "id": "c05f756d-eb88-4897-a0e3-c659d6f951fa",
   "metadata": {},
   "source": [
    "**trigram**"
   ]
  },
  {
   "cell_type": "code",
   "execution_count": 102,
   "id": "410b6ff8-739f-4386-997f-9086dc14b91c",
   "metadata": {},
   "outputs": [],
   "source": [
    "cvec = CountVectorizer(stop_words = 'english', ngram_range=(3,3), max_features=1000)\n",
    "console_cvec3 = pd.DataFrame(\n",
    "    cvec.fit_transform(console_cleaned['stemmed_title']).todense(),\n",
    "    columns = cvec.get_feature_names()\n",
    ")"
   ]
  },
  {
   "cell_type": "code",
   "execution_count": 103,
   "id": "909f1044-572e-4346-b6e1-c2d14aaa1c29",
   "metadata": {},
   "outputs": [],
   "source": [
    "console_word_count = console_cvec3.sum().sort_values(ascending=False)"
   ]
  },
  {
   "cell_type": "code",
   "execution_count": 104,
   "id": "7fe8668f-4f76-40c7-8c25-81d69e8d1a02",
   "metadata": {},
   "outputs": [],
   "source": [
    "console_top_20 = console_word_count[:20]"
   ]
  },
  {
   "cell_type": "code",
   "execution_count": 105,
   "id": "ac1f231c-25b6-40df-8bbc-49abca6da2ef",
   "metadata": {},
   "outputs": [
    {
     "data": {
      "image/png": "[encoded data removed]",
      "text/plain": [
       "<Figure size 432x288 with 1 Axes>"
      ]
     },
     "metadata": {
      "needs_background": "light"
     },
     "output_type": "display_data"
    }
   ],
   "source": [
    "sns.barplot(x=console_top_20.values, y=console_top_20.index)\n",
    "plt.title('Console Top Words - trigram')\n",
    "plt.show()"
   ]
  },
  {
   "cell_type": "markdown",
   "id": "3c722b1e-d525-4ffe-88ba-3e68f89f4694",
   "metadata": {},
   "source": [
    "Most of the top words remain after cleaning - with the exception of the PS5/Xbox words"
   ]
  },
  {
   "cell_type": "code",
   "execution_count": 106,
   "id": "486b6a02-70f6-463b-a9cf-cc1376f8f32e",
   "metadata": {},
   "outputs": [
    {
     "data": {
      "text/plain": [
       "subreddit        0\n",
       "title            0\n",
       "created_utc      0\n",
       "stemmed_title    0\n",
       "dtype: int64"
      ]
     },
     "execution_count": 106,
     "metadata": {},
     "output_type": "execute_result"
    }
   ],
   "source": [
    "# Check for null values\n",
    "console_cleaned.isnull().sum()"
   ]
  },
  {
   "cell_type": "code",
   "execution_count": 107,
   "id": "26a373f1-7731-4970-9eaf-441edb3236a1",
   "metadata": {},
   "outputs": [
    {
     "data": {
      "text/plain": [
       "0"
      ]
     },
     "execution_count": 107,
     "metadata": {},
     "output_type": "execute_result"
    }
   ],
   "source": [
    "# Check for empty rows\n",
    "(console_cleaned['stemmed_title'] == '').sum()"
   ]
  },
  {
   "cell_type": "markdown",
   "id": "b8ca3290-bb7d-4967-bccb-857f6fa476fc",
   "metadata": {},
   "source": [
    "## Export data for modelling"
   ]
  },
  {
   "cell_type": "code",
   "execution_count": 108,
   "id": "880477a4-723c-4391-9585-bd035b971d16",
   "metadata": {},
   "outputs": [],
   "source": [
    "console_cleaned.to_csv('data/console_reddit.csv', index_label=False)"
   ]
  },
  {
   "cell_type": "markdown",
   "id": "6bd48d0f-b46c-4c02-bfdb-017be06985c3",
   "metadata": {},
   "source": [
    "## Data Cleaning & EDA Summary"
   ]
  },
  {
   "cell_type": "markdown",
   "id": "568cd93c-0077-4427-9df9-5022dc22767f",
   "metadata": {},
   "source": [
    "### EDA\n",
    "\n",
    "There are 10479 unique words in the ps5 corpus\n",
    "The top occurring unigrams for both datasets contain some common words like ‘game’, ‘controller’ and their respective console specific words like\n",
    "playstation and xbox \n",
    "The top bigram words for PS5 are PS Plus, games such as Elden Ring, Final Fantasy and Horizon Forbidden West and PS5 Controller\n",
    "There are 10003 unique words in the Xbox corpus\n",
    "The top bigram words for Xbox are Game Pass, Elden Ring, Halo Infinite, Dying Light and Series Controllera\n",
    "Both Count Vectorizer (Most Frequent) and TD-IDF (Most important) returns mostly the same words\n",
    "\n",
    "Judging by the count of post and the period of the 15,000 post for each subreddit, PS5 definitely looks like it is the more popular console\n",
    "During the last few months, ps5 has more post on average. \n",
    "\n",
    "### Data Cleaning\n",
    "\n",
    "We will use the title, subreddit and created date for our analysis. During our cleaning of the title column, we remove noises in our data such\n",
    "as the html links, symbols and any markdown language like '/n'. We also covert our emojis to text. Then, stop words are removed from the corpus.\n",
    "Some custom stopwords were also included. These are words like PS5, Xbox or words similar to them. Most Documents have words less than 13 words. \n",
    "There are a small group of documetns with more than 20 words. We only kept documents with at least 2 words as single word documents do not seem \n",
    "to be useful for our modelling.\n",
    "\n",
    "We assess both Stemming and Lemmatizing. Stemming was used as it reduced the number of features by a greater magnitude.\n",
    "There are 11354 words remaining after stemming. Most of the top words remain after cleaning - with the exception of the PS5/Xbox words.\n"
   ]
  },
  {
   "cell_type": "code",
   "execution_count": null,
   "id": "a8672a2a-fe08-4aaf-9039-15be9439e14c",
   "metadata": {},
   "outputs": [],
   "source": []
  }
 ],
 "metadata": {
  "kernelspec": {
   "display_name": "pycaret_env",
   "language": "python",
   "name": "pycaret"
  },
  "language_info": {
   "codemirror_mode": {
    "name": "ipython",
    "version": 3
   },
   "file_extension": ".py",
   "mimetype": "text/x-python",
   "name": "python",
   "nbconvert_exporter": "python",
   "pygments_lexer": "ipython3",
   "version": "3.8.13"
  },
  "toc-autonumbering": true,
  "toc-showtags": false
 },
 "nbformat": 4,
 "nbformat_minor": 5
}
