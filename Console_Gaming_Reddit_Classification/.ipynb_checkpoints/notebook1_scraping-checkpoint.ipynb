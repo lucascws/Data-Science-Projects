{
 "cells": [
  {
   "cell_type": "markdown",
   "id": "56988d96-797f-4318-a57e-5f8561f1589a",
   "metadata": {},
   "source": [
    "# Introduction and Data scraping\n",
    "### Notebook 1 of 4"
   ]
  },
  {
   "cell_type": "markdown",
   "id": "48a9c9ac-bdec-4968-a486-c0190640f3ff",
   "metadata": {},
   "source": [
    "# Introduction"
   ]
  },
  {
   "cell_type": "markdown",
   "id": "a6e93590-5d27-4442-b96e-ee06d3d17398",
   "metadata": {},
   "source": [
    "## Executive Summary"
   ]
  },
  {
   "cell_type": "markdown",
   "id": "d27c0d83-08a0-4cea-a155-29d06b20ff18",
   "metadata": {},
   "source": [
    "In this project, the aim is to assist a new gaming store in the setting up of the online forum for the local community by implementing a classification model for them to tag/allocate their post to either 'PS5' or 'Xbox'. To achieve this, we utilise the latest posts from reddit for the respective consoles. In addition, they need insights from the console gaming community to aid in their marketing campaign to determine the focus. From our research, PS5 seems to be have more popular and active community than Xbox. For both consoles, the trending topics are similar. Those topics are their subscription services, PS Plus and Game Pass, the top games as well as the controllers. After performing sentiments and emotions analysis on the reddit posts, games, in general, seems to garner the most positive sentiments. Thus, games could be a focus for a marketing campaign. To classify the post into PS5 and Xbox, we will use a classification model as the variable here is a binary variable. After evaluating the various models, our top three models are Logistic Regression, Light GBM and Random Forest. The Logistic Regression Model was chosen as the best model as it gave the best accuracy score."
   ]
  },
  {
   "cell_type": "markdown",
   "id": "babdff53-b325-48d1-8df3-cd12bdae65d7",
   "metadata": {},
   "source": [
    "## Problem Statement\n",
    "\n",
    "A gaming store has been newly set up. The owners wish to build its business activities, and increase its physical and online presences.\n",
    "To start off, they would like to find out which topics of the major consoles (PS5 and Xbox) are trending. At the same time, they are exploring the idea of having a forum on their website that allow discussion among gaming community, and e-commerce section to include product reviews. \n",
    "We are engaged to develop a classification model that predicts which category a post belongs to. This will be helpful for their forum moderation/upkeep while users experience better navigation of the store’s online space with the help of accurate tagging/sections allocation. \n",
    "We are also tasked to identify the recent topics of interest and the community’s sentiments towards them to aid them in their marketing campaign. This would provide them an indicative area of focus.\n",
    "\n",
    "To address this problem, our goal is to: \n",
    "- Identify the hottest topics from the subreddits of PS5 and Xbox Series X\n",
    "- What are general sentiments and emotions of the community in general and towards the topics/products\n",
    "- Develop a Classification Model to distinguish PS5 and Xbox posts\n",
    "    - Our objective is to classify post without the words 'PS5' and 'Xbox' (or similar words) in them as those posts can be automatically tagged/allocated"
   ]
  },
  {
   "cell_type": "markdown",
   "id": "b76730f9-2218-47eb-89c2-d2d1cb8ad3d6",
   "metadata": {},
   "source": [
    "### Key Questions\n",
    "\n",
    "- Which community is more active?\n",
    "- What are the trending topics for each community?\n",
    "- Which products should we focus our marketing on?\n",
    "- Regarding top topics, what are the community’s sentiments and emotions towards them?\n",
    "- What is the best model to classify post\n"
   ]
  },
  {
   "cell_type": "markdown",
   "id": "bf8e1292-8977-4c85-b2ef-c5b981770291",
   "metadata": {},
   "source": [
    "### Process\n",
    "\n",
    "- Data Collection\n",
    "- Data Cleaning and Exploration\n",
    "- Pre-processing\n",
    "- Modelling\n",
    "- Model Evaluation\n",
    "- Sentiments and Emotions Analysis\n"
   ]
  },
  {
   "cell_type": "markdown",
   "id": "8a652600-9dfc-43f3-8325-dcba38e8afc6",
   "metadata": {},
   "source": [
    "# Data Collection"
   ]
  },
  {
   "cell_type": "markdown",
   "id": "25dfba2e-98ce-4120-a2ab-3bcc51905887",
   "metadata": {},
   "source": [
    "To achieve our objective, we will extract the last 15,000 posts from the PS5 and Xbox Series X subreddit respectively to analyse.\n",
    "\n",
    "- Webscraped using Pushshift Reddit API\n",
    "- Subreddits: PS5 (PlayStation 5) and XBox Series X\n",
    "- Time frame: Before 24 Jun 2022 0000hr"
   ]
  },
  {
   "cell_type": "code",
   "execution_count": 1,
   "id": "80d3e3f1-c8e2-4519-88e7-15e9757c464c",
   "metadata": {},
   "outputs": [],
   "source": [
    "# Import Libraries\n",
    "import requests\n",
    "import pandas as pd\n",
    "import time\n",
    "import random"
   ]
  },
  {
   "cell_type": "code",
   "execution_count": 2,
   "id": "8b08e7fd-66c1-4cd3-9302-8cd5e621000b",
   "metadata": {},
   "outputs": [],
   "source": [
    "url_subs = \"https://api.pushshift.io/reddit/search/submission\""
   ]
  },
  {
   "cell_type": "markdown",
   "id": "86dac2ab-bfcf-4300-ab91-f159634ea367",
   "metadata": {},
   "source": [
    "## Webscraping"
   ]
  },
  {
   "cell_type": "markdown",
   "id": "0e0a434c-2ffd-4311-b93d-dc3e4950a58e",
   "metadata": {},
   "source": [
    "### PS5"
   ]
  },
  {
   "cell_type": "code",
   "execution_count": 3,
   "id": "088f7147-80de-4b47-8074-13d36aed3037",
   "metadata": {},
   "outputs": [],
   "source": [
    "# Define function for extraction of data\n",
    "def get_bfore_posts(url, subreddit, date, runs=150):\n",
    "    params = {'subreddit': subreddit, 'size' : 100, 'before': date}\n",
    "    reddit_subs = []\n",
    "    for i in range(runs):\n",
    "        res = requests.get(url, params)\n",
    "        if res.status_code != 200:\n",
    "            print(\"error\")\n",
    "        else:\n",
    "            reddit_extract = res.json()\n",
    "            reddit_subs += reddit_extract['data']\n",
    "            params['before'] = reddit_subs[-1]['created_utc']\n",
    "            time.sleep((random.randint(10, 20)))\n",
    "            print(f\"batch {i} completed\")\n",
    "    return reddit_subs"
   ]
  },
  {
   "cell_type": "code",
   "execution_count": 4,
   "id": "1c368ec7-6a4d-4571-a70d-d19e8245481e",
   "metadata": {},
   "outputs": [
    {
     "name": "stdout",
     "output_type": "stream",
     "text": [
      "batch 0 completed\n",
      "batch 1 completed\n",
      "batch 2 completed\n",
      "batch 3 completed\n",
      "batch 4 completed\n",
      "batch 5 completed\n",
      "batch 6 completed\n",
      "batch 7 completed\n",
      "batch 8 completed\n",
      "batch 9 completed\n",
      "batch 10 completed\n",
      "batch 11 completed\n",
      "batch 12 completed\n",
      "batch 13 completed\n",
      "batch 14 completed\n",
      "batch 15 completed\n",
      "batch 16 completed\n",
      "batch 17 completed\n",
      "batch 18 completed\n",
      "batch 19 completed\n",
      "batch 20 completed\n",
      "batch 21 completed\n",
      "batch 22 completed\n",
      "batch 23 completed\n",
      "batch 24 completed\n",
      "batch 25 completed\n",
      "batch 26 completed\n",
      "batch 27 completed\n",
      "batch 28 completed\n",
      "batch 29 completed\n",
      "batch 30 completed\n",
      "batch 31 completed\n",
      "batch 32 completed\n",
      "batch 33 completed\n",
      "batch 34 completed\n",
      "batch 35 completed\n",
      "batch 36 completed\n",
      "batch 37 completed\n",
      "batch 38 completed\n",
      "batch 39 completed\n",
      "batch 40 completed\n",
      "batch 41 completed\n",
      "batch 42 completed\n",
      "batch 43 completed\n",
      "batch 44 completed\n",
      "batch 45 completed\n",
      "batch 46 completed\n",
      "batch 47 completed\n",
      "batch 48 completed\n",
      "batch 49 completed\n",
      "batch 50 completed\n",
      "batch 51 completed\n",
      "batch 52 completed\n",
      "batch 53 completed\n",
      "batch 54 completed\n",
      "batch 55 completed\n",
      "batch 56 completed\n",
      "batch 57 completed\n",
      "batch 58 completed\n",
      "batch 59 completed\n",
      "batch 60 completed\n",
      "batch 61 completed\n",
      "batch 62 completed\n",
      "batch 63 completed\n",
      "batch 64 completed\n",
      "batch 65 completed\n",
      "batch 66 completed\n",
      "batch 67 completed\n",
      "batch 68 completed\n",
      "batch 69 completed\n",
      "batch 70 completed\n",
      "batch 71 completed\n",
      "batch 72 completed\n",
      "batch 73 completed\n",
      "batch 74 completed\n",
      "batch 75 completed\n",
      "batch 76 completed\n",
      "batch 77 completed\n",
      "batch 78 completed\n",
      "batch 79 completed\n",
      "batch 80 completed\n",
      "batch 81 completed\n",
      "batch 82 completed\n",
      "batch 83 completed\n",
      "batch 84 completed\n",
      "batch 85 completed\n",
      "batch 86 completed\n",
      "batch 87 completed\n",
      "batch 88 completed\n",
      "batch 89 completed\n",
      "batch 90 completed\n",
      "batch 91 completed\n",
      "batch 92 completed\n",
      "batch 93 completed\n",
      "batch 94 completed\n",
      "batch 95 completed\n",
      "batch 96 completed\n",
      "batch 97 completed\n",
      "batch 98 completed\n",
      "batch 99 completed\n",
      "batch 100 completed\n",
      "batch 101 completed\n",
      "batch 102 completed\n",
      "batch 103 completed\n",
      "batch 104 completed\n",
      "batch 105 completed\n",
      "batch 106 completed\n",
      "batch 107 completed\n",
      "batch 108 completed\n",
      "batch 109 completed\n",
      "batch 110 completed\n",
      "batch 111 completed\n",
      "batch 112 completed\n",
      "batch 113 completed\n",
      "batch 114 completed\n",
      "batch 115 completed\n",
      "batch 116 completed\n",
      "batch 117 completed\n",
      "batch 118 completed\n",
      "batch 119 completed\n",
      "batch 120 completed\n",
      "batch 121 completed\n",
      "batch 122 completed\n",
      "batch 123 completed\n",
      "batch 124 completed\n",
      "batch 125 completed\n",
      "batch 126 completed\n",
      "batch 127 completed\n",
      "batch 128 completed\n",
      "batch 129 completed\n",
      "batch 130 completed\n",
      "batch 131 completed\n",
      "batch 132 completed\n",
      "batch 133 completed\n",
      "batch 134 completed\n",
      "batch 135 completed\n",
      "batch 136 completed\n",
      "batch 137 completed\n",
      "batch 138 completed\n",
      "batch 139 completed\n",
      "batch 140 completed\n",
      "batch 141 completed\n",
      "batch 142 completed\n",
      "batch 143 completed\n",
      "batch 144 completed\n",
      "batch 145 completed\n",
      "batch 146 completed\n",
      "batch 147 completed\n",
      "batch 148 completed\n",
      "batch 149 completed\n"
     ]
    }
   ],
   "source": [
    "ps5_df = get_bfore_posts(url_subs, \"PS5\", date='1656028800')"
   ]
  },
  {
   "cell_type": "code",
   "execution_count": 5,
   "id": "041bec26-a331-47ed-8097-7a9fdca5198d",
   "metadata": {},
   "outputs": [
    {
     "data": {
      "text/plain": [
       "14986"
      ]
     },
     "execution_count": 5,
     "metadata": {},
     "output_type": "execute_result"
    }
   ],
   "source": [
    "len(ps5_df)"
   ]
  },
  {
   "cell_type": "markdown",
   "id": "38718440-b0bf-4039-9fbb-5bad27084ab8",
   "metadata": {},
   "source": [
    "14986 out of 15000 PS5 post were extracted. Most of the posts were extracted, we will use this set of PS5 dataset for the analysis"
   ]
  },
  {
   "cell_type": "code",
   "execution_count": 6,
   "id": "ebfdca86-a229-4639-a162-52fa9eb29eff",
   "metadata": {},
   "outputs": [],
   "source": [
    "ps5_df = pd.DataFrame(ps5_df)"
   ]
  },
  {
   "cell_type": "code",
   "execution_count": 7,
   "id": "841f5d7e-aff9-4bbf-8ae1-4b4308fb89aa",
   "metadata": {},
   "outputs": [
    {
     "data": {
      "text/plain": [
       "0        1656026890\n",
       "1        1656026393\n",
       "2        1656024401\n",
       "3        1656023983\n",
       "4        1656023471\n",
       "            ...    \n",
       "14981    1646727952\n",
       "14982    1646726903\n",
       "14983    1646726605\n",
       "14984    1646724175\n",
       "14985    1646723536\n",
       "Name: created_utc, Length: 14986, dtype: int64"
      ]
     },
     "execution_count": 7,
     "metadata": {},
     "output_type": "execute_result"
    }
   ],
   "source": [
    "ps5_df['created_utc']"
   ]
  },
  {
   "cell_type": "markdown",
   "id": "0d210b14-224c-41f9-866e-cafe94dbd386",
   "metadata": {},
   "source": [
    "Our ps5 dataset covers posts from the period of 8 March 2022 to 24 Jun 2022"
   ]
  },
  {
   "cell_type": "code",
   "execution_count": 8,
   "id": "be660e58-e216-4603-9575-dfff298182ef",
   "metadata": {},
   "outputs": [
    {
     "data": {
      "text/html": [
       "<div>\n",
       "<style scoped>\n",
       "    .dataframe tbody tr th:only-of-type {\n",
       "        vertical-align: middle;\n",
       "    }\n",
       "\n",
       "    .dataframe tbody tr th {\n",
       "        vertical-align: top;\n",
       "    }\n",
       "\n",
       "    .dataframe thead th {\n",
       "        text-align: right;\n",
       "    }\n",
       "</style>\n",
       "<table border=\"1\" class=\"dataframe\">\n",
       "  <thead>\n",
       "    <tr style=\"text-align: right;\">\n",
       "      <th></th>\n",
       "      <th>subreddit</th>\n",
       "      <th>selftext</th>\n",
       "      <th>title</th>\n",
       "    </tr>\n",
       "  </thead>\n",
       "  <tbody>\n",
       "    <tr>\n",
       "      <th>0</th>\n",
       "      <td>PS5</td>\n",
       "      <td>[removed]</td>\n",
       "      <td>How did yall get your ps5s?</td>\n",
       "    </tr>\n",
       "    <tr>\n",
       "      <th>1</th>\n",
       "      <td>PS5</td>\n",
       "      <td></td>\n",
       "      <td>PS5 Horizon Bundle still in stock on PS Direct</td>\n",
       "    </tr>\n",
       "    <tr>\n",
       "      <th>2</th>\n",
       "      <td>PS5</td>\n",
       "      <td>[removed]</td>\n",
       "      <td>Ps5 doesn’t work</td>\n",
       "    </tr>\n",
       "    <tr>\n",
       "      <th>3</th>\n",
       "      <td>PS5</td>\n",
       "      <td>I know that 1.4 only supports 1080p and up to ...</td>\n",
       "      <td>VRR support for HDMI 1.4...</td>\n",
       "    </tr>\n",
       "    <tr>\n",
       "      <th>4</th>\n",
       "      <td>PS5</td>\n",
       "      <td>[removed]</td>\n",
       "      <td>Slow download speeds?</td>\n",
       "    </tr>\n",
       "    <tr>\n",
       "      <th>...</th>\n",
       "      <td>...</td>\n",
       "      <td>...</td>\n",
       "      <td>...</td>\n",
       "    </tr>\n",
       "    <tr>\n",
       "      <th>14981</th>\n",
       "      <td>PS5</td>\n",
       "      <td></td>\n",
       "      <td>PS5 Now Has A Console Exclusive Reviewing Wors...</td>\n",
       "    </tr>\n",
       "    <tr>\n",
       "      <th>14982</th>\n",
       "      <td>PS5</td>\n",
       "      <td>I checked my internet speed and it’s around 2....</td>\n",
       "      <td>Updates and downloads just stop. I</td>\n",
       "    </tr>\n",
       "    <tr>\n",
       "      <th>14983</th>\n",
       "      <td>PS5</td>\n",
       "      <td></td>\n",
       "      <td>Evo 2022 Lineup Reveal will be tomorrow</td>\n",
       "    </tr>\n",
       "    <tr>\n",
       "      <th>14984</th>\n",
       "      <td>PS5</td>\n",
       "      <td>So after I turned it off last night, it didn't...</td>\n",
       "      <td>My ps5 doesn't work</td>\n",
       "    </tr>\n",
       "    <tr>\n",
       "      <th>14985</th>\n",
       "      <td>PS5</td>\n",
       "      <td>SP is currently £8.75, MP is free. Downloading...</td>\n",
       "      <td>GTA V PS5 is available on the PS5 Store now</td>\n",
       "    </tr>\n",
       "  </tbody>\n",
       "</table>\n",
       "<p>14986 rows × 3 columns</p>\n",
       "</div>"
      ],
      "text/plain": [
       "      subreddit                                           selftext  \\\n",
       "0           PS5                                          [removed]   \n",
       "1           PS5                                                      \n",
       "2           PS5                                          [removed]   \n",
       "3           PS5  I know that 1.4 only supports 1080p and up to ...   \n",
       "4           PS5                                          [removed]   \n",
       "...         ...                                                ...   \n",
       "14981       PS5                                                      \n",
       "14982       PS5  I checked my internet speed and it’s around 2....   \n",
       "14983       PS5                                                      \n",
       "14984       PS5  So after I turned it off last night, it didn't...   \n",
       "14985       PS5  SP is currently £8.75, MP is free. Downloading...   \n",
       "\n",
       "                                                   title  \n",
       "0                            How did yall get your ps5s?  \n",
       "1         PS5 Horizon Bundle still in stock on PS Direct  \n",
       "2                                       Ps5 doesn’t work  \n",
       "3                            VRR support for HDMI 1.4...  \n",
       "4                                  Slow download speeds?  \n",
       "...                                                  ...  \n",
       "14981  PS5 Now Has A Console Exclusive Reviewing Wors...  \n",
       "14982                 Updates and downloads just stop. I  \n",
       "14983            Evo 2022 Lineup Reveal will be tomorrow  \n",
       "14984                                My ps5 doesn't work  \n",
       "14985        GTA V PS5 is available on the PS5 Store now  \n",
       "\n",
       "[14986 rows x 3 columns]"
      ]
     },
     "execution_count": 8,
     "metadata": {},
     "output_type": "execute_result"
    }
   ],
   "source": [
    "ps5_df[['subreddit', 'selftext', 'title']]"
   ]
  },
  {
   "cell_type": "markdown",
   "id": "32ebe33e-ac72-4c96-a0cf-9ec8d5935733",
   "metadata": {},
   "source": [
    "### Xbox Series X"
   ]
  },
  {
   "cell_type": "code",
   "execution_count": 9,
   "id": "95516ff8-92aa-425f-9097-ae6444800930",
   "metadata": {},
   "outputs": [
    {
     "name": "stdout",
     "output_type": "stream",
     "text": [
      "batch 0 completed\n",
      "batch 1 completed\n",
      "batch 2 completed\n",
      "batch 3 completed\n",
      "batch 4 completed\n",
      "batch 5 completed\n",
      "batch 6 completed\n",
      "batch 7 completed\n",
      "batch 8 completed\n",
      "batch 9 completed\n",
      "batch 10 completed\n",
      "batch 11 completed\n",
      "batch 12 completed\n",
      "batch 13 completed\n",
      "batch 14 completed\n",
      "batch 15 completed\n",
      "batch 16 completed\n",
      "batch 17 completed\n",
      "batch 18 completed\n",
      "batch 19 completed\n",
      "batch 20 completed\n",
      "batch 21 completed\n",
      "batch 22 completed\n",
      "batch 23 completed\n",
      "batch 24 completed\n",
      "batch 25 completed\n",
      "batch 26 completed\n",
      "batch 27 completed\n",
      "batch 28 completed\n",
      "batch 29 completed\n",
      "batch 30 completed\n",
      "batch 31 completed\n",
      "batch 32 completed\n",
      "batch 33 completed\n",
      "batch 34 completed\n",
      "batch 35 completed\n",
      "batch 36 completed\n",
      "batch 37 completed\n",
      "batch 38 completed\n",
      "batch 39 completed\n",
      "batch 40 completed\n",
      "batch 41 completed\n",
      "batch 42 completed\n",
      "batch 43 completed\n",
      "batch 44 completed\n",
      "batch 45 completed\n",
      "batch 46 completed\n",
      "batch 47 completed\n",
      "batch 48 completed\n",
      "batch 49 completed\n",
      "batch 50 completed\n",
      "batch 51 completed\n",
      "batch 52 completed\n",
      "batch 53 completed\n",
      "batch 54 completed\n",
      "batch 55 completed\n",
      "batch 56 completed\n",
      "batch 57 completed\n",
      "batch 58 completed\n",
      "batch 59 completed\n",
      "batch 60 completed\n",
      "batch 61 completed\n",
      "batch 62 completed\n",
      "batch 63 completed\n",
      "batch 64 completed\n",
      "batch 65 completed\n",
      "batch 66 completed\n",
      "batch 67 completed\n",
      "batch 68 completed\n",
      "batch 69 completed\n",
      "batch 70 completed\n",
      "batch 71 completed\n",
      "batch 72 completed\n",
      "batch 73 completed\n",
      "batch 74 completed\n",
      "batch 75 completed\n",
      "batch 76 completed\n",
      "batch 77 completed\n",
      "batch 78 completed\n",
      "batch 79 completed\n",
      "batch 80 completed\n",
      "batch 81 completed\n",
      "batch 82 completed\n",
      "batch 83 completed\n",
      "batch 84 completed\n",
      "batch 85 completed\n",
      "batch 86 completed\n",
      "batch 87 completed\n",
      "batch 88 completed\n",
      "batch 89 completed\n",
      "batch 90 completed\n",
      "batch 91 completed\n",
      "batch 92 completed\n",
      "batch 93 completed\n",
      "batch 94 completed\n",
      "batch 95 completed\n",
      "batch 96 completed\n",
      "batch 97 completed\n",
      "batch 98 completed\n",
      "batch 99 completed\n",
      "batch 100 completed\n",
      "batch 101 completed\n",
      "batch 102 completed\n",
      "batch 103 completed\n",
      "batch 104 completed\n",
      "batch 105 completed\n",
      "batch 106 completed\n",
      "batch 107 completed\n",
      "batch 108 completed\n",
      "batch 109 completed\n",
      "batch 110 completed\n",
      "batch 111 completed\n",
      "batch 112 completed\n",
      "batch 113 completed\n",
      "batch 114 completed\n",
      "batch 115 completed\n",
      "batch 116 completed\n",
      "batch 117 completed\n",
      "batch 118 completed\n",
      "batch 119 completed\n",
      "batch 120 completed\n",
      "batch 121 completed\n",
      "batch 122 completed\n",
      "batch 123 completed\n",
      "batch 124 completed\n",
      "batch 125 completed\n",
      "batch 126 completed\n",
      "batch 127 completed\n",
      "batch 128 completed\n",
      "batch 129 completed\n",
      "batch 130 completed\n",
      "batch 131 completed\n",
      "batch 132 completed\n",
      "batch 133 completed\n",
      "batch 134 completed\n",
      "batch 135 completed\n",
      "batch 136 completed\n",
      "batch 137 completed\n",
      "batch 138 completed\n",
      "batch 139 completed\n",
      "batch 140 completed\n",
      "batch 141 completed\n",
      "batch 142 completed\n",
      "batch 143 completed\n",
      "batch 144 completed\n",
      "batch 145 completed\n",
      "batch 146 completed\n",
      "batch 147 completed\n",
      "batch 148 completed\n",
      "batch 149 completed\n"
     ]
    }
   ],
   "source": [
    "xbox_df = get_bfore_posts(url_subs, \"XboxSeriesX\", date='1656028800')"
   ]
  },
  {
   "cell_type": "code",
   "execution_count": 10,
   "id": "0ebc855e-7c80-4ee3-8b81-764d407e8b90",
   "metadata": {},
   "outputs": [
    {
     "data": {
      "text/plain": [
       "14996"
      ]
     },
     "execution_count": 10,
     "metadata": {},
     "output_type": "execute_result"
    }
   ],
   "source": [
    "len(xbox_df)"
   ]
  },
  {
   "cell_type": "markdown",
   "id": "d0b238e2-fa13-4cb3-b32d-99c0be1dc286",
   "metadata": {},
   "source": [
    "14996 out of 15000 Xbox post were extracted. Most of the posts were extracted, we will use this set of XboxOur ps5 dataset covers posts from the period of 8 March 2022 to 24 Jun 2022 dataset for the analysis"
   ]
  },
  {
   "cell_type": "code",
   "execution_count": 11,
   "id": "a7489f78-043a-4be0-98c0-ee424719c81c",
   "metadata": {},
   "outputs": [],
   "source": [
    "xbox_df = pd.DataFrame(xbox_df)"
   ]
  },
  {
   "cell_type": "code",
   "execution_count": 12,
   "id": "389a383e-d525-4737-a79a-9043ff518a19",
   "metadata": {},
   "outputs": [
    {
     "data": {
      "text/plain": [
       "0        1656028695\n",
       "1        1656028592\n",
       "2        1656028539\n",
       "3        1656027959\n",
       "4        1656027813\n",
       "            ...    \n",
       "14991    1643670976\n",
       "14992    1643670696\n",
       "14993    1643670577\n",
       "14994    1643670316\n",
       "14995    1643668667\n",
       "Name: created_utc, Length: 14996, dtype: int64"
      ]
     },
     "execution_count": 12,
     "metadata": {},
     "output_type": "execute_result"
    }
   ],
   "source": [
    "xbox_df['created_utc']"
   ]
  },
  {
   "cell_type": "markdown",
   "id": "b3e53165-1927-4342-93fc-c8a8484d71d8",
   "metadata": {},
   "source": [
    "Our Xbox dataset covers posts from the period of 31 January 2022 to 24 Jun 2022"
   ]
  },
  {
   "cell_type": "code",
   "execution_count": 13,
   "id": "843ac227-7d4f-4d8c-ba65-3fe667a93c19",
   "metadata": {},
   "outputs": [
    {
     "data": {
      "text/html": [
       "<div>\n",
       "<style scoped>\n",
       "    .dataframe tbody tr th:only-of-type {\n",
       "        vertical-align: middle;\n",
       "    }\n",
       "\n",
       "    .dataframe tbody tr th {\n",
       "        vertical-align: top;\n",
       "    }\n",
       "\n",
       "    .dataframe thead th {\n",
       "        text-align: right;\n",
       "    }\n",
       "</style>\n",
       "<table border=\"1\" class=\"dataframe\">\n",
       "  <thead>\n",
       "    <tr style=\"text-align: right;\">\n",
       "      <th></th>\n",
       "      <th>subreddit</th>\n",
       "      <th>selftext</th>\n",
       "      <th>title</th>\n",
       "    </tr>\n",
       "  </thead>\n",
       "  <tbody>\n",
       "    <tr>\n",
       "      <th>0</th>\n",
       "      <td>XboxSeriesX</td>\n",
       "      <td></td>\n",
       "      <td>anyone know how to fix this?</td>\n",
       "    </tr>\n",
       "    <tr>\n",
       "      <th>1</th>\n",
       "      <td>XboxSeriesX</td>\n",
       "      <td>I just purchased the physical Xbox One version...</td>\n",
       "      <td>Resident Evil Disc</td>\n",
       "    </tr>\n",
       "    <tr>\n",
       "      <th>2</th>\n",
       "      <td>XboxSeriesX</td>\n",
       "      <td></td>\n",
       "      <td>Xbox has released a teaser for their fictional...</td>\n",
       "    </tr>\n",
       "    <tr>\n",
       "      <th>3</th>\n",
       "      <td>XboxSeriesX</td>\n",
       "      <td></td>\n",
       "      <td>!!!</td>\n",
       "    </tr>\n",
       "    <tr>\n",
       "      <th>4</th>\n",
       "      <td>XboxSeriesX</td>\n",
       "      <td>Tomorrow I'll be receiving  my brand new 4k TV...</td>\n",
       "      <td>I'm finally getting a 4k TV what do I install?</td>\n",
       "    </tr>\n",
       "    <tr>\n",
       "      <th>...</th>\n",
       "      <td>...</td>\n",
       "      <td>...</td>\n",
       "      <td>...</td>\n",
       "    </tr>\n",
       "    <tr>\n",
       "      <th>14991</th>\n",
       "      <td>XboxSeriesX</td>\n",
       "      <td>this is for my halo infinite disc which I boug...</td>\n",
       "      <td>disc not working.</td>\n",
       "    </tr>\n",
       "    <tr>\n",
       "      <th>14992</th>\n",
       "      <td>XboxSeriesX</td>\n",
       "      <td></td>\n",
       "      <td>I’m looking into buying the Series X, but I do...</td>\n",
       "    </tr>\n",
       "    <tr>\n",
       "      <th>14993</th>\n",
       "      <td>XboxSeriesX</td>\n",
       "      <td>the hdmi cord got ripped out and took the port...</td>\n",
       "      <td>My dogs tipped my Series X over and im probabl...</td>\n",
       "    </tr>\n",
       "    <tr>\n",
       "      <th>14994</th>\n",
       "      <td>XboxSeriesX</td>\n",
       "      <td>Does the monitor support VRR on the XSX?</td>\n",
       "      <td>For anyone with a XSX and an Alienware AW2521h</td>\n",
       "    </tr>\n",
       "    <tr>\n",
       "      <th>14995</th>\n",
       "      <td>XboxSeriesX</td>\n",
       "      <td>As a Crash fan I see only good things in this ...</td>\n",
       "      <td>Crash Bandicoot as a Microsoft exclusive are m...</td>\n",
       "    </tr>\n",
       "  </tbody>\n",
       "</table>\n",
       "<p>14996 rows × 3 columns</p>\n",
       "</div>"
      ],
      "text/plain": [
       "         subreddit                                           selftext  \\\n",
       "0      XboxSeriesX                                                      \n",
       "1      XboxSeriesX  I just purchased the physical Xbox One version...   \n",
       "2      XboxSeriesX                                                      \n",
       "3      XboxSeriesX                                                      \n",
       "4      XboxSeriesX  Tomorrow I'll be receiving  my brand new 4k TV...   \n",
       "...            ...                                                ...   \n",
       "14991  XboxSeriesX  this is for my halo infinite disc which I boug...   \n",
       "14992  XboxSeriesX                                                      \n",
       "14993  XboxSeriesX  the hdmi cord got ripped out and took the port...   \n",
       "14994  XboxSeriesX           Does the monitor support VRR on the XSX?   \n",
       "14995  XboxSeriesX  As a Crash fan I see only good things in this ...   \n",
       "\n",
       "                                                   title  \n",
       "0                           anyone know how to fix this?  \n",
       "1                                     Resident Evil Disc  \n",
       "2      Xbox has released a teaser for their fictional...  \n",
       "3                                                    !!!  \n",
       "4         I'm finally getting a 4k TV what do I install?  \n",
       "...                                                  ...  \n",
       "14991                                  disc not working.  \n",
       "14992  I’m looking into buying the Series X, but I do...  \n",
       "14993  My dogs tipped my Series X over and im probabl...  \n",
       "14994     For anyone with a XSX and an Alienware AW2521h  \n",
       "14995  Crash Bandicoot as a Microsoft exclusive are m...  \n",
       "\n",
       "[14996 rows x 3 columns]"
      ]
     },
     "execution_count": 13,
     "metadata": {},
     "output_type": "execute_result"
    }
   ],
   "source": [
    "xbox_df[['subreddit', 'selftext', 'title']]"
   ]
  },
  {
   "cell_type": "markdown",
   "id": "4aaba996-91a5-49c3-bfab-d9e43aa08d61",
   "metadata": {},
   "source": [
    "## Export Data"
   ]
  },
  {
   "cell_type": "code",
   "execution_count": 14,
   "id": "d5e3596f-185d-4fa5-9347-86b55f05cf82",
   "metadata": {},
   "outputs": [],
   "source": [
    "ps5_df.to_csv(\"data/ps5.csv\")"
   ]
  },
  {
   "cell_type": "code",
   "execution_count": 15,
   "id": "32fb2702-81f3-47d3-a790-2453d5719d74",
   "metadata": {},
   "outputs": [],
   "source": [
    "xbox_df.to_csv(\"data/xbox.csv\")"
   ]
  },
  {
   "cell_type": "markdown",
   "id": "574fb963-4b6d-4ac1-ad48-6fb321290032",
   "metadata": {},
   "source": [
    "## Data Collection Summary"
   ]
  },
  {
   "cell_type": "markdown",
   "id": "eed87c4e-392b-4738-a900-94db505bcbfa",
   "metadata": {},
   "source": [
    "To achieve our objective, we will extract the last 15,000 posts from the PS5 and Xbox Series X subreddit respectively to analyse.\n",
    "We will Webscraped using Pushshift Reddit API for the Subreddits, PS5 (PlayStation 5) and XBox Series X. \n",
    "The time frame we will use: Before 24 Jun 2022 0000hr\n",
    "\n",
    "14986 out of 15000 PS5 post were extracted. \n",
    "Our ps5 dataset covers posts from the period of 8 March 2022 to 24 Jun 2022\n",
    "14996 out of 15000 Xbox post were extracted.\n",
    "Our Xbox dataset covers posts from the period of 31 January 2022 to 24 Jun 2022\n"
   ]
  }
 ],
 "metadata": {
  "kernelspec": {
   "display_name": "Python 3 (ipykernel)",
   "language": "python",
   "name": "python3"
  },
  "language_info": {
   "codemirror_mode": {
    "name": "ipython",
    "version": 3
   },
   "file_extension": ".py",
   "mimetype": "text/x-python",
   "name": "python",
   "nbconvert_exporter": "python",
   "pygments_lexer": "ipython3",
   "version": "3.9.12"
  }
 },
 "nbformat": 4,
 "nbformat_minor": 5
}
