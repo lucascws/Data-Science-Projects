{
 "cells": [
  {
   "cell_type": "markdown",
   "id": "826f6a9a-d47a-4168-a8e2-6015dc6067e5",
   "metadata": {},
   "source": [
    "# Sentiments and Emotions Analysis\n",
    "### Notebook 4 of 4"
   ]
  },
  {
   "cell_type": "markdown",
   "id": "2b97da20-9a96-444b-b59a-3fdcf59ce51b",
   "metadata": {},
   "source": [
    "For this section we will analyse the post from each of the subreddits as well as some of the major topics from each to get a gauge of the communities sentiment and emotion. In order to do so, we will utilise the Hugging Face pre-trained models for sentiment analysis as well as emotions analysis \n",
    "\n",
    "The topics for each subreddit we will explore are:\n",
    "\n",
    "PS5\n",
    "- PS Plus\n",
    "- Elden Ring\n",
    "- Horizon Forbidden West\n",
    "- Final Fantasy\n",
    "- PS5 Controller\n",
    "\n",
    "\n",
    "Xbox\n",
    "- Game Pass\n",
    "- Elden Ring\n",
    "- Dying Light\n",
    "- Halo Infinite\n",
    "- Series Controller\n",
    "\n",
    "PS Plus and Game Pass are the console's respective subscription service\n",
    "We pick the top 3 games for each subreddit based on how often the words appear in the subreddit\n",
    "Controller is also a hot topic in both subreddit"
   ]
  },
  {
   "cell_type": "markdown",
   "id": "5610a7c7-b582-4836-9e71-8ec31f39da51",
   "metadata": {},
   "source": [
    "## Import Cleaned Data"
   ]
  },
  {
   "cell_type": "code",
   "execution_count": 1,
   "id": "cf39e8e1-6a0d-4d13-9bb1-80c5ff4cc15c",
   "metadata": {},
   "outputs": [],
   "source": [
    "# Import Libraries\n",
    "import pandas as pd\n",
    "from nltk.tokenize import word_tokenize, RegexpTokenizer\n",
    "from transformers import pipeline\n",
    "import seaborn as sns\n",
    "import matplotlib.pyplot as plt"
   ]
  },
  {
   "cell_type": "code",
   "execution_count": 2,
   "id": "f4a79a5e-d34b-47ea-a917-8411490774fd",
   "metadata": {},
   "outputs": [],
   "source": [
    "console_df = pd.read_csv('data/console_cleaned_text.csv')"
   ]
  },
  {
   "cell_type": "code",
   "execution_count": 3,
   "id": "3a145dcf-0a9d-439a-833f-eaa4045902c2",
   "metadata": {},
   "outputs": [
    {
     "data": {
      "text/plain": [
       "(29982, 3)"
      ]
     },
     "execution_count": 3,
     "metadata": {},
     "output_type": "execute_result"
    }
   ],
   "source": [
    "# Check Shape\n",
    "console_df.shape"
   ]
  },
  {
   "cell_type": "code",
   "execution_count": 4,
   "id": "574d1221-a987-4bd2-a8bb-138e0faf3dd3",
   "metadata": {},
   "outputs": [
    {
     "data": {
      "text/html": [
       "<div>\n",
       "<style scoped>\n",
       "    .dataframe tbody tr th:only-of-type {\n",
       "        vertical-align: middle;\n",
       "    }\n",
       "\n",
       "    .dataframe tbody tr th {\n",
       "        vertical-align: top;\n",
       "    }\n",
       "\n",
       "    .dataframe thead th {\n",
       "        text-align: right;\n",
       "    }\n",
       "</style>\n",
       "<table border=\"1\" class=\"dataframe\">\n",
       "  <thead>\n",
       "    <tr style=\"text-align: right;\">\n",
       "      <th></th>\n",
       "      <th>subreddit</th>\n",
       "      <th>title</th>\n",
       "      <th>created_utc</th>\n",
       "    </tr>\n",
       "  </thead>\n",
       "  <tbody>\n",
       "    <tr>\n",
       "      <th>0</th>\n",
       "      <td>1</td>\n",
       "      <td>how did yall get your ps5s?</td>\n",
       "      <td>1656026890</td>\n",
       "    </tr>\n",
       "    <tr>\n",
       "      <th>1</th>\n",
       "      <td>1</td>\n",
       "      <td>ps5 horizon bundle still in stock on ps direct</td>\n",
       "      <td>1656026393</td>\n",
       "    </tr>\n",
       "    <tr>\n",
       "      <th>2</th>\n",
       "      <td>1</td>\n",
       "      <td>ps5 doesn't work</td>\n",
       "      <td>1656024401</td>\n",
       "    </tr>\n",
       "    <tr>\n",
       "      <th>3</th>\n",
       "      <td>1</td>\n",
       "      <td>vrr support for hdmi 1.4...</td>\n",
       "      <td>1656023983</td>\n",
       "    </tr>\n",
       "    <tr>\n",
       "      <th>4</th>\n",
       "      <td>1</td>\n",
       "      <td>slow download speeds?</td>\n",
       "      <td>1656023471</td>\n",
       "    </tr>\n",
       "  </tbody>\n",
       "</table>\n",
       "</div>"
      ],
      "text/plain": [
       "   subreddit                                           title  created_utc\n",
       "0          1                     how did yall get your ps5s?   1656026890\n",
       "1          1  ps5 horizon bundle still in stock on ps direct   1656026393\n",
       "2          1                                ps5 doesn't work   1656024401\n",
       "3          1                     vrr support for hdmi 1.4...   1656023983\n",
       "4          1                           slow download speeds?   1656023471"
      ]
     },
     "execution_count": 4,
     "metadata": {},
     "output_type": "execute_result"
    }
   ],
   "source": [
    "console_df.head()"
   ]
  },
  {
   "cell_type": "code",
   "execution_count": 5,
   "id": "ea020986-75fe-4650-8920-31cbcb520489",
   "metadata": {},
   "outputs": [
    {
     "name": "stdout",
     "output_type": "stream",
     "text": [
      "<class 'pandas.core.frame.DataFrame'>\n",
      "Int64Index: 29982 entries, 0 to 29981\n",
      "Data columns (total 3 columns):\n",
      " #   Column       Non-Null Count  Dtype \n",
      "---  ------       --------------  ----- \n",
      " 0   subreddit    29982 non-null  int64 \n",
      " 1   title        29958 non-null  object\n",
      " 2   created_utc  29982 non-null  int64 \n",
      "dtypes: int64(2), object(1)\n",
      "memory usage: 936.9+ KB\n"
     ]
    }
   ],
   "source": [
    "console_df.info()"
   ]
  },
  {
   "cell_type": "code",
   "execution_count": 6,
   "id": "f5c05104-0e53-44af-8373-8ff4d8a90f93",
   "metadata": {},
   "outputs": [
    {
     "data": {
      "text/plain": [
       "subreddit       0\n",
       "title          24\n",
       "created_utc     0\n",
       "dtype: int64"
      ]
     },
     "execution_count": 6,
     "metadata": {},
     "output_type": "execute_result"
    }
   ],
   "source": [
    "# Check for null values\n",
    "console_df.isnull().sum()"
   ]
  },
  {
   "cell_type": "code",
   "execution_count": 7,
   "id": "45639c65-b85f-4df8-ac38-980e8e5ecca6",
   "metadata": {},
   "outputs": [],
   "source": [
    "# Drop null\n",
    "console_df = console_df.dropna()"
   ]
  },
  {
   "cell_type": "code",
   "execution_count": 8,
   "id": "6755ffc5-3071-4c03-aafd-11390024abba",
   "metadata": {},
   "outputs": [
    {
     "data": {
      "text/plain": [
       "0"
      ]
     },
     "execution_count": 8,
     "metadata": {},
     "output_type": "execute_result"
    }
   ],
   "source": [
    "# Check for empty values\n",
    "(console_df['title'] == '').sum()"
   ]
  },
  {
   "cell_type": "markdown",
   "id": "0051464f-ee5b-49d1-b0e6-862a46ff073d",
   "metadata": {},
   "source": [
    "Tokenize words and join them back into a sentence to remove unwanted characters"
   ]
  },
  {
   "cell_type": "code",
   "execution_count": 9,
   "id": "809327ac-c264-4591-bd95-64a077ce60c6",
   "metadata": {},
   "outputs": [],
   "source": [
    "tokenizer = RegexpTokenizer(r'\\w+')"
   ]
  },
  {
   "cell_type": "code",
   "execution_count": 10,
   "id": "ce7d6e01-78c3-44e2-8a56-a632742624ef",
   "metadata": {},
   "outputs": [],
   "source": [
    "console_df['tokenized'] = console_df['title'].apply(lambda x: tokenizer.tokenize(x.lower()))"
   ]
  },
  {
   "cell_type": "code",
   "execution_count": 11,
   "id": "206bad98-d57f-44b5-a120-e93f308f7599",
   "metadata": {},
   "outputs": [
    {
     "data": {
      "text/html": [
       "<div>\n",
       "<style scoped>\n",
       "    .dataframe tbody tr th:only-of-type {\n",
       "        vertical-align: middle;\n",
       "    }\n",
       "\n",
       "    .dataframe tbody tr th {\n",
       "        vertical-align: top;\n",
       "    }\n",
       "\n",
       "    .dataframe thead th {\n",
       "        text-align: right;\n",
       "    }\n",
       "</style>\n",
       "<table border=\"1\" class=\"dataframe\">\n",
       "  <thead>\n",
       "    <tr style=\"text-align: right;\">\n",
       "      <th></th>\n",
       "      <th>subreddit</th>\n",
       "      <th>title</th>\n",
       "      <th>created_utc</th>\n",
       "      <th>tokenized</th>\n",
       "    </tr>\n",
       "  </thead>\n",
       "  <tbody>\n",
       "    <tr>\n",
       "      <th>0</th>\n",
       "      <td>1</td>\n",
       "      <td>how did yall get your ps5s?</td>\n",
       "      <td>1656026890</td>\n",
       "      <td>[how, did, yall, get, your, ps5s]</td>\n",
       "    </tr>\n",
       "    <tr>\n",
       "      <th>1</th>\n",
       "      <td>1</td>\n",
       "      <td>ps5 horizon bundle still in stock on ps direct</td>\n",
       "      <td>1656026393</td>\n",
       "      <td>[ps5, horizon, bundle, still, in, stock, on, p...</td>\n",
       "    </tr>\n",
       "    <tr>\n",
       "      <th>2</th>\n",
       "      <td>1</td>\n",
       "      <td>ps5 doesn't work</td>\n",
       "      <td>1656024401</td>\n",
       "      <td>[ps5, doesn, t, work]</td>\n",
       "    </tr>\n",
       "    <tr>\n",
       "      <th>3</th>\n",
       "      <td>1</td>\n",
       "      <td>vrr support for hdmi 1.4...</td>\n",
       "      <td>1656023983</td>\n",
       "      <td>[vrr, support, for, hdmi, 1, 4]</td>\n",
       "    </tr>\n",
       "    <tr>\n",
       "      <th>4</th>\n",
       "      <td>1</td>\n",
       "      <td>slow download speeds?</td>\n",
       "      <td>1656023471</td>\n",
       "      <td>[slow, download, speeds]</td>\n",
       "    </tr>\n",
       "    <tr>\n",
       "      <th>...</th>\n",
       "      <td>...</td>\n",
       "      <td>...</td>\n",
       "      <td>...</td>\n",
       "      <td>...</td>\n",
       "    </tr>\n",
       "    <tr>\n",
       "      <th>29977</th>\n",
       "      <td>0</td>\n",
       "      <td>disc not working.</td>\n",
       "      <td>1643670976</td>\n",
       "      <td>[disc, not, working]</td>\n",
       "    </tr>\n",
       "    <tr>\n",
       "      <th>29978</th>\n",
       "      <td>0</td>\n",
       "      <td>i'm looking into buying the series x, but i do...</td>\n",
       "      <td>1643670696</td>\n",
       "      <td>[i, m, looking, into, buying, the, series, x, ...</td>\n",
       "    </tr>\n",
       "    <tr>\n",
       "      <th>29979</th>\n",
       "      <td>0</td>\n",
       "      <td>my dogs tipped my series x over and im probabl...</td>\n",
       "      <td>1643670577</td>\n",
       "      <td>[my, dogs, tipped, my, series, x, over, and, i...</td>\n",
       "    </tr>\n",
       "    <tr>\n",
       "      <th>29980</th>\n",
       "      <td>0</td>\n",
       "      <td>for anyone with a xsx and an alienware aw2521h</td>\n",
       "      <td>1643670316</td>\n",
       "      <td>[for, anyone, with, a, xsx, and, an, alienware...</td>\n",
       "    </tr>\n",
       "    <tr>\n",
       "      <th>29981</th>\n",
       "      <td>0</td>\n",
       "      <td>crash bandicoot as a microsoft exclusive are m...</td>\n",
       "      <td>1643668667</td>\n",
       "      <td>[crash, bandicoot, as, a, microsoft, exclusive...</td>\n",
       "    </tr>\n",
       "  </tbody>\n",
       "</table>\n",
       "<p>29958 rows × 4 columns</p>\n",
       "</div>"
      ],
      "text/plain": [
       "       subreddit                                              title  \\\n",
       "0              1                        how did yall get your ps5s?   \n",
       "1              1     ps5 horizon bundle still in stock on ps direct   \n",
       "2              1                                   ps5 doesn't work   \n",
       "3              1                        vrr support for hdmi 1.4...   \n",
       "4              1                              slow download speeds?   \n",
       "...          ...                                                ...   \n",
       "29977          0                                  disc not working.   \n",
       "29978          0  i'm looking into buying the series x, but i do...   \n",
       "29979          0  my dogs tipped my series x over and im probabl...   \n",
       "29980          0     for anyone with a xsx and an alienware aw2521h   \n",
       "29981          0  crash bandicoot as a microsoft exclusive are m...   \n",
       "\n",
       "       created_utc                                          tokenized  \n",
       "0       1656026890                  [how, did, yall, get, your, ps5s]  \n",
       "1       1656026393  [ps5, horizon, bundle, still, in, stock, on, p...  \n",
       "2       1656024401                              [ps5, doesn, t, work]  \n",
       "3       1656023983                    [vrr, support, for, hdmi, 1, 4]  \n",
       "4       1656023471                           [slow, download, speeds]  \n",
       "...            ...                                                ...  \n",
       "29977   1643670976                               [disc, not, working]  \n",
       "29978   1643670696  [i, m, looking, into, buying, the, series, x, ...  \n",
       "29979   1643670577  [my, dogs, tipped, my, series, x, over, and, i...  \n",
       "29980   1643670316  [for, anyone, with, a, xsx, and, an, alienware...  \n",
       "29981   1643668667  [crash, bandicoot, as, a, microsoft, exclusive...  \n",
       "\n",
       "[29958 rows x 4 columns]"
      ]
     },
     "execution_count": 11,
     "metadata": {},
     "output_type": "execute_result"
    }
   ],
   "source": [
    "console_df"
   ]
  },
  {
   "cell_type": "code",
   "execution_count": 12,
   "id": "dc09e81b-3735-407e-bf8a-d8e9b5d777dd",
   "metadata": {},
   "outputs": [],
   "source": [
    "console_df['title'] = console_df['tokenized'].apply(lambda x: \" \".join(x))"
   ]
  },
  {
   "cell_type": "markdown",
   "id": "ea7e2cf1-80dd-4727-83db-b8e27505226e",
   "metadata": {},
   "source": [
    "Seperate into PS5 and Xbox datasets for anaylsis"
   ]
  },
  {
   "cell_type": "code",
   "execution_count": 13,
   "id": "84034e21-d8ee-49d1-ae9c-a7d15ca83c46",
   "metadata": {},
   "outputs": [],
   "source": [
    "ps5_textdf = console_df[console_df['subreddit'] == 1]"
   ]
  },
  {
   "cell_type": "code",
   "execution_count": 14,
   "id": "90818288-68b7-4977-ba7e-d33f2f373850",
   "metadata": {},
   "outputs": [
    {
     "data": {
      "text/plain": [
       "(14979, 4)"
      ]
     },
     "execution_count": 14,
     "metadata": {},
     "output_type": "execute_result"
    }
   ],
   "source": [
    "ps5_textdf.shape"
   ]
  },
  {
   "cell_type": "code",
   "execution_count": 15,
   "id": "0fdbb931-20de-4f96-bbfe-82a93f2c483a",
   "metadata": {},
   "outputs": [
    {
     "data": {
      "text/html": [
       "<div>\n",
       "<style scoped>\n",
       "    .dataframe tbody tr th:only-of-type {\n",
       "        vertical-align: middle;\n",
       "    }\n",
       "\n",
       "    .dataframe tbody tr th {\n",
       "        vertical-align: top;\n",
       "    }\n",
       "\n",
       "    .dataframe thead th {\n",
       "        text-align: right;\n",
       "    }\n",
       "</style>\n",
       "<table border=\"1\" class=\"dataframe\">\n",
       "  <thead>\n",
       "    <tr style=\"text-align: right;\">\n",
       "      <th></th>\n",
       "      <th>subreddit</th>\n",
       "      <th>title</th>\n",
       "      <th>created_utc</th>\n",
       "      <th>tokenized</th>\n",
       "    </tr>\n",
       "  </thead>\n",
       "  <tbody>\n",
       "    <tr>\n",
       "      <th>0</th>\n",
       "      <td>1</td>\n",
       "      <td>how did yall get your ps5s</td>\n",
       "      <td>1656026890</td>\n",
       "      <td>[how, did, yall, get, your, ps5s]</td>\n",
       "    </tr>\n",
       "    <tr>\n",
       "      <th>1</th>\n",
       "      <td>1</td>\n",
       "      <td>ps5 horizon bundle still in stock on ps direct</td>\n",
       "      <td>1656026393</td>\n",
       "      <td>[ps5, horizon, bundle, still, in, stock, on, p...</td>\n",
       "    </tr>\n",
       "    <tr>\n",
       "      <th>2</th>\n",
       "      <td>1</td>\n",
       "      <td>ps5 doesn t work</td>\n",
       "      <td>1656024401</td>\n",
       "      <td>[ps5, doesn, t, work]</td>\n",
       "    </tr>\n",
       "    <tr>\n",
       "      <th>3</th>\n",
       "      <td>1</td>\n",
       "      <td>vrr support for hdmi 1 4</td>\n",
       "      <td>1656023983</td>\n",
       "      <td>[vrr, support, for, hdmi, 1, 4]</td>\n",
       "    </tr>\n",
       "    <tr>\n",
       "      <th>4</th>\n",
       "      <td>1</td>\n",
       "      <td>slow download speeds</td>\n",
       "      <td>1656023471</td>\n",
       "      <td>[slow, download, speeds]</td>\n",
       "    </tr>\n",
       "  </tbody>\n",
       "</table>\n",
       "</div>"
      ],
      "text/plain": [
       "   subreddit                                           title  created_utc  \\\n",
       "0          1                      how did yall get your ps5s   1656026890   \n",
       "1          1  ps5 horizon bundle still in stock on ps direct   1656026393   \n",
       "2          1                                ps5 doesn t work   1656024401   \n",
       "3          1                        vrr support for hdmi 1 4   1656023983   \n",
       "4          1                            slow download speeds   1656023471   \n",
       "\n",
       "                                           tokenized  \n",
       "0                  [how, did, yall, get, your, ps5s]  \n",
       "1  [ps5, horizon, bundle, still, in, stock, on, p...  \n",
       "2                              [ps5, doesn, t, work]  \n",
       "3                    [vrr, support, for, hdmi, 1, 4]  \n",
       "4                           [slow, download, speeds]  "
      ]
     },
     "execution_count": 15,
     "metadata": {},
     "output_type": "execute_result"
    }
   ],
   "source": [
    "ps5_textdf.head()"
   ]
  },
  {
   "cell_type": "code",
   "execution_count": 16,
   "id": "92fea2c2-dbac-4a9e-ba43-d5472b5d8b39",
   "metadata": {},
   "outputs": [],
   "source": [
    "xbox_textdf = console_df[console_df['subreddit'] == 0]"
   ]
  },
  {
   "cell_type": "code",
   "execution_count": 17,
   "id": "17cfa358-fc87-43a3-a92d-91a026f6c643",
   "metadata": {},
   "outputs": [
    {
     "data": {
      "text/plain": [
       "(14979, 4)"
      ]
     },
     "execution_count": 17,
     "metadata": {},
     "output_type": "execute_result"
    }
   ],
   "source": [
    "xbox_textdf.shape"
   ]
  },
  {
   "cell_type": "code",
   "execution_count": 18,
   "id": "a3abfeff-2675-4b3c-925f-1efde3e77c2a",
   "metadata": {},
   "outputs": [
    {
     "data": {
      "text/html": [
       "<div>\n",
       "<style scoped>\n",
       "    .dataframe tbody tr th:only-of-type {\n",
       "        vertical-align: middle;\n",
       "    }\n",
       "\n",
       "    .dataframe tbody tr th {\n",
       "        vertical-align: top;\n",
       "    }\n",
       "\n",
       "    .dataframe thead th {\n",
       "        text-align: right;\n",
       "    }\n",
       "</style>\n",
       "<table border=\"1\" class=\"dataframe\">\n",
       "  <thead>\n",
       "    <tr style=\"text-align: right;\">\n",
       "      <th></th>\n",
       "      <th>subreddit</th>\n",
       "      <th>title</th>\n",
       "      <th>created_utc</th>\n",
       "      <th>tokenized</th>\n",
       "    </tr>\n",
       "  </thead>\n",
       "  <tbody>\n",
       "    <tr>\n",
       "      <th>14986</th>\n",
       "      <td>0</td>\n",
       "      <td>anyone know how to fix this</td>\n",
       "      <td>1656028695</td>\n",
       "      <td>[anyone, know, how, to, fix, this]</td>\n",
       "    </tr>\n",
       "    <tr>\n",
       "      <th>14987</th>\n",
       "      <td>0</td>\n",
       "      <td>resident evil disc</td>\n",
       "      <td>1656028592</td>\n",
       "      <td>[resident, evil, disc]</td>\n",
       "    </tr>\n",
       "    <tr>\n",
       "      <th>14988</th>\n",
       "      <td>0</td>\n",
       "      <td>xbox has released a teaser for their fictional...</td>\n",
       "      <td>1656028539</td>\n",
       "      <td>[xbox, has, released, a, teaser, for, their, f...</td>\n",
       "    </tr>\n",
       "    <tr>\n",
       "      <th>14989</th>\n",
       "      <td>0</td>\n",
       "      <td></td>\n",
       "      <td>1656027959</td>\n",
       "      <td>[]</td>\n",
       "    </tr>\n",
       "    <tr>\n",
       "      <th>14990</th>\n",
       "      <td>0</td>\n",
       "      <td>i m finally getting a 4k tv what do i install</td>\n",
       "      <td>1656027813</td>\n",
       "      <td>[i, m, finally, getting, a, 4k, tv, what, do, ...</td>\n",
       "    </tr>\n",
       "  </tbody>\n",
       "</table>\n",
       "</div>"
      ],
      "text/plain": [
       "       subreddit                                              title  \\\n",
       "14986          0                        anyone know how to fix this   \n",
       "14987          0                                 resident evil disc   \n",
       "14988          0  xbox has released a teaser for their fictional...   \n",
       "14989          0                                                      \n",
       "14990          0      i m finally getting a 4k tv what do i install   \n",
       "\n",
       "       created_utc                                          tokenized  \n",
       "14986   1656028695                 [anyone, know, how, to, fix, this]  \n",
       "14987   1656028592                             [resident, evil, disc]  \n",
       "14988   1656028539  [xbox, has, released, a, teaser, for, their, f...  \n",
       "14989   1656027959                                                 []  \n",
       "14990   1656027813  [i, m, finally, getting, a, 4k, tv, what, do, ...  "
      ]
     },
     "execution_count": 18,
     "metadata": {},
     "output_type": "execute_result"
    }
   ],
   "source": [
    "xbox_textdf.head()"
   ]
  },
  {
   "cell_type": "markdown",
   "id": "5a5ed939-9946-4d2f-9acd-034c874fe6b6",
   "metadata": {},
   "source": [
    "Create separate Dataframe for each of the sub-topics for analysis"
   ]
  },
  {
   "cell_type": "code",
   "execution_count": 19,
   "id": "b92d74e0-af0d-49a1-a0ed-fc6a91bddae6",
   "metadata": {},
   "outputs": [],
   "source": [
    "ps5_psplus = ps5_textdf[ps5_textdf['title'].str.contains('ps plus')]\n",
    "ps5_psplus = ps5_psplus.copy()\n",
    "\n",
    "ps5_elden = ps5_textdf[ps5_textdf['title'].str.contains('elden ring')]\n",
    "ps5_elden = ps5_elden.copy()\n",
    "\n",
    "ps5_horizon = ps5_textdf[ps5_textdf['title'].str.contains('horizon forbidden')]\n",
    "ps5_horizon = ps5_horizon.copy()\n",
    "\n",
    "ps5_ff = ps5_textdf[ps5_textdf['title'].str.contains('final fantasy')]\n",
    "ps5_ff = ps5_ff.copy()\n",
    "\n",
    "ps5_control = ps5_textdf[ps5_textdf['title'].str.contains('controller')]\n",
    "ps5_control = ps5_control.copy()"
   ]
  },
  {
   "cell_type": "code",
   "execution_count": 20,
   "id": "7d07d56a-f31f-4963-aa0c-a60a3502b6a8",
   "metadata": {},
   "outputs": [],
   "source": [
    "xbox_pass = xbox_textdf[xbox_textdf['title'].str.contains('game pass')]\n",
    "xbox_pass = xbox_pass.copy()\n",
    "\n",
    "xbox_elden = xbox_textdf[xbox_textdf['title'].str.contains('elden ring')]\n",
    "xbox_elden = xbox_elden.copy()\n",
    "\n",
    "xbox_dl = xbox_textdf[xbox_textdf['title'].str.contains('dying light')]\n",
    "xbox_dl = xbox_dl.copy()\n",
    "\n",
    "xbox_halo = xbox_textdf[xbox_textdf['title'].str.contains('halo infinite')]\n",
    "xbox_halo = xbox_halo.copy()\n",
    "\n",
    "xbox_control = xbox_textdf[xbox_textdf['title'].str.contains('controller')]\n",
    "xbox_control = xbox_control.copy()"
   ]
  },
  {
   "cell_type": "markdown",
   "id": "0515e6e1-bd1a-4fdf-914d-8ef8e157774a",
   "metadata": {
    "tags": []
   },
   "source": [
    "# Sentiment Analysis"
   ]
  },
  {
   "cell_type": "markdown",
   "id": "83312603-1f64-4f25-889e-c536291c9012",
   "metadata": {},
   "source": [
    "Model used: twitter-XLM-roBERTa-base for Sentiment Analysis\n",
    "- A model trained on ~198M tweets and finetuned for sentiment analysis. [**source**](https://huggingface.co/cardiffnlp/twitter-roberta-base-sentiment)"
   ]
  },
  {
   "cell_type": "code",
   "execution_count": 21,
   "id": "a8b5e1b4-664e-46c4-9510-ef22969a9948",
   "metadata": {},
   "outputs": [
    {
     "name": "stderr",
     "output_type": "stream",
     "text": [
      "All model checkpoint layers were used when initializing TFRobertaForSequenceClassification.\n",
      "\n",
      "All the layers of TFRobertaForSequenceClassification were initialized from the model checkpoint at cardiffnlp/twitter-roberta-base-sentiment.\n",
      "If your task is similar to the task the model of the checkpoint was trained on, you can already use TFRobertaForSequenceClassification for predictions without further training.\n"
     ]
    }
   ],
   "source": [
    "senti_classifier = pipeline(\"sentiment-analysis\",\n",
    "                     model=\"cardiffnlp/twitter-roberta-base-sentiment\")"
   ]
  },
  {
   "cell_type": "code",
   "execution_count": 22,
   "id": "413d598f-5809-4dbe-8a7e-db685b43bcfe",
   "metadata": {},
   "outputs": [],
   "source": [
    "# Define function to extract sentiments\n",
    "def sentiments(dataset):\n",
    "    dataset['sentiment'] = dataset['title'].apply(senti_classifier)\n",
    "    dataset['sentiments'] = dataset['sentiment'].apply(lambda x: x[0]['label'])\n",
    "    dataset['sentiments'] = dataset['sentiments'].map({'LABEL_0': 'negative', 'LABEL_1': 'neutral', 'LABEL_2': 'positive'})\n",
    "    return dataset"
   ]
  },
  {
   "cell_type": "markdown",
   "id": "c016303b-c067-4ce5-b3c3-19888a1d704a",
   "metadata": {},
   "source": [
    "## PS5 Sentiments"
   ]
  },
  {
   "cell_type": "markdown",
   "id": "8e8e94f3-9af3-47ed-b641-193f77f1aac3",
   "metadata": {},
   "source": [
    "### Overall"
   ]
  },
  {
   "cell_type": "code",
   "execution_count": 23,
   "id": "739bbf0c-04ad-493a-9240-2853fe494038",
   "metadata": {},
   "outputs": [],
   "source": [
    "ps5_sample_senti = sentiments(ps5_textdf.sample(2000))"
   ]
  },
  {
   "cell_type": "code",
   "execution_count": 24,
   "id": "3f459afb-570f-43a7-b834-eba3aedc3bb6",
   "metadata": {},
   "outputs": [
    {
     "data": {
      "text/html": [
       "<div>\n",
       "<style scoped>\n",
       "    .dataframe tbody tr th:only-of-type {\n",
       "        vertical-align: middle;\n",
       "    }\n",
       "\n",
       "    .dataframe tbody tr th {\n",
       "        vertical-align: top;\n",
       "    }\n",
       "\n",
       "    .dataframe thead th {\n",
       "        text-align: right;\n",
       "    }\n",
       "</style>\n",
       "<table border=\"1\" class=\"dataframe\">\n",
       "  <thead>\n",
       "    <tr style=\"text-align: right;\">\n",
       "      <th></th>\n",
       "      <th>subreddit</th>\n",
       "      <th>title</th>\n",
       "      <th>created_utc</th>\n",
       "      <th>tokenized</th>\n",
       "      <th>sentiment</th>\n",
       "      <th>sentiments</th>\n",
       "    </tr>\n",
       "  </thead>\n",
       "  <tbody>\n",
       "    <tr>\n",
       "      <th>2197</th>\n",
       "      <td>1</td>\n",
       "      <td>if sony were to make a cod battlefield like fr...</td>\n",
       "      <td>1654788145</td>\n",
       "      <td>[if, sony, were, to, make, a, cod, battlefield...</td>\n",
       "      <td>[{'label': 'LABEL_1', 'score': 0.67438805103302}]</td>\n",
       "      <td>neutral</td>\n",
       "    </tr>\n",
       "    <tr>\n",
       "      <th>6299</th>\n",
       "      <td>1</td>\n",
       "      <td>spider man remastered upgrade</td>\n",
       "      <td>1652052337</td>\n",
       "      <td>[spider, man, remastered, upgrade]</td>\n",
       "      <td>[{'label': 'LABEL_1', 'score': 0.7990149855613...</td>\n",
       "      <td>neutral</td>\n",
       "    </tr>\n",
       "    <tr>\n",
       "      <th>14665</th>\n",
       "      <td>1</td>\n",
       "      <td>new stranger of paradise final fantasy origin ...</td>\n",
       "      <td>1646867334</td>\n",
       "      <td>[new, stranger, of, paradise, final, fantasy, ...</td>\n",
       "      <td>[{'label': 'LABEL_1', 'score': 0.6812149882316...</td>\n",
       "      <td>neutral</td>\n",
       "    </tr>\n",
       "    <tr>\n",
       "      <th>14448</th>\n",
       "      <td>1</td>\n",
       "      <td>a major dying light 2 update is now available ...</td>\n",
       "      <td>1647008941</td>\n",
       "      <td>[a, major, dying, light, 2, update, is, now, a...</td>\n",
       "      <td>[{'label': 'LABEL_1', 'score': 0.6339370608329...</td>\n",
       "      <td>neutral</td>\n",
       "    </tr>\n",
       "    <tr>\n",
       "      <th>8746</th>\n",
       "      <td>1</td>\n",
       "      <td>stupid question storage</td>\n",
       "      <td>1650455409</td>\n",
       "      <td>[stupid, question, storage]</td>\n",
       "      <td>[{'label': 'LABEL_0', 'score': 0.8944674134254...</td>\n",
       "      <td>negative</td>\n",
       "    </tr>\n",
       "  </tbody>\n",
       "</table>\n",
       "</div>"
      ],
      "text/plain": [
       "       subreddit                                              title  \\\n",
       "2197           1  if sony were to make a cod battlefield like fr...   \n",
       "6299           1                      spider man remastered upgrade   \n",
       "14665          1  new stranger of paradise final fantasy origin ...   \n",
       "14448          1  a major dying light 2 update is now available ...   \n",
       "8746           1                            stupid question storage   \n",
       "\n",
       "       created_utc                                          tokenized  \\\n",
       "2197    1654788145  [if, sony, were, to, make, a, cod, battlefield...   \n",
       "6299    1652052337                 [spider, man, remastered, upgrade]   \n",
       "14665   1646867334  [new, stranger, of, paradise, final, fantasy, ...   \n",
       "14448   1647008941  [a, major, dying, light, 2, update, is, now, a...   \n",
       "8746    1650455409                        [stupid, question, storage]   \n",
       "\n",
       "                                               sentiment sentiments  \n",
       "2197   [{'label': 'LABEL_1', 'score': 0.67438805103302}]    neutral  \n",
       "6299   [{'label': 'LABEL_1', 'score': 0.7990149855613...    neutral  \n",
       "14665  [{'label': 'LABEL_1', 'score': 0.6812149882316...    neutral  \n",
       "14448  [{'label': 'LABEL_1', 'score': 0.6339370608329...    neutral  \n",
       "8746   [{'label': 'LABEL_0', 'score': 0.8944674134254...   negative  "
      ]
     },
     "execution_count": 24,
     "metadata": {},
     "output_type": "execute_result"
    }
   ],
   "source": [
    "ps5_sample_senti.head()"
   ]
  },
  {
   "cell_type": "code",
   "execution_count": 25,
   "id": "031162f4-e5b7-4203-9c74-c514db9950e2",
   "metadata": {},
   "outputs": [
    {
     "data": {
      "text/plain": [
       "neutral     1462\n",
       "negative     383\n",
       "positive     155\n",
       "Name: sentiments, dtype: int64"
      ]
     },
     "execution_count": 25,
     "metadata": {},
     "output_type": "execute_result"
    }
   ],
   "source": [
    "ps5_sample_senti['sentiments'].value_counts()"
   ]
  },
  {
   "cell_type": "code",
   "execution_count": 26,
   "id": "2c9d0fb7-0f43-481a-bca4-b451931857d3",
   "metadata": {},
   "outputs": [
    {
     "data": {
      "text/html": [
       "<div>\n",
       "<style scoped>\n",
       "    .dataframe tbody tr th:only-of-type {\n",
       "        vertical-align: middle;\n",
       "    }\n",
       "\n",
       "    .dataframe tbody tr th {\n",
       "        vertical-align: top;\n",
       "    }\n",
       "\n",
       "    .dataframe thead th {\n",
       "        text-align: right;\n",
       "    }\n",
       "</style>\n",
       "<table border=\"1\" class=\"dataframe\">\n",
       "  <thead>\n",
       "    <tr style=\"text-align: right;\">\n",
       "      <th></th>\n",
       "      <th>sentiments</th>\n",
       "    </tr>\n",
       "  </thead>\n",
       "  <tbody>\n",
       "    <tr>\n",
       "      <th>neutral</th>\n",
       "      <td>1462</td>\n",
       "    </tr>\n",
       "    <tr>\n",
       "      <th>negative</th>\n",
       "      <td>383</td>\n",
       "    </tr>\n",
       "    <tr>\n",
       "      <th>positive</th>\n",
       "      <td>155</td>\n",
       "    </tr>\n",
       "  </tbody>\n",
       "</table>\n",
       "</div>"
      ],
      "text/plain": [
       "          sentiments\n",
       "neutral         1462\n",
       "negative         383\n",
       "positive         155"
      ]
     },
     "execution_count": 26,
     "metadata": {},
     "output_type": "execute_result"
    }
   ],
   "source": [
    "ps5_sentiments = pd.DataFrame(ps5_sample_senti['sentiments'].value_counts())\n",
    "ps5_sentiments"
   ]
  },
  {
   "cell_type": "markdown",
   "id": "d4d32583-1373-481b-bbed-c59f018ebe61",
   "metadata": {},
   "source": [
    "### PS plus"
   ]
  },
  {
   "cell_type": "code",
   "execution_count": 27,
   "id": "81eb0577-2383-4859-bfa5-b12fe94f0bd4",
   "metadata": {},
   "outputs": [],
   "source": [
    "psplus_senti = sentiments(ps5_psplus)"
   ]
  },
  {
   "cell_type": "code",
   "execution_count": 28,
   "id": "fc771a76-7c8d-4e07-a1e1-e31c0c3ebdb2",
   "metadata": {},
   "outputs": [
    {
     "data": {
      "text/html": [
       "<div>\n",
       "<style scoped>\n",
       "    .dataframe tbody tr th:only-of-type {\n",
       "        vertical-align: middle;\n",
       "    }\n",
       "\n",
       "    .dataframe tbody tr th {\n",
       "        vertical-align: top;\n",
       "    }\n",
       "\n",
       "    .dataframe thead th {\n",
       "        text-align: right;\n",
       "    }\n",
       "</style>\n",
       "<table border=\"1\" class=\"dataframe\">\n",
       "  <thead>\n",
       "    <tr style=\"text-align: right;\">\n",
       "      <th></th>\n",
       "      <th>subreddit</th>\n",
       "      <th>title</th>\n",
       "      <th>created_utc</th>\n",
       "      <th>tokenized</th>\n",
       "      <th>sentiment</th>\n",
       "      <th>sentiments</th>\n",
       "    </tr>\n",
       "  </thead>\n",
       "  <tbody>\n",
       "    <tr>\n",
       "      <th>35</th>\n",
       "      <td>1</td>\n",
       "      <td>buying spider man remastered through miles mor...</td>\n",
       "      <td>1656003409</td>\n",
       "      <td>[buying, spider, man, remastered, through, mil...</td>\n",
       "      <td>[{'label': 'LABEL_1', 'score': 0.8157562017440...</td>\n",
       "      <td>neutral</td>\n",
       "    </tr>\n",
       "    <tr>\n",
       "      <th>37</th>\n",
       "      <td>1</td>\n",
       "      <td>some games in ps plus extra and premium are ex...</td>\n",
       "      <td>1656002742</td>\n",
       "      <td>[some, games, in, ps, plus, extra, and, premiu...</td>\n",
       "      <td>[{'label': 'LABEL_1', 'score': 0.8401573300361...</td>\n",
       "      <td>neutral</td>\n",
       "    </tr>\n",
       "    <tr>\n",
       "      <th>50</th>\n",
       "      <td>1</td>\n",
       "      <td>i currently have 6 months left on a yearly ps ...</td>\n",
       "      <td>1656000252</td>\n",
       "      <td>[i, currently, have, 6, months, left, on, a, y...</td>\n",
       "      <td>[{'label': 'LABEL_1', 'score': 0.7537828087806...</td>\n",
       "      <td>neutral</td>\n",
       "    </tr>\n",
       "    <tr>\n",
       "      <th>52</th>\n",
       "      <td>1</td>\n",
       "      <td>i currently have 6 months left on a yearly ps ...</td>\n",
       "      <td>1656000119</td>\n",
       "      <td>[i, currently, have, 6, months, left, on, a, y...</td>\n",
       "      <td>[{'label': 'LABEL_1', 'score': 0.7713864445686...</td>\n",
       "      <td>neutral</td>\n",
       "    </tr>\n",
       "    <tr>\n",
       "      <th>64</th>\n",
       "      <td>1</td>\n",
       "      <td>paying for ps plus premium via wallet funds</td>\n",
       "      <td>1655994490</td>\n",
       "      <td>[paying, for, ps, plus, premium, via, wallet, ...</td>\n",
       "      <td>[{'label': 'LABEL_1', 'score': 0.8716164231300...</td>\n",
       "      <td>neutral</td>\n",
       "    </tr>\n",
       "  </tbody>\n",
       "</table>\n",
       "</div>"
      ],
      "text/plain": [
       "    subreddit                                              title  created_utc  \\\n",
       "35          1  buying spider man remastered through miles mor...   1656003409   \n",
       "37          1  some games in ps plus extra and premium are ex...   1656002742   \n",
       "50          1  i currently have 6 months left on a yearly ps ...   1656000252   \n",
       "52          1  i currently have 6 months left on a yearly ps ...   1656000119   \n",
       "64          1        paying for ps plus premium via wallet funds   1655994490   \n",
       "\n",
       "                                            tokenized  \\\n",
       "35  [buying, spider, man, remastered, through, mil...   \n",
       "37  [some, games, in, ps, plus, extra, and, premiu...   \n",
       "50  [i, currently, have, 6, months, left, on, a, y...   \n",
       "52  [i, currently, have, 6, months, left, on, a, y...   \n",
       "64  [paying, for, ps, plus, premium, via, wallet, ...   \n",
       "\n",
       "                                            sentiment sentiments  \n",
       "35  [{'label': 'LABEL_1', 'score': 0.8157562017440...    neutral  \n",
       "37  [{'label': 'LABEL_1', 'score': 0.8401573300361...    neutral  \n",
       "50  [{'label': 'LABEL_1', 'score': 0.7537828087806...    neutral  \n",
       "52  [{'label': 'LABEL_1', 'score': 0.7713864445686...    neutral  \n",
       "64  [{'label': 'LABEL_1', 'score': 0.8716164231300...    neutral  "
      ]
     },
     "execution_count": 28,
     "metadata": {},
     "output_type": "execute_result"
    }
   ],
   "source": [
    "psplus_senti.head()"
   ]
  },
  {
   "cell_type": "code",
   "execution_count": 29,
   "id": "1c91fa00-ee60-4b6c-90b0-e935ebed06a4",
   "metadata": {},
   "outputs": [
    {
     "data": {
      "text/plain": [
       "neutral     256\n",
       "negative     56\n",
       "positive     19\n",
       "Name: sentiments, dtype: int64"
      ]
     },
     "execution_count": 29,
     "metadata": {},
     "output_type": "execute_result"
    }
   ],
   "source": [
    "psplus_senti['sentiments'].value_counts()"
   ]
  },
  {
   "cell_type": "code",
   "execution_count": 30,
   "id": "f1149f31-4746-427a-873b-a151a5733e98",
   "metadata": {},
   "outputs": [
    {
     "data": {
      "text/html": [
       "<div>\n",
       "<style scoped>\n",
       "    .dataframe tbody tr th:only-of-type {\n",
       "        vertical-align: middle;\n",
       "    }\n",
       "\n",
       "    .dataframe tbody tr th {\n",
       "        vertical-align: top;\n",
       "    }\n",
       "\n",
       "    .dataframe thead th {\n",
       "        text-align: right;\n",
       "    }\n",
       "</style>\n",
       "<table border=\"1\" class=\"dataframe\">\n",
       "  <thead>\n",
       "    <tr style=\"text-align: right;\">\n",
       "      <th></th>\n",
       "      <th>sentiments</th>\n",
       "    </tr>\n",
       "  </thead>\n",
       "  <tbody>\n",
       "    <tr>\n",
       "      <th>neutral</th>\n",
       "      <td>256</td>\n",
       "    </tr>\n",
       "    <tr>\n",
       "      <th>negative</th>\n",
       "      <td>56</td>\n",
       "    </tr>\n",
       "    <tr>\n",
       "      <th>positive</th>\n",
       "      <td>19</td>\n",
       "    </tr>\n",
       "  </tbody>\n",
       "</table>\n",
       "</div>"
      ],
      "text/plain": [
       "          sentiments\n",
       "neutral          256\n",
       "negative          56\n",
       "positive          19"
      ]
     },
     "execution_count": 30,
     "metadata": {},
     "output_type": "execute_result"
    }
   ],
   "source": [
    "psplus_sentiments = pd.DataFrame(psplus_senti['sentiments'].value_counts())\n",
    "psplus_sentiments"
   ]
  },
  {
   "cell_type": "markdown",
   "id": "486b7258-1828-4fda-b273-475db2e7f4e5",
   "metadata": {},
   "source": [
    "### Elden Ring"
   ]
  },
  {
   "cell_type": "code",
   "execution_count": 31,
   "id": "52788a7b-6d54-4a37-ab8d-36e6eada47a6",
   "metadata": {},
   "outputs": [],
   "source": [
    "ps_elden_senti = sentiments(ps5_elden)"
   ]
  },
  {
   "cell_type": "code",
   "execution_count": 32,
   "id": "e6731342-5478-4e75-8da5-3171caba930d",
   "metadata": {},
   "outputs": [
    {
     "data": {
      "text/html": [
       "<div>\n",
       "<style scoped>\n",
       "    .dataframe tbody tr th:only-of-type {\n",
       "        vertical-align: middle;\n",
       "    }\n",
       "\n",
       "    .dataframe tbody tr th {\n",
       "        vertical-align: top;\n",
       "    }\n",
       "\n",
       "    .dataframe thead th {\n",
       "        text-align: right;\n",
       "    }\n",
       "</style>\n",
       "<table border=\"1\" class=\"dataframe\">\n",
       "  <thead>\n",
       "    <tr style=\"text-align: right;\">\n",
       "      <th></th>\n",
       "      <th>subreddit</th>\n",
       "      <th>title</th>\n",
       "      <th>created_utc</th>\n",
       "      <th>tokenized</th>\n",
       "      <th>sentiment</th>\n",
       "      <th>sentiments</th>\n",
       "    </tr>\n",
       "  </thead>\n",
       "  <tbody>\n",
       "    <tr>\n",
       "      <th>164</th>\n",
       "      <td>1</td>\n",
       "      <td>game suggestion after elden ring fatigue</td>\n",
       "      <td>1655926474</td>\n",
       "      <td>[game, suggestion, after, elden, ring, fatigue]</td>\n",
       "      <td>[{'label': 'LABEL_1', 'score': 0.8347183465957...</td>\n",
       "      <td>neutral</td>\n",
       "    </tr>\n",
       "    <tr>\n",
       "      <th>187</th>\n",
       "      <td>1</td>\n",
       "      <td>i like this glitch its new in elden ring</td>\n",
       "      <td>1655917983</td>\n",
       "      <td>[i, like, this, glitch, its, new, in, elden, r...</td>\n",
       "      <td>[{'label': 'LABEL_2', 'score': 0.8817609548568...</td>\n",
       "      <td>positive</td>\n",
       "    </tr>\n",
       "    <tr>\n",
       "      <th>309</th>\n",
       "      <td>1</td>\n",
       "      <td>elden ring map size vs horizon forbidden west ...</td>\n",
       "      <td>1655846169</td>\n",
       "      <td>[elden, ring, map, size, vs, horizon, forbidde...</td>\n",
       "      <td>[{'label': 'LABEL_1', 'score': 0.7963702082633...</td>\n",
       "      <td>neutral</td>\n",
       "    </tr>\n",
       "    <tr>\n",
       "      <th>315</th>\n",
       "      <td>1</td>\n",
       "      <td>some cool bugs in elden ring</td>\n",
       "      <td>1655839759</td>\n",
       "      <td>[some, cool, bugs, in, elden, ring]</td>\n",
       "      <td>[{'label': 'LABEL_2', 'score': 0.8592746853828...</td>\n",
       "      <td>positive</td>\n",
       "    </tr>\n",
       "    <tr>\n",
       "      <th>316</th>\n",
       "      <td>1</td>\n",
       "      <td>so there some cool bugs in elden ring</td>\n",
       "      <td>1655839646</td>\n",
       "      <td>[so, there, some, cool, bugs, in, elden, ring]</td>\n",
       "      <td>[{'label': 'LABEL_2', 'score': 0.8385195136070...</td>\n",
       "      <td>positive</td>\n",
       "    </tr>\n",
       "  </tbody>\n",
       "</table>\n",
       "</div>"
      ],
      "text/plain": [
       "     subreddit                                              title  \\\n",
       "164          1           game suggestion after elden ring fatigue   \n",
       "187          1           i like this glitch its new in elden ring   \n",
       "309          1  elden ring map size vs horizon forbidden west ...   \n",
       "315          1                       some cool bugs in elden ring   \n",
       "316          1              so there some cool bugs in elden ring   \n",
       "\n",
       "     created_utc                                          tokenized  \\\n",
       "164   1655926474    [game, suggestion, after, elden, ring, fatigue]   \n",
       "187   1655917983  [i, like, this, glitch, its, new, in, elden, r...   \n",
       "309   1655846169  [elden, ring, map, size, vs, horizon, forbidde...   \n",
       "315   1655839759                [some, cool, bugs, in, elden, ring]   \n",
       "316   1655839646     [so, there, some, cool, bugs, in, elden, ring]   \n",
       "\n",
       "                                             sentiment sentiments  \n",
       "164  [{'label': 'LABEL_1', 'score': 0.8347183465957...    neutral  \n",
       "187  [{'label': 'LABEL_2', 'score': 0.8817609548568...   positive  \n",
       "309  [{'label': 'LABEL_1', 'score': 0.7963702082633...    neutral  \n",
       "315  [{'label': 'LABEL_2', 'score': 0.8592746853828...   positive  \n",
       "316  [{'label': 'LABEL_2', 'score': 0.8385195136070...   positive  "
      ]
     },
     "execution_count": 32,
     "metadata": {},
     "output_type": "execute_result"
    }
   ],
   "source": [
    "ps_elden_senti.head()"
   ]
  },
  {
   "cell_type": "code",
   "execution_count": 33,
   "id": "ec36bc2a-f378-4323-bcc0-bfa2a0370cd7",
   "metadata": {},
   "outputs": [
    {
     "data": {
      "text/plain": [
       "neutral     222\n",
       "positive     39\n",
       "negative     23\n",
       "Name: sentiments, dtype: int64"
      ]
     },
     "execution_count": 33,
     "metadata": {},
     "output_type": "execute_result"
    }
   ],
   "source": [
    "ps_elden_senti['sentiments'].value_counts()"
   ]
  },
  {
   "cell_type": "code",
   "execution_count": 34,
   "id": "593d0c8b-84e1-4de4-9946-a178c7c21e9f",
   "metadata": {},
   "outputs": [
    {
     "data": {
      "text/html": [
       "<div>\n",
       "<style scoped>\n",
       "    .dataframe tbody tr th:only-of-type {\n",
       "        vertical-align: middle;\n",
       "    }\n",
       "\n",
       "    .dataframe tbody tr th {\n",
       "        vertical-align: top;\n",
       "    }\n",
       "\n",
       "    .dataframe thead th {\n",
       "        text-align: right;\n",
       "    }\n",
       "</style>\n",
       "<table border=\"1\" class=\"dataframe\">\n",
       "  <thead>\n",
       "    <tr style=\"text-align: right;\">\n",
       "      <th></th>\n",
       "      <th>sentiments</th>\n",
       "    </tr>\n",
       "  </thead>\n",
       "  <tbody>\n",
       "    <tr>\n",
       "      <th>neutral</th>\n",
       "      <td>222</td>\n",
       "    </tr>\n",
       "    <tr>\n",
       "      <th>positive</th>\n",
       "      <td>39</td>\n",
       "    </tr>\n",
       "    <tr>\n",
       "      <th>negative</th>\n",
       "      <td>23</td>\n",
       "    </tr>\n",
       "  </tbody>\n",
       "</table>\n",
       "</div>"
      ],
      "text/plain": [
       "          sentiments\n",
       "neutral          222\n",
       "positive          39\n",
       "negative          23"
      ]
     },
     "execution_count": 34,
     "metadata": {},
     "output_type": "execute_result"
    }
   ],
   "source": [
    "pselden_sentiments = pd.DataFrame(ps_elden_senti['sentiments'].value_counts())\n",
    "pselden_sentiments"
   ]
  },
  {
   "cell_type": "markdown",
   "id": "56c944a1-225f-403f-b9a0-92c7050d37e6",
   "metadata": {},
   "source": [
    "### Horizon"
   ]
  },
  {
   "cell_type": "code",
   "execution_count": 35,
   "id": "ae6962e4-7b20-405d-ac67-160b37895270",
   "metadata": {},
   "outputs": [],
   "source": [
    "horizon_senti = sentiments(ps5_horizon)"
   ]
  },
  {
   "cell_type": "code",
   "execution_count": 36,
   "id": "a979943b-72d2-45cf-be7f-cb631607d666",
   "metadata": {},
   "outputs": [
    {
     "data": {
      "text/html": [
       "<div>\n",
       "<style scoped>\n",
       "    .dataframe tbody tr th:only-of-type {\n",
       "        vertical-align: middle;\n",
       "    }\n",
       "\n",
       "    .dataframe tbody tr th {\n",
       "        vertical-align: top;\n",
       "    }\n",
       "\n",
       "    .dataframe thead th {\n",
       "        text-align: right;\n",
       "    }\n",
       "</style>\n",
       "<table border=\"1\" class=\"dataframe\">\n",
       "  <thead>\n",
       "    <tr style=\"text-align: right;\">\n",
       "      <th></th>\n",
       "      <th>subreddit</th>\n",
       "      <th>title</th>\n",
       "      <th>created_utc</th>\n",
       "      <th>tokenized</th>\n",
       "      <th>sentiment</th>\n",
       "      <th>sentiments</th>\n",
       "    </tr>\n",
       "  </thead>\n",
       "  <tbody>\n",
       "    <tr>\n",
       "      <th>143</th>\n",
       "      <td>1</td>\n",
       "      <td>anyone know if the horizon forbidden west bund...</td>\n",
       "      <td>1655938422</td>\n",
       "      <td>[anyone, know, if, the, horizon, forbidden, we...</td>\n",
       "      <td>[{'label': 'LABEL_1', 'score': 0.9335206151008...</td>\n",
       "      <td>neutral</td>\n",
       "    </tr>\n",
       "    <tr>\n",
       "      <th>309</th>\n",
       "      <td>1</td>\n",
       "      <td>elden ring map size vs horizon forbidden west ...</td>\n",
       "      <td>1655846169</td>\n",
       "      <td>[elden, ring, map, size, vs, horizon, forbidde...</td>\n",
       "      <td>[{'label': 'LABEL_1', 'score': 0.7963702082633...</td>\n",
       "      <td>neutral</td>\n",
       "    </tr>\n",
       "    <tr>\n",
       "      <th>376</th>\n",
       "      <td>1</td>\n",
       "      <td>horizon forbidden west reclaims no 1 uk boxed ...</td>\n",
       "      <td>1655821386</td>\n",
       "      <td>[horizon, forbidden, west, reclaims, no, 1, uk...</td>\n",
       "      <td>[{'label': 'LABEL_1', 'score': 0.8453205823898...</td>\n",
       "      <td>neutral</td>\n",
       "    </tr>\n",
       "    <tr>\n",
       "      <th>465</th>\n",
       "      <td>1</td>\n",
       "      <td>uk sales charts horizon forbidden west back on...</td>\n",
       "      <td>1655754443</td>\n",
       "      <td>[uk, sales, charts, horizon, forbidden, west, ...</td>\n",
       "      <td>[{'label': 'LABEL_1', 'score': 0.7942109107971...</td>\n",
       "      <td>neutral</td>\n",
       "    </tr>\n",
       "    <tr>\n",
       "      <th>716</th>\n",
       "      <td>1</td>\n",
       "      <td>playstation 5 digital edition horizon forbidde...</td>\n",
       "      <td>1655568520</td>\n",
       "      <td>[playstation, 5, digital, edition, horizon, fo...</td>\n",
       "      <td>[{'label': 'LABEL_1', 'score': 0.9125995039939...</td>\n",
       "      <td>neutral</td>\n",
       "    </tr>\n",
       "  </tbody>\n",
       "</table>\n",
       "</div>"
      ],
      "text/plain": [
       "     subreddit                                              title  \\\n",
       "143          1  anyone know if the horizon forbidden west bund...   \n",
       "309          1  elden ring map size vs horizon forbidden west ...   \n",
       "376          1  horizon forbidden west reclaims no 1 uk boxed ...   \n",
       "465          1  uk sales charts horizon forbidden west back on...   \n",
       "716          1  playstation 5 digital edition horizon forbidde...   \n",
       "\n",
       "     created_utc                                          tokenized  \\\n",
       "143   1655938422  [anyone, know, if, the, horizon, forbidden, we...   \n",
       "309   1655846169  [elden, ring, map, size, vs, horizon, forbidde...   \n",
       "376   1655821386  [horizon, forbidden, west, reclaims, no, 1, uk...   \n",
       "465   1655754443  [uk, sales, charts, horizon, forbidden, west, ...   \n",
       "716   1655568520  [playstation, 5, digital, edition, horizon, fo...   \n",
       "\n",
       "                                             sentiment sentiments  \n",
       "143  [{'label': 'LABEL_1', 'score': 0.9335206151008...    neutral  \n",
       "309  [{'label': 'LABEL_1', 'score': 0.7963702082633...    neutral  \n",
       "376  [{'label': 'LABEL_1', 'score': 0.8453205823898...    neutral  \n",
       "465  [{'label': 'LABEL_1', 'score': 0.7942109107971...    neutral  \n",
       "716  [{'label': 'LABEL_1', 'score': 0.9125995039939...    neutral  "
      ]
     },
     "execution_count": 36,
     "metadata": {},
     "output_type": "execute_result"
    }
   ],
   "source": [
    "horizon_senti.head()"
   ]
  },
  {
   "cell_type": "code",
   "execution_count": 37,
   "id": "061c7403-ea7e-43a1-a39c-870ea3eb6caf",
   "metadata": {},
   "outputs": [
    {
     "data": {
      "text/plain": [
       "neutral     99\n",
       "positive    10\n",
       "negative    10\n",
       "Name: sentiments, dtype: int64"
      ]
     },
     "execution_count": 37,
     "metadata": {},
     "output_type": "execute_result"
    }
   ],
   "source": [
    "horizon_senti['sentiments'].value_counts()"
   ]
  },
  {
   "cell_type": "code",
   "execution_count": 38,
   "id": "fcd51773-9059-4254-a1ce-b9697b5254fa",
   "metadata": {},
   "outputs": [
    {
     "data": {
      "text/html": [
       "<div>\n",
       "<style scoped>\n",
       "    .dataframe tbody tr th:only-of-type {\n",
       "        vertical-align: middle;\n",
       "    }\n",
       "\n",
       "    .dataframe tbody tr th {\n",
       "        vertical-align: top;\n",
       "    }\n",
       "\n",
       "    .dataframe thead th {\n",
       "        text-align: right;\n",
       "    }\n",
       "</style>\n",
       "<table border=\"1\" class=\"dataframe\">\n",
       "  <thead>\n",
       "    <tr style=\"text-align: right;\">\n",
       "      <th></th>\n",
       "      <th>sentiments</th>\n",
       "    </tr>\n",
       "  </thead>\n",
       "  <tbody>\n",
       "    <tr>\n",
       "      <th>neutral</th>\n",
       "      <td>99</td>\n",
       "    </tr>\n",
       "    <tr>\n",
       "      <th>positive</th>\n",
       "      <td>10</td>\n",
       "    </tr>\n",
       "    <tr>\n",
       "      <th>negative</th>\n",
       "      <td>10</td>\n",
       "    </tr>\n",
       "  </tbody>\n",
       "</table>\n",
       "</div>"
      ],
      "text/plain": [
       "          sentiments\n",
       "neutral           99\n",
       "positive          10\n",
       "negative          10"
      ]
     },
     "execution_count": 38,
     "metadata": {},
     "output_type": "execute_result"
    }
   ],
   "source": [
    "horizon_sentiments = pd.DataFrame(horizon_senti['sentiments'].value_counts())\n",
    "horizon_sentiments"
   ]
  },
  {
   "cell_type": "markdown",
   "id": "967b64b7-52dd-41a4-8448-4030e856d083",
   "metadata": {},
   "source": [
    "### Final Fantasy"
   ]
  },
  {
   "cell_type": "code",
   "execution_count": 39,
   "id": "11e8ef8c-aed2-462c-b912-52f1b8151eeb",
   "metadata": {},
   "outputs": [],
   "source": [
    "ff_senti = sentiments(ps5_ff)"
   ]
  },
  {
   "cell_type": "code",
   "execution_count": 40,
   "id": "5ea75200-711d-439d-82ef-c04a7fd379d1",
   "metadata": {},
   "outputs": [
    {
     "data": {
      "text/html": [
       "<div>\n",
       "<style scoped>\n",
       "    .dataframe tbody tr th:only-of-type {\n",
       "        vertical-align: middle;\n",
       "    }\n",
       "\n",
       "    .dataframe tbody tr th {\n",
       "        vertical-align: top;\n",
       "    }\n",
       "\n",
       "    .dataframe thead th {\n",
       "        text-align: right;\n",
       "    }\n",
       "</style>\n",
       "<table border=\"1\" class=\"dataframe\">\n",
       "  <thead>\n",
       "    <tr style=\"text-align: right;\">\n",
       "      <th></th>\n",
       "      <th>subreddit</th>\n",
       "      <th>title</th>\n",
       "      <th>created_utc</th>\n",
       "      <th>tokenized</th>\n",
       "      <th>sentiment</th>\n",
       "      <th>sentiments</th>\n",
       "    </tr>\n",
       "  </thead>\n",
       "  <tbody>\n",
       "    <tr>\n",
       "      <th>15</th>\n",
       "      <td>1</td>\n",
       "      <td>ukraine war delayed the recent final fantasy 1...</td>\n",
       "      <td>1656019280</td>\n",
       "      <td>[ukraine, war, delayed, the, recent, final, fa...</td>\n",
       "      <td>[{'label': 'LABEL_1', 'score': 0.5741430521011...</td>\n",
       "      <td>neutral</td>\n",
       "    </tr>\n",
       "    <tr>\n",
       "      <th>222</th>\n",
       "      <td>1</td>\n",
       "      <td>yoshida confirms final fantasy 16 includes par...</td>\n",
       "      <td>1655902458</td>\n",
       "      <td>[yoshida, confirms, final, fantasy, 16, includ...</td>\n",
       "      <td>[{'label': 'LABEL_1', 'score': 0.8979144692420...</td>\n",
       "      <td>neutral</td>\n",
       "    </tr>\n",
       "    <tr>\n",
       "      <th>223</th>\n",
       "      <td>1</td>\n",
       "      <td>final fantasy 16 has fully ai driven party mem...</td>\n",
       "      <td>1655901983</td>\n",
       "      <td>[final, fantasy, 16, has, fully, ai, driven, p...</td>\n",
       "      <td>[{'label': 'LABEL_1', 'score': 0.9014392495155...</td>\n",
       "      <td>neutral</td>\n",
       "    </tr>\n",
       "    <tr>\n",
       "      <th>226</th>\n",
       "      <td>1</td>\n",
       "      <td>final fantasy 16 s puppy has a name and he may...</td>\n",
       "      <td>1655901278</td>\n",
       "      <td>[final, fantasy, 16, s, puppy, has, a, name, a...</td>\n",
       "      <td>[{'label': 'LABEL_1', 'score': 0.9268986582756...</td>\n",
       "      <td>neutral</td>\n",
       "    </tr>\n",
       "    <tr>\n",
       "      <th>231</th>\n",
       "      <td>1</td>\n",
       "      <td>final fantasy 16 producer confirms it won t be...</td>\n",
       "      <td>1655900679</td>\n",
       "      <td>[final, fantasy, 16, producer, confirms, it, w...</td>\n",
       "      <td>[{'label': 'LABEL_1', 'score': 0.7173556685447...</td>\n",
       "      <td>neutral</td>\n",
       "    </tr>\n",
       "  </tbody>\n",
       "</table>\n",
       "</div>"
      ],
      "text/plain": [
       "     subreddit                                              title  \\\n",
       "15           1  ukraine war delayed the recent final fantasy 1...   \n",
       "222          1  yoshida confirms final fantasy 16 includes par...   \n",
       "223          1  final fantasy 16 has fully ai driven party mem...   \n",
       "226          1  final fantasy 16 s puppy has a name and he may...   \n",
       "231          1  final fantasy 16 producer confirms it won t be...   \n",
       "\n",
       "     created_utc                                          tokenized  \\\n",
       "15    1656019280  [ukraine, war, delayed, the, recent, final, fa...   \n",
       "222   1655902458  [yoshida, confirms, final, fantasy, 16, includ...   \n",
       "223   1655901983  [final, fantasy, 16, has, fully, ai, driven, p...   \n",
       "226   1655901278  [final, fantasy, 16, s, puppy, has, a, name, a...   \n",
       "231   1655900679  [final, fantasy, 16, producer, confirms, it, w...   \n",
       "\n",
       "                                             sentiment sentiments  \n",
       "15   [{'label': 'LABEL_1', 'score': 0.5741430521011...    neutral  \n",
       "222  [{'label': 'LABEL_1', 'score': 0.8979144692420...    neutral  \n",
       "223  [{'label': 'LABEL_1', 'score': 0.9014392495155...    neutral  \n",
       "226  [{'label': 'LABEL_1', 'score': 0.9268986582756...    neutral  \n",
       "231  [{'label': 'LABEL_1', 'score': 0.7173556685447...    neutral  "
      ]
     },
     "execution_count": 40,
     "metadata": {},
     "output_type": "execute_result"
    }
   ],
   "source": [
    "ff_senti.head()"
   ]
  },
  {
   "cell_type": "code",
   "execution_count": 41,
   "id": "9a2ac25e-be54-44a3-b67d-5ec77461e09c",
   "metadata": {},
   "outputs": [
    {
     "data": {
      "text/plain": [
       "neutral     124\n",
       "positive     22\n",
       "negative     11\n",
       "Name: sentiments, dtype: int64"
      ]
     },
     "execution_count": 41,
     "metadata": {},
     "output_type": "execute_result"
    }
   ],
   "source": [
    "ff_senti['sentiments'].value_counts()"
   ]
  },
  {
   "cell_type": "code",
   "execution_count": 42,
   "id": "24b35501-381c-490a-a0ea-2214d0e12e4e",
   "metadata": {},
   "outputs": [
    {
     "data": {
      "text/html": [
       "<div>\n",
       "<style scoped>\n",
       "    .dataframe tbody tr th:only-of-type {\n",
       "        vertical-align: middle;\n",
       "    }\n",
       "\n",
       "    .dataframe tbody tr th {\n",
       "        vertical-align: top;\n",
       "    }\n",
       "\n",
       "    .dataframe thead th {\n",
       "        text-align: right;\n",
       "    }\n",
       "</style>\n",
       "<table border=\"1\" class=\"dataframe\">\n",
       "  <thead>\n",
       "    <tr style=\"text-align: right;\">\n",
       "      <th></th>\n",
       "      <th>sentiments</th>\n",
       "    </tr>\n",
       "  </thead>\n",
       "  <tbody>\n",
       "    <tr>\n",
       "      <th>neutral</th>\n",
       "      <td>124</td>\n",
       "    </tr>\n",
       "    <tr>\n",
       "      <th>positive</th>\n",
       "      <td>22</td>\n",
       "    </tr>\n",
       "    <tr>\n",
       "      <th>negative</th>\n",
       "      <td>11</td>\n",
       "    </tr>\n",
       "  </tbody>\n",
       "</table>\n",
       "</div>"
      ],
      "text/plain": [
       "          sentiments\n",
       "neutral          124\n",
       "positive          22\n",
       "negative          11"
      ]
     },
     "execution_count": 42,
     "metadata": {},
     "output_type": "execute_result"
    }
   ],
   "source": [
    "ff_sentiments = pd.DataFrame(ff_senti['sentiments'].value_counts())\n",
    "ff_sentiments"
   ]
  },
  {
   "cell_type": "markdown",
   "id": "f6627279-e8b3-4c55-8826-9062fce48be2",
   "metadata": {},
   "source": [
    "### PS5 Controller"
   ]
  },
  {
   "cell_type": "code",
   "execution_count": 43,
   "id": "62ce770f-dd6c-4457-a3fc-6c3f8360e8b0",
   "metadata": {},
   "outputs": [],
   "source": [
    "pscont_senti = sentiments(ps5_control)"
   ]
  },
  {
   "cell_type": "code",
   "execution_count": 44,
   "id": "feccfdc5-33c1-464f-9b54-5ec55b3366e9",
   "metadata": {},
   "outputs": [
    {
     "data": {
      "text/html": [
       "<div>\n",
       "<style scoped>\n",
       "    .dataframe tbody tr th:only-of-type {\n",
       "        vertical-align: middle;\n",
       "    }\n",
       "\n",
       "    .dataframe tbody tr th {\n",
       "        vertical-align: top;\n",
       "    }\n",
       "\n",
       "    .dataframe thead th {\n",
       "        text-align: right;\n",
       "    }\n",
       "</style>\n",
       "<table border=\"1\" class=\"dataframe\">\n",
       "  <thead>\n",
       "    <tr style=\"text-align: right;\">\n",
       "      <th></th>\n",
       "      <th>subreddit</th>\n",
       "      <th>title</th>\n",
       "      <th>created_utc</th>\n",
       "      <th>tokenized</th>\n",
       "      <th>sentiment</th>\n",
       "      <th>sentiments</th>\n",
       "    </tr>\n",
       "  </thead>\n",
       "  <tbody>\n",
       "    <tr>\n",
       "      <th>5</th>\n",
       "      <td>1</td>\n",
       "      <td>help with wireless controller bluetooth</td>\n",
       "      <td>1656022598</td>\n",
       "      <td>[help, with, wireless, controller, bluetooth]</td>\n",
       "      <td>[{'label': 'LABEL_1', 'score': 0.8238209486007...</td>\n",
       "      <td>neutral</td>\n",
       "    </tr>\n",
       "    <tr>\n",
       "      <th>147</th>\n",
       "      <td>1</td>\n",
       "      <td>dualsense controller refuses to charge</td>\n",
       "      <td>1655935561</td>\n",
       "      <td>[dualsense, controller, refuses, to, charge]</td>\n",
       "      <td>[{'label': 'LABEL_0', 'score': 0.7959108948707...</td>\n",
       "      <td>negative</td>\n",
       "    </tr>\n",
       "    <tr>\n",
       "      <th>166</th>\n",
       "      <td>1</td>\n",
       "      <td>tom henderson ps5 pro controller won t be reve...</td>\n",
       "      <td>1655925748</td>\n",
       "      <td>[tom, henderson, ps5, pro, controller, won, t,...</td>\n",
       "      <td>[{'label': 'LABEL_1', 'score': 0.8287260532379...</td>\n",
       "      <td>neutral</td>\n",
       "    </tr>\n",
       "    <tr>\n",
       "      <th>175</th>\n",
       "      <td>1</td>\n",
       "      <td>tom henderson ps5 pro controller won t be reve...</td>\n",
       "      <td>1655923928</td>\n",
       "      <td>[tom, henderson, ps5, pro, controller, won, t,...</td>\n",
       "      <td>[{'label': 'LABEL_1', 'score': 0.6949279308319...</td>\n",
       "      <td>neutral</td>\n",
       "    </tr>\n",
       "    <tr>\n",
       "      <th>216</th>\n",
       "      <td>1</td>\n",
       "      <td>controller keeps going up any solutions</td>\n",
       "      <td>1655907598</td>\n",
       "      <td>[controller, keeps, going, up, any, solutions]</td>\n",
       "      <td>[{'label': 'LABEL_1', 'score': 0.5916105508804...</td>\n",
       "      <td>neutral</td>\n",
       "    </tr>\n",
       "  </tbody>\n",
       "</table>\n",
       "</div>"
      ],
      "text/plain": [
       "     subreddit                                              title  \\\n",
       "5            1            help with wireless controller bluetooth   \n",
       "147          1             dualsense controller refuses to charge   \n",
       "166          1  tom henderson ps5 pro controller won t be reve...   \n",
       "175          1  tom henderson ps5 pro controller won t be reve...   \n",
       "216          1            controller keeps going up any solutions   \n",
       "\n",
       "     created_utc                                          tokenized  \\\n",
       "5     1656022598      [help, with, wireless, controller, bluetooth]   \n",
       "147   1655935561       [dualsense, controller, refuses, to, charge]   \n",
       "166   1655925748  [tom, henderson, ps5, pro, controller, won, t,...   \n",
       "175   1655923928  [tom, henderson, ps5, pro, controller, won, t,...   \n",
       "216   1655907598     [controller, keeps, going, up, any, solutions]   \n",
       "\n",
       "                                             sentiment sentiments  \n",
       "5    [{'label': 'LABEL_1', 'score': 0.8238209486007...    neutral  \n",
       "147  [{'label': 'LABEL_0', 'score': 0.7959108948707...   negative  \n",
       "166  [{'label': 'LABEL_1', 'score': 0.8287260532379...    neutral  \n",
       "175  [{'label': 'LABEL_1', 'score': 0.6949279308319...    neutral  \n",
       "216  [{'label': 'LABEL_1', 'score': 0.5916105508804...    neutral  "
      ]
     },
     "execution_count": 44,
     "metadata": {},
     "output_type": "execute_result"
    }
   ],
   "source": [
    "pscont_senti.head()"
   ]
  },
  {
   "cell_type": "code",
   "execution_count": 45,
   "id": "bc2a4b8c-796b-41a6-9aa9-a4c5243a007a",
   "metadata": {},
   "outputs": [
    {
     "data": {
      "text/plain": [
       "neutral     383\n",
       "negative    262\n",
       "positive     15\n",
       "Name: sentiments, dtype: int64"
      ]
     },
     "execution_count": 45,
     "metadata": {},
     "output_type": "execute_result"
    }
   ],
   "source": [
    "pscont_senti['sentiments'].value_counts()"
   ]
  },
  {
   "cell_type": "code",
   "execution_count": 46,
   "id": "f2937156-830b-4552-9a87-405d67bc684e",
   "metadata": {},
   "outputs": [
    {
     "data": {
      "text/html": [
       "<div>\n",
       "<style scoped>\n",
       "    .dataframe tbody tr th:only-of-type {\n",
       "        vertical-align: middle;\n",
       "    }\n",
       "\n",
       "    .dataframe tbody tr th {\n",
       "        vertical-align: top;\n",
       "    }\n",
       "\n",
       "    .dataframe thead th {\n",
       "        text-align: right;\n",
       "    }\n",
       "</style>\n",
       "<table border=\"1\" class=\"dataframe\">\n",
       "  <thead>\n",
       "    <tr style=\"text-align: right;\">\n",
       "      <th></th>\n",
       "      <th>sentiments</th>\n",
       "    </tr>\n",
       "  </thead>\n",
       "  <tbody>\n",
       "    <tr>\n",
       "      <th>neutral</th>\n",
       "      <td>383</td>\n",
       "    </tr>\n",
       "    <tr>\n",
       "      <th>negative</th>\n",
       "      <td>262</td>\n",
       "    </tr>\n",
       "    <tr>\n",
       "      <th>positive</th>\n",
       "      <td>15</td>\n",
       "    </tr>\n",
       "  </tbody>\n",
       "</table>\n",
       "</div>"
      ],
      "text/plain": [
       "          sentiments\n",
       "neutral          383\n",
       "negative         262\n",
       "positive          15"
      ]
     },
     "execution_count": 46,
     "metadata": {},
     "output_type": "execute_result"
    }
   ],
   "source": [
    "pscont_sentiments = pd.DataFrame(pscont_senti['sentiments'].value_counts())\n",
    "pscont_sentiments"
   ]
  },
  {
   "cell_type": "markdown",
   "id": "cc509adb-a621-4991-9463-25970cc3b99f",
   "metadata": {},
   "source": [
    "### Summary"
   ]
  },
  {
   "cell_type": "code",
   "execution_count": 47,
   "id": "44ce7d18-2aeb-4c31-b43f-24eca1a4d77c",
   "metadata": {},
   "outputs": [],
   "source": [
    "ps_cols = [\"Overall\", \"PSPlus\", \"EldenRing\", \"Horizon\", \"FinalFantasy\", \"PS5Controller\"]\n",
    "playstation_sentiments = pd.concat([ps5_sentiments, psplus_sentiments, pselden_sentiments, horizon_sentiments, ff_sentiments, pscont_sentiments], axis=1, ignore_index=True)\n",
    "playstation_sentiments.columns = ps_cols"
   ]
  },
  {
   "cell_type": "code",
   "execution_count": 48,
   "id": "0081d99b-b7fc-470a-b2db-0b032a115096",
   "metadata": {},
   "outputs": [
    {
     "data": {
      "text/html": [
       "<div>\n",
       "<style scoped>\n",
       "    .dataframe tbody tr th:only-of-type {\n",
       "        vertical-align: middle;\n",
       "    }\n",
       "\n",
       "    .dataframe tbody tr th {\n",
       "        vertical-align: top;\n",
       "    }\n",
       "\n",
       "    .dataframe thead th {\n",
       "        text-align: right;\n",
       "    }\n",
       "</style>\n",
       "<table border=\"1\" class=\"dataframe\">\n",
       "  <thead>\n",
       "    <tr style=\"text-align: right;\">\n",
       "      <th></th>\n",
       "      <th>Overall</th>\n",
       "      <th>PSPlus</th>\n",
       "      <th>EldenRing</th>\n",
       "      <th>Horizon</th>\n",
       "      <th>FinalFantasy</th>\n",
       "      <th>PS5Controller</th>\n",
       "    </tr>\n",
       "  </thead>\n",
       "  <tbody>\n",
       "    <tr>\n",
       "      <th>neutral</th>\n",
       "      <td>1462</td>\n",
       "      <td>256</td>\n",
       "      <td>222</td>\n",
       "      <td>99</td>\n",
       "      <td>124</td>\n",
       "      <td>383</td>\n",
       "    </tr>\n",
       "    <tr>\n",
       "      <th>negative</th>\n",
       "      <td>383</td>\n",
       "      <td>56</td>\n",
       "      <td>23</td>\n",
       "      <td>10</td>\n",
       "      <td>11</td>\n",
       "      <td>262</td>\n",
       "    </tr>\n",
       "    <tr>\n",
       "      <th>positive</th>\n",
       "      <td>155</td>\n",
       "      <td>19</td>\n",
       "      <td>39</td>\n",
       "      <td>10</td>\n",
       "      <td>22</td>\n",
       "      <td>15</td>\n",
       "    </tr>\n",
       "  </tbody>\n",
       "</table>\n",
       "</div>"
      ],
      "text/plain": [
       "          Overall  PSPlus  EldenRing  Horizon  FinalFantasy  PS5Controller\n",
       "neutral      1462     256        222       99           124            383\n",
       "negative      383      56         23       10            11            262\n",
       "positive      155      19         39       10            22             15"
      ]
     },
     "execution_count": 48,
     "metadata": {},
     "output_type": "execute_result"
    }
   ],
   "source": [
    "playstation_sentiments"
   ]
  },
  {
   "cell_type": "code",
   "execution_count": 49,
   "id": "4c0ae5f1-a6c7-4fe1-8255-c509a20eb093",
   "metadata": {},
   "outputs": [
    {
     "data": {
      "text/html": [
       "<div>\n",
       "<style scoped>\n",
       "    .dataframe tbody tr th:only-of-type {\n",
       "        vertical-align: middle;\n",
       "    }\n",
       "\n",
       "    .dataframe tbody tr th {\n",
       "        vertical-align: top;\n",
       "    }\n",
       "\n",
       "    .dataframe thead th {\n",
       "        text-align: right;\n",
       "    }\n",
       "</style>\n",
       "<table border=\"1\" class=\"dataframe\">\n",
       "  <thead>\n",
       "    <tr style=\"text-align: right;\">\n",
       "      <th></th>\n",
       "      <th>Overall</th>\n",
       "      <th>PSPlus</th>\n",
       "      <th>EldenRing</th>\n",
       "      <th>Horizon</th>\n",
       "      <th>FinalFantasy</th>\n",
       "      <th>PS5Controller</th>\n",
       "    </tr>\n",
       "  </thead>\n",
       "  <tbody>\n",
       "    <tr>\n",
       "      <th>neutral</th>\n",
       "      <td>0.73</td>\n",
       "      <td>0.77</td>\n",
       "      <td>0.78</td>\n",
       "      <td>0.83</td>\n",
       "      <td>0.79</td>\n",
       "      <td>0.58</td>\n",
       "    </tr>\n",
       "    <tr>\n",
       "      <th>negative</th>\n",
       "      <td>0.19</td>\n",
       "      <td>0.17</td>\n",
       "      <td>0.08</td>\n",
       "      <td>0.08</td>\n",
       "      <td>0.07</td>\n",
       "      <td>0.40</td>\n",
       "    </tr>\n",
       "    <tr>\n",
       "      <th>positive</th>\n",
       "      <td>0.08</td>\n",
       "      <td>0.06</td>\n",
       "      <td>0.14</td>\n",
       "      <td>0.08</td>\n",
       "      <td>0.14</td>\n",
       "      <td>0.02</td>\n",
       "    </tr>\n",
       "  </tbody>\n",
       "</table>\n",
       "</div>"
      ],
      "text/plain": [
       "          Overall  PSPlus  EldenRing  Horizon  FinalFantasy  PS5Controller\n",
       "neutral      0.73    0.77       0.78     0.83          0.79           0.58\n",
       "negative     0.19    0.17       0.08     0.08          0.07           0.40\n",
       "positive     0.08    0.06       0.14     0.08          0.14           0.02"
      ]
     },
     "execution_count": 49,
     "metadata": {},
     "output_type": "execute_result"
    }
   ],
   "source": [
    "playstation_sentiments_perc = round(playstation_sentiments / playstation_sentiments.sum(), 2)\n",
    "playstation_sentiments_perc"
   ]
  },
  {
   "cell_type": "markdown",
   "id": "4f1ab940-7477-4b26-987d-ab795cadf839",
   "metadata": {},
   "source": [
    "Points to note:\n",
    "- Most post are neutral - likely to be questions and discussions on the topic itself\n",
    "- Gaming Post tend to have more positive sentiments (Elden Ring and Final Fantasy)\n",
    "- Subscription service have more negative post than postive ones (possibly complaints)\n",
    "- Controller have the highest percentage of negative posts (possibly complaints)"
   ]
  },
  {
   "cell_type": "markdown",
   "id": "740f98ce-0e13-4f7f-ad87-f2c30be2aa79",
   "metadata": {},
   "source": [
    "## Xbox Sentiments"
   ]
  },
  {
   "cell_type": "markdown",
   "id": "a79df9fd-edf9-4b05-acb2-b05b8a426dbb",
   "metadata": {},
   "source": [
    "### Overall"
   ]
  },
  {
   "cell_type": "code",
   "execution_count": 50,
   "id": "fc417a5c-d56d-4536-9dde-e0dbbdc790e9",
   "metadata": {},
   "outputs": [],
   "source": [
    "xbox_sample_senti = sentiments(xbox_textdf.sample(2000))"
   ]
  },
  {
   "cell_type": "code",
   "execution_count": 51,
   "id": "0f7f2c2b-66d1-459b-b90a-a753cb661b69",
   "metadata": {},
   "outputs": [
    {
     "data": {
      "text/html": [
       "<div>\n",
       "<style scoped>\n",
       "    .dataframe tbody tr th:only-of-type {\n",
       "        vertical-align: middle;\n",
       "    }\n",
       "\n",
       "    .dataframe tbody tr th {\n",
       "        vertical-align: top;\n",
       "    }\n",
       "\n",
       "    .dataframe thead th {\n",
       "        text-align: right;\n",
       "    }\n",
       "</style>\n",
       "<table border=\"1\" class=\"dataframe\">\n",
       "  <thead>\n",
       "    <tr style=\"text-align: right;\">\n",
       "      <th></th>\n",
       "      <th>subreddit</th>\n",
       "      <th>title</th>\n",
       "      <th>created_utc</th>\n",
       "      <th>tokenized</th>\n",
       "      <th>sentiment</th>\n",
       "      <th>sentiments</th>\n",
       "    </tr>\n",
       "  </thead>\n",
       "  <tbody>\n",
       "    <tr>\n",
       "      <th>28737</th>\n",
       "      <td>0</td>\n",
       "      <td>is an xbox series x worth it for 360 games do ...</td>\n",
       "      <td>1644527549</td>\n",
       "      <td>[is, an, xbox, series, x, worth, it, for, 360,...</td>\n",
       "      <td>[{'label': 'LABEL_1', 'score': 0.8182923793792...</td>\n",
       "      <td>neutral</td>\n",
       "    </tr>\n",
       "    <tr>\n",
       "      <th>18787</th>\n",
       "      <td>0</td>\n",
       "      <td>cod cold war</td>\n",
       "      <td>1652744297</td>\n",
       "      <td>[cod, cold, war]</td>\n",
       "      <td>[{'label': 'LABEL_1', 'score': 0.6220100522041...</td>\n",
       "      <td>neutral</td>\n",
       "    </tr>\n",
       "    <tr>\n",
       "      <th>19827</th>\n",
       "      <td>0</td>\n",
       "      <td>evil dead the game debuts official song come g...</td>\n",
       "      <td>1651852433</td>\n",
       "      <td>[evil, dead, the, game, debuts, official, song...</td>\n",
       "      <td>[{'label': 'LABEL_1', 'score': 0.7505331635475...</td>\n",
       "      <td>neutral</td>\n",
       "    </tr>\n",
       "    <tr>\n",
       "      <th>16170</th>\n",
       "      <td>0</td>\n",
       "      <td>minecraft meme</td>\n",
       "      <td>1655104462</td>\n",
       "      <td>[minecraft, meme]</td>\n",
       "      <td>[{'label': 'LABEL_1', 'score': 0.5856789350509...</td>\n",
       "      <td>neutral</td>\n",
       "    </tr>\n",
       "    <tr>\n",
       "      <th>21914</th>\n",
       "      <td>0</td>\n",
       "      <td>is there a flux like app for x box users</td>\n",
       "      <td>1649821396</td>\n",
       "      <td>[is, there, a, flux, like, app, for, x, box, u...</td>\n",
       "      <td>[{'label': 'LABEL_1', 'score': 0.9057582020759...</td>\n",
       "      <td>neutral</td>\n",
       "    </tr>\n",
       "  </tbody>\n",
       "</table>\n",
       "</div>"
      ],
      "text/plain": [
       "       subreddit                                              title  \\\n",
       "28737          0  is an xbox series x worth it for 360 games do ...   \n",
       "18787          0                                       cod cold war   \n",
       "19827          0  evil dead the game debuts official song come g...   \n",
       "16170          0                                     minecraft meme   \n",
       "21914          0           is there a flux like app for x box users   \n",
       "\n",
       "       created_utc                                          tokenized  \\\n",
       "28737   1644527549  [is, an, xbox, series, x, worth, it, for, 360,...   \n",
       "18787   1652744297                                   [cod, cold, war]   \n",
       "19827   1651852433  [evil, dead, the, game, debuts, official, song...   \n",
       "16170   1655104462                                  [minecraft, meme]   \n",
       "21914   1649821396  [is, there, a, flux, like, app, for, x, box, u...   \n",
       "\n",
       "                                               sentiment sentiments  \n",
       "28737  [{'label': 'LABEL_1', 'score': 0.8182923793792...    neutral  \n",
       "18787  [{'label': 'LABEL_1', 'score': 0.6220100522041...    neutral  \n",
       "19827  [{'label': 'LABEL_1', 'score': 0.7505331635475...    neutral  \n",
       "16170  [{'label': 'LABEL_1', 'score': 0.5856789350509...    neutral  \n",
       "21914  [{'label': 'LABEL_1', 'score': 0.9057582020759...    neutral  "
      ]
     },
     "execution_count": 51,
     "metadata": {},
     "output_type": "execute_result"
    }
   ],
   "source": [
    "xbox_sample_senti.head()"
   ]
  },
  {
   "cell_type": "code",
   "execution_count": 52,
   "id": "c77b1560-d8f3-4918-adbe-32a4647bbd88",
   "metadata": {},
   "outputs": [
    {
     "data": {
      "text/plain": [
       "neutral     1424\n",
       "negative     351\n",
       "positive     225\n",
       "Name: sentiments, dtype: int64"
      ]
     },
     "execution_count": 52,
     "metadata": {},
     "output_type": "execute_result"
    }
   ],
   "source": [
    "xbox_sample_senti['sentiments'].value_counts()"
   ]
  },
  {
   "cell_type": "code",
   "execution_count": 53,
   "id": "491feca2-52d9-46fc-b3e2-6a63fa8c2b54",
   "metadata": {},
   "outputs": [
    {
     "data": {
      "text/html": [
       "<div>\n",
       "<style scoped>\n",
       "    .dataframe tbody tr th:only-of-type {\n",
       "        vertical-align: middle;\n",
       "    }\n",
       "\n",
       "    .dataframe tbody tr th {\n",
       "        vertical-align: top;\n",
       "    }\n",
       "\n",
       "    .dataframe thead th {\n",
       "        text-align: right;\n",
       "    }\n",
       "</style>\n",
       "<table border=\"1\" class=\"dataframe\">\n",
       "  <thead>\n",
       "    <tr style=\"text-align: right;\">\n",
       "      <th></th>\n",
       "      <th>sentiments</th>\n",
       "    </tr>\n",
       "  </thead>\n",
       "  <tbody>\n",
       "    <tr>\n",
       "      <th>neutral</th>\n",
       "      <td>1424</td>\n",
       "    </tr>\n",
       "    <tr>\n",
       "      <th>negative</th>\n",
       "      <td>351</td>\n",
       "    </tr>\n",
       "    <tr>\n",
       "      <th>positive</th>\n",
       "      <td>225</td>\n",
       "    </tr>\n",
       "  </tbody>\n",
       "</table>\n",
       "</div>"
      ],
      "text/plain": [
       "          sentiments\n",
       "neutral         1424\n",
       "negative         351\n",
       "positive         225"
      ]
     },
     "execution_count": 53,
     "metadata": {},
     "output_type": "execute_result"
    }
   ],
   "source": [
    "xbox_sentiments = pd.DataFrame(xbox_sample_senti['sentiments'].value_counts())\n",
    "xbox_sentiments"
   ]
  },
  {
   "cell_type": "markdown",
   "id": "8456bada-8107-46ff-82cb-e035872fca9f",
   "metadata": {},
   "source": [
    "### Game Pass"
   ]
  },
  {
   "cell_type": "code",
   "execution_count": 54,
   "id": "ac0034c9-bff4-4c45-90c8-7bd94f24eca1",
   "metadata": {},
   "outputs": [],
   "source": [
    "pass_senti = sentiments(xbox_pass)"
   ]
  },
  {
   "cell_type": "code",
   "execution_count": 55,
   "id": "b0053d2c-eba4-4e1c-8852-fea3da1e0636",
   "metadata": {},
   "outputs": [
    {
     "data": {
      "text/html": [
       "<div>\n",
       "<style scoped>\n",
       "    .dataframe tbody tr th:only-of-type {\n",
       "        vertical-align: middle;\n",
       "    }\n",
       "\n",
       "    .dataframe tbody tr th {\n",
       "        vertical-align: top;\n",
       "    }\n",
       "\n",
       "    .dataframe thead th {\n",
       "        text-align: right;\n",
       "    }\n",
       "</style>\n",
       "<table border=\"1\" class=\"dataframe\">\n",
       "  <thead>\n",
       "    <tr style=\"text-align: right;\">\n",
       "      <th></th>\n",
       "      <th>subreddit</th>\n",
       "      <th>title</th>\n",
       "      <th>created_utc</th>\n",
       "      <th>tokenized</th>\n",
       "      <th>sentiment</th>\n",
       "      <th>sentiments</th>\n",
       "    </tr>\n",
       "  </thead>\n",
       "  <tbody>\n",
       "    <tr>\n",
       "      <th>14994</th>\n",
       "      <td>0</td>\n",
       "      <td>i discovered titanfall 2 on game pass ultimate...</td>\n",
       "      <td>1656024370</td>\n",
       "      <td>[i, discovered, titanfall, 2, on, game, pass, ...</td>\n",
       "      <td>[{'label': 'LABEL_2', 'score': 0.9884983897209...</td>\n",
       "      <td>positive</td>\n",
       "    </tr>\n",
       "    <tr>\n",
       "      <th>15021</th>\n",
       "      <td>0</td>\n",
       "      <td>3 years of live converted to game pass ultimat...</td>\n",
       "      <td>1656003699</td>\n",
       "      <td>[3, years, of, live, converted, to, game, pass...</td>\n",
       "      <td>[{'label': 'LABEL_1', 'score': 0.7336742877960...</td>\n",
       "      <td>neutral</td>\n",
       "    </tr>\n",
       "    <tr>\n",
       "      <th>15035</th>\n",
       "      <td>0</td>\n",
       "      <td>what s your opinion on playstations answer to ...</td>\n",
       "      <td>1655997530</td>\n",
       "      <td>[what, s, your, opinion, on, playstations, ans...</td>\n",
       "      <td>[{'label': 'LABEL_1', 'score': 0.8745307922363...</td>\n",
       "      <td>neutral</td>\n",
       "    </tr>\n",
       "    <tr>\n",
       "      <th>15058</th>\n",
       "      <td>0</td>\n",
       "      <td>two week xbox game pass ultimate code for anyo...</td>\n",
       "      <td>1655981744</td>\n",
       "      <td>[two, week, xbox, game, pass, ultimate, code, ...</td>\n",
       "      <td>[{'label': 'LABEL_2', 'score': 0.9027695655822...</td>\n",
       "      <td>positive</td>\n",
       "    </tr>\n",
       "    <tr>\n",
       "      <th>15071</th>\n",
       "      <td>0</td>\n",
       "      <td>naraka bladepoint standard edition available n...</td>\n",
       "      <td>1655968279</td>\n",
       "      <td>[naraka, bladepoint, standard, edition, availa...</td>\n",
       "      <td>[{'label': 'LABEL_1', 'score': 0.9105131030082...</td>\n",
       "      <td>neutral</td>\n",
       "    </tr>\n",
       "  </tbody>\n",
       "</table>\n",
       "</div>"
      ],
      "text/plain": [
       "       subreddit                                              title  \\\n",
       "14994          0  i discovered titanfall 2 on game pass ultimate...   \n",
       "15021          0  3 years of live converted to game pass ultimat...   \n",
       "15035          0  what s your opinion on playstations answer to ...   \n",
       "15058          0  two week xbox game pass ultimate code for anyo...   \n",
       "15071          0  naraka bladepoint standard edition available n...   \n",
       "\n",
       "       created_utc                                          tokenized  \\\n",
       "14994   1656024370  [i, discovered, titanfall, 2, on, game, pass, ...   \n",
       "15021   1656003699  [3, years, of, live, converted, to, game, pass...   \n",
       "15035   1655997530  [what, s, your, opinion, on, playstations, ans...   \n",
       "15058   1655981744  [two, week, xbox, game, pass, ultimate, code, ...   \n",
       "15071   1655968279  [naraka, bladepoint, standard, edition, availa...   \n",
       "\n",
       "                                               sentiment sentiments  \n",
       "14994  [{'label': 'LABEL_2', 'score': 0.9884983897209...   positive  \n",
       "15021  [{'label': 'LABEL_1', 'score': 0.7336742877960...    neutral  \n",
       "15035  [{'label': 'LABEL_1', 'score': 0.8745307922363...    neutral  \n",
       "15058  [{'label': 'LABEL_2', 'score': 0.9027695655822...   positive  \n",
       "15071  [{'label': 'LABEL_1', 'score': 0.9105131030082...    neutral  "
      ]
     },
     "execution_count": 55,
     "metadata": {},
     "output_type": "execute_result"
    }
   ],
   "source": [
    "pass_senti.head()"
   ]
  },
  {
   "cell_type": "code",
   "execution_count": 56,
   "id": "9e6d09f6-ad42-4ac8-8c59-2efa33b25b0a",
   "metadata": {},
   "outputs": [
    {
     "data": {
      "text/plain": [
       "neutral     463\n",
       "positive     70\n",
       "negative     55\n",
       "Name: sentiments, dtype: int64"
      ]
     },
     "execution_count": 56,
     "metadata": {},
     "output_type": "execute_result"
    }
   ],
   "source": [
    "pass_senti['sentiments'].value_counts()"
   ]
  },
  {
   "cell_type": "code",
   "execution_count": 57,
   "id": "64b594ce-1c52-4da5-9ae3-81fe96367b64",
   "metadata": {},
   "outputs": [
    {
     "data": {
      "text/html": [
       "<div>\n",
       "<style scoped>\n",
       "    .dataframe tbody tr th:only-of-type {\n",
       "        vertical-align: middle;\n",
       "    }\n",
       "\n",
       "    .dataframe tbody tr th {\n",
       "        vertical-align: top;\n",
       "    }\n",
       "\n",
       "    .dataframe thead th {\n",
       "        text-align: right;\n",
       "    }\n",
       "</style>\n",
       "<table border=\"1\" class=\"dataframe\">\n",
       "  <thead>\n",
       "    <tr style=\"text-align: right;\">\n",
       "      <th></th>\n",
       "      <th>sentiments</th>\n",
       "    </tr>\n",
       "  </thead>\n",
       "  <tbody>\n",
       "    <tr>\n",
       "      <th>neutral</th>\n",
       "      <td>463</td>\n",
       "    </tr>\n",
       "    <tr>\n",
       "      <th>positive</th>\n",
       "      <td>70</td>\n",
       "    </tr>\n",
       "    <tr>\n",
       "      <th>negative</th>\n",
       "      <td>55</td>\n",
       "    </tr>\n",
       "  </tbody>\n",
       "</table>\n",
       "</div>"
      ],
      "text/plain": [
       "          sentiments\n",
       "neutral          463\n",
       "positive          70\n",
       "negative          55"
      ]
     },
     "execution_count": 57,
     "metadata": {},
     "output_type": "execute_result"
    }
   ],
   "source": [
    "pass_sentiments = pd.DataFrame(pass_senti['sentiments'].value_counts())\n",
    "pass_sentiments"
   ]
  },
  {
   "cell_type": "markdown",
   "id": "4a9c2127-b442-4f47-8857-b39b39209dd2",
   "metadata": {},
   "source": [
    "### Elden Ring"
   ]
  },
  {
   "cell_type": "code",
   "execution_count": 58,
   "id": "9d26fad5-4060-4903-8ef7-991c872ccd73",
   "metadata": {},
   "outputs": [],
   "source": [
    "xelden_senti = sentiments(xbox_elden)"
   ]
  },
  {
   "cell_type": "code",
   "execution_count": 59,
   "id": "653145a7-aa56-4421-82e5-e05bc71d07b3",
   "metadata": {},
   "outputs": [
    {
     "data": {
      "text/html": [
       "<div>\n",
       "<style scoped>\n",
       "    .dataframe tbody tr th:only-of-type {\n",
       "        vertical-align: middle;\n",
       "    }\n",
       "\n",
       "    .dataframe tbody tr th {\n",
       "        vertical-align: top;\n",
       "    }\n",
       "\n",
       "    .dataframe thead th {\n",
       "        text-align: right;\n",
       "    }\n",
       "</style>\n",
       "<table border=\"1\" class=\"dataframe\">\n",
       "  <thead>\n",
       "    <tr style=\"text-align: right;\">\n",
       "      <th></th>\n",
       "      <th>subreddit</th>\n",
       "      <th>title</th>\n",
       "      <th>created_utc</th>\n",
       "      <th>tokenized</th>\n",
       "      <th>sentiment</th>\n",
       "      <th>sentiments</th>\n",
       "    </tr>\n",
       "  </thead>\n",
       "  <tbody>\n",
       "    <tr>\n",
       "      <th>15703</th>\n",
       "      <td>0</td>\n",
       "      <td>xbox series x makes beeping noise on bright sc...</td>\n",
       "      <td>1655463637</td>\n",
       "      <td>[xbox, series, x, makes, beeping, noise, on, b...</td>\n",
       "      <td>[{'label': 'LABEL_1', 'score': 0.7984631657600...</td>\n",
       "      <td>neutral</td>\n",
       "    </tr>\n",
       "    <tr>\n",
       "      <th>15742</th>\n",
       "      <td>0</td>\n",
       "      <td>so elden ring has a buggy spot in concreted sn...</td>\n",
       "      <td>1655422163</td>\n",
       "      <td>[so, elden, ring, has, a, buggy, spot, in, con...</td>\n",
       "      <td>[{'label': 'LABEL_1', 'score': 0.7375404238700...</td>\n",
       "      <td>neutral</td>\n",
       "    </tr>\n",
       "    <tr>\n",
       "      <th>16025</th>\n",
       "      <td>0</td>\n",
       "      <td>elden ring</td>\n",
       "      <td>1655205592</td>\n",
       "      <td>[elden, ring]</td>\n",
       "      <td>[{'label': 'LABEL_1', 'score': 0.7073009610176...</td>\n",
       "      <td>neutral</td>\n",
       "    </tr>\n",
       "    <tr>\n",
       "      <th>16099</th>\n",
       "      <td>0</td>\n",
       "      <td>elden ring patch 1 05 vastly improves xbox ser...</td>\n",
       "      <td>1655140253</td>\n",
       "      <td>[elden, ring, patch, 1, 05, vastly, improves, ...</td>\n",
       "      <td>[{'label': 'LABEL_2', 'score': 0.7226438522338...</td>\n",
       "      <td>positive</td>\n",
       "    </tr>\n",
       "    <tr>\n",
       "      <th>16142</th>\n",
       "      <td>0</td>\n",
       "      <td>elden ring patch notes 1 05</td>\n",
       "      <td>1655123202</td>\n",
       "      <td>[elden, ring, patch, notes, 1, 05]</td>\n",
       "      <td>[{'label': 'LABEL_1', 'score': 0.8514583110809...</td>\n",
       "      <td>neutral</td>\n",
       "    </tr>\n",
       "  </tbody>\n",
       "</table>\n",
       "</div>"
      ],
      "text/plain": [
       "       subreddit                                              title  \\\n",
       "15703          0  xbox series x makes beeping noise on bright sc...   \n",
       "15742          0  so elden ring has a buggy spot in concreted sn...   \n",
       "16025          0                                         elden ring   \n",
       "16099          0  elden ring patch 1 05 vastly improves xbox ser...   \n",
       "16142          0                        elden ring patch notes 1 05   \n",
       "\n",
       "       created_utc                                          tokenized  \\\n",
       "15703   1655463637  [xbox, series, x, makes, beeping, noise, on, b...   \n",
       "15742   1655422163  [so, elden, ring, has, a, buggy, spot, in, con...   \n",
       "16025   1655205592                                      [elden, ring]   \n",
       "16099   1655140253  [elden, ring, patch, 1, 05, vastly, improves, ...   \n",
       "16142   1655123202                 [elden, ring, patch, notes, 1, 05]   \n",
       "\n",
       "                                               sentiment sentiments  \n",
       "15703  [{'label': 'LABEL_1', 'score': 0.7984631657600...    neutral  \n",
       "15742  [{'label': 'LABEL_1', 'score': 0.7375404238700...    neutral  \n",
       "16025  [{'label': 'LABEL_1', 'score': 0.7073009610176...    neutral  \n",
       "16099  [{'label': 'LABEL_2', 'score': 0.7226438522338...   positive  \n",
       "16142  [{'label': 'LABEL_1', 'score': 0.8514583110809...    neutral  "
      ]
     },
     "execution_count": 59,
     "metadata": {},
     "output_type": "execute_result"
    }
   ],
   "source": [
    "xelden_senti.head()"
   ]
  },
  {
   "cell_type": "code",
   "execution_count": 60,
   "id": "61386db2-d8cb-4e1b-a14d-9c951e2292c0",
   "metadata": {},
   "outputs": [
    {
     "data": {
      "text/plain": [
       "neutral     221\n",
       "negative     46\n",
       "positive     43\n",
       "Name: sentiments, dtype: int64"
      ]
     },
     "execution_count": 60,
     "metadata": {},
     "output_type": "execute_result"
    }
   ],
   "source": [
    "xelden_senti['sentiments'].value_counts()"
   ]
  },
  {
   "cell_type": "code",
   "execution_count": 61,
   "id": "32f6cc99-d15b-4cee-8a3d-92d997d1d52e",
   "metadata": {},
   "outputs": [
    {
     "data": {
      "text/html": [
       "<div>\n",
       "<style scoped>\n",
       "    .dataframe tbody tr th:only-of-type {\n",
       "        vertical-align: middle;\n",
       "    }\n",
       "\n",
       "    .dataframe tbody tr th {\n",
       "        vertical-align: top;\n",
       "    }\n",
       "\n",
       "    .dataframe thead th {\n",
       "        text-align: right;\n",
       "    }\n",
       "</style>\n",
       "<table border=\"1\" class=\"dataframe\">\n",
       "  <thead>\n",
       "    <tr style=\"text-align: right;\">\n",
       "      <th></th>\n",
       "      <th>sentiments</th>\n",
       "    </tr>\n",
       "  </thead>\n",
       "  <tbody>\n",
       "    <tr>\n",
       "      <th>neutral</th>\n",
       "      <td>221</td>\n",
       "    </tr>\n",
       "    <tr>\n",
       "      <th>negative</th>\n",
       "      <td>46</td>\n",
       "    </tr>\n",
       "    <tr>\n",
       "      <th>positive</th>\n",
       "      <td>43</td>\n",
       "    </tr>\n",
       "  </tbody>\n",
       "</table>\n",
       "</div>"
      ],
      "text/plain": [
       "          sentiments\n",
       "neutral          221\n",
       "negative          46\n",
       "positive          43"
      ]
     },
     "execution_count": 61,
     "metadata": {},
     "output_type": "execute_result"
    }
   ],
   "source": [
    "xelden_sentiments = pd.DataFrame(xelden_senti['sentiments'].value_counts())\n",
    "xelden_sentiments"
   ]
  },
  {
   "cell_type": "markdown",
   "id": "aaa29941-36c4-446f-84ef-7ec36571a48b",
   "metadata": {},
   "source": [
    "### Dying Light"
   ]
  },
  {
   "cell_type": "code",
   "execution_count": 62,
   "id": "4c9e9d52-3113-489d-9e90-ad1edb0decbc",
   "metadata": {},
   "outputs": [],
   "source": [
    "dl_senti = sentiments(xbox_dl)"
   ]
  },
  {
   "cell_type": "code",
   "execution_count": 63,
   "id": "3c71f1e8-ae3d-4787-89a6-f7349be9fadd",
   "metadata": {},
   "outputs": [
    {
     "data": {
      "text/html": [
       "<div>\n",
       "<style scoped>\n",
       "    .dataframe tbody tr th:only-of-type {\n",
       "        vertical-align: middle;\n",
       "    }\n",
       "\n",
       "    .dataframe tbody tr th {\n",
       "        vertical-align: top;\n",
       "    }\n",
       "\n",
       "    .dataframe thead th {\n",
       "        text-align: right;\n",
       "    }\n",
       "</style>\n",
       "<table border=\"1\" class=\"dataframe\">\n",
       "  <thead>\n",
       "    <tr style=\"text-align: right;\">\n",
       "      <th></th>\n",
       "      <th>subreddit</th>\n",
       "      <th>title</th>\n",
       "      <th>created_utc</th>\n",
       "      <th>tokenized</th>\n",
       "      <th>sentiment</th>\n",
       "      <th>sentiments</th>\n",
       "    </tr>\n",
       "  </thead>\n",
       "  <tbody>\n",
       "    <tr>\n",
       "      <th>15108</th>\n",
       "      <td>0</td>\n",
       "      <td>dying light 2 stay human chapter 1 new enemies...</td>\n",
       "      <td>1655929900</td>\n",
       "      <td>[dying, light, 2, stay, human, chapter, 1, new...</td>\n",
       "      <td>[{'label': 'LABEL_1', 'score': 0.8482400178909...</td>\n",
       "      <td>neutral</td>\n",
       "    </tr>\n",
       "    <tr>\n",
       "      <th>15427</th>\n",
       "      <td>0</td>\n",
       "      <td>dying light 2 weird flickering</td>\n",
       "      <td>1655675944</td>\n",
       "      <td>[dying, light, 2, weird, flickering]</td>\n",
       "      <td>[{'label': 'LABEL_0', 'score': 0.4917528927326...</td>\n",
       "      <td>negative</td>\n",
       "    </tr>\n",
       "    <tr>\n",
       "      <th>15691</th>\n",
       "      <td>0</td>\n",
       "      <td>some questions about how certain games perform...</td>\n",
       "      <td>1655472654</td>\n",
       "      <td>[some, questions, about, how, certain, games, ...</td>\n",
       "      <td>[{'label': 'LABEL_1', 'score': 0.7782357931137...</td>\n",
       "      <td>neutral</td>\n",
       "    </tr>\n",
       "    <tr>\n",
       "      <th>16702</th>\n",
       "      <td>0</td>\n",
       "      <td>dying light definitive edition discounted on p...</td>\n",
       "      <td>1654814749</td>\n",
       "      <td>[dying, light, definitive, edition, discounted...</td>\n",
       "      <td>[{'label': 'LABEL_1', 'score': 0.6861517429351...</td>\n",
       "      <td>neutral</td>\n",
       "    </tr>\n",
       "    <tr>\n",
       "      <th>16801</th>\n",
       "      <td>0</td>\n",
       "      <td>techland closes out 7 years of support with dy...</td>\n",
       "      <td>1654738641</td>\n",
       "      <td>[techland, closes, out, 7, years, of, support,...</td>\n",
       "      <td>[{'label': 'LABEL_1', 'score': 0.8010071516036...</td>\n",
       "      <td>neutral</td>\n",
       "    </tr>\n",
       "  </tbody>\n",
       "</table>\n",
       "</div>"
      ],
      "text/plain": [
       "       subreddit                                              title  \\\n",
       "15108          0  dying light 2 stay human chapter 1 new enemies...   \n",
       "15427          0                     dying light 2 weird flickering   \n",
       "15691          0  some questions about how certain games perform...   \n",
       "16702          0  dying light definitive edition discounted on p...   \n",
       "16801          0  techland closes out 7 years of support with dy...   \n",
       "\n",
       "       created_utc                                          tokenized  \\\n",
       "15108   1655929900  [dying, light, 2, stay, human, chapter, 1, new...   \n",
       "15427   1655675944               [dying, light, 2, weird, flickering]   \n",
       "15691   1655472654  [some, questions, about, how, certain, games, ...   \n",
       "16702   1654814749  [dying, light, definitive, edition, discounted...   \n",
       "16801   1654738641  [techland, closes, out, 7, years, of, support,...   \n",
       "\n",
       "                                               sentiment sentiments  \n",
       "15108  [{'label': 'LABEL_1', 'score': 0.8482400178909...    neutral  \n",
       "15427  [{'label': 'LABEL_0', 'score': 0.4917528927326...   negative  \n",
       "15691  [{'label': 'LABEL_1', 'score': 0.7782357931137...    neutral  \n",
       "16702  [{'label': 'LABEL_1', 'score': 0.6861517429351...    neutral  \n",
       "16801  [{'label': 'LABEL_1', 'score': 0.8010071516036...    neutral  "
      ]
     },
     "execution_count": 63,
     "metadata": {},
     "output_type": "execute_result"
    }
   ],
   "source": [
    "dl_senti.head()"
   ]
  },
  {
   "cell_type": "code",
   "execution_count": 64,
   "id": "9f8aae13-4c66-46b9-a5b9-3470b3257421",
   "metadata": {},
   "outputs": [
    {
     "data": {
      "text/plain": [
       "neutral     94\n",
       "negative    29\n",
       "positive    10\n",
       "Name: sentiments, dtype: int64"
      ]
     },
     "execution_count": 64,
     "metadata": {},
     "output_type": "execute_result"
    }
   ],
   "source": [
    "dl_senti['sentiments'].value_counts()"
   ]
  },
  {
   "cell_type": "code",
   "execution_count": 65,
   "id": "618044ad-fb55-4265-8b86-78f612b0c5b3",
   "metadata": {},
   "outputs": [
    {
     "data": {
      "text/html": [
       "<div>\n",
       "<style scoped>\n",
       "    .dataframe tbody tr th:only-of-type {\n",
       "        vertical-align: middle;\n",
       "    }\n",
       "\n",
       "    .dataframe tbody tr th {\n",
       "        vertical-align: top;\n",
       "    }\n",
       "\n",
       "    .dataframe thead th {\n",
       "        text-align: right;\n",
       "    }\n",
       "</style>\n",
       "<table border=\"1\" class=\"dataframe\">\n",
       "  <thead>\n",
       "    <tr style=\"text-align: right;\">\n",
       "      <th></th>\n",
       "      <th>sentiments</th>\n",
       "    </tr>\n",
       "  </thead>\n",
       "  <tbody>\n",
       "    <tr>\n",
       "      <th>neutral</th>\n",
       "      <td>94</td>\n",
       "    </tr>\n",
       "    <tr>\n",
       "      <th>negative</th>\n",
       "      <td>29</td>\n",
       "    </tr>\n",
       "    <tr>\n",
       "      <th>positive</th>\n",
       "      <td>10</td>\n",
       "    </tr>\n",
       "  </tbody>\n",
       "</table>\n",
       "</div>"
      ],
      "text/plain": [
       "          sentiments\n",
       "neutral           94\n",
       "negative          29\n",
       "positive          10"
      ]
     },
     "execution_count": 65,
     "metadata": {},
     "output_type": "execute_result"
    }
   ],
   "source": [
    "dl_sentiments = pd.DataFrame(dl_senti['sentiments'].value_counts())\n",
    "dl_sentiments"
   ]
  },
  {
   "cell_type": "markdown",
   "id": "c0a0961c-183a-4e81-8011-1ab8bc6d0a81",
   "metadata": {},
   "source": [
    "### Halo Infinite"
   ]
  },
  {
   "cell_type": "code",
   "execution_count": 66,
   "id": "f39fe6a8-eb23-40cc-8fa4-ffd49f45930c",
   "metadata": {},
   "outputs": [],
   "source": [
    "halo_senti = sentiments(xbox_halo)"
   ]
  },
  {
   "cell_type": "code",
   "execution_count": 67,
   "id": "67da94ad-d859-481d-8f7e-2d2d3309a367",
   "metadata": {},
   "outputs": [
    {
     "data": {
      "text/html": [
       "<div>\n",
       "<style scoped>\n",
       "    .dataframe tbody tr th:only-of-type {\n",
       "        vertical-align: middle;\n",
       "    }\n",
       "\n",
       "    .dataframe tbody tr th {\n",
       "        vertical-align: top;\n",
       "    }\n",
       "\n",
       "    .dataframe thead th {\n",
       "        text-align: right;\n",
       "    }\n",
       "</style>\n",
       "<table border=\"1\" class=\"dataframe\">\n",
       "  <thead>\n",
       "    <tr style=\"text-align: right;\">\n",
       "      <th></th>\n",
       "      <th>subreddit</th>\n",
       "      <th>title</th>\n",
       "      <th>created_utc</th>\n",
       "      <th>tokenized</th>\n",
       "      <th>sentiment</th>\n",
       "      <th>sentiments</th>\n",
       "    </tr>\n",
       "  </thead>\n",
       "  <tbody>\n",
       "    <tr>\n",
       "      <th>15121</th>\n",
       "      <td>0</td>\n",
       "      <td>debating between 1080p 144hz 24 or 2k 144hz 27...</td>\n",
       "      <td>1655924813</td>\n",
       "      <td>[debating, between, 1080p, 144hz, 24, or, 2k, ...</td>\n",
       "      <td>[{'label': 'LABEL_1', 'score': 0.9330316781997...</td>\n",
       "      <td>neutral</td>\n",
       "    </tr>\n",
       "    <tr>\n",
       "      <th>15153</th>\n",
       "      <td>0</td>\n",
       "      <td>halo infinite online coop gameplay footage leaked</td>\n",
       "      <td>1655910571</td>\n",
       "      <td>[halo, infinite, online, coop, gameplay, foota...</td>\n",
       "      <td>[{'label': 'LABEL_1', 'score': 0.7848243117332...</td>\n",
       "      <td>neutral</td>\n",
       "    </tr>\n",
       "    <tr>\n",
       "      <th>15544</th>\n",
       "      <td>0</td>\n",
       "      <td>halo infinite campaign dlc reportedly not arri...</td>\n",
       "      <td>1655587693</td>\n",
       "      <td>[halo, infinite, campaign, dlc, reportedly, no...</td>\n",
       "      <td>[{'label': 'LABEL_1', 'score': 0.8003334403038...</td>\n",
       "      <td>neutral</td>\n",
       "    </tr>\n",
       "    <tr>\n",
       "      <th>15568</th>\n",
       "      <td>0</td>\n",
       "      <td>leaked footage shows halo infinite s forge use...</td>\n",
       "      <td>1655571935</td>\n",
       "      <td>[leaked, footage, shows, halo, infinite, s, fo...</td>\n",
       "      <td>[{'label': 'LABEL_1', 'score': 0.8536508083343...</td>\n",
       "      <td>neutral</td>\n",
       "    </tr>\n",
       "    <tr>\n",
       "      <th>16030</th>\n",
       "      <td>0</td>\n",
       "      <td>deal halo infinite bonus steelbook xbox one xb...</td>\n",
       "      <td>1655202505</td>\n",
       "      <td>[deal, halo, infinite, bonus, steelbook, xbox,...</td>\n",
       "      <td>[{'label': 'LABEL_1', 'score': 0.5235940217971...</td>\n",
       "      <td>neutral</td>\n",
       "    </tr>\n",
       "  </tbody>\n",
       "</table>\n",
       "</div>"
      ],
      "text/plain": [
       "       subreddit                                              title  \\\n",
       "15121          0  debating between 1080p 144hz 24 or 2k 144hz 27...   \n",
       "15153          0  halo infinite online coop gameplay footage leaked   \n",
       "15544          0  halo infinite campaign dlc reportedly not arri...   \n",
       "15568          0  leaked footage shows halo infinite s forge use...   \n",
       "16030          0  deal halo infinite bonus steelbook xbox one xb...   \n",
       "\n",
       "       created_utc                                          tokenized  \\\n",
       "15121   1655924813  [debating, between, 1080p, 144hz, 24, or, 2k, ...   \n",
       "15153   1655910571  [halo, infinite, online, coop, gameplay, foota...   \n",
       "15544   1655587693  [halo, infinite, campaign, dlc, reportedly, no...   \n",
       "15568   1655571935  [leaked, footage, shows, halo, infinite, s, fo...   \n",
       "16030   1655202505  [deal, halo, infinite, bonus, steelbook, xbox,...   \n",
       "\n",
       "                                               sentiment sentiments  \n",
       "15121  [{'label': 'LABEL_1', 'score': 0.9330316781997...    neutral  \n",
       "15153  [{'label': 'LABEL_1', 'score': 0.7848243117332...    neutral  \n",
       "15544  [{'label': 'LABEL_1', 'score': 0.8003334403038...    neutral  \n",
       "15568  [{'label': 'LABEL_1', 'score': 0.8536508083343...    neutral  \n",
       "16030  [{'label': 'LABEL_1', 'score': 0.5235940217971...    neutral  "
      ]
     },
     "execution_count": 67,
     "metadata": {},
     "output_type": "execute_result"
    }
   ],
   "source": [
    "halo_senti.head()"
   ]
  },
  {
   "cell_type": "code",
   "execution_count": 68,
   "id": "ba23f1dc-5b85-4f71-ae25-8b920ec86630",
   "metadata": {},
   "outputs": [
    {
     "data": {
      "text/plain": [
       "neutral     82\n",
       "negative    20\n",
       "positive     9\n",
       "Name: sentiments, dtype: int64"
      ]
     },
     "execution_count": 68,
     "metadata": {},
     "output_type": "execute_result"
    }
   ],
   "source": [
    "halo_senti['sentiments'].value_counts()"
   ]
  },
  {
   "cell_type": "code",
   "execution_count": 69,
   "id": "371d5398-3f49-40e0-9311-be8251916bfc",
   "metadata": {},
   "outputs": [
    {
     "data": {
      "text/html": [
       "<div>\n",
       "<style scoped>\n",
       "    .dataframe tbody tr th:only-of-type {\n",
       "        vertical-align: middle;\n",
       "    }\n",
       "\n",
       "    .dataframe tbody tr th {\n",
       "        vertical-align: top;\n",
       "    }\n",
       "\n",
       "    .dataframe thead th {\n",
       "        text-align: right;\n",
       "    }\n",
       "</style>\n",
       "<table border=\"1\" class=\"dataframe\">\n",
       "  <thead>\n",
       "    <tr style=\"text-align: right;\">\n",
       "      <th></th>\n",
       "      <th>sentiments</th>\n",
       "    </tr>\n",
       "  </thead>\n",
       "  <tbody>\n",
       "    <tr>\n",
       "      <th>neutral</th>\n",
       "      <td>82</td>\n",
       "    </tr>\n",
       "    <tr>\n",
       "      <th>negative</th>\n",
       "      <td>20</td>\n",
       "    </tr>\n",
       "    <tr>\n",
       "      <th>positive</th>\n",
       "      <td>9</td>\n",
       "    </tr>\n",
       "  </tbody>\n",
       "</table>\n",
       "</div>"
      ],
      "text/plain": [
       "          sentiments\n",
       "neutral           82\n",
       "negative          20\n",
       "positive           9"
      ]
     },
     "execution_count": 69,
     "metadata": {},
     "output_type": "execute_result"
    }
   ],
   "source": [
    "halo_sentiments = pd.DataFrame(halo_senti['sentiments'].value_counts())\n",
    "halo_sentiments"
   ]
  },
  {
   "cell_type": "markdown",
   "id": "de8b15f5-4686-4b7b-8e42-395cc9c286d6",
   "metadata": {},
   "source": [
    "### Series Controller"
   ]
  },
  {
   "cell_type": "code",
   "execution_count": 70,
   "id": "4027e2c0-1060-429a-9663-f0d1e9ac01ab",
   "metadata": {},
   "outputs": [],
   "source": [
    "xcontrol_senti = sentiments(xbox_control)"
   ]
  },
  {
   "cell_type": "code",
   "execution_count": 71,
   "id": "c6ab3c3f-15f2-4c06-946c-d99ee1c772d9",
   "metadata": {},
   "outputs": [
    {
     "data": {
      "text/html": [
       "<div>\n",
       "<style scoped>\n",
       "    .dataframe tbody tr th:only-of-type {\n",
       "        vertical-align: middle;\n",
       "    }\n",
       "\n",
       "    .dataframe tbody tr th {\n",
       "        vertical-align: top;\n",
       "    }\n",
       "\n",
       "    .dataframe thead th {\n",
       "        text-align: right;\n",
       "    }\n",
       "</style>\n",
       "<table border=\"1\" class=\"dataframe\">\n",
       "  <thead>\n",
       "    <tr style=\"text-align: right;\">\n",
       "      <th></th>\n",
       "      <th>subreddit</th>\n",
       "      <th>title</th>\n",
       "      <th>created_utc</th>\n",
       "      <th>tokenized</th>\n",
       "      <th>sentiment</th>\n",
       "      <th>sentiments</th>\n",
       "    </tr>\n",
       "  </thead>\n",
       "  <tbody>\n",
       "    <tr>\n",
       "      <th>15005</th>\n",
       "      <td>0</td>\n",
       "      <td>controller recharging batteries</td>\n",
       "      <td>1656013312</td>\n",
       "      <td>[controller, recharging, batteries]</td>\n",
       "      <td>[{'label': 'LABEL_1', 'score': 0.7969197034835...</td>\n",
       "      <td>neutral</td>\n",
       "    </tr>\n",
       "    <tr>\n",
       "      <th>15037</th>\n",
       "      <td>0</td>\n",
       "      <td>controller not turning on</td>\n",
       "      <td>1655997497</td>\n",
       "      <td>[controller, not, turning, on]</td>\n",
       "      <td>[{'label': 'LABEL_0', 'score': 0.5481144785881...</td>\n",
       "      <td>negative</td>\n",
       "    </tr>\n",
       "    <tr>\n",
       "      <th>15067</th>\n",
       "      <td>0</td>\n",
       "      <td>controller issue</td>\n",
       "      <td>1655976059</td>\n",
       "      <td>[controller, issue]</td>\n",
       "      <td>[{'label': 'LABEL_1', 'score': 0.5210590362548...</td>\n",
       "      <td>neutral</td>\n",
       "    </tr>\n",
       "    <tr>\n",
       "      <th>15068</th>\n",
       "      <td>0</td>\n",
       "      <td>xbox controller bluetooth faulty updates or mo...</td>\n",
       "      <td>1655974906</td>\n",
       "      <td>[xbox, controller, bluetooth, faulty, updates,...</td>\n",
       "      <td>[{'label': 'LABEL_1', 'score': 0.7707324028015...</td>\n",
       "      <td>neutral</td>\n",
       "    </tr>\n",
       "    <tr>\n",
       "      <th>15088</th>\n",
       "      <td>0</td>\n",
       "      <td>controller input lag</td>\n",
       "      <td>1655948373</td>\n",
       "      <td>[controller, input, lag]</td>\n",
       "      <td>[{'label': 'LABEL_1', 'score': 0.5861338973045...</td>\n",
       "      <td>neutral</td>\n",
       "    </tr>\n",
       "  </tbody>\n",
       "</table>\n",
       "</div>"
      ],
      "text/plain": [
       "       subreddit                                              title  \\\n",
       "15005          0                    controller recharging batteries   \n",
       "15037          0                          controller not turning on   \n",
       "15067          0                                   controller issue   \n",
       "15068          0  xbox controller bluetooth faulty updates or mo...   \n",
       "15088          0                               controller input lag   \n",
       "\n",
       "       created_utc                                          tokenized  \\\n",
       "15005   1656013312                [controller, recharging, batteries]   \n",
       "15037   1655997497                     [controller, not, turning, on]   \n",
       "15067   1655976059                                [controller, issue]   \n",
       "15068   1655974906  [xbox, controller, bluetooth, faulty, updates,...   \n",
       "15088   1655948373                           [controller, input, lag]   \n",
       "\n",
       "                                               sentiment sentiments  \n",
       "15005  [{'label': 'LABEL_1', 'score': 0.7969197034835...    neutral  \n",
       "15037  [{'label': 'LABEL_0', 'score': 0.5481144785881...   negative  \n",
       "15067  [{'label': 'LABEL_1', 'score': 0.5210590362548...    neutral  \n",
       "15068  [{'label': 'LABEL_1', 'score': 0.7707324028015...    neutral  \n",
       "15088  [{'label': 'LABEL_1', 'score': 0.5861338973045...    neutral  "
      ]
     },
     "execution_count": 71,
     "metadata": {},
     "output_type": "execute_result"
    }
   ],
   "source": [
    "xcontrol_senti.head()"
   ]
  },
  {
   "cell_type": "code",
   "execution_count": 72,
   "id": "51cbe941-8865-4215-8394-eeda62ecb191",
   "metadata": {},
   "outputs": [
    {
     "data": {
      "text/plain": [
       "neutral     465\n",
       "negative    216\n",
       "positive     57\n",
       "Name: sentiments, dtype: int64"
      ]
     },
     "execution_count": 72,
     "metadata": {},
     "output_type": "execute_result"
    }
   ],
   "source": [
    "xcontrol_senti['sentiments'].value_counts()"
   ]
  },
  {
   "cell_type": "code",
   "execution_count": 73,
   "id": "35d82720-c73c-4af7-b65b-04301076ea93",
   "metadata": {},
   "outputs": [
    {
     "data": {
      "text/html": [
       "<div>\n",
       "<style scoped>\n",
       "    .dataframe tbody tr th:only-of-type {\n",
       "        vertical-align: middle;\n",
       "    }\n",
       "\n",
       "    .dataframe tbody tr th {\n",
       "        vertical-align: top;\n",
       "    }\n",
       "\n",
       "    .dataframe thead th {\n",
       "        text-align: right;\n",
       "    }\n",
       "</style>\n",
       "<table border=\"1\" class=\"dataframe\">\n",
       "  <thead>\n",
       "    <tr style=\"text-align: right;\">\n",
       "      <th></th>\n",
       "      <th>sentiments</th>\n",
       "    </tr>\n",
       "  </thead>\n",
       "  <tbody>\n",
       "    <tr>\n",
       "      <th>neutral</th>\n",
       "      <td>465</td>\n",
       "    </tr>\n",
       "    <tr>\n",
       "      <th>negative</th>\n",
       "      <td>216</td>\n",
       "    </tr>\n",
       "    <tr>\n",
       "      <th>positive</th>\n",
       "      <td>57</td>\n",
       "    </tr>\n",
       "  </tbody>\n",
       "</table>\n",
       "</div>"
      ],
      "text/plain": [
       "          sentiments\n",
       "neutral          465\n",
       "negative         216\n",
       "positive          57"
      ]
     },
     "execution_count": 73,
     "metadata": {},
     "output_type": "execute_result"
    }
   ],
   "source": [
    "xcontrol_sentiments = pd.DataFrame(xcontrol_senti['sentiments'].value_counts())\n",
    "xcontrol_sentiments"
   ]
  },
  {
   "cell_type": "markdown",
   "id": "431b3dba-ff0a-44e2-81f6-636c916c194c",
   "metadata": {},
   "source": [
    "### Summary"
   ]
  },
  {
   "cell_type": "code",
   "execution_count": 74,
   "id": "f2dba8b7-6a4c-4911-b55c-e8f57baf9831",
   "metadata": {},
   "outputs": [],
   "source": [
    "xbox_cols = [\"Overall\", \"GamePass\", \"EldenRing\", \"DyingLight\", \"HaloInfinite\", \"XboxController\"]\n",
    "xbox_sentiments = pd.concat([xbox_sentiments, pass_sentiments, xelden_sentiments, dl_sentiments, halo_sentiments, xcontrol_sentiments], axis=1, ignore_index=True)\n",
    "xbox_sentiments.columns = xbox_cols"
   ]
  },
  {
   "cell_type": "code",
   "execution_count": 75,
   "id": "39be5a88-d292-4a71-8cff-0104129e9f8c",
   "metadata": {},
   "outputs": [
    {
     "data": {
      "text/html": [
       "<div>\n",
       "<style scoped>\n",
       "    .dataframe tbody tr th:only-of-type {\n",
       "        vertical-align: middle;\n",
       "    }\n",
       "\n",
       "    .dataframe tbody tr th {\n",
       "        vertical-align: top;\n",
       "    }\n",
       "\n",
       "    .dataframe thead th {\n",
       "        text-align: right;\n",
       "    }\n",
       "</style>\n",
       "<table border=\"1\" class=\"dataframe\">\n",
       "  <thead>\n",
       "    <tr style=\"text-align: right;\">\n",
       "      <th></th>\n",
       "      <th>Overall</th>\n",
       "      <th>GamePass</th>\n",
       "      <th>EldenRing</th>\n",
       "      <th>DyingLight</th>\n",
       "      <th>HaloInfinite</th>\n",
       "      <th>XboxController</th>\n",
       "    </tr>\n",
       "  </thead>\n",
       "  <tbody>\n",
       "    <tr>\n",
       "      <th>neutral</th>\n",
       "      <td>1424</td>\n",
       "      <td>463</td>\n",
       "      <td>221</td>\n",
       "      <td>94</td>\n",
       "      <td>82</td>\n",
       "      <td>465</td>\n",
       "    </tr>\n",
       "    <tr>\n",
       "      <th>negative</th>\n",
       "      <td>351</td>\n",
       "      <td>55</td>\n",
       "      <td>46</td>\n",
       "      <td>29</td>\n",
       "      <td>20</td>\n",
       "      <td>216</td>\n",
       "    </tr>\n",
       "    <tr>\n",
       "      <th>positive</th>\n",
       "      <td>225</td>\n",
       "      <td>70</td>\n",
       "      <td>43</td>\n",
       "      <td>10</td>\n",
       "      <td>9</td>\n",
       "      <td>57</td>\n",
       "    </tr>\n",
       "  </tbody>\n",
       "</table>\n",
       "</div>"
      ],
      "text/plain": [
       "          Overall  GamePass  EldenRing  DyingLight  HaloInfinite  \\\n",
       "neutral      1424       463        221          94            82   \n",
       "negative      351        55         46          29            20   \n",
       "positive      225        70         43          10             9   \n",
       "\n",
       "          XboxController  \n",
       "neutral              465  \n",
       "negative             216  \n",
       "positive              57  "
      ]
     },
     "execution_count": 75,
     "metadata": {},
     "output_type": "execute_result"
    }
   ],
   "source": [
    "xbox_sentiments"
   ]
  },
  {
   "cell_type": "code",
   "execution_count": 76,
   "id": "d6258870-1ac8-4722-870f-df59ff1e1705",
   "metadata": {},
   "outputs": [
    {
     "data": {
      "text/html": [
       "<div>\n",
       "<style scoped>\n",
       "    .dataframe tbody tr th:only-of-type {\n",
       "        vertical-align: middle;\n",
       "    }\n",
       "\n",
       "    .dataframe tbody tr th {\n",
       "        vertical-align: top;\n",
       "    }\n",
       "\n",
       "    .dataframe thead th {\n",
       "        text-align: right;\n",
       "    }\n",
       "</style>\n",
       "<table border=\"1\" class=\"dataframe\">\n",
       "  <thead>\n",
       "    <tr style=\"text-align: right;\">\n",
       "      <th></th>\n",
       "      <th>Overall</th>\n",
       "      <th>GamePass</th>\n",
       "      <th>EldenRing</th>\n",
       "      <th>DyingLight</th>\n",
       "      <th>HaloInfinite</th>\n",
       "      <th>XboxController</th>\n",
       "    </tr>\n",
       "  </thead>\n",
       "  <tbody>\n",
       "    <tr>\n",
       "      <th>neutral</th>\n",
       "      <td>0.71</td>\n",
       "      <td>0.79</td>\n",
       "      <td>0.71</td>\n",
       "      <td>0.71</td>\n",
       "      <td>0.74</td>\n",
       "      <td>0.63</td>\n",
       "    </tr>\n",
       "    <tr>\n",
       "      <th>negative</th>\n",
       "      <td>0.18</td>\n",
       "      <td>0.09</td>\n",
       "      <td>0.15</td>\n",
       "      <td>0.22</td>\n",
       "      <td>0.18</td>\n",
       "      <td>0.29</td>\n",
       "    </tr>\n",
       "    <tr>\n",
       "      <th>positive</th>\n",
       "      <td>0.11</td>\n",
       "      <td>0.12</td>\n",
       "      <td>0.14</td>\n",
       "      <td>0.08</td>\n",
       "      <td>0.08</td>\n",
       "      <td>0.08</td>\n",
       "    </tr>\n",
       "  </tbody>\n",
       "</table>\n",
       "</div>"
      ],
      "text/plain": [
       "          Overall  GamePass  EldenRing  DyingLight  HaloInfinite  \\\n",
       "neutral      0.71      0.79       0.71        0.71          0.74   \n",
       "negative     0.18      0.09       0.15        0.22          0.18   \n",
       "positive     0.11      0.12       0.14        0.08          0.08   \n",
       "\n",
       "          XboxController  \n",
       "neutral             0.63  \n",
       "negative            0.29  \n",
       "positive            0.08  "
      ]
     },
     "execution_count": 76,
     "metadata": {},
     "output_type": "execute_result"
    }
   ],
   "source": [
    "xbox_sentiments_perc = round(xbox_sentiments / xbox_sentiments.sum(), 2)\n",
    "xbox_sentiments_perc"
   ]
  },
  {
   "cell_type": "markdown",
   "id": "d016336e-3bba-4ae6-a140-04c47ab1f987",
   "metadata": {},
   "source": [
    "Points to note:\n",
    "- Most post are neutral like PS5\n",
    "- Gaming Post here also tend to have more negative sentiments (could be due to the names of the games 'Dying', 'Halo')\n",
    "- Subscription service seems to garner more positive sentiments for xbox - Game Pass might be more well-received\n",
    "- Controller have the highest percentage of negative posts - same as PS5"
   ]
  },
  {
   "cell_type": "markdown",
   "id": "b47cd07f-93ae-4072-96f9-01cd8ff85a0b",
   "metadata": {},
   "source": [
    "# Emotion Analysis"
   ]
  },
  {
   "cell_type": "markdown",
   "id": "dd19b6ee-421b-45ae-89fc-007c885284ee",
   "metadata": {},
   "source": [
    "Model used: Distilbert-base-uncased-emotion\n",
    "[**source**](https://huggingface.co/bhadresh-savani/distilbert-base-uncased-emotion)"
   ]
  },
  {
   "cell_type": "code",
   "execution_count": 77,
   "id": "98fc0178-9e70-4aae-9150-e7a5b2423100",
   "metadata": {},
   "outputs": [
    {
     "name": "stderr",
     "output_type": "stream",
     "text": [
      "Some layers from the model checkpoint at bhadresh-savani/distilbert-base-uncased-emotion were not used when initializing TFDistilBertForSequenceClassification: ['dropout_19']\n",
      "- This IS expected if you are initializing TFDistilBertForSequenceClassification from the checkpoint of a model trained on another task or with another architecture (e.g. initializing a BertForSequenceClassification model from a BertForPreTraining model).\n",
      "- This IS NOT expected if you are initializing TFDistilBertForSequenceClassification from the checkpoint of a model that you expect to be exactly identical (initializing a BertForSequenceClassification model from a BertForSequenceClassification model).\n",
      "Some layers of TFDistilBertForSequenceClassification were not initialized from the model checkpoint at bhadresh-savani/distilbert-base-uncased-emotion and are newly initialized: ['dropout_57']\n",
      "You should probably TRAIN this model on a down-stream task to be able to use it for predictions and inference.\n"
     ]
    }
   ],
   "source": [
    "emo_classifier = pipeline(\"text-classification\", \n",
    "                          model=\"bhadresh-savani/distilbert-base-uncased-emotion\",\n",
    "                          return_all_scores=True)"
   ]
  },
  {
   "cell_type": "code",
   "execution_count": 78,
   "id": "1c6fcd5c-99cf-427f-bd16-6ecfeb5115c6",
   "metadata": {},
   "outputs": [],
   "source": [
    "def get_highest_label(list_of_dict):\n",
    "    main_label = 0\n",
    "    label_score = 0\n",
    "    for label in list_of_dict:\n",
    "        emotion_score = label['score']\n",
    "        if emotion_score > label_score:\n",
    "            main_label = label['label']\n",
    "            label_score = emotion_score\n",
    "    return (main_label, label_score)"
   ]
  },
  {
   "cell_type": "code",
   "execution_count": 79,
   "id": "549b555a-2ad4-437c-8e6c-6095bc68726d",
   "metadata": {},
   "outputs": [],
   "source": [
    "def emotions(dataset):\n",
    "    #next line returns a list of dictionary inside a list \n",
    "    dataset['emotion'] = dataset['title'].apply(emo_classifier)\n",
    "    #get list of dictionary\n",
    "    dataset['emotion'] = dataset['emotion'].apply(lambda x: x[0])\n",
    "    #get emotion label with highest score\n",
    "    dataset['emotion'] = dataset['emotion'].apply(get_highest_label)\n",
    "    dataset['emotion_label'] = dataset['emotion'].apply(lambda x: x[0])\n",
    "    return dataset"
   ]
  },
  {
   "cell_type": "markdown",
   "id": "baae91da-67e1-4c2f-a099-8f00f30d4bb0",
   "metadata": {},
   "source": [
    "## PS"
   ]
  },
  {
   "cell_type": "markdown",
   "id": "818280f5-173f-4ff6-942a-d442fb54095d",
   "metadata": {},
   "source": [
    "### Overall"
   ]
  },
  {
   "cell_type": "code",
   "execution_count": 80,
   "id": "2b20e07a-e348-4618-b711-8d5bf1b36803",
   "metadata": {},
   "outputs": [],
   "source": [
    "ps5_sample_emo = emotions(ps5_textdf.sample(2000))"
   ]
  },
  {
   "cell_type": "code",
   "execution_count": 81,
   "id": "c8dae512-2f92-49b9-b184-4488815c1bd4",
   "metadata": {},
   "outputs": [
    {
     "data": {
      "text/html": [
       "<div>\n",
       "<style scoped>\n",
       "    .dataframe tbody tr th:only-of-type {\n",
       "        vertical-align: middle;\n",
       "    }\n",
       "\n",
       "    .dataframe tbody tr th {\n",
       "        vertical-align: top;\n",
       "    }\n",
       "\n",
       "    .dataframe thead th {\n",
       "        text-align: right;\n",
       "    }\n",
       "</style>\n",
       "<table border=\"1\" class=\"dataframe\">\n",
       "  <thead>\n",
       "    <tr style=\"text-align: right;\">\n",
       "      <th></th>\n",
       "      <th>subreddit</th>\n",
       "      <th>title</th>\n",
       "      <th>created_utc</th>\n",
       "      <th>tokenized</th>\n",
       "      <th>emotion</th>\n",
       "      <th>emotion_label</th>\n",
       "    </tr>\n",
       "  </thead>\n",
       "  <tbody>\n",
       "    <tr>\n",
       "      <th>14260</th>\n",
       "      <td>1</td>\n",
       "      <td>can i have a list of playstation exclusives ru...</td>\n",
       "      <td>1647127009</td>\n",
       "      <td>[can, i, have, a, list, of, playstation, exclu...</td>\n",
       "      <td>(joy, 0.9759005904197693)</td>\n",
       "      <td>joy</td>\n",
       "    </tr>\n",
       "    <tr>\n",
       "      <th>10054</th>\n",
       "      <td>1</td>\n",
       "      <td>stranded driver figured out how to make car in...</td>\n",
       "      <td>1649536802</td>\n",
       "      <td>[stranded, driver, figured, out, how, to, make...</td>\n",
       "      <td>(fear, 0.9910966157913208)</td>\n",
       "      <td>fear</td>\n",
       "    </tr>\n",
       "    <tr>\n",
       "      <th>3951</th>\n",
       "      <td>1</td>\n",
       "      <td>ps5 in stock ar istanbul airport price 1099 eur</td>\n",
       "      <td>1653643529</td>\n",
       "      <td>[ps5, in, stock, ar, istanbul, airport, price,...</td>\n",
       "      <td>(joy, 0.6938283443450928)</td>\n",
       "      <td>joy</td>\n",
       "    </tr>\n",
       "    <tr>\n",
       "      <th>7239</th>\n",
       "      <td>1</td>\n",
       "      <td>moving to another contintent psn</td>\n",
       "      <td>1651351732</td>\n",
       "      <td>[moving, to, another, contintent, psn]</td>\n",
       "      <td>(anger, 0.39232414960861206)</td>\n",
       "      <td>anger</td>\n",
       "    </tr>\n",
       "    <tr>\n",
       "      <th>8863</th>\n",
       "      <td>1</td>\n",
       "      <td>rumor sony has an unannounced banger coming ou...</td>\n",
       "      <td>1650378325</td>\n",
       "      <td>[rumor, sony, has, an, unannounced, banger, co...</td>\n",
       "      <td>(anger, 0.6538294553756714)</td>\n",
       "      <td>anger</td>\n",
       "    </tr>\n",
       "  </tbody>\n",
       "</table>\n",
       "</div>"
      ],
      "text/plain": [
       "       subreddit                                              title  \\\n",
       "14260          1  can i have a list of playstation exclusives ru...   \n",
       "10054          1  stranded driver figured out how to make car in...   \n",
       "3951           1    ps5 in stock ar istanbul airport price 1099 eur   \n",
       "7239           1                   moving to another contintent psn   \n",
       "8863           1  rumor sony has an unannounced banger coming ou...   \n",
       "\n",
       "       created_utc                                          tokenized  \\\n",
       "14260   1647127009  [can, i, have, a, list, of, playstation, exclu...   \n",
       "10054   1649536802  [stranded, driver, figured, out, how, to, make...   \n",
       "3951    1653643529  [ps5, in, stock, ar, istanbul, airport, price,...   \n",
       "7239    1651351732             [moving, to, another, contintent, psn]   \n",
       "8863    1650378325  [rumor, sony, has, an, unannounced, banger, co...   \n",
       "\n",
       "                            emotion emotion_label  \n",
       "14260     (joy, 0.9759005904197693)           joy  \n",
       "10054    (fear, 0.9910966157913208)          fear  \n",
       "3951      (joy, 0.6938283443450928)           joy  \n",
       "7239   (anger, 0.39232414960861206)         anger  \n",
       "8863    (anger, 0.6538294553756714)         anger  "
      ]
     },
     "execution_count": 81,
     "metadata": {},
     "output_type": "execute_result"
    }
   ],
   "source": [
    "ps5_sample_emo.head()"
   ]
  },
  {
   "cell_type": "code",
   "execution_count": 82,
   "id": "fda357fe-57e4-4985-bc0e-cd400c24a07b",
   "metadata": {},
   "outputs": [
    {
     "data": {
      "text/plain": [
       "joy         1177\n",
       "anger        431\n",
       "fear         260\n",
       "sadness      107\n",
       "surprise      13\n",
       "love          12\n",
       "Name: emotion_label, dtype: int64"
      ]
     },
     "execution_count": 82,
     "metadata": {},
     "output_type": "execute_result"
    }
   ],
   "source": [
    "ps5_sample_emo['emotion_label'].value_counts()"
   ]
  },
  {
   "cell_type": "code",
   "execution_count": 83,
   "id": "0a704acd-3b1c-4466-94ed-b459cebe46f9",
   "metadata": {},
   "outputs": [
    {
     "data": {
      "text/html": [
       "<div>\n",
       "<style scoped>\n",
       "    .dataframe tbody tr th:only-of-type {\n",
       "        vertical-align: middle;\n",
       "    }\n",
       "\n",
       "    .dataframe tbody tr th {\n",
       "        vertical-align: top;\n",
       "    }\n",
       "\n",
       "    .dataframe thead th {\n",
       "        text-align: right;\n",
       "    }\n",
       "</style>\n",
       "<table border=\"1\" class=\"dataframe\">\n",
       "  <thead>\n",
       "    <tr style=\"text-align: right;\">\n",
       "      <th></th>\n",
       "      <th>emotion_label</th>\n",
       "    </tr>\n",
       "  </thead>\n",
       "  <tbody>\n",
       "    <tr>\n",
       "      <th>joy</th>\n",
       "      <td>1177</td>\n",
       "    </tr>\n",
       "    <tr>\n",
       "      <th>anger</th>\n",
       "      <td>431</td>\n",
       "    </tr>\n",
       "    <tr>\n",
       "      <th>fear</th>\n",
       "      <td>260</td>\n",
       "    </tr>\n",
       "    <tr>\n",
       "      <th>sadness</th>\n",
       "      <td>107</td>\n",
       "    </tr>\n",
       "    <tr>\n",
       "      <th>surprise</th>\n",
       "      <td>13</td>\n",
       "    </tr>\n",
       "    <tr>\n",
       "      <th>love</th>\n",
       "      <td>12</td>\n",
       "    </tr>\n",
       "  </tbody>\n",
       "</table>\n",
       "</div>"
      ],
      "text/plain": [
       "          emotion_label\n",
       "joy                1177\n",
       "anger               431\n",
       "fear                260\n",
       "sadness             107\n",
       "surprise             13\n",
       "love                 12"
      ]
     },
     "execution_count": 83,
     "metadata": {},
     "output_type": "execute_result"
    }
   ],
   "source": [
    "ps5_emotions = pd.DataFrame(ps5_sample_emo['emotion_label'].value_counts())\n",
    "ps5_emotions"
   ]
  },
  {
   "cell_type": "markdown",
   "id": "21ecb478-91db-464a-8e88-72791fba9fb6",
   "metadata": {},
   "source": [
    "### PS Plus"
   ]
  },
  {
   "cell_type": "code",
   "execution_count": 84,
   "id": "c57097d4-4b9b-463c-8647-87c32f17a70a",
   "metadata": {},
   "outputs": [],
   "source": [
    "plus_emo = emotions(ps5_psplus)"
   ]
  },
  {
   "cell_type": "code",
   "execution_count": 85,
   "id": "1f4f91ff-12bf-4caf-92ed-811adb990ead",
   "metadata": {},
   "outputs": [
    {
     "data": {
      "text/html": [
       "<div>\n",
       "<style scoped>\n",
       "    .dataframe tbody tr th:only-of-type {\n",
       "        vertical-align: middle;\n",
       "    }\n",
       "\n",
       "    .dataframe tbody tr th {\n",
       "        vertical-align: top;\n",
       "    }\n",
       "\n",
       "    .dataframe thead th {\n",
       "        text-align: right;\n",
       "    }\n",
       "</style>\n",
       "<table border=\"1\" class=\"dataframe\">\n",
       "  <thead>\n",
       "    <tr style=\"text-align: right;\">\n",
       "      <th></th>\n",
       "      <th>subreddit</th>\n",
       "      <th>title</th>\n",
       "      <th>created_utc</th>\n",
       "      <th>tokenized</th>\n",
       "      <th>sentiment</th>\n",
       "      <th>sentiments</th>\n",
       "      <th>emotion</th>\n",
       "      <th>emotion_label</th>\n",
       "    </tr>\n",
       "  </thead>\n",
       "  <tbody>\n",
       "    <tr>\n",
       "      <th>35</th>\n",
       "      <td>1</td>\n",
       "      <td>buying spider man remastered through miles mor...</td>\n",
       "      <td>1656003409</td>\n",
       "      <td>[buying, spider, man, remastered, through, mil...</td>\n",
       "      <td>[{'label': 'LABEL_1', 'score': 0.8157562017440...</td>\n",
       "      <td>neutral</td>\n",
       "      <td>(joy, 0.9437580704689026)</td>\n",
       "      <td>joy</td>\n",
       "    </tr>\n",
       "    <tr>\n",
       "      <th>37</th>\n",
       "      <td>1</td>\n",
       "      <td>some games in ps plus extra and premium are ex...</td>\n",
       "      <td>1656002742</td>\n",
       "      <td>[some, games, in, ps, plus, extra, and, premiu...</td>\n",
       "      <td>[{'label': 'LABEL_1', 'score': 0.8401573300361...</td>\n",
       "      <td>neutral</td>\n",
       "      <td>(joy, 0.7698467373847961)</td>\n",
       "      <td>joy</td>\n",
       "    </tr>\n",
       "    <tr>\n",
       "      <th>50</th>\n",
       "      <td>1</td>\n",
       "      <td>i currently have 6 months left on a yearly ps ...</td>\n",
       "      <td>1656000252</td>\n",
       "      <td>[i, currently, have, 6, months, left, on, a, y...</td>\n",
       "      <td>[{'label': 'LABEL_1', 'score': 0.7537828087806...</td>\n",
       "      <td>neutral</td>\n",
       "      <td>(joy, 0.5423083901405334)</td>\n",
       "      <td>joy</td>\n",
       "    </tr>\n",
       "    <tr>\n",
       "      <th>52</th>\n",
       "      <td>1</td>\n",
       "      <td>i currently have 6 months left on a yearly ps ...</td>\n",
       "      <td>1656000119</td>\n",
       "      <td>[i, currently, have, 6, months, left, on, a, y...</td>\n",
       "      <td>[{'label': 'LABEL_1', 'score': 0.7713864445686...</td>\n",
       "      <td>neutral</td>\n",
       "      <td>(joy, 0.7880402207374573)</td>\n",
       "      <td>joy</td>\n",
       "    </tr>\n",
       "    <tr>\n",
       "      <th>64</th>\n",
       "      <td>1</td>\n",
       "      <td>paying for ps plus premium via wallet funds</td>\n",
       "      <td>1655994490</td>\n",
       "      <td>[paying, for, ps, plus, premium, via, wallet, ...</td>\n",
       "      <td>[{'label': 'LABEL_1', 'score': 0.8716164231300...</td>\n",
       "      <td>neutral</td>\n",
       "      <td>(joy, 0.9383901953697205)</td>\n",
       "      <td>joy</td>\n",
       "    </tr>\n",
       "  </tbody>\n",
       "</table>\n",
       "</div>"
      ],
      "text/plain": [
       "    subreddit                                              title  created_utc  \\\n",
       "35          1  buying spider man remastered through miles mor...   1656003409   \n",
       "37          1  some games in ps plus extra and premium are ex...   1656002742   \n",
       "50          1  i currently have 6 months left on a yearly ps ...   1656000252   \n",
       "52          1  i currently have 6 months left on a yearly ps ...   1656000119   \n",
       "64          1        paying for ps plus premium via wallet funds   1655994490   \n",
       "\n",
       "                                            tokenized  \\\n",
       "35  [buying, spider, man, remastered, through, mil...   \n",
       "37  [some, games, in, ps, plus, extra, and, premiu...   \n",
       "50  [i, currently, have, 6, months, left, on, a, y...   \n",
       "52  [i, currently, have, 6, months, left, on, a, y...   \n",
       "64  [paying, for, ps, plus, premium, via, wallet, ...   \n",
       "\n",
       "                                            sentiment sentiments  \\\n",
       "35  [{'label': 'LABEL_1', 'score': 0.8157562017440...    neutral   \n",
       "37  [{'label': 'LABEL_1', 'score': 0.8401573300361...    neutral   \n",
       "50  [{'label': 'LABEL_1', 'score': 0.7537828087806...    neutral   \n",
       "52  [{'label': 'LABEL_1', 'score': 0.7713864445686...    neutral   \n",
       "64  [{'label': 'LABEL_1', 'score': 0.8716164231300...    neutral   \n",
       "\n",
       "                      emotion emotion_label  \n",
       "35  (joy, 0.9437580704689026)           joy  \n",
       "37  (joy, 0.7698467373847961)           joy  \n",
       "50  (joy, 0.5423083901405334)           joy  \n",
       "52  (joy, 0.7880402207374573)           joy  \n",
       "64  (joy, 0.9383901953697205)           joy  "
      ]
     },
     "execution_count": 85,
     "metadata": {},
     "output_type": "execute_result"
    }
   ],
   "source": [
    "plus_emo.head()"
   ]
  },
  {
   "cell_type": "code",
   "execution_count": 86,
   "id": "dbd9aec8-1cb5-4d65-b923-e93714ea6b1b",
   "metadata": {},
   "outputs": [
    {
     "data": {
      "text/plain": [
       "joy        255\n",
       "anger       38\n",
       "fear        23\n",
       "sadness     14\n",
       "love         1\n",
       "Name: emotion_label, dtype: int64"
      ]
     },
     "execution_count": 86,
     "metadata": {},
     "output_type": "execute_result"
    }
   ],
   "source": [
    "plus_emo['emotion_label'].value_counts()"
   ]
  },
  {
   "cell_type": "code",
   "execution_count": 87,
   "id": "62f399c5-b0e8-435b-a7c9-663705a78e18",
   "metadata": {},
   "outputs": [
    {
     "data": {
      "text/html": [
       "<div>\n",
       "<style scoped>\n",
       "    .dataframe tbody tr th:only-of-type {\n",
       "        vertical-align: middle;\n",
       "    }\n",
       "\n",
       "    .dataframe tbody tr th {\n",
       "        vertical-align: top;\n",
       "    }\n",
       "\n",
       "    .dataframe thead th {\n",
       "        text-align: right;\n",
       "    }\n",
       "</style>\n",
       "<table border=\"1\" class=\"dataframe\">\n",
       "  <thead>\n",
       "    <tr style=\"text-align: right;\">\n",
       "      <th></th>\n",
       "      <th>emotion_label</th>\n",
       "    </tr>\n",
       "  </thead>\n",
       "  <tbody>\n",
       "    <tr>\n",
       "      <th>joy</th>\n",
       "      <td>255</td>\n",
       "    </tr>\n",
       "    <tr>\n",
       "      <th>anger</th>\n",
       "      <td>38</td>\n",
       "    </tr>\n",
       "    <tr>\n",
       "      <th>fear</th>\n",
       "      <td>23</td>\n",
       "    </tr>\n",
       "    <tr>\n",
       "      <th>sadness</th>\n",
       "      <td>14</td>\n",
       "    </tr>\n",
       "    <tr>\n",
       "      <th>love</th>\n",
       "      <td>1</td>\n",
       "    </tr>\n",
       "  </tbody>\n",
       "</table>\n",
       "</div>"
      ],
      "text/plain": [
       "         emotion_label\n",
       "joy                255\n",
       "anger               38\n",
       "fear                23\n",
       "sadness             14\n",
       "love                 1"
      ]
     },
     "execution_count": 87,
     "metadata": {},
     "output_type": "execute_result"
    }
   ],
   "source": [
    "plus_emotions = pd.DataFrame(plus_emo['emotion_label'].value_counts())\n",
    "plus_emotions"
   ]
  },
  {
   "cell_type": "markdown",
   "id": "5c4d553b-9fc1-4c8a-809e-85455e959c4b",
   "metadata": {},
   "source": [
    "### Elden Ring"
   ]
  },
  {
   "cell_type": "code",
   "execution_count": 88,
   "id": "cbf6f3cf-1d28-4445-9cde-135b4d520295",
   "metadata": {},
   "outputs": [],
   "source": [
    "pselden_emo = emotions(ps5_elden)"
   ]
  },
  {
   "cell_type": "code",
   "execution_count": 89,
   "id": "5713fa71-2ffc-4839-b843-a13961ce7093",
   "metadata": {},
   "outputs": [
    {
     "data": {
      "text/html": [
       "<div>\n",
       "<style scoped>\n",
       "    .dataframe tbody tr th:only-of-type {\n",
       "        vertical-align: middle;\n",
       "    }\n",
       "\n",
       "    .dataframe tbody tr th {\n",
       "        vertical-align: top;\n",
       "    }\n",
       "\n",
       "    .dataframe thead th {\n",
       "        text-align: right;\n",
       "    }\n",
       "</style>\n",
       "<table border=\"1\" class=\"dataframe\">\n",
       "  <thead>\n",
       "    <tr style=\"text-align: right;\">\n",
       "      <th></th>\n",
       "      <th>subreddit</th>\n",
       "      <th>title</th>\n",
       "      <th>created_utc</th>\n",
       "      <th>tokenized</th>\n",
       "      <th>sentiment</th>\n",
       "      <th>sentiments</th>\n",
       "      <th>emotion</th>\n",
       "      <th>emotion_label</th>\n",
       "    </tr>\n",
       "  </thead>\n",
       "  <tbody>\n",
       "    <tr>\n",
       "      <th>164</th>\n",
       "      <td>1</td>\n",
       "      <td>game suggestion after elden ring fatigue</td>\n",
       "      <td>1655926474</td>\n",
       "      <td>[game, suggestion, after, elden, ring, fatigue]</td>\n",
       "      <td>[{'label': 'LABEL_1', 'score': 0.8347183465957...</td>\n",
       "      <td>neutral</td>\n",
       "      <td>(sadness, 0.3875012695789337)</td>\n",
       "      <td>sadness</td>\n",
       "    </tr>\n",
       "    <tr>\n",
       "      <th>187</th>\n",
       "      <td>1</td>\n",
       "      <td>i like this glitch its new in elden ring</td>\n",
       "      <td>1655917983</td>\n",
       "      <td>[i, like, this, glitch, its, new, in, elden, r...</td>\n",
       "      <td>[{'label': 'LABEL_2', 'score': 0.8817609548568...</td>\n",
       "      <td>positive</td>\n",
       "      <td>(anger, 0.9328266978263855)</td>\n",
       "      <td>anger</td>\n",
       "    </tr>\n",
       "    <tr>\n",
       "      <th>309</th>\n",
       "      <td>1</td>\n",
       "      <td>elden ring map size vs horizon forbidden west ...</td>\n",
       "      <td>1655846169</td>\n",
       "      <td>[elden, ring, map, size, vs, horizon, forbidde...</td>\n",
       "      <td>[{'label': 'LABEL_1', 'score': 0.7963702082633...</td>\n",
       "      <td>neutral</td>\n",
       "      <td>(anger, 0.7851475477218628)</td>\n",
       "      <td>anger</td>\n",
       "    </tr>\n",
       "    <tr>\n",
       "      <th>315</th>\n",
       "      <td>1</td>\n",
       "      <td>some cool bugs in elden ring</td>\n",
       "      <td>1655839759</td>\n",
       "      <td>[some, cool, bugs, in, elden, ring]</td>\n",
       "      <td>[{'label': 'LABEL_2', 'score': 0.8592746853828...</td>\n",
       "      <td>positive</td>\n",
       "      <td>(joy, 0.9982628226280212)</td>\n",
       "      <td>joy</td>\n",
       "    </tr>\n",
       "    <tr>\n",
       "      <th>316</th>\n",
       "      <td>1</td>\n",
       "      <td>so there some cool bugs in elden ring</td>\n",
       "      <td>1655839646</td>\n",
       "      <td>[so, there, some, cool, bugs, in, elden, ring]</td>\n",
       "      <td>[{'label': 'LABEL_2', 'score': 0.8385195136070...</td>\n",
       "      <td>positive</td>\n",
       "      <td>(joy, 0.9985289573669434)</td>\n",
       "      <td>joy</td>\n",
       "    </tr>\n",
       "  </tbody>\n",
       "</table>\n",
       "</div>"
      ],
      "text/plain": [
       "     subreddit                                              title  \\\n",
       "164          1           game suggestion after elden ring fatigue   \n",
       "187          1           i like this glitch its new in elden ring   \n",
       "309          1  elden ring map size vs horizon forbidden west ...   \n",
       "315          1                       some cool bugs in elden ring   \n",
       "316          1              so there some cool bugs in elden ring   \n",
       "\n",
       "     created_utc                                          tokenized  \\\n",
       "164   1655926474    [game, suggestion, after, elden, ring, fatigue]   \n",
       "187   1655917983  [i, like, this, glitch, its, new, in, elden, r...   \n",
       "309   1655846169  [elden, ring, map, size, vs, horizon, forbidde...   \n",
       "315   1655839759                [some, cool, bugs, in, elden, ring]   \n",
       "316   1655839646     [so, there, some, cool, bugs, in, elden, ring]   \n",
       "\n",
       "                                             sentiment sentiments  \\\n",
       "164  [{'label': 'LABEL_1', 'score': 0.8347183465957...    neutral   \n",
       "187  [{'label': 'LABEL_2', 'score': 0.8817609548568...   positive   \n",
       "309  [{'label': 'LABEL_1', 'score': 0.7963702082633...    neutral   \n",
       "315  [{'label': 'LABEL_2', 'score': 0.8592746853828...   positive   \n",
       "316  [{'label': 'LABEL_2', 'score': 0.8385195136070...   positive   \n",
       "\n",
       "                           emotion emotion_label  \n",
       "164  (sadness, 0.3875012695789337)       sadness  \n",
       "187    (anger, 0.9328266978263855)         anger  \n",
       "309    (anger, 0.7851475477218628)         anger  \n",
       "315      (joy, 0.9982628226280212)           joy  \n",
       "316      (joy, 0.9985289573669434)           joy  "
      ]
     },
     "execution_count": 89,
     "metadata": {},
     "output_type": "execute_result"
    }
   ],
   "source": [
    "pselden_emo.head()"
   ]
  },
  {
   "cell_type": "code",
   "execution_count": 90,
   "id": "5dbcb66f-c301-43ef-b889-0d9c6a429a1e",
   "metadata": {},
   "outputs": [
    {
     "data": {
      "text/plain": [
       "joy         139\n",
       "anger        70\n",
       "fear         52\n",
       "sadness      19\n",
       "love          3\n",
       "surprise      1\n",
       "Name: emotion_label, dtype: int64"
      ]
     },
     "execution_count": 90,
     "metadata": {},
     "output_type": "execute_result"
    }
   ],
   "source": [
    "pselden_emo['emotion_label'].value_counts()"
   ]
  },
  {
   "cell_type": "code",
   "execution_count": 91,
   "id": "b4e81228-033f-45ec-828a-ebe0cc03fc22",
   "metadata": {},
   "outputs": [
    {
     "data": {
      "text/html": [
       "<div>\n",
       "<style scoped>\n",
       "    .dataframe tbody tr th:only-of-type {\n",
       "        vertical-align: middle;\n",
       "    }\n",
       "\n",
       "    .dataframe tbody tr th {\n",
       "        vertical-align: top;\n",
       "    }\n",
       "\n",
       "    .dataframe thead th {\n",
       "        text-align: right;\n",
       "    }\n",
       "</style>\n",
       "<table border=\"1\" class=\"dataframe\">\n",
       "  <thead>\n",
       "    <tr style=\"text-align: right;\">\n",
       "      <th></th>\n",
       "      <th>emotion_label</th>\n",
       "    </tr>\n",
       "  </thead>\n",
       "  <tbody>\n",
       "    <tr>\n",
       "      <th>joy</th>\n",
       "      <td>139</td>\n",
       "    </tr>\n",
       "    <tr>\n",
       "      <th>anger</th>\n",
       "      <td>70</td>\n",
       "    </tr>\n",
       "    <tr>\n",
       "      <th>fear</th>\n",
       "      <td>52</td>\n",
       "    </tr>\n",
       "    <tr>\n",
       "      <th>sadness</th>\n",
       "      <td>19</td>\n",
       "    </tr>\n",
       "    <tr>\n",
       "      <th>love</th>\n",
       "      <td>3</td>\n",
       "    </tr>\n",
       "    <tr>\n",
       "      <th>surprise</th>\n",
       "      <td>1</td>\n",
       "    </tr>\n",
       "  </tbody>\n",
       "</table>\n",
       "</div>"
      ],
      "text/plain": [
       "          emotion_label\n",
       "joy                 139\n",
       "anger                70\n",
       "fear                 52\n",
       "sadness              19\n",
       "love                  3\n",
       "surprise              1"
      ]
     },
     "execution_count": 91,
     "metadata": {},
     "output_type": "execute_result"
    }
   ],
   "source": [
    "pselden_emotions = pd.DataFrame(pselden_emo['emotion_label'].value_counts())\n",
    "pselden_emotions"
   ]
  },
  {
   "cell_type": "markdown",
   "id": "8fefde03-c569-4465-b36c-a222354b108f",
   "metadata": {},
   "source": [
    "### Horizon Forbidden"
   ]
  },
  {
   "cell_type": "code",
   "execution_count": 92,
   "id": "e0b054f4-bcc1-4bc6-b612-62f673127f6d",
   "metadata": {},
   "outputs": [],
   "source": [
    "horizon_emo = emotions(ps5_horizon)"
   ]
  },
  {
   "cell_type": "code",
   "execution_count": 93,
   "id": "e58bdd6a-1b1e-4d6a-b942-ab3e199f5f00",
   "metadata": {},
   "outputs": [
    {
     "data": {
      "text/html": [
       "<div>\n",
       "<style scoped>\n",
       "    .dataframe tbody tr th:only-of-type {\n",
       "        vertical-align: middle;\n",
       "    }\n",
       "\n",
       "    .dataframe tbody tr th {\n",
       "        vertical-align: top;\n",
       "    }\n",
       "\n",
       "    .dataframe thead th {\n",
       "        text-align: right;\n",
       "    }\n",
       "</style>\n",
       "<table border=\"1\" class=\"dataframe\">\n",
       "  <thead>\n",
       "    <tr style=\"text-align: right;\">\n",
       "      <th></th>\n",
       "      <th>subreddit</th>\n",
       "      <th>title</th>\n",
       "      <th>created_utc</th>\n",
       "      <th>tokenized</th>\n",
       "      <th>sentiment</th>\n",
       "      <th>sentiments</th>\n",
       "      <th>emotion</th>\n",
       "      <th>emotion_label</th>\n",
       "    </tr>\n",
       "  </thead>\n",
       "  <tbody>\n",
       "    <tr>\n",
       "      <th>143</th>\n",
       "      <td>1</td>\n",
       "      <td>anyone know if the horizon forbidden west bund...</td>\n",
       "      <td>1655938422</td>\n",
       "      <td>[anyone, know, if, the, horizon, forbidden, we...</td>\n",
       "      <td>[{'label': 'LABEL_1', 'score': 0.9335206151008...</td>\n",
       "      <td>neutral</td>\n",
       "      <td>(anger, 0.9528736472129822)</td>\n",
       "      <td>anger</td>\n",
       "    </tr>\n",
       "    <tr>\n",
       "      <th>309</th>\n",
       "      <td>1</td>\n",
       "      <td>elden ring map size vs horizon forbidden west ...</td>\n",
       "      <td>1655846169</td>\n",
       "      <td>[elden, ring, map, size, vs, horizon, forbidde...</td>\n",
       "      <td>[{'label': 'LABEL_1', 'score': 0.7963702082633...</td>\n",
       "      <td>neutral</td>\n",
       "      <td>(anger, 0.7851475477218628)</td>\n",
       "      <td>anger</td>\n",
       "    </tr>\n",
       "    <tr>\n",
       "      <th>376</th>\n",
       "      <td>1</td>\n",
       "      <td>horizon forbidden west reclaims no 1 uk boxed ...</td>\n",
       "      <td>1655821386</td>\n",
       "      <td>[horizon, forbidden, west, reclaims, no, 1, uk...</td>\n",
       "      <td>[{'label': 'LABEL_1', 'score': 0.8453205823898...</td>\n",
       "      <td>neutral</td>\n",
       "      <td>(joy, 0.6814596652984619)</td>\n",
       "      <td>joy</td>\n",
       "    </tr>\n",
       "    <tr>\n",
       "      <th>465</th>\n",
       "      <td>1</td>\n",
       "      <td>uk sales charts horizon forbidden west back on...</td>\n",
       "      <td>1655754443</td>\n",
       "      <td>[uk, sales, charts, horizon, forbidden, west, ...</td>\n",
       "      <td>[{'label': 'LABEL_1', 'score': 0.7942109107971...</td>\n",
       "      <td>neutral</td>\n",
       "      <td>(anger, 0.6912378668785095)</td>\n",
       "      <td>anger</td>\n",
       "    </tr>\n",
       "    <tr>\n",
       "      <th>716</th>\n",
       "      <td>1</td>\n",
       "      <td>playstation 5 digital edition horizon forbidde...</td>\n",
       "      <td>1655568520</td>\n",
       "      <td>[playstation, 5, digital, edition, horizon, fo...</td>\n",
       "      <td>[{'label': 'LABEL_1', 'score': 0.9125995039939...</td>\n",
       "      <td>neutral</td>\n",
       "      <td>(anger, 0.4277389645576477)</td>\n",
       "      <td>anger</td>\n",
       "    </tr>\n",
       "  </tbody>\n",
       "</table>\n",
       "</div>"
      ],
      "text/plain": [
       "     subreddit                                              title  \\\n",
       "143          1  anyone know if the horizon forbidden west bund...   \n",
       "309          1  elden ring map size vs horizon forbidden west ...   \n",
       "376          1  horizon forbidden west reclaims no 1 uk boxed ...   \n",
       "465          1  uk sales charts horizon forbidden west back on...   \n",
       "716          1  playstation 5 digital edition horizon forbidde...   \n",
       "\n",
       "     created_utc                                          tokenized  \\\n",
       "143   1655938422  [anyone, know, if, the, horizon, forbidden, we...   \n",
       "309   1655846169  [elden, ring, map, size, vs, horizon, forbidde...   \n",
       "376   1655821386  [horizon, forbidden, west, reclaims, no, 1, uk...   \n",
       "465   1655754443  [uk, sales, charts, horizon, forbidden, west, ...   \n",
       "716   1655568520  [playstation, 5, digital, edition, horizon, fo...   \n",
       "\n",
       "                                             sentiment sentiments  \\\n",
       "143  [{'label': 'LABEL_1', 'score': 0.9335206151008...    neutral   \n",
       "309  [{'label': 'LABEL_1', 'score': 0.7963702082633...    neutral   \n",
       "376  [{'label': 'LABEL_1', 'score': 0.8453205823898...    neutral   \n",
       "465  [{'label': 'LABEL_1', 'score': 0.7942109107971...    neutral   \n",
       "716  [{'label': 'LABEL_1', 'score': 0.9125995039939...    neutral   \n",
       "\n",
       "                         emotion emotion_label  \n",
       "143  (anger, 0.9528736472129822)         anger  \n",
       "309  (anger, 0.7851475477218628)         anger  \n",
       "376    (joy, 0.6814596652984619)           joy  \n",
       "465  (anger, 0.6912378668785095)         anger  \n",
       "716  (anger, 0.4277389645576477)         anger  "
      ]
     },
     "execution_count": 93,
     "metadata": {},
     "output_type": "execute_result"
    }
   ],
   "source": [
    "horizon_emo.head()"
   ]
  },
  {
   "cell_type": "code",
   "execution_count": 94,
   "id": "36e94161-a81a-426a-b7e2-a70f38289d3b",
   "metadata": {},
   "outputs": [
    {
     "data": {
      "text/plain": [
       "anger      74\n",
       "joy        37\n",
       "sadness     5\n",
       "fear        2\n",
       "love        1\n",
       "Name: emotion_label, dtype: int64"
      ]
     },
     "execution_count": 94,
     "metadata": {},
     "output_type": "execute_result"
    }
   ],
   "source": [
    "horizon_emo['emotion_label'].value_counts()"
   ]
  },
  {
   "cell_type": "code",
   "execution_count": 95,
   "id": "f438a5c8-3322-4884-bb68-342f29112fa1",
   "metadata": {},
   "outputs": [
    {
     "data": {
      "text/html": [
       "<div>\n",
       "<style scoped>\n",
       "    .dataframe tbody tr th:only-of-type {\n",
       "        vertical-align: middle;\n",
       "    }\n",
       "\n",
       "    .dataframe tbody tr th {\n",
       "        vertical-align: top;\n",
       "    }\n",
       "\n",
       "    .dataframe thead th {\n",
       "        text-align: right;\n",
       "    }\n",
       "</style>\n",
       "<table border=\"1\" class=\"dataframe\">\n",
       "  <thead>\n",
       "    <tr style=\"text-align: right;\">\n",
       "      <th></th>\n",
       "      <th>emotion_label</th>\n",
       "    </tr>\n",
       "  </thead>\n",
       "  <tbody>\n",
       "    <tr>\n",
       "      <th>anger</th>\n",
       "      <td>74</td>\n",
       "    </tr>\n",
       "    <tr>\n",
       "      <th>joy</th>\n",
       "      <td>37</td>\n",
       "    </tr>\n",
       "    <tr>\n",
       "      <th>sadness</th>\n",
       "      <td>5</td>\n",
       "    </tr>\n",
       "    <tr>\n",
       "      <th>fear</th>\n",
       "      <td>2</td>\n",
       "    </tr>\n",
       "    <tr>\n",
       "      <th>love</th>\n",
       "      <td>1</td>\n",
       "    </tr>\n",
       "  </tbody>\n",
       "</table>\n",
       "</div>"
      ],
      "text/plain": [
       "         emotion_label\n",
       "anger               74\n",
       "joy                 37\n",
       "sadness              5\n",
       "fear                 2\n",
       "love                 1"
      ]
     },
     "execution_count": 95,
     "metadata": {},
     "output_type": "execute_result"
    }
   ],
   "source": [
    "horizon_emotions = pd.DataFrame(horizon_emo['emotion_label'].value_counts())\n",
    "horizon_emotions"
   ]
  },
  {
   "cell_type": "markdown",
   "id": "6aebf3fd-8588-4b01-92ca-56e47a07913f",
   "metadata": {},
   "source": [
    "### Final Fantasy"
   ]
  },
  {
   "cell_type": "code",
   "execution_count": 96,
   "id": "2ec9acf3-5f79-4fde-956c-9fc980e89932",
   "metadata": {},
   "outputs": [],
   "source": [
    "ff_emo = emotions(ps5_ff)"
   ]
  },
  {
   "cell_type": "code",
   "execution_count": 97,
   "id": "5aa7822b-c26c-4338-b5fb-9be21d20f0d4",
   "metadata": {},
   "outputs": [
    {
     "data": {
      "text/html": [
       "<div>\n",
       "<style scoped>\n",
       "    .dataframe tbody tr th:only-of-type {\n",
       "        vertical-align: middle;\n",
       "    }\n",
       "\n",
       "    .dataframe tbody tr th {\n",
       "        vertical-align: top;\n",
       "    }\n",
       "\n",
       "    .dataframe thead th {\n",
       "        text-align: right;\n",
       "    }\n",
       "</style>\n",
       "<table border=\"1\" class=\"dataframe\">\n",
       "  <thead>\n",
       "    <tr style=\"text-align: right;\">\n",
       "      <th></th>\n",
       "      <th>subreddit</th>\n",
       "      <th>title</th>\n",
       "      <th>created_utc</th>\n",
       "      <th>tokenized</th>\n",
       "      <th>sentiment</th>\n",
       "      <th>sentiments</th>\n",
       "      <th>emotion</th>\n",
       "      <th>emotion_label</th>\n",
       "    </tr>\n",
       "  </thead>\n",
       "  <tbody>\n",
       "    <tr>\n",
       "      <th>15</th>\n",
       "      <td>1</td>\n",
       "      <td>ukraine war delayed the recent final fantasy 1...</td>\n",
       "      <td>1656019280</td>\n",
       "      <td>[ukraine, war, delayed, the, recent, final, fa...</td>\n",
       "      <td>[{'label': 'LABEL_1', 'score': 0.5741430521011...</td>\n",
       "      <td>neutral</td>\n",
       "      <td>(anger, 0.5672283172607422)</td>\n",
       "      <td>anger</td>\n",
       "    </tr>\n",
       "    <tr>\n",
       "      <th>222</th>\n",
       "      <td>1</td>\n",
       "      <td>yoshida confirms final fantasy 16 includes par...</td>\n",
       "      <td>1655902458</td>\n",
       "      <td>[yoshida, confirms, final, fantasy, 16, includ...</td>\n",
       "      <td>[{'label': 'LABEL_1', 'score': 0.8979144692420...</td>\n",
       "      <td>neutral</td>\n",
       "      <td>(joy, 0.7451703548431396)</td>\n",
       "      <td>joy</td>\n",
       "    </tr>\n",
       "    <tr>\n",
       "      <th>223</th>\n",
       "      <td>1</td>\n",
       "      <td>final fantasy 16 has fully ai driven party mem...</td>\n",
       "      <td>1655901983</td>\n",
       "      <td>[final, fantasy, 16, has, fully, ai, driven, p...</td>\n",
       "      <td>[{'label': 'LABEL_1', 'score': 0.9014392495155...</td>\n",
       "      <td>neutral</td>\n",
       "      <td>(anger, 0.6021497249603271)</td>\n",
       "      <td>anger</td>\n",
       "    </tr>\n",
       "    <tr>\n",
       "      <th>226</th>\n",
       "      <td>1</td>\n",
       "      <td>final fantasy 16 s puppy has a name and he may...</td>\n",
       "      <td>1655901278</td>\n",
       "      <td>[final, fantasy, 16, s, puppy, has, a, name, a...</td>\n",
       "      <td>[{'label': 'LABEL_1', 'score': 0.9268986582756...</td>\n",
       "      <td>neutral</td>\n",
       "      <td>(anger, 0.7145276069641113)</td>\n",
       "      <td>anger</td>\n",
       "    </tr>\n",
       "    <tr>\n",
       "      <th>231</th>\n",
       "      <td>1</td>\n",
       "      <td>final fantasy 16 producer confirms it won t be...</td>\n",
       "      <td>1655900679</td>\n",
       "      <td>[final, fantasy, 16, producer, confirms, it, w...</td>\n",
       "      <td>[{'label': 'LABEL_1', 'score': 0.7173556685447...</td>\n",
       "      <td>neutral</td>\n",
       "      <td>(joy, 0.9312976598739624)</td>\n",
       "      <td>joy</td>\n",
       "    </tr>\n",
       "  </tbody>\n",
       "</table>\n",
       "</div>"
      ],
      "text/plain": [
       "     subreddit                                              title  \\\n",
       "15           1  ukraine war delayed the recent final fantasy 1...   \n",
       "222          1  yoshida confirms final fantasy 16 includes par...   \n",
       "223          1  final fantasy 16 has fully ai driven party mem...   \n",
       "226          1  final fantasy 16 s puppy has a name and he may...   \n",
       "231          1  final fantasy 16 producer confirms it won t be...   \n",
       "\n",
       "     created_utc                                          tokenized  \\\n",
       "15    1656019280  [ukraine, war, delayed, the, recent, final, fa...   \n",
       "222   1655902458  [yoshida, confirms, final, fantasy, 16, includ...   \n",
       "223   1655901983  [final, fantasy, 16, has, fully, ai, driven, p...   \n",
       "226   1655901278  [final, fantasy, 16, s, puppy, has, a, name, a...   \n",
       "231   1655900679  [final, fantasy, 16, producer, confirms, it, w...   \n",
       "\n",
       "                                             sentiment sentiments  \\\n",
       "15   [{'label': 'LABEL_1', 'score': 0.5741430521011...    neutral   \n",
       "222  [{'label': 'LABEL_1', 'score': 0.8979144692420...    neutral   \n",
       "223  [{'label': 'LABEL_1', 'score': 0.9014392495155...    neutral   \n",
       "226  [{'label': 'LABEL_1', 'score': 0.9268986582756...    neutral   \n",
       "231  [{'label': 'LABEL_1', 'score': 0.7173556685447...    neutral   \n",
       "\n",
       "                         emotion emotion_label  \n",
       "15   (anger, 0.5672283172607422)         anger  \n",
       "222    (joy, 0.7451703548431396)           joy  \n",
       "223  (anger, 0.6021497249603271)         anger  \n",
       "226  (anger, 0.7145276069641113)         anger  \n",
       "231    (joy, 0.9312976598739624)           joy  "
      ]
     },
     "execution_count": 97,
     "metadata": {},
     "output_type": "execute_result"
    }
   ],
   "source": [
    "ff_emo.head()"
   ]
  },
  {
   "cell_type": "code",
   "execution_count": 98,
   "id": "a0904b80-7d22-4ec3-be6f-cfad6e92d63a",
   "metadata": {},
   "outputs": [
    {
     "data": {
      "text/plain": [
       "joy         127\n",
       "anger        16\n",
       "sadness      10\n",
       "fear          3\n",
       "surprise      1\n",
       "Name: emotion_label, dtype: int64"
      ]
     },
     "execution_count": 98,
     "metadata": {},
     "output_type": "execute_result"
    }
   ],
   "source": [
    "ff_emo['emotion_label'].value_counts()"
   ]
  },
  {
   "cell_type": "code",
   "execution_count": 99,
   "id": "4eee0554-9cd2-4dc8-aaff-bc77a5939aa2",
   "metadata": {},
   "outputs": [
    {
     "data": {
      "text/html": [
       "<div>\n",
       "<style scoped>\n",
       "    .dataframe tbody tr th:only-of-type {\n",
       "        vertical-align: middle;\n",
       "    }\n",
       "\n",
       "    .dataframe tbody tr th {\n",
       "        vertical-align: top;\n",
       "    }\n",
       "\n",
       "    .dataframe thead th {\n",
       "        text-align: right;\n",
       "    }\n",
       "</style>\n",
       "<table border=\"1\" class=\"dataframe\">\n",
       "  <thead>\n",
       "    <tr style=\"text-align: right;\">\n",
       "      <th></th>\n",
       "      <th>emotion_label</th>\n",
       "    </tr>\n",
       "  </thead>\n",
       "  <tbody>\n",
       "    <tr>\n",
       "      <th>joy</th>\n",
       "      <td>127</td>\n",
       "    </tr>\n",
       "    <tr>\n",
       "      <th>anger</th>\n",
       "      <td>16</td>\n",
       "    </tr>\n",
       "    <tr>\n",
       "      <th>sadness</th>\n",
       "      <td>10</td>\n",
       "    </tr>\n",
       "    <tr>\n",
       "      <th>fear</th>\n",
       "      <td>3</td>\n",
       "    </tr>\n",
       "    <tr>\n",
       "      <th>surprise</th>\n",
       "      <td>1</td>\n",
       "    </tr>\n",
       "  </tbody>\n",
       "</table>\n",
       "</div>"
      ],
      "text/plain": [
       "          emotion_label\n",
       "joy                 127\n",
       "anger                16\n",
       "sadness              10\n",
       "fear                  3\n",
       "surprise              1"
      ]
     },
     "execution_count": 99,
     "metadata": {},
     "output_type": "execute_result"
    }
   ],
   "source": [
    "ff_emotions = pd.DataFrame(ff_emo['emotion_label'].value_counts())\n",
    "ff_emotions"
   ]
  },
  {
   "cell_type": "markdown",
   "id": "f17acb07-a4f6-4b90-88b5-976dacc57722",
   "metadata": {
    "tags": []
   },
   "source": [
    "### PS5 Controller"
   ]
  },
  {
   "cell_type": "code",
   "execution_count": 100,
   "id": "00081ca7-a57a-4956-bcec-55b095247da4",
   "metadata": {},
   "outputs": [],
   "source": [
    "pscontrol_emo = emotions(ps5_control)"
   ]
  },
  {
   "cell_type": "code",
   "execution_count": 101,
   "id": "ade6dd81-a672-4836-a2ed-82896f48b745",
   "metadata": {},
   "outputs": [
    {
     "data": {
      "text/html": [
       "<div>\n",
       "<style scoped>\n",
       "    .dataframe tbody tr th:only-of-type {\n",
       "        vertical-align: middle;\n",
       "    }\n",
       "\n",
       "    .dataframe tbody tr th {\n",
       "        vertical-align: top;\n",
       "    }\n",
       "\n",
       "    .dataframe thead th {\n",
       "        text-align: right;\n",
       "    }\n",
       "</style>\n",
       "<table border=\"1\" class=\"dataframe\">\n",
       "  <thead>\n",
       "    <tr style=\"text-align: right;\">\n",
       "      <th></th>\n",
       "      <th>subreddit</th>\n",
       "      <th>title</th>\n",
       "      <th>created_utc</th>\n",
       "      <th>tokenized</th>\n",
       "      <th>sentiment</th>\n",
       "      <th>sentiments</th>\n",
       "      <th>emotion</th>\n",
       "      <th>emotion_label</th>\n",
       "    </tr>\n",
       "  </thead>\n",
       "  <tbody>\n",
       "    <tr>\n",
       "      <th>5</th>\n",
       "      <td>1</td>\n",
       "      <td>help with wireless controller bluetooth</td>\n",
       "      <td>1656022598</td>\n",
       "      <td>[help, with, wireless, controller, bluetooth]</td>\n",
       "      <td>[{'label': 'LABEL_1', 'score': 0.8238209486007...</td>\n",
       "      <td>neutral</td>\n",
       "      <td>(joy, 0.5640211701393127)</td>\n",
       "      <td>joy</td>\n",
       "    </tr>\n",
       "    <tr>\n",
       "      <th>147</th>\n",
       "      <td>1</td>\n",
       "      <td>dualsense controller refuses to charge</td>\n",
       "      <td>1655935561</td>\n",
       "      <td>[dualsense, controller, refuses, to, charge]</td>\n",
       "      <td>[{'label': 'LABEL_0', 'score': 0.7959108948707...</td>\n",
       "      <td>negative</td>\n",
       "      <td>(anger, 0.8667016625404358)</td>\n",
       "      <td>anger</td>\n",
       "    </tr>\n",
       "    <tr>\n",
       "      <th>166</th>\n",
       "      <td>1</td>\n",
       "      <td>tom henderson ps5 pro controller won t be reve...</td>\n",
       "      <td>1655925748</td>\n",
       "      <td>[tom, henderson, ps5, pro, controller, won, t,...</td>\n",
       "      <td>[{'label': 'LABEL_1', 'score': 0.8287260532379...</td>\n",
       "      <td>neutral</td>\n",
       "      <td>(joy, 0.9691850543022156)</td>\n",
       "      <td>joy</td>\n",
       "    </tr>\n",
       "    <tr>\n",
       "      <th>175</th>\n",
       "      <td>1</td>\n",
       "      <td>tom henderson ps5 pro controller won t be reve...</td>\n",
       "      <td>1655923928</td>\n",
       "      <td>[tom, henderson, ps5, pro, controller, won, t,...</td>\n",
       "      <td>[{'label': 'LABEL_1', 'score': 0.6949279308319...</td>\n",
       "      <td>neutral</td>\n",
       "      <td>(joy, 0.9266419410705566)</td>\n",
       "      <td>joy</td>\n",
       "    </tr>\n",
       "    <tr>\n",
       "      <th>216</th>\n",
       "      <td>1</td>\n",
       "      <td>controller keeps going up any solutions</td>\n",
       "      <td>1655907598</td>\n",
       "      <td>[controller, keeps, going, up, any, solutions]</td>\n",
       "      <td>[{'label': 'LABEL_1', 'score': 0.5916105508804...</td>\n",
       "      <td>neutral</td>\n",
       "      <td>(anger, 0.5157884359359741)</td>\n",
       "      <td>anger</td>\n",
       "    </tr>\n",
       "  </tbody>\n",
       "</table>\n",
       "</div>"
      ],
      "text/plain": [
       "     subreddit                                              title  \\\n",
       "5            1            help with wireless controller bluetooth   \n",
       "147          1             dualsense controller refuses to charge   \n",
       "166          1  tom henderson ps5 pro controller won t be reve...   \n",
       "175          1  tom henderson ps5 pro controller won t be reve...   \n",
       "216          1            controller keeps going up any solutions   \n",
       "\n",
       "     created_utc                                          tokenized  \\\n",
       "5     1656022598      [help, with, wireless, controller, bluetooth]   \n",
       "147   1655935561       [dualsense, controller, refuses, to, charge]   \n",
       "166   1655925748  [tom, henderson, ps5, pro, controller, won, t,...   \n",
       "175   1655923928  [tom, henderson, ps5, pro, controller, won, t,...   \n",
       "216   1655907598     [controller, keeps, going, up, any, solutions]   \n",
       "\n",
       "                                             sentiment sentiments  \\\n",
       "5    [{'label': 'LABEL_1', 'score': 0.8238209486007...    neutral   \n",
       "147  [{'label': 'LABEL_0', 'score': 0.7959108948707...   negative   \n",
       "166  [{'label': 'LABEL_1', 'score': 0.8287260532379...    neutral   \n",
       "175  [{'label': 'LABEL_1', 'score': 0.6949279308319...    neutral   \n",
       "216  [{'label': 'LABEL_1', 'score': 0.5916105508804...    neutral   \n",
       "\n",
       "                         emotion emotion_label  \n",
       "5      (joy, 0.5640211701393127)           joy  \n",
       "147  (anger, 0.8667016625404358)         anger  \n",
       "166    (joy, 0.9691850543022156)           joy  \n",
       "175    (joy, 0.9266419410705566)           joy  \n",
       "216  (anger, 0.5157884359359741)         anger  "
      ]
     },
     "execution_count": 101,
     "metadata": {},
     "output_type": "execute_result"
    }
   ],
   "source": [
    "pscontrol_emo.head()"
   ]
  },
  {
   "cell_type": "code",
   "execution_count": 102,
   "id": "9de328ef-bf0f-44f8-bac7-9e00105b7829",
   "metadata": {},
   "outputs": [
    {
     "data": {
      "text/plain": [
       "joy         254\n",
       "fear        188\n",
       "anger       157\n",
       "sadness      56\n",
       "surprise      3\n",
       "love          2\n",
       "Name: emotion_label, dtype: int64"
      ]
     },
     "execution_count": 102,
     "metadata": {},
     "output_type": "execute_result"
    }
   ],
   "source": [
    "pscontrol_emo['emotion_label'].value_counts()"
   ]
  },
  {
   "cell_type": "code",
   "execution_count": 103,
   "id": "b044066e-6273-445b-a8d3-b864d28541bb",
   "metadata": {},
   "outputs": [
    {
     "data": {
      "text/html": [
       "<div>\n",
       "<style scoped>\n",
       "    .dataframe tbody tr th:only-of-type {\n",
       "        vertical-align: middle;\n",
       "    }\n",
       "\n",
       "    .dataframe tbody tr th {\n",
       "        vertical-align: top;\n",
       "    }\n",
       "\n",
       "    .dataframe thead th {\n",
       "        text-align: right;\n",
       "    }\n",
       "</style>\n",
       "<table border=\"1\" class=\"dataframe\">\n",
       "  <thead>\n",
       "    <tr style=\"text-align: right;\">\n",
       "      <th></th>\n",
       "      <th>emotion_label</th>\n",
       "    </tr>\n",
       "  </thead>\n",
       "  <tbody>\n",
       "    <tr>\n",
       "      <th>joy</th>\n",
       "      <td>254</td>\n",
       "    </tr>\n",
       "    <tr>\n",
       "      <th>fear</th>\n",
       "      <td>188</td>\n",
       "    </tr>\n",
       "    <tr>\n",
       "      <th>anger</th>\n",
       "      <td>157</td>\n",
       "    </tr>\n",
       "    <tr>\n",
       "      <th>sadness</th>\n",
       "      <td>56</td>\n",
       "    </tr>\n",
       "    <tr>\n",
       "      <th>surprise</th>\n",
       "      <td>3</td>\n",
       "    </tr>\n",
       "    <tr>\n",
       "      <th>love</th>\n",
       "      <td>2</td>\n",
       "    </tr>\n",
       "  </tbody>\n",
       "</table>\n",
       "</div>"
      ],
      "text/plain": [
       "          emotion_label\n",
       "joy                 254\n",
       "fear                188\n",
       "anger               157\n",
       "sadness              56\n",
       "surprise              3\n",
       "love                  2"
      ]
     },
     "execution_count": 103,
     "metadata": {},
     "output_type": "execute_result"
    }
   ],
   "source": [
    "pscontrol_emotions = pd.DataFrame(pscontrol_emo['emotion_label'].value_counts())\n",
    "pscontrol_emotions"
   ]
  },
  {
   "cell_type": "markdown",
   "id": "59ebe692-2151-48f4-aec1-abf3dea3caf7",
   "metadata": {},
   "source": [
    "### Summary"
   ]
  },
  {
   "cell_type": "code",
   "execution_count": 104,
   "id": "9b22b0fb-930c-402b-9ec7-9aa126832cb6",
   "metadata": {},
   "outputs": [],
   "source": [
    "playstation_emotions = pd.concat([ps5_emotions, plus_emotions, pselden_emotions, horizon_emotions, ff_emotions, pscontrol_emotions], axis=1, ignore_index=True)\n",
    "playstation_emotions.columns = ps_cols"
   ]
  },
  {
   "cell_type": "code",
   "execution_count": 105,
   "id": "a6adf82e-233a-4627-9316-10319daddfa8",
   "metadata": {},
   "outputs": [],
   "source": [
    "playstation_emotions = playstation_emotions.fillna(0)"
   ]
  },
  {
   "cell_type": "code",
   "execution_count": 106,
   "id": "0530a947-6e82-42af-96a7-fcecbeb46758",
   "metadata": {},
   "outputs": [
    {
     "data": {
      "text/html": [
       "<div>\n",
       "<style scoped>\n",
       "    .dataframe tbody tr th:only-of-type {\n",
       "        vertical-align: middle;\n",
       "    }\n",
       "\n",
       "    .dataframe tbody tr th {\n",
       "        vertical-align: top;\n",
       "    }\n",
       "\n",
       "    .dataframe thead th {\n",
       "        text-align: right;\n",
       "    }\n",
       "</style>\n",
       "<table border=\"1\" class=\"dataframe\">\n",
       "  <thead>\n",
       "    <tr style=\"text-align: right;\">\n",
       "      <th></th>\n",
       "      <th>Overall</th>\n",
       "      <th>PSPlus</th>\n",
       "      <th>EldenRing</th>\n",
       "      <th>Horizon</th>\n",
       "      <th>FinalFantasy</th>\n",
       "      <th>PS5Controller</th>\n",
       "    </tr>\n",
       "  </thead>\n",
       "  <tbody>\n",
       "    <tr>\n",
       "      <th>joy</th>\n",
       "      <td>1177</td>\n",
       "      <td>255.0</td>\n",
       "      <td>139</td>\n",
       "      <td>37.0</td>\n",
       "      <td>127.0</td>\n",
       "      <td>254</td>\n",
       "    </tr>\n",
       "    <tr>\n",
       "      <th>anger</th>\n",
       "      <td>431</td>\n",
       "      <td>38.0</td>\n",
       "      <td>70</td>\n",
       "      <td>74.0</td>\n",
       "      <td>16.0</td>\n",
       "      <td>157</td>\n",
       "    </tr>\n",
       "    <tr>\n",
       "      <th>fear</th>\n",
       "      <td>260</td>\n",
       "      <td>23.0</td>\n",
       "      <td>52</td>\n",
       "      <td>2.0</td>\n",
       "      <td>3.0</td>\n",
       "      <td>188</td>\n",
       "    </tr>\n",
       "    <tr>\n",
       "      <th>sadness</th>\n",
       "      <td>107</td>\n",
       "      <td>14.0</td>\n",
       "      <td>19</td>\n",
       "      <td>5.0</td>\n",
       "      <td>10.0</td>\n",
       "      <td>56</td>\n",
       "    </tr>\n",
       "    <tr>\n",
       "      <th>surprise</th>\n",
       "      <td>13</td>\n",
       "      <td>0.0</td>\n",
       "      <td>1</td>\n",
       "      <td>0.0</td>\n",
       "      <td>1.0</td>\n",
       "      <td>3</td>\n",
       "    </tr>\n",
       "    <tr>\n",
       "      <th>love</th>\n",
       "      <td>12</td>\n",
       "      <td>1.0</td>\n",
       "      <td>3</td>\n",
       "      <td>1.0</td>\n",
       "      <td>0.0</td>\n",
       "      <td>2</td>\n",
       "    </tr>\n",
       "  </tbody>\n",
       "</table>\n",
       "</div>"
      ],
      "text/plain": [
       "          Overall  PSPlus  EldenRing  Horizon  FinalFantasy  PS5Controller\n",
       "joy          1177   255.0        139     37.0         127.0            254\n",
       "anger         431    38.0         70     74.0          16.0            157\n",
       "fear          260    23.0         52      2.0           3.0            188\n",
       "sadness       107    14.0         19      5.0          10.0             56\n",
       "surprise       13     0.0          1      0.0           1.0              3\n",
       "love           12     1.0          3      1.0           0.0              2"
      ]
     },
     "execution_count": 106,
     "metadata": {},
     "output_type": "execute_result"
    }
   ],
   "source": [
    "playstation_emotions"
   ]
  },
  {
   "cell_type": "code",
   "execution_count": 107,
   "id": "a9326eba-f55b-4b4f-b2c5-a4e4d4bb24ba",
   "metadata": {},
   "outputs": [
    {
     "data": {
      "text/html": [
       "<div>\n",
       "<style scoped>\n",
       "    .dataframe tbody tr th:only-of-type {\n",
       "        vertical-align: middle;\n",
       "    }\n",
       "\n",
       "    .dataframe tbody tr th {\n",
       "        vertical-align: top;\n",
       "    }\n",
       "\n",
       "    .dataframe thead th {\n",
       "        text-align: right;\n",
       "    }\n",
       "</style>\n",
       "<table border=\"1\" class=\"dataframe\">\n",
       "  <thead>\n",
       "    <tr style=\"text-align: right;\">\n",
       "      <th></th>\n",
       "      <th>Overall</th>\n",
       "      <th>PSPlus</th>\n",
       "      <th>EldenRing</th>\n",
       "      <th>Horizon</th>\n",
       "      <th>FinalFantasy</th>\n",
       "      <th>PS5Controller</th>\n",
       "    </tr>\n",
       "  </thead>\n",
       "  <tbody>\n",
       "    <tr>\n",
       "      <th>joy</th>\n",
       "      <td>0.59</td>\n",
       "      <td>0.77</td>\n",
       "      <td>0.49</td>\n",
       "      <td>0.31</td>\n",
       "      <td>0.81</td>\n",
       "      <td>0.38</td>\n",
       "    </tr>\n",
       "    <tr>\n",
       "      <th>anger</th>\n",
       "      <td>0.22</td>\n",
       "      <td>0.11</td>\n",
       "      <td>0.25</td>\n",
       "      <td>0.62</td>\n",
       "      <td>0.10</td>\n",
       "      <td>0.24</td>\n",
       "    </tr>\n",
       "    <tr>\n",
       "      <th>fear</th>\n",
       "      <td>0.13</td>\n",
       "      <td>0.07</td>\n",
       "      <td>0.18</td>\n",
       "      <td>0.02</td>\n",
       "      <td>0.02</td>\n",
       "      <td>0.28</td>\n",
       "    </tr>\n",
       "    <tr>\n",
       "      <th>sadness</th>\n",
       "      <td>0.05</td>\n",
       "      <td>0.04</td>\n",
       "      <td>0.07</td>\n",
       "      <td>0.04</td>\n",
       "      <td>0.06</td>\n",
       "      <td>0.08</td>\n",
       "    </tr>\n",
       "    <tr>\n",
       "      <th>surprise</th>\n",
       "      <td>0.01</td>\n",
       "      <td>0.00</td>\n",
       "      <td>0.00</td>\n",
       "      <td>0.00</td>\n",
       "      <td>0.01</td>\n",
       "      <td>0.00</td>\n",
       "    </tr>\n",
       "    <tr>\n",
       "      <th>love</th>\n",
       "      <td>0.01</td>\n",
       "      <td>0.00</td>\n",
       "      <td>0.01</td>\n",
       "      <td>0.01</td>\n",
       "      <td>0.00</td>\n",
       "      <td>0.00</td>\n",
       "    </tr>\n",
       "  </tbody>\n",
       "</table>\n",
       "</div>"
      ],
      "text/plain": [
       "          Overall  PSPlus  EldenRing  Horizon  FinalFantasy  PS5Controller\n",
       "joy          0.59    0.77       0.49     0.31          0.81           0.38\n",
       "anger        0.22    0.11       0.25     0.62          0.10           0.24\n",
       "fear         0.13    0.07       0.18     0.02          0.02           0.28\n",
       "sadness      0.05    0.04       0.07     0.04          0.06           0.08\n",
       "surprise     0.01    0.00       0.00     0.00          0.01           0.00\n",
       "love         0.01    0.00       0.01     0.01          0.00           0.00"
      ]
     },
     "execution_count": 107,
     "metadata": {},
     "output_type": "execute_result"
    }
   ],
   "source": [
    "playstation_emotions_perc = round(playstation_emotions / playstation_emotions.sum(), 2)\n",
    "playstation_emotions_perc"
   ]
  },
  {
   "cell_type": "markdown",
   "id": "0a0119c4-21b8-413d-bcd0-94a0b634f58f",
   "metadata": {},
   "source": [
    "Points to note:\n",
    "\n",
    "- Most post are characterized as joy\n",
    "- Horizon post are angry in nature - contradicts with sentiments\n",
    "- Subscription service seems to received more 'joy' post - contradicts sentiments"
   ]
  },
  {
   "cell_type": "markdown",
   "id": "331e6be5-df35-4b02-b36d-1457237dec16",
   "metadata": {},
   "source": [
    "## Xbox"
   ]
  },
  {
   "cell_type": "markdown",
   "id": "23091fbb-a226-435a-89b6-087b6559817e",
   "metadata": {
    "tags": []
   },
   "source": [
    "### Overall"
   ]
  },
  {
   "cell_type": "code",
   "execution_count": 108,
   "id": "a298c3c5-de9c-45bd-ab9e-367bd9aa6b63",
   "metadata": {},
   "outputs": [],
   "source": [
    "xbox_sample_emo = emotions(xbox_textdf.sample(2000))"
   ]
  },
  {
   "cell_type": "code",
   "execution_count": 109,
   "id": "e09ef911-9d03-4bee-9f1e-bb674a8b8f15",
   "metadata": {},
   "outputs": [
    {
     "data": {
      "text/html": [
       "<div>\n",
       "<style scoped>\n",
       "    .dataframe tbody tr th:only-of-type {\n",
       "        vertical-align: middle;\n",
       "    }\n",
       "\n",
       "    .dataframe tbody tr th {\n",
       "        vertical-align: top;\n",
       "    }\n",
       "\n",
       "    .dataframe thead th {\n",
       "        text-align: right;\n",
       "    }\n",
       "</style>\n",
       "<table border=\"1\" class=\"dataframe\">\n",
       "  <thead>\n",
       "    <tr style=\"text-align: right;\">\n",
       "      <th></th>\n",
       "      <th>subreddit</th>\n",
       "      <th>title</th>\n",
       "      <th>created_utc</th>\n",
       "      <th>tokenized</th>\n",
       "      <th>emotion</th>\n",
       "      <th>emotion_label</th>\n",
       "    </tr>\n",
       "  </thead>\n",
       "  <tbody>\n",
       "    <tr>\n",
       "      <th>22635</th>\n",
       "      <td>0</td>\n",
       "      <td>life is strange true colour was announce to be...</td>\n",
       "      <td>1649231593</td>\n",
       "      <td>[life, is, strange, true, colour, was, announc...</td>\n",
       "      <td>(fear, 0.8540380597114563)</td>\n",
       "      <td>fear</td>\n",
       "    </tr>\n",
       "    <tr>\n",
       "      <th>27257</th>\n",
       "      <td>0</td>\n",
       "      <td>watch bloodhound prestige heirloom skin on you...</td>\n",
       "      <td>1645564703</td>\n",
       "      <td>[watch, bloodhound, prestige, heirloom, skin, ...</td>\n",
       "      <td>(joy, 0.7770021557807922)</td>\n",
       "      <td>joy</td>\n",
       "    </tr>\n",
       "    <tr>\n",
       "      <th>24026</th>\n",
       "      <td>0</td>\n",
       "      <td>leak a plague tale requiem release date of jun...</td>\n",
       "      <td>1648109624</td>\n",
       "      <td>[leak, a, plague, tale, requiem, release, date...</td>\n",
       "      <td>(joy, 0.4045194089412689)</td>\n",
       "      <td>joy</td>\n",
       "    </tr>\n",
       "    <tr>\n",
       "      <th>24673</th>\n",
       "      <td>0</td>\n",
       "      <td>is this enough clearance for good ventilation</td>\n",
       "      <td>1647570955</td>\n",
       "      <td>[is, this, enough, clearance, for, good, venti...</td>\n",
       "      <td>(joy, 0.9250916242599487)</td>\n",
       "      <td>joy</td>\n",
       "    </tr>\n",
       "    <tr>\n",
       "      <th>15420</th>\n",
       "      <td>0</td>\n",
       "      <td>advice on gaming headset what s the best one i...</td>\n",
       "      <td>1655684868</td>\n",
       "      <td>[advice, on, gaming, headset, what, s, the, be...</td>\n",
       "      <td>(sadness, 0.7349311709403992)</td>\n",
       "      <td>sadness</td>\n",
       "    </tr>\n",
       "  </tbody>\n",
       "</table>\n",
       "</div>"
      ],
      "text/plain": [
       "       subreddit                                              title  \\\n",
       "22635          0  life is strange true colour was announce to be...   \n",
       "27257          0  watch bloodhound prestige heirloom skin on you...   \n",
       "24026          0  leak a plague tale requiem release date of jun...   \n",
       "24673          0      is this enough clearance for good ventilation   \n",
       "15420          0  advice on gaming headset what s the best one i...   \n",
       "\n",
       "       created_utc                                          tokenized  \\\n",
       "22635   1649231593  [life, is, strange, true, colour, was, announc...   \n",
       "27257   1645564703  [watch, bloodhound, prestige, heirloom, skin, ...   \n",
       "24026   1648109624  [leak, a, plague, tale, requiem, release, date...   \n",
       "24673   1647570955  [is, this, enough, clearance, for, good, venti...   \n",
       "15420   1655684868  [advice, on, gaming, headset, what, s, the, be...   \n",
       "\n",
       "                             emotion emotion_label  \n",
       "22635     (fear, 0.8540380597114563)          fear  \n",
       "27257      (joy, 0.7770021557807922)           joy  \n",
       "24026      (joy, 0.4045194089412689)           joy  \n",
       "24673      (joy, 0.9250916242599487)           joy  \n",
       "15420  (sadness, 0.7349311709403992)       sadness  "
      ]
     },
     "execution_count": 109,
     "metadata": {},
     "output_type": "execute_result"
    }
   ],
   "source": [
    "xbox_sample_emo.head()"
   ]
  },
  {
   "cell_type": "code",
   "execution_count": 110,
   "id": "7430aa2a-9860-473d-a6a6-36ed33fd7d19",
   "metadata": {},
   "outputs": [
    {
     "data": {
      "text/plain": [
       "joy         1170\n",
       "anger        430\n",
       "fear         248\n",
       "sadness      120\n",
       "love          18\n",
       "surprise      14\n",
       "Name: emotion_label, dtype: int64"
      ]
     },
     "execution_count": 110,
     "metadata": {},
     "output_type": "execute_result"
    }
   ],
   "source": [
    "xbox_sample_emo['emotion_label'].value_counts()"
   ]
  },
  {
   "cell_type": "code",
   "execution_count": 111,
   "id": "ceafbb35-2371-49ef-9468-8ee04f8c1242",
   "metadata": {},
   "outputs": [
    {
     "data": {
      "text/html": [
       "<div>\n",
       "<style scoped>\n",
       "    .dataframe tbody tr th:only-of-type {\n",
       "        vertical-align: middle;\n",
       "    }\n",
       "\n",
       "    .dataframe tbody tr th {\n",
       "        vertical-align: top;\n",
       "    }\n",
       "\n",
       "    .dataframe thead th {\n",
       "        text-align: right;\n",
       "    }\n",
       "</style>\n",
       "<table border=\"1\" class=\"dataframe\">\n",
       "  <thead>\n",
       "    <tr style=\"text-align: right;\">\n",
       "      <th></th>\n",
       "      <th>emotion_label</th>\n",
       "    </tr>\n",
       "  </thead>\n",
       "  <tbody>\n",
       "    <tr>\n",
       "      <th>joy</th>\n",
       "      <td>1170</td>\n",
       "    </tr>\n",
       "    <tr>\n",
       "      <th>anger</th>\n",
       "      <td>430</td>\n",
       "    </tr>\n",
       "    <tr>\n",
       "      <th>fear</th>\n",
       "      <td>248</td>\n",
       "    </tr>\n",
       "    <tr>\n",
       "      <th>sadness</th>\n",
       "      <td>120</td>\n",
       "    </tr>\n",
       "    <tr>\n",
       "      <th>love</th>\n",
       "      <td>18</td>\n",
       "    </tr>\n",
       "    <tr>\n",
       "      <th>surprise</th>\n",
       "      <td>14</td>\n",
       "    </tr>\n",
       "  </tbody>\n",
       "</table>\n",
       "</div>"
      ],
      "text/plain": [
       "          emotion_label\n",
       "joy                1170\n",
       "anger               430\n",
       "fear                248\n",
       "sadness             120\n",
       "love                 18\n",
       "surprise             14"
      ]
     },
     "execution_count": 111,
     "metadata": {},
     "output_type": "execute_result"
    }
   ],
   "source": [
    "xbox_emotions = pd.DataFrame(xbox_sample_emo['emotion_label'].value_counts())\n",
    "xbox_emotions"
   ]
  },
  {
   "cell_type": "markdown",
   "id": "86375701-2f64-4256-8191-9cb3cff09c31",
   "metadata": {},
   "source": [
    "### Game Pass"
   ]
  },
  {
   "cell_type": "code",
   "execution_count": 112,
   "id": "a6f129ae-a7d2-49f6-abb3-1df4b3aa8304",
   "metadata": {},
   "outputs": [],
   "source": [
    "pass_emo = emotions(xbox_pass)"
   ]
  },
  {
   "cell_type": "code",
   "execution_count": 113,
   "id": "8b7842cb-1fa0-4ef5-ad99-e959758ba17f",
   "metadata": {},
   "outputs": [
    {
     "data": {
      "text/html": [
       "<div>\n",
       "<style scoped>\n",
       "    .dataframe tbody tr th:only-of-type {\n",
       "        vertical-align: middle;\n",
       "    }\n",
       "\n",
       "    .dataframe tbody tr th {\n",
       "        vertical-align: top;\n",
       "    }\n",
       "\n",
       "    .dataframe thead th {\n",
       "        text-align: right;\n",
       "    }\n",
       "</style>\n",
       "<table border=\"1\" class=\"dataframe\">\n",
       "  <thead>\n",
       "    <tr style=\"text-align: right;\">\n",
       "      <th></th>\n",
       "      <th>subreddit</th>\n",
       "      <th>title</th>\n",
       "      <th>created_utc</th>\n",
       "      <th>tokenized</th>\n",
       "      <th>sentiment</th>\n",
       "      <th>sentiments</th>\n",
       "      <th>emotion</th>\n",
       "      <th>emotion_label</th>\n",
       "    </tr>\n",
       "  </thead>\n",
       "  <tbody>\n",
       "    <tr>\n",
       "      <th>14994</th>\n",
       "      <td>0</td>\n",
       "      <td>i discovered titanfall 2 on game pass ultimate...</td>\n",
       "      <td>1656024370</td>\n",
       "      <td>[i, discovered, titanfall, 2, on, game, pass, ...</td>\n",
       "      <td>[{'label': 'LABEL_2', 'score': 0.9884983897209...</td>\n",
       "      <td>positive</td>\n",
       "      <td>(joy, 0.9981826543807983)</td>\n",
       "      <td>joy</td>\n",
       "    </tr>\n",
       "    <tr>\n",
       "      <th>15021</th>\n",
       "      <td>0</td>\n",
       "      <td>3 years of live converted to game pass ultimat...</td>\n",
       "      <td>1656003699</td>\n",
       "      <td>[3, years, of, live, converted, to, game, pass...</td>\n",
       "      <td>[{'label': 'LABEL_1', 'score': 0.7336742877960...</td>\n",
       "      <td>neutral</td>\n",
       "      <td>(joy, 0.9966781139373779)</td>\n",
       "      <td>joy</td>\n",
       "    </tr>\n",
       "    <tr>\n",
       "      <th>15035</th>\n",
       "      <td>0</td>\n",
       "      <td>what s your opinion on playstations answer to ...</td>\n",
       "      <td>1655997530</td>\n",
       "      <td>[what, s, your, opinion, on, playstations, ans...</td>\n",
       "      <td>[{'label': 'LABEL_1', 'score': 0.8745307922363...</td>\n",
       "      <td>neutral</td>\n",
       "      <td>(anger, 0.753464937210083)</td>\n",
       "      <td>anger</td>\n",
       "    </tr>\n",
       "    <tr>\n",
       "      <th>15058</th>\n",
       "      <td>0</td>\n",
       "      <td>two week xbox game pass ultimate code for anyo...</td>\n",
       "      <td>1655981744</td>\n",
       "      <td>[two, week, xbox, game, pass, ultimate, code, ...</td>\n",
       "      <td>[{'label': 'LABEL_2', 'score': 0.9027695655822...</td>\n",
       "      <td>positive</td>\n",
       "      <td>(joy, 0.9942702054977417)</td>\n",
       "      <td>joy</td>\n",
       "    </tr>\n",
       "    <tr>\n",
       "      <th>15071</th>\n",
       "      <td>0</td>\n",
       "      <td>naraka bladepoint standard edition available n...</td>\n",
       "      <td>1655968279</td>\n",
       "      <td>[naraka, bladepoint, standard, edition, availa...</td>\n",
       "      <td>[{'label': 'LABEL_1', 'score': 0.9105131030082...</td>\n",
       "      <td>neutral</td>\n",
       "      <td>(joy, 0.8501628041267395)</td>\n",
       "      <td>joy</td>\n",
       "    </tr>\n",
       "  </tbody>\n",
       "</table>\n",
       "</div>"
      ],
      "text/plain": [
       "       subreddit                                              title  \\\n",
       "14994          0  i discovered titanfall 2 on game pass ultimate...   \n",
       "15021          0  3 years of live converted to game pass ultimat...   \n",
       "15035          0  what s your opinion on playstations answer to ...   \n",
       "15058          0  two week xbox game pass ultimate code for anyo...   \n",
       "15071          0  naraka bladepoint standard edition available n...   \n",
       "\n",
       "       created_utc                                          tokenized  \\\n",
       "14994   1656024370  [i, discovered, titanfall, 2, on, game, pass, ...   \n",
       "15021   1656003699  [3, years, of, live, converted, to, game, pass...   \n",
       "15035   1655997530  [what, s, your, opinion, on, playstations, ans...   \n",
       "15058   1655981744  [two, week, xbox, game, pass, ultimate, code, ...   \n",
       "15071   1655968279  [naraka, bladepoint, standard, edition, availa...   \n",
       "\n",
       "                                               sentiment sentiments  \\\n",
       "14994  [{'label': 'LABEL_2', 'score': 0.9884983897209...   positive   \n",
       "15021  [{'label': 'LABEL_1', 'score': 0.7336742877960...    neutral   \n",
       "15035  [{'label': 'LABEL_1', 'score': 0.8745307922363...    neutral   \n",
       "15058  [{'label': 'LABEL_2', 'score': 0.9027695655822...   positive   \n",
       "15071  [{'label': 'LABEL_1', 'score': 0.9105131030082...    neutral   \n",
       "\n",
       "                          emotion emotion_label  \n",
       "14994   (joy, 0.9981826543807983)           joy  \n",
       "15021   (joy, 0.9966781139373779)           joy  \n",
       "15035  (anger, 0.753464937210083)         anger  \n",
       "15058   (joy, 0.9942702054977417)           joy  \n",
       "15071   (joy, 0.8501628041267395)           joy  "
      ]
     },
     "execution_count": 113,
     "metadata": {},
     "output_type": "execute_result"
    }
   ],
   "source": [
    "pass_emo.head()"
   ]
  },
  {
   "cell_type": "code",
   "execution_count": 114,
   "id": "e221bbba-d230-4df6-b988-7d2bb3f4dd17",
   "metadata": {},
   "outputs": [
    {
     "data": {
      "text/plain": [
       "joy         404\n",
       "anger       125\n",
       "fear         37\n",
       "sadness      20\n",
       "love          1\n",
       "surprise      1\n",
       "Name: emotion_label, dtype: int64"
      ]
     },
     "execution_count": 114,
     "metadata": {},
     "output_type": "execute_result"
    }
   ],
   "source": [
    "pass_emo['emotion_label'].value_counts()"
   ]
  },
  {
   "cell_type": "code",
   "execution_count": 115,
   "id": "d0369a47-d576-4a0b-b7af-328a2a54217e",
   "metadata": {},
   "outputs": [
    {
     "data": {
      "text/html": [
       "<div>\n",
       "<style scoped>\n",
       "    .dataframe tbody tr th:only-of-type {\n",
       "        vertical-align: middle;\n",
       "    }\n",
       "\n",
       "    .dataframe tbody tr th {\n",
       "        vertical-align: top;\n",
       "    }\n",
       "\n",
       "    .dataframe thead th {\n",
       "        text-align: right;\n",
       "    }\n",
       "</style>\n",
       "<table border=\"1\" class=\"dataframe\">\n",
       "  <thead>\n",
       "    <tr style=\"text-align: right;\">\n",
       "      <th></th>\n",
       "      <th>emotion_label</th>\n",
       "    </tr>\n",
       "  </thead>\n",
       "  <tbody>\n",
       "    <tr>\n",
       "      <th>joy</th>\n",
       "      <td>404</td>\n",
       "    </tr>\n",
       "    <tr>\n",
       "      <th>anger</th>\n",
       "      <td>125</td>\n",
       "    </tr>\n",
       "    <tr>\n",
       "      <th>fear</th>\n",
       "      <td>37</td>\n",
       "    </tr>\n",
       "    <tr>\n",
       "      <th>sadness</th>\n",
       "      <td>20</td>\n",
       "    </tr>\n",
       "    <tr>\n",
       "      <th>love</th>\n",
       "      <td>1</td>\n",
       "    </tr>\n",
       "    <tr>\n",
       "      <th>surprise</th>\n",
       "      <td>1</td>\n",
       "    </tr>\n",
       "  </tbody>\n",
       "</table>\n",
       "</div>"
      ],
      "text/plain": [
       "          emotion_label\n",
       "joy                 404\n",
       "anger               125\n",
       "fear                 37\n",
       "sadness              20\n",
       "love                  1\n",
       "surprise              1"
      ]
     },
     "execution_count": 115,
     "metadata": {},
     "output_type": "execute_result"
    }
   ],
   "source": [
    "pass_emotions = pd.DataFrame(pass_emo['emotion_label'].value_counts())\n",
    "pass_emotions"
   ]
  },
  {
   "cell_type": "markdown",
   "id": "b43c21cd-da9c-418d-9913-deadaeb975d8",
   "metadata": {},
   "source": [
    "### Elden Ring"
   ]
  },
  {
   "cell_type": "code",
   "execution_count": 116,
   "id": "5a73021a-d41c-4e5b-bfd4-6578cbbc7481",
   "metadata": {},
   "outputs": [],
   "source": [
    "xelden_emo = emotions(xbox_elden)"
   ]
  },
  {
   "cell_type": "code",
   "execution_count": 117,
   "id": "86c0aff4-472f-4ac5-ba1a-86f7cfc7662b",
   "metadata": {},
   "outputs": [
    {
     "data": {
      "text/html": [
       "<div>\n",
       "<style scoped>\n",
       "    .dataframe tbody tr th:only-of-type {\n",
       "        vertical-align: middle;\n",
       "    }\n",
       "\n",
       "    .dataframe tbody tr th {\n",
       "        vertical-align: top;\n",
       "    }\n",
       "\n",
       "    .dataframe thead th {\n",
       "        text-align: right;\n",
       "    }\n",
       "</style>\n",
       "<table border=\"1\" class=\"dataframe\">\n",
       "  <thead>\n",
       "    <tr style=\"text-align: right;\">\n",
       "      <th></th>\n",
       "      <th>subreddit</th>\n",
       "      <th>title</th>\n",
       "      <th>created_utc</th>\n",
       "      <th>tokenized</th>\n",
       "      <th>sentiment</th>\n",
       "      <th>sentiments</th>\n",
       "      <th>emotion</th>\n",
       "      <th>emotion_label</th>\n",
       "    </tr>\n",
       "  </thead>\n",
       "  <tbody>\n",
       "    <tr>\n",
       "      <th>15703</th>\n",
       "      <td>0</td>\n",
       "      <td>xbox series x makes beeping noise on bright sc...</td>\n",
       "      <td>1655463637</td>\n",
       "      <td>[xbox, series, x, makes, beeping, noise, on, b...</td>\n",
       "      <td>[{'label': 'LABEL_1', 'score': 0.7984631657600...</td>\n",
       "      <td>neutral</td>\n",
       "      <td>(joy, 0.830384373664856)</td>\n",
       "      <td>joy</td>\n",
       "    </tr>\n",
       "    <tr>\n",
       "      <th>15742</th>\n",
       "      <td>0</td>\n",
       "      <td>so elden ring has a buggy spot in concreted sn...</td>\n",
       "      <td>1655422163</td>\n",
       "      <td>[so, elden, ring, has, a, buggy, spot, in, con...</td>\n",
       "      <td>[{'label': 'LABEL_1', 'score': 0.7375404238700...</td>\n",
       "      <td>neutral</td>\n",
       "      <td>(anger, 0.5069261789321899)</td>\n",
       "      <td>anger</td>\n",
       "    </tr>\n",
       "    <tr>\n",
       "      <th>16025</th>\n",
       "      <td>0</td>\n",
       "      <td>elden ring</td>\n",
       "      <td>1655205592</td>\n",
       "      <td>[elden, ring]</td>\n",
       "      <td>[{'label': 'LABEL_1', 'score': 0.7073009610176...</td>\n",
       "      <td>neutral</td>\n",
       "      <td>(anger, 0.4815869629383087)</td>\n",
       "      <td>anger</td>\n",
       "    </tr>\n",
       "    <tr>\n",
       "      <th>16099</th>\n",
       "      <td>0</td>\n",
       "      <td>elden ring patch 1 05 vastly improves xbox ser...</td>\n",
       "      <td>1655140253</td>\n",
       "      <td>[elden, ring, patch, 1, 05, vastly, improves, ...</td>\n",
       "      <td>[{'label': 'LABEL_2', 'score': 0.7226438522338...</td>\n",
       "      <td>positive</td>\n",
       "      <td>(joy, 0.982394278049469)</td>\n",
       "      <td>joy</td>\n",
       "    </tr>\n",
       "    <tr>\n",
       "      <th>16142</th>\n",
       "      <td>0</td>\n",
       "      <td>elden ring patch notes 1 05</td>\n",
       "      <td>1655123202</td>\n",
       "      <td>[elden, ring, patch, notes, 1, 05]</td>\n",
       "      <td>[{'label': 'LABEL_1', 'score': 0.8514583110809...</td>\n",
       "      <td>neutral</td>\n",
       "      <td>(joy, 0.38531309366226196)</td>\n",
       "      <td>joy</td>\n",
       "    </tr>\n",
       "  </tbody>\n",
       "</table>\n",
       "</div>"
      ],
      "text/plain": [
       "       subreddit                                              title  \\\n",
       "15703          0  xbox series x makes beeping noise on bright sc...   \n",
       "15742          0  so elden ring has a buggy spot in concreted sn...   \n",
       "16025          0                                         elden ring   \n",
       "16099          0  elden ring patch 1 05 vastly improves xbox ser...   \n",
       "16142          0                        elden ring patch notes 1 05   \n",
       "\n",
       "       created_utc                                          tokenized  \\\n",
       "15703   1655463637  [xbox, series, x, makes, beeping, noise, on, b...   \n",
       "15742   1655422163  [so, elden, ring, has, a, buggy, spot, in, con...   \n",
       "16025   1655205592                                      [elden, ring]   \n",
       "16099   1655140253  [elden, ring, patch, 1, 05, vastly, improves, ...   \n",
       "16142   1655123202                 [elden, ring, patch, notes, 1, 05]   \n",
       "\n",
       "                                               sentiment sentiments  \\\n",
       "15703  [{'label': 'LABEL_1', 'score': 0.7984631657600...    neutral   \n",
       "15742  [{'label': 'LABEL_1', 'score': 0.7375404238700...    neutral   \n",
       "16025  [{'label': 'LABEL_1', 'score': 0.7073009610176...    neutral   \n",
       "16099  [{'label': 'LABEL_2', 'score': 0.7226438522338...   positive   \n",
       "16142  [{'label': 'LABEL_1', 'score': 0.8514583110809...    neutral   \n",
       "\n",
       "                           emotion emotion_label  \n",
       "15703     (joy, 0.830384373664856)           joy  \n",
       "15742  (anger, 0.5069261789321899)         anger  \n",
       "16025  (anger, 0.4815869629383087)         anger  \n",
       "16099     (joy, 0.982394278049469)           joy  \n",
       "16142   (joy, 0.38531309366226196)           joy  "
      ]
     },
     "execution_count": 117,
     "metadata": {},
     "output_type": "execute_result"
    }
   ],
   "source": [
    "xelden_emo.head()"
   ]
  },
  {
   "cell_type": "code",
   "execution_count": 118,
   "id": "181dd45b-413a-45a5-957f-65d659f952d7",
   "metadata": {},
   "outputs": [
    {
     "data": {
      "text/plain": [
       "joy        157\n",
       "anger       70\n",
       "fear        57\n",
       "sadness     25\n",
       "love         1\n",
       "Name: emotion_label, dtype: int64"
      ]
     },
     "execution_count": 118,
     "metadata": {},
     "output_type": "execute_result"
    }
   ],
   "source": [
    "xelden_emo['emotion_label'].value_counts()"
   ]
  },
  {
   "cell_type": "code",
   "execution_count": 119,
   "id": "1b93e1a7-40d9-4465-b42a-bc46cc176b8d",
   "metadata": {},
   "outputs": [
    {
     "data": {
      "text/html": [
       "<div>\n",
       "<style scoped>\n",
       "    .dataframe tbody tr th:only-of-type {\n",
       "        vertical-align: middle;\n",
       "    }\n",
       "\n",
       "    .dataframe tbody tr th {\n",
       "        vertical-align: top;\n",
       "    }\n",
       "\n",
       "    .dataframe thead th {\n",
       "        text-align: right;\n",
       "    }\n",
       "</style>\n",
       "<table border=\"1\" class=\"dataframe\">\n",
       "  <thead>\n",
       "    <tr style=\"text-align: right;\">\n",
       "      <th></th>\n",
       "      <th>emotion_label</th>\n",
       "    </tr>\n",
       "  </thead>\n",
       "  <tbody>\n",
       "    <tr>\n",
       "      <th>joy</th>\n",
       "      <td>157</td>\n",
       "    </tr>\n",
       "    <tr>\n",
       "      <th>anger</th>\n",
       "      <td>70</td>\n",
       "    </tr>\n",
       "    <tr>\n",
       "      <th>fear</th>\n",
       "      <td>57</td>\n",
       "    </tr>\n",
       "    <tr>\n",
       "      <th>sadness</th>\n",
       "      <td>25</td>\n",
       "    </tr>\n",
       "    <tr>\n",
       "      <th>love</th>\n",
       "      <td>1</td>\n",
       "    </tr>\n",
       "  </tbody>\n",
       "</table>\n",
       "</div>"
      ],
      "text/plain": [
       "         emotion_label\n",
       "joy                157\n",
       "anger               70\n",
       "fear                57\n",
       "sadness             25\n",
       "love                 1"
      ]
     },
     "execution_count": 119,
     "metadata": {},
     "output_type": "execute_result"
    }
   ],
   "source": [
    "xelden_emotions = pd.DataFrame(xelden_emo['emotion_label'].value_counts())\n",
    "xelden_emotions"
   ]
  },
  {
   "cell_type": "markdown",
   "id": "d230147b-1466-4b2d-a122-b492b31aab97",
   "metadata": {},
   "source": [
    "### Dying Light"
   ]
  },
  {
   "cell_type": "code",
   "execution_count": 120,
   "id": "b41dd5e9-c4b6-46ed-993a-74efa64fd40a",
   "metadata": {},
   "outputs": [],
   "source": [
    "dl_emo = emotions(xbox_dl)"
   ]
  },
  {
   "cell_type": "code",
   "execution_count": 121,
   "id": "581b68bc-4702-421f-8337-6d720a8a5d4c",
   "metadata": {},
   "outputs": [
    {
     "data": {
      "text/html": [
       "<div>\n",
       "<style scoped>\n",
       "    .dataframe tbody tr th:only-of-type {\n",
       "        vertical-align: middle;\n",
       "    }\n",
       "\n",
       "    .dataframe tbody tr th {\n",
       "        vertical-align: top;\n",
       "    }\n",
       "\n",
       "    .dataframe thead th {\n",
       "        text-align: right;\n",
       "    }\n",
       "</style>\n",
       "<table border=\"1\" class=\"dataframe\">\n",
       "  <thead>\n",
       "    <tr style=\"text-align: right;\">\n",
       "      <th></th>\n",
       "      <th>subreddit</th>\n",
       "      <th>title</th>\n",
       "      <th>created_utc</th>\n",
       "      <th>tokenized</th>\n",
       "      <th>sentiment</th>\n",
       "      <th>sentiments</th>\n",
       "      <th>emotion</th>\n",
       "      <th>emotion_label</th>\n",
       "    </tr>\n",
       "  </thead>\n",
       "  <tbody>\n",
       "    <tr>\n",
       "      <th>15108</th>\n",
       "      <td>0</td>\n",
       "      <td>dying light 2 stay human chapter 1 new enemies...</td>\n",
       "      <td>1655929900</td>\n",
       "      <td>[dying, light, 2, stay, human, chapter, 1, new...</td>\n",
       "      <td>[{'label': 'LABEL_1', 'score': 0.8482400178909...</td>\n",
       "      <td>neutral</td>\n",
       "      <td>(joy, 0.7660518884658813)</td>\n",
       "      <td>joy</td>\n",
       "    </tr>\n",
       "    <tr>\n",
       "      <th>15427</th>\n",
       "      <td>0</td>\n",
       "      <td>dying light 2 weird flickering</td>\n",
       "      <td>1655675944</td>\n",
       "      <td>[dying, light, 2, weird, flickering]</td>\n",
       "      <td>[{'label': 'LABEL_0', 'score': 0.4917528927326...</td>\n",
       "      <td>negative</td>\n",
       "      <td>(fear, 0.8811803460121155)</td>\n",
       "      <td>fear</td>\n",
       "    </tr>\n",
       "    <tr>\n",
       "      <th>15691</th>\n",
       "      <td>0</td>\n",
       "      <td>some questions about how certain games perform...</td>\n",
       "      <td>1655472654</td>\n",
       "      <td>[some, questions, about, how, certain, games, ...</td>\n",
       "      <td>[{'label': 'LABEL_1', 'score': 0.7782357931137...</td>\n",
       "      <td>neutral</td>\n",
       "      <td>(sadness, 0.9926387071609497)</td>\n",
       "      <td>sadness</td>\n",
       "    </tr>\n",
       "    <tr>\n",
       "      <th>16702</th>\n",
       "      <td>0</td>\n",
       "      <td>dying light definitive edition discounted on p...</td>\n",
       "      <td>1654814749</td>\n",
       "      <td>[dying, light, definitive, edition, discounted...</td>\n",
       "      <td>[{'label': 'LABEL_1', 'score': 0.6861517429351...</td>\n",
       "      <td>neutral</td>\n",
       "      <td>(joy, 0.6546586155891418)</td>\n",
       "      <td>joy</td>\n",
       "    </tr>\n",
       "    <tr>\n",
       "      <th>16801</th>\n",
       "      <td>0</td>\n",
       "      <td>techland closes out 7 years of support with dy...</td>\n",
       "      <td>1654738641</td>\n",
       "      <td>[techland, closes, out, 7, years, of, support,...</td>\n",
       "      <td>[{'label': 'LABEL_1', 'score': 0.8010071516036...</td>\n",
       "      <td>neutral</td>\n",
       "      <td>(joy, 0.9000765085220337)</td>\n",
       "      <td>joy</td>\n",
       "    </tr>\n",
       "  </tbody>\n",
       "</table>\n",
       "</div>"
      ],
      "text/plain": [
       "       subreddit                                              title  \\\n",
       "15108          0  dying light 2 stay human chapter 1 new enemies...   \n",
       "15427          0                     dying light 2 weird flickering   \n",
       "15691          0  some questions about how certain games perform...   \n",
       "16702          0  dying light definitive edition discounted on p...   \n",
       "16801          0  techland closes out 7 years of support with dy...   \n",
       "\n",
       "       created_utc                                          tokenized  \\\n",
       "15108   1655929900  [dying, light, 2, stay, human, chapter, 1, new...   \n",
       "15427   1655675944               [dying, light, 2, weird, flickering]   \n",
       "15691   1655472654  [some, questions, about, how, certain, games, ...   \n",
       "16702   1654814749  [dying, light, definitive, edition, discounted...   \n",
       "16801   1654738641  [techland, closes, out, 7, years, of, support,...   \n",
       "\n",
       "                                               sentiment sentiments  \\\n",
       "15108  [{'label': 'LABEL_1', 'score': 0.8482400178909...    neutral   \n",
       "15427  [{'label': 'LABEL_0', 'score': 0.4917528927326...   negative   \n",
       "15691  [{'label': 'LABEL_1', 'score': 0.7782357931137...    neutral   \n",
       "16702  [{'label': 'LABEL_1', 'score': 0.6861517429351...    neutral   \n",
       "16801  [{'label': 'LABEL_1', 'score': 0.8010071516036...    neutral   \n",
       "\n",
       "                             emotion emotion_label  \n",
       "15108      (joy, 0.7660518884658813)           joy  \n",
       "15427     (fear, 0.8811803460121155)          fear  \n",
       "15691  (sadness, 0.9926387071609497)       sadness  \n",
       "16702      (joy, 0.6546586155891418)           joy  \n",
       "16801      (joy, 0.9000765085220337)           joy  "
      ]
     },
     "execution_count": 121,
     "metadata": {},
     "output_type": "execute_result"
    }
   ],
   "source": [
    "dl_emo.head()"
   ]
  },
  {
   "cell_type": "code",
   "execution_count": 122,
   "id": "6e0482f3-b64d-48ed-8ec0-481c0fc661f4",
   "metadata": {},
   "outputs": [
    {
     "data": {
      "text/plain": [
       "sadness     90\n",
       "joy         26\n",
       "fear         9\n",
       "anger        5\n",
       "love         2\n",
       "surprise     1\n",
       "Name: emotion_label, dtype: int64"
      ]
     },
     "execution_count": 122,
     "metadata": {},
     "output_type": "execute_result"
    }
   ],
   "source": [
    "dl_emo['emotion_label'].value_counts()"
   ]
  },
  {
   "cell_type": "code",
   "execution_count": 123,
   "id": "048afb5f-41c5-4663-9abf-653f7f5ae270",
   "metadata": {},
   "outputs": [
    {
     "data": {
      "text/html": [
       "<div>\n",
       "<style scoped>\n",
       "    .dataframe tbody tr th:only-of-type {\n",
       "        vertical-align: middle;\n",
       "    }\n",
       "\n",
       "    .dataframe tbody tr th {\n",
       "        vertical-align: top;\n",
       "    }\n",
       "\n",
       "    .dataframe thead th {\n",
       "        text-align: right;\n",
       "    }\n",
       "</style>\n",
       "<table border=\"1\" class=\"dataframe\">\n",
       "  <thead>\n",
       "    <tr style=\"text-align: right;\">\n",
       "      <th></th>\n",
       "      <th>emotion_label</th>\n",
       "    </tr>\n",
       "  </thead>\n",
       "  <tbody>\n",
       "    <tr>\n",
       "      <th>sadness</th>\n",
       "      <td>90</td>\n",
       "    </tr>\n",
       "    <tr>\n",
       "      <th>joy</th>\n",
       "      <td>26</td>\n",
       "    </tr>\n",
       "    <tr>\n",
       "      <th>fear</th>\n",
       "      <td>9</td>\n",
       "    </tr>\n",
       "    <tr>\n",
       "      <th>anger</th>\n",
       "      <td>5</td>\n",
       "    </tr>\n",
       "    <tr>\n",
       "      <th>love</th>\n",
       "      <td>2</td>\n",
       "    </tr>\n",
       "    <tr>\n",
       "      <th>surprise</th>\n",
       "      <td>1</td>\n",
       "    </tr>\n",
       "  </tbody>\n",
       "</table>\n",
       "</div>"
      ],
      "text/plain": [
       "          emotion_label\n",
       "sadness              90\n",
       "joy                  26\n",
       "fear                  9\n",
       "anger                 5\n",
       "love                  2\n",
       "surprise              1"
      ]
     },
     "execution_count": 123,
     "metadata": {},
     "output_type": "execute_result"
    }
   ],
   "source": [
    "dl_emotions = pd.DataFrame(dl_emo['emotion_label'].value_counts())\n",
    "dl_emotions"
   ]
  },
  {
   "cell_type": "markdown",
   "id": "db34fc1a-419f-423c-99fc-89c736095526",
   "metadata": {},
   "source": [
    "### Halo Infinite"
   ]
  },
  {
   "cell_type": "code",
   "execution_count": 124,
   "id": "ab304185-acc0-43a7-959a-8a1fea0a7b37",
   "metadata": {},
   "outputs": [],
   "source": [
    "halo_emo = emotions(xbox_halo)"
   ]
  },
  {
   "cell_type": "code",
   "execution_count": 125,
   "id": "23c99855-d09f-4148-ae7f-c42760d86a21",
   "metadata": {},
   "outputs": [
    {
     "data": {
      "text/html": [
       "<div>\n",
       "<style scoped>\n",
       "    .dataframe tbody tr th:only-of-type {\n",
       "        vertical-align: middle;\n",
       "    }\n",
       "\n",
       "    .dataframe tbody tr th {\n",
       "        vertical-align: top;\n",
       "    }\n",
       "\n",
       "    .dataframe thead th {\n",
       "        text-align: right;\n",
       "    }\n",
       "</style>\n",
       "<table border=\"1\" class=\"dataframe\">\n",
       "  <thead>\n",
       "    <tr style=\"text-align: right;\">\n",
       "      <th></th>\n",
       "      <th>subreddit</th>\n",
       "      <th>title</th>\n",
       "      <th>created_utc</th>\n",
       "      <th>tokenized</th>\n",
       "      <th>sentiment</th>\n",
       "      <th>sentiments</th>\n",
       "      <th>emotion</th>\n",
       "      <th>emotion_label</th>\n",
       "    </tr>\n",
       "  </thead>\n",
       "  <tbody>\n",
       "    <tr>\n",
       "      <th>15121</th>\n",
       "      <td>0</td>\n",
       "      <td>debating between 1080p 144hz 24 or 2k 144hz 27...</td>\n",
       "      <td>1655924813</td>\n",
       "      <td>[debating, between, 1080p, 144hz, 24, or, 2k, ...</td>\n",
       "      <td>[{'label': 'LABEL_1', 'score': 0.9330316781997...</td>\n",
       "      <td>neutral</td>\n",
       "      <td>(anger, 0.8216986656188965)</td>\n",
       "      <td>anger</td>\n",
       "    </tr>\n",
       "    <tr>\n",
       "      <th>15153</th>\n",
       "      <td>0</td>\n",
       "      <td>halo infinite online coop gameplay footage leaked</td>\n",
       "      <td>1655910571</td>\n",
       "      <td>[halo, infinite, online, coop, gameplay, foota...</td>\n",
       "      <td>[{'label': 'LABEL_1', 'score': 0.7848243117332...</td>\n",
       "      <td>neutral</td>\n",
       "      <td>(fear, 0.8344978094100952)</td>\n",
       "      <td>fear</td>\n",
       "    </tr>\n",
       "    <tr>\n",
       "      <th>15544</th>\n",
       "      <td>0</td>\n",
       "      <td>halo infinite campaign dlc reportedly not arri...</td>\n",
       "      <td>1655587693</td>\n",
       "      <td>[halo, infinite, campaign, dlc, reportedly, no...</td>\n",
       "      <td>[{'label': 'LABEL_1', 'score': 0.8003334403038...</td>\n",
       "      <td>neutral</td>\n",
       "      <td>(joy, 0.7329089641571045)</td>\n",
       "      <td>joy</td>\n",
       "    </tr>\n",
       "    <tr>\n",
       "      <th>15568</th>\n",
       "      <td>0</td>\n",
       "      <td>leaked footage shows halo infinite s forge use...</td>\n",
       "      <td>1655571935</td>\n",
       "      <td>[leaked, footage, shows, halo, infinite, s, fo...</td>\n",
       "      <td>[{'label': 'LABEL_1', 'score': 0.8536508083343...</td>\n",
       "      <td>neutral</td>\n",
       "      <td>(fear, 0.655966579914093)</td>\n",
       "      <td>fear</td>\n",
       "    </tr>\n",
       "    <tr>\n",
       "      <th>16030</th>\n",
       "      <td>0</td>\n",
       "      <td>deal halo infinite bonus steelbook xbox one xb...</td>\n",
       "      <td>1655202505</td>\n",
       "      <td>[deal, halo, infinite, bonus, steelbook, xbox,...</td>\n",
       "      <td>[{'label': 'LABEL_1', 'score': 0.5235940217971...</td>\n",
       "      <td>neutral</td>\n",
       "      <td>(joy, 0.9863827228546143)</td>\n",
       "      <td>joy</td>\n",
       "    </tr>\n",
       "  </tbody>\n",
       "</table>\n",
       "</div>"
      ],
      "text/plain": [
       "       subreddit                                              title  \\\n",
       "15121          0  debating between 1080p 144hz 24 or 2k 144hz 27...   \n",
       "15153          0  halo infinite online coop gameplay footage leaked   \n",
       "15544          0  halo infinite campaign dlc reportedly not arri...   \n",
       "15568          0  leaked footage shows halo infinite s forge use...   \n",
       "16030          0  deal halo infinite bonus steelbook xbox one xb...   \n",
       "\n",
       "       created_utc                                          tokenized  \\\n",
       "15121   1655924813  [debating, between, 1080p, 144hz, 24, or, 2k, ...   \n",
       "15153   1655910571  [halo, infinite, online, coop, gameplay, foota...   \n",
       "15544   1655587693  [halo, infinite, campaign, dlc, reportedly, no...   \n",
       "15568   1655571935  [leaked, footage, shows, halo, infinite, s, fo...   \n",
       "16030   1655202505  [deal, halo, infinite, bonus, steelbook, xbox,...   \n",
       "\n",
       "                                               sentiment sentiments  \\\n",
       "15121  [{'label': 'LABEL_1', 'score': 0.9330316781997...    neutral   \n",
       "15153  [{'label': 'LABEL_1', 'score': 0.7848243117332...    neutral   \n",
       "15544  [{'label': 'LABEL_1', 'score': 0.8003334403038...    neutral   \n",
       "15568  [{'label': 'LABEL_1', 'score': 0.8536508083343...    neutral   \n",
       "16030  [{'label': 'LABEL_1', 'score': 0.5235940217971...    neutral   \n",
       "\n",
       "                           emotion emotion_label  \n",
       "15121  (anger, 0.8216986656188965)         anger  \n",
       "15153   (fear, 0.8344978094100952)          fear  \n",
       "15544    (joy, 0.7329089641571045)           joy  \n",
       "15568    (fear, 0.655966579914093)          fear  \n",
       "16030    (joy, 0.9863827228546143)           joy  "
      ]
     },
     "execution_count": 125,
     "metadata": {},
     "output_type": "execute_result"
    }
   ],
   "source": [
    "halo_emo.head()"
   ]
  },
  {
   "cell_type": "code",
   "execution_count": 126,
   "id": "cd50f925-d48c-4699-a786-70461d18d619",
   "metadata": {},
   "outputs": [
    {
     "data": {
      "text/plain": [
       "joy        86\n",
       "fear       10\n",
       "anger       9\n",
       "sadness     6\n",
       "Name: emotion_label, dtype: int64"
      ]
     },
     "execution_count": 126,
     "metadata": {},
     "output_type": "execute_result"
    }
   ],
   "source": [
    "halo_emo['emotion_label'].value_counts()"
   ]
  },
  {
   "cell_type": "code",
   "execution_count": 127,
   "id": "4415e49e-da6e-4dbf-b90c-b32336418fd2",
   "metadata": {},
   "outputs": [
    {
     "data": {
      "text/html": [
       "<div>\n",
       "<style scoped>\n",
       "    .dataframe tbody tr th:only-of-type {\n",
       "        vertical-align: middle;\n",
       "    }\n",
       "\n",
       "    .dataframe tbody tr th {\n",
       "        vertical-align: top;\n",
       "    }\n",
       "\n",
       "    .dataframe thead th {\n",
       "        text-align: right;\n",
       "    }\n",
       "</style>\n",
       "<table border=\"1\" class=\"dataframe\">\n",
       "  <thead>\n",
       "    <tr style=\"text-align: right;\">\n",
       "      <th></th>\n",
       "      <th>emotion_label</th>\n",
       "    </tr>\n",
       "  </thead>\n",
       "  <tbody>\n",
       "    <tr>\n",
       "      <th>joy</th>\n",
       "      <td>86</td>\n",
       "    </tr>\n",
       "    <tr>\n",
       "      <th>fear</th>\n",
       "      <td>10</td>\n",
       "    </tr>\n",
       "    <tr>\n",
       "      <th>anger</th>\n",
       "      <td>9</td>\n",
       "    </tr>\n",
       "    <tr>\n",
       "      <th>sadness</th>\n",
       "      <td>6</td>\n",
       "    </tr>\n",
       "  </tbody>\n",
       "</table>\n",
       "</div>"
      ],
      "text/plain": [
       "         emotion_label\n",
       "joy                 86\n",
       "fear                10\n",
       "anger                9\n",
       "sadness              6"
      ]
     },
     "execution_count": 127,
     "metadata": {},
     "output_type": "execute_result"
    }
   ],
   "source": [
    "halo_emotions = pd.DataFrame(halo_emo['emotion_label'].value_counts())\n",
    "halo_emotions"
   ]
  },
  {
   "cell_type": "markdown",
   "id": "7a847885-4394-45a8-867c-2ebcba4c5acf",
   "metadata": {},
   "source": [
    "### Series Controller"
   ]
  },
  {
   "cell_type": "code",
   "execution_count": 128,
   "id": "0d8efa8f-e3c2-4067-a1ef-1b9f5476e81c",
   "metadata": {},
   "outputs": [],
   "source": [
    "xcontrol_emo = emotions(xbox_control)"
   ]
  },
  {
   "cell_type": "code",
   "execution_count": 129,
   "id": "3c1ad7a5-873c-4580-bd5f-57f9a1337b79",
   "metadata": {},
   "outputs": [
    {
     "data": {
      "text/html": [
       "<div>\n",
       "<style scoped>\n",
       "    .dataframe tbody tr th:only-of-type {\n",
       "        vertical-align: middle;\n",
       "    }\n",
       "\n",
       "    .dataframe tbody tr th {\n",
       "        vertical-align: top;\n",
       "    }\n",
       "\n",
       "    .dataframe thead th {\n",
       "        text-align: right;\n",
       "    }\n",
       "</style>\n",
       "<table border=\"1\" class=\"dataframe\">\n",
       "  <thead>\n",
       "    <tr style=\"text-align: right;\">\n",
       "      <th></th>\n",
       "      <th>subreddit</th>\n",
       "      <th>title</th>\n",
       "      <th>created_utc</th>\n",
       "      <th>tokenized</th>\n",
       "      <th>sentiment</th>\n",
       "      <th>sentiments</th>\n",
       "      <th>emotion</th>\n",
       "      <th>emotion_label</th>\n",
       "    </tr>\n",
       "  </thead>\n",
       "  <tbody>\n",
       "    <tr>\n",
       "      <th>15005</th>\n",
       "      <td>0</td>\n",
       "      <td>controller recharging batteries</td>\n",
       "      <td>1656013312</td>\n",
       "      <td>[controller, recharging, batteries]</td>\n",
       "      <td>[{'label': 'LABEL_1', 'score': 0.7969197034835...</td>\n",
       "      <td>neutral</td>\n",
       "      <td>(joy, 0.36251580715179443)</td>\n",
       "      <td>joy</td>\n",
       "    </tr>\n",
       "    <tr>\n",
       "      <th>15037</th>\n",
       "      <td>0</td>\n",
       "      <td>controller not turning on</td>\n",
       "      <td>1655997497</td>\n",
       "      <td>[controller, not, turning, on]</td>\n",
       "      <td>[{'label': 'LABEL_0', 'score': 0.5481144785881...</td>\n",
       "      <td>negative</td>\n",
       "      <td>(fear, 0.5163902044296265)</td>\n",
       "      <td>fear</td>\n",
       "    </tr>\n",
       "    <tr>\n",
       "      <th>15067</th>\n",
       "      <td>0</td>\n",
       "      <td>controller issue</td>\n",
       "      <td>1655976059</td>\n",
       "      <td>[controller, issue]</td>\n",
       "      <td>[{'label': 'LABEL_1', 'score': 0.5210590362548...</td>\n",
       "      <td>neutral</td>\n",
       "      <td>(anger, 0.5534871220588684)</td>\n",
       "      <td>anger</td>\n",
       "    </tr>\n",
       "    <tr>\n",
       "      <th>15068</th>\n",
       "      <td>0</td>\n",
       "      <td>xbox controller bluetooth faulty updates or mo...</td>\n",
       "      <td>1655974906</td>\n",
       "      <td>[xbox, controller, bluetooth, faulty, updates,...</td>\n",
       "      <td>[{'label': 'LABEL_1', 'score': 0.7707324028015...</td>\n",
       "      <td>neutral</td>\n",
       "      <td>(sadness, 0.9384329319000244)</td>\n",
       "      <td>sadness</td>\n",
       "    </tr>\n",
       "    <tr>\n",
       "      <th>15088</th>\n",
       "      <td>0</td>\n",
       "      <td>controller input lag</td>\n",
       "      <td>1655948373</td>\n",
       "      <td>[controller, input, lag]</td>\n",
       "      <td>[{'label': 'LABEL_1', 'score': 0.5861338973045...</td>\n",
       "      <td>neutral</td>\n",
       "      <td>(fear, 0.5578361749649048)</td>\n",
       "      <td>fear</td>\n",
       "    </tr>\n",
       "    <tr>\n",
       "      <th>...</th>\n",
       "      <td>...</td>\n",
       "      <td>...</td>\n",
       "      <td>...</td>\n",
       "      <td>...</td>\n",
       "      <td>...</td>\n",
       "      <td>...</td>\n",
       "      <td>...</td>\n",
       "      <td>...</td>\n",
       "    </tr>\n",
       "    <tr>\n",
       "      <th>29830</th>\n",
       "      <td>0</td>\n",
       "      <td>controller d pad is too loud</td>\n",
       "      <td>1643757095</td>\n",
       "      <td>[controller, d, pad, is, too, loud]</td>\n",
       "      <td>[{'label': 'LABEL_0', 'score': 0.8273547887802...</td>\n",
       "      <td>negative</td>\n",
       "      <td>(anger, 0.8253918290138245)</td>\n",
       "      <td>anger</td>\n",
       "    </tr>\n",
       "    <tr>\n",
       "      <th>29832</th>\n",
       "      <td>0</td>\n",
       "      <td>has anyone ever bought a second hand controlle...</td>\n",
       "      <td>1643755181</td>\n",
       "      <td>[has, anyone, ever, bought, a, second, hand, c...</td>\n",
       "      <td>[{'label': 'LABEL_1', 'score': 0.8449172377586...</td>\n",
       "      <td>neutral</td>\n",
       "      <td>(joy, 0.9016249775886536)</td>\n",
       "      <td>joy</td>\n",
       "    </tr>\n",
       "    <tr>\n",
       "      <th>29861</th>\n",
       "      <td>0</td>\n",
       "      <td>controller advice</td>\n",
       "      <td>1643738419</td>\n",
       "      <td>[controller, advice]</td>\n",
       "      <td>[{'label': 'LABEL_1', 'score': 0.6134878993034...</td>\n",
       "      <td>neutral</td>\n",
       "      <td>(joy, 0.5605257153511047)</td>\n",
       "      <td>joy</td>\n",
       "    </tr>\n",
       "    <tr>\n",
       "      <th>29872</th>\n",
       "      <td>0</td>\n",
       "      <td>does the elite controller use the same face bu...</td>\n",
       "      <td>1643735245</td>\n",
       "      <td>[does, the, elite, controller, use, the, same,...</td>\n",
       "      <td>[{'label': 'LABEL_1', 'score': 0.9230147004127...</td>\n",
       "      <td>neutral</td>\n",
       "      <td>(joy, 0.6443930268287659)</td>\n",
       "      <td>joy</td>\n",
       "    </tr>\n",
       "    <tr>\n",
       "      <th>29906</th>\n",
       "      <td>0</td>\n",
       "      <td>series controllers</td>\n",
       "      <td>1643717916</td>\n",
       "      <td>[series, controllers]</td>\n",
       "      <td>[{'label': 'LABEL_1', 'score': 0.7396729588508...</td>\n",
       "      <td>neutral</td>\n",
       "      <td>(fear, 0.3421710729598999)</td>\n",
       "      <td>fear</td>\n",
       "    </tr>\n",
       "  </tbody>\n",
       "</table>\n",
       "<p>738 rows × 8 columns</p>\n",
       "</div>"
      ],
      "text/plain": [
       "       subreddit                                              title  \\\n",
       "15005          0                    controller recharging batteries   \n",
       "15037          0                          controller not turning on   \n",
       "15067          0                                   controller issue   \n",
       "15068          0  xbox controller bluetooth faulty updates or mo...   \n",
       "15088          0                               controller input lag   \n",
       "...          ...                                                ...   \n",
       "29830          0                       controller d pad is too loud   \n",
       "29832          0  has anyone ever bought a second hand controlle...   \n",
       "29861          0                                  controller advice   \n",
       "29872          0  does the elite controller use the same face bu...   \n",
       "29906          0                                 series controllers   \n",
       "\n",
       "       created_utc                                          tokenized  \\\n",
       "15005   1656013312                [controller, recharging, batteries]   \n",
       "15037   1655997497                     [controller, not, turning, on]   \n",
       "15067   1655976059                                [controller, issue]   \n",
       "15068   1655974906  [xbox, controller, bluetooth, faulty, updates,...   \n",
       "15088   1655948373                           [controller, input, lag]   \n",
       "...            ...                                                ...   \n",
       "29830   1643757095                [controller, d, pad, is, too, loud]   \n",
       "29832   1643755181  [has, anyone, ever, bought, a, second, hand, c...   \n",
       "29861   1643738419                               [controller, advice]   \n",
       "29872   1643735245  [does, the, elite, controller, use, the, same,...   \n",
       "29906   1643717916                              [series, controllers]   \n",
       "\n",
       "                                               sentiment sentiments  \\\n",
       "15005  [{'label': 'LABEL_1', 'score': 0.7969197034835...    neutral   \n",
       "15037  [{'label': 'LABEL_0', 'score': 0.5481144785881...   negative   \n",
       "15067  [{'label': 'LABEL_1', 'score': 0.5210590362548...    neutral   \n",
       "15068  [{'label': 'LABEL_1', 'score': 0.7707324028015...    neutral   \n",
       "15088  [{'label': 'LABEL_1', 'score': 0.5861338973045...    neutral   \n",
       "...                                                  ...        ...   \n",
       "29830  [{'label': 'LABEL_0', 'score': 0.8273547887802...   negative   \n",
       "29832  [{'label': 'LABEL_1', 'score': 0.8449172377586...    neutral   \n",
       "29861  [{'label': 'LABEL_1', 'score': 0.6134878993034...    neutral   \n",
       "29872  [{'label': 'LABEL_1', 'score': 0.9230147004127...    neutral   \n",
       "29906  [{'label': 'LABEL_1', 'score': 0.7396729588508...    neutral   \n",
       "\n",
       "                             emotion emotion_label  \n",
       "15005     (joy, 0.36251580715179443)           joy  \n",
       "15037     (fear, 0.5163902044296265)          fear  \n",
       "15067    (anger, 0.5534871220588684)         anger  \n",
       "15068  (sadness, 0.9384329319000244)       sadness  \n",
       "15088     (fear, 0.5578361749649048)          fear  \n",
       "...                              ...           ...  \n",
       "29830    (anger, 0.8253918290138245)         anger  \n",
       "29832      (joy, 0.9016249775886536)           joy  \n",
       "29861      (joy, 0.5605257153511047)           joy  \n",
       "29872      (joy, 0.6443930268287659)           joy  \n",
       "29906     (fear, 0.3421710729598999)          fear  \n",
       "\n",
       "[738 rows x 8 columns]"
      ]
     },
     "execution_count": 129,
     "metadata": {},
     "output_type": "execute_result"
    }
   ],
   "source": [
    "xcontrol_emo"
   ]
  },
  {
   "cell_type": "code",
   "execution_count": 130,
   "id": "da75d145-44a3-41be-b569-c1cc355905cb",
   "metadata": {},
   "outputs": [
    {
     "data": {
      "text/plain": [
       "joy         351\n",
       "fear        162\n",
       "anger       158\n",
       "sadness      61\n",
       "love          4\n",
       "surprise      2\n",
       "Name: emotion_label, dtype: int64"
      ]
     },
     "execution_count": 130,
     "metadata": {},
     "output_type": "execute_result"
    }
   ],
   "source": [
    "xcontrol_emo['emotion_label'].value_counts()"
   ]
  },
  {
   "cell_type": "code",
   "execution_count": 131,
   "id": "dfc2d33b-dcbe-4e32-a4e0-1378832619d5",
   "metadata": {},
   "outputs": [
    {
     "data": {
      "text/html": [
       "<div>\n",
       "<style scoped>\n",
       "    .dataframe tbody tr th:only-of-type {\n",
       "        vertical-align: middle;\n",
       "    }\n",
       "\n",
       "    .dataframe tbody tr th {\n",
       "        vertical-align: top;\n",
       "    }\n",
       "\n",
       "    .dataframe thead th {\n",
       "        text-align: right;\n",
       "    }\n",
       "</style>\n",
       "<table border=\"1\" class=\"dataframe\">\n",
       "  <thead>\n",
       "    <tr style=\"text-align: right;\">\n",
       "      <th></th>\n",
       "      <th>emotion_label</th>\n",
       "    </tr>\n",
       "  </thead>\n",
       "  <tbody>\n",
       "    <tr>\n",
       "      <th>joy</th>\n",
       "      <td>351</td>\n",
       "    </tr>\n",
       "    <tr>\n",
       "      <th>fear</th>\n",
       "      <td>162</td>\n",
       "    </tr>\n",
       "    <tr>\n",
       "      <th>anger</th>\n",
       "      <td>158</td>\n",
       "    </tr>\n",
       "    <tr>\n",
       "      <th>sadness</th>\n",
       "      <td>61</td>\n",
       "    </tr>\n",
       "    <tr>\n",
       "      <th>love</th>\n",
       "      <td>4</td>\n",
       "    </tr>\n",
       "    <tr>\n",
       "      <th>surprise</th>\n",
       "      <td>2</td>\n",
       "    </tr>\n",
       "  </tbody>\n",
       "</table>\n",
       "</div>"
      ],
      "text/plain": [
       "          emotion_label\n",
       "joy                 351\n",
       "fear                162\n",
       "anger               158\n",
       "sadness              61\n",
       "love                  4\n",
       "surprise              2"
      ]
     },
     "execution_count": 131,
     "metadata": {},
     "output_type": "execute_result"
    }
   ],
   "source": [
    "xcontrol_emotions = pd.DataFrame(xcontrol_emo['emotion_label'].value_counts())\n",
    "xcontrol_emotions"
   ]
  },
  {
   "cell_type": "markdown",
   "id": "f504e1b5-e343-4512-8cca-315470301f86",
   "metadata": {},
   "source": [
    "### Summary"
   ]
  },
  {
   "cell_type": "code",
   "execution_count": 132,
   "id": "8087063a-6e65-4131-8c9c-1d3696c4b7a0",
   "metadata": {},
   "outputs": [],
   "source": [
    "xbox_emotions = pd.concat([xbox_emotions, pass_emotions, xelden_emotions, dl_emotions, halo_emotions, xcontrol_emotions], axis=1, ignore_index=True)\n",
    "xbox_emotions.columns = xbox_cols"
   ]
  },
  {
   "cell_type": "code",
   "execution_count": 133,
   "id": "7ea8dd18-28cd-433f-9819-390aa1ed22b5",
   "metadata": {},
   "outputs": [],
   "source": [
    "xbox_emotions = xbox_emotions.fillna(0)"
   ]
  },
  {
   "cell_type": "code",
   "execution_count": 134,
   "id": "b58d0c7d-c95a-4733-b059-0a1bffffc216",
   "metadata": {},
   "outputs": [
    {
     "data": {
      "text/html": [
       "<div>\n",
       "<style scoped>\n",
       "    .dataframe tbody tr th:only-of-type {\n",
       "        vertical-align: middle;\n",
       "    }\n",
       "\n",
       "    .dataframe tbody tr th {\n",
       "        vertical-align: top;\n",
       "    }\n",
       "\n",
       "    .dataframe thead th {\n",
       "        text-align: right;\n",
       "    }\n",
       "</style>\n",
       "<table border=\"1\" class=\"dataframe\">\n",
       "  <thead>\n",
       "    <tr style=\"text-align: right;\">\n",
       "      <th></th>\n",
       "      <th>Overall</th>\n",
       "      <th>GamePass</th>\n",
       "      <th>EldenRing</th>\n",
       "      <th>DyingLight</th>\n",
       "      <th>HaloInfinite</th>\n",
       "      <th>XboxController</th>\n",
       "    </tr>\n",
       "  </thead>\n",
       "  <tbody>\n",
       "    <tr>\n",
       "      <th>joy</th>\n",
       "      <td>1170</td>\n",
       "      <td>404</td>\n",
       "      <td>157.0</td>\n",
       "      <td>26</td>\n",
       "      <td>86.0</td>\n",
       "      <td>351</td>\n",
       "    </tr>\n",
       "    <tr>\n",
       "      <th>anger</th>\n",
       "      <td>430</td>\n",
       "      <td>125</td>\n",
       "      <td>70.0</td>\n",
       "      <td>5</td>\n",
       "      <td>9.0</td>\n",
       "      <td>158</td>\n",
       "    </tr>\n",
       "    <tr>\n",
       "      <th>fear</th>\n",
       "      <td>248</td>\n",
       "      <td>37</td>\n",
       "      <td>57.0</td>\n",
       "      <td>9</td>\n",
       "      <td>10.0</td>\n",
       "      <td>162</td>\n",
       "    </tr>\n",
       "    <tr>\n",
       "      <th>sadness</th>\n",
       "      <td>120</td>\n",
       "      <td>20</td>\n",
       "      <td>25.0</td>\n",
       "      <td>90</td>\n",
       "      <td>6.0</td>\n",
       "      <td>61</td>\n",
       "    </tr>\n",
       "    <tr>\n",
       "      <th>love</th>\n",
       "      <td>18</td>\n",
       "      <td>1</td>\n",
       "      <td>1.0</td>\n",
       "      <td>2</td>\n",
       "      <td>0.0</td>\n",
       "      <td>4</td>\n",
       "    </tr>\n",
       "    <tr>\n",
       "      <th>surprise</th>\n",
       "      <td>14</td>\n",
       "      <td>1</td>\n",
       "      <td>0.0</td>\n",
       "      <td>1</td>\n",
       "      <td>0.0</td>\n",
       "      <td>2</td>\n",
       "    </tr>\n",
       "  </tbody>\n",
       "</table>\n",
       "</div>"
      ],
      "text/plain": [
       "          Overall  GamePass  EldenRing  DyingLight  HaloInfinite  \\\n",
       "joy          1170       404      157.0          26          86.0   \n",
       "anger         430       125       70.0           5           9.0   \n",
       "fear          248        37       57.0           9          10.0   \n",
       "sadness       120        20       25.0          90           6.0   \n",
       "love           18         1        1.0           2           0.0   \n",
       "surprise       14         1        0.0           1           0.0   \n",
       "\n",
       "          XboxController  \n",
       "joy                  351  \n",
       "anger                158  \n",
       "fear                 162  \n",
       "sadness               61  \n",
       "love                   4  \n",
       "surprise               2  "
      ]
     },
     "execution_count": 134,
     "metadata": {},
     "output_type": "execute_result"
    }
   ],
   "source": [
    "xbox_emotions"
   ]
  },
  {
   "cell_type": "code",
   "execution_count": 135,
   "id": "572b83d9-9a0b-4a26-ae01-541265d8043a",
   "metadata": {},
   "outputs": [
    {
     "data": {
      "text/html": [
       "<div>\n",
       "<style scoped>\n",
       "    .dataframe tbody tr th:only-of-type {\n",
       "        vertical-align: middle;\n",
       "    }\n",
       "\n",
       "    .dataframe tbody tr th {\n",
       "        vertical-align: top;\n",
       "    }\n",
       "\n",
       "    .dataframe thead th {\n",
       "        text-align: right;\n",
       "    }\n",
       "</style>\n",
       "<table border=\"1\" class=\"dataframe\">\n",
       "  <thead>\n",
       "    <tr style=\"text-align: right;\">\n",
       "      <th></th>\n",
       "      <th>Overall</th>\n",
       "      <th>GamePass</th>\n",
       "      <th>EldenRing</th>\n",
       "      <th>DyingLight</th>\n",
       "      <th>HaloInfinite</th>\n",
       "      <th>XboxController</th>\n",
       "    </tr>\n",
       "  </thead>\n",
       "  <tbody>\n",
       "    <tr>\n",
       "      <th>joy</th>\n",
       "      <td>0.58</td>\n",
       "      <td>0.69</td>\n",
       "      <td>0.51</td>\n",
       "      <td>0.20</td>\n",
       "      <td>0.77</td>\n",
       "      <td>0.48</td>\n",
       "    </tr>\n",
       "    <tr>\n",
       "      <th>anger</th>\n",
       "      <td>0.22</td>\n",
       "      <td>0.21</td>\n",
       "      <td>0.23</td>\n",
       "      <td>0.04</td>\n",
       "      <td>0.08</td>\n",
       "      <td>0.21</td>\n",
       "    </tr>\n",
       "    <tr>\n",
       "      <th>fear</th>\n",
       "      <td>0.12</td>\n",
       "      <td>0.06</td>\n",
       "      <td>0.18</td>\n",
       "      <td>0.07</td>\n",
       "      <td>0.09</td>\n",
       "      <td>0.22</td>\n",
       "    </tr>\n",
       "    <tr>\n",
       "      <th>sadness</th>\n",
       "      <td>0.06</td>\n",
       "      <td>0.03</td>\n",
       "      <td>0.08</td>\n",
       "      <td>0.68</td>\n",
       "      <td>0.05</td>\n",
       "      <td>0.08</td>\n",
       "    </tr>\n",
       "    <tr>\n",
       "      <th>love</th>\n",
       "      <td>0.01</td>\n",
       "      <td>0.00</td>\n",
       "      <td>0.00</td>\n",
       "      <td>0.02</td>\n",
       "      <td>0.00</td>\n",
       "      <td>0.01</td>\n",
       "    </tr>\n",
       "    <tr>\n",
       "      <th>surprise</th>\n",
       "      <td>0.01</td>\n",
       "      <td>0.00</td>\n",
       "      <td>0.00</td>\n",
       "      <td>0.01</td>\n",
       "      <td>0.00</td>\n",
       "      <td>0.00</td>\n",
       "    </tr>\n",
       "  </tbody>\n",
       "</table>\n",
       "</div>"
      ],
      "text/plain": [
       "          Overall  GamePass  EldenRing  DyingLight  HaloInfinite  \\\n",
       "joy          0.58      0.69       0.51        0.20          0.77   \n",
       "anger        0.22      0.21       0.23        0.04          0.08   \n",
       "fear         0.12      0.06       0.18        0.07          0.09   \n",
       "sadness      0.06      0.03       0.08        0.68          0.05   \n",
       "love         0.01      0.00       0.00        0.02          0.00   \n",
       "surprise     0.01      0.00       0.00        0.01          0.00   \n",
       "\n",
       "          XboxController  \n",
       "joy                 0.48  \n",
       "anger               0.21  \n",
       "fear                0.22  \n",
       "sadness             0.08  \n",
       "love                0.01  \n",
       "surprise            0.00  "
      ]
     },
     "execution_count": 135,
     "metadata": {},
     "output_type": "execute_result"
    }
   ],
   "source": [
    "xbox_emotions_perc = round(xbox_emotions / xbox_emotions.sum(), 2)\n",
    "xbox_emotions_perc"
   ]
  },
  {
   "cell_type": "markdown",
   "id": "df1a8fa3-8775-4df9-88bf-f8c07ae38812",
   "metadata": {},
   "source": [
    "Points to note:\n",
    "\n",
    "- Most post are characterized as joy post\n",
    "- Dying Light post are regarded as sad - could be due to its name"
   ]
  },
  {
   "cell_type": "markdown",
   "id": "c584d480-8501-4a6b-abdc-9ccb865c8b8e",
   "metadata": {},
   "source": [
    "## Sentiments and Emotions Analysis"
   ]
  },
  {
   "cell_type": "markdown",
   "id": "c89658f8-859c-4bbb-a208-3c5d3fb8eff3",
   "metadata": {},
   "source": [
    "### Sentiments"
   ]
  },
  {
   "cell_type": "code",
   "execution_count": 141,
   "id": "0ac6615e-9d87-4d6b-9b05-13daf903f7fa",
   "metadata": {},
   "outputs": [
    {
     "data": {
      "image/png": "[encoded data removed]",
      "text/plain": [
       "<Figure size 432x288 with 2 Axes>"
      ]
     },
     "metadata": {
      "needs_background": "light"
     },
     "output_type": "display_data"
    }
   ],
   "source": [
    "sns.heatmap(playstation_sentiments_perc, cmap=\"YlGnBu\", annot=True)\n",
    "plt.ylabel('Sentiments')\n",
    "plt.xlabel('Topics')\n",
    "plt.xticks(rotation=45)\n",
    "plt.yticks(rotation=0)\n",
    "plt.title(\"PS5 Sentiments\")\n",
    "plt.show()"
   ]
  },
  {
   "cell_type": "code",
   "execution_count": 142,
   "id": "d824f854-e9d2-47dc-866c-13d2748eb7cf",
   "metadata": {},
   "outputs": [
    {
     "data": {
      "image/png": "[encoded data removed]",
      "text/plain": [
       "<Figure size 432x288 with 2 Axes>"
      ]
     },
     "metadata": {
      "needs_background": "light"
     },
     "output_type": "display_data"
    }
   ],
   "source": [
    "sns.heatmap(xbox_sentiments_perc, cmap=\"YlGnBu\", annot=True)\n",
    "plt.ylabel('Sentiments')\n",
    "plt.xlabel('Topics')\n",
    "plt.xticks(rotation=45)\n",
    "plt.yticks(rotation=0)\n",
    "plt.title(\"Xbox Sentiments\")\n",
    "plt.show()"
   ]
  },
  {
   "cell_type": "markdown",
   "id": "f28a2cb5-7425-40ad-88b8-9564450d7669",
   "metadata": {},
   "source": [
    "Model: twitter-XLM-roBERTa-base for Sentiment Analysis - trained on tweets and finetuned for sentiment analysis\n",
    "\n",
    "PS5:\n",
    "Majority of the post (70%) are classified as neutral. On average, there are more negative post than positive post overall. However, for games, there tend \n",
    "to be more positive posts. The playstation products seem to be receiving more negative sentiments, especially PS5 Controller, which has the highest \n",
    "percentage of negative sentiments. \n",
    "\n",
    "Xbox\n",
    "Similar to PS5, majority of the post are classified as neutral and there are more negative post in general. Also, the controller is receiving more negative\n",
    "sentiments but not as much as the PS5 Controller, which had almost no positive sentiments. For Xbox, Game Pass, their subscription service seems to be \n",
    "generating more positive sentiments as compared to PS Plus. One surprising outcome is the significant negative sentiments towards Dying Light. However, \n",
    "one possible reason for this result is the nature of the word 'Dying' in its name. "
   ]
  },
  {
   "cell_type": "markdown",
   "id": "8f5563ab-c18c-4853-8c0f-24f013c178e9",
   "metadata": {},
   "source": [
    "### Emotions"
   ]
  },
  {
   "cell_type": "code",
   "execution_count": 143,
   "id": "dc91de3c-f0f2-4fa5-bb55-b783a0f3d42a",
   "metadata": {},
   "outputs": [
    {
     "data": {
      "image/png": "[encoded data removed]",
      "text/plain": [
       "<Figure size 432x288 with 2 Axes>"
      ]
     },
     "metadata": {
      "needs_background": "light"
     },
     "output_type": "display_data"
    }
   ],
   "source": [
    "sns.heatmap(playstation_emotions_perc, cmap=\"YlGnBu\", annot=True)\n",
    "plt.ylabel('Emotions')\n",
    "plt.xlabel('Topics')\n",
    "plt.xticks(rotation=45)\n",
    "plt.yticks(rotation=0)\n",
    "plt.title(\"PS5 Emotions\")\n",
    "plt.show()"
   ]
  },
  {
   "cell_type": "code",
   "execution_count": 144,
   "id": "0e0c2d1d-c440-4194-8e18-9cf39bb95613",
   "metadata": {},
   "outputs": [
    {
     "data": {
      "image/png": "[encoded data removed]",
      "text/plain": [
       "<Figure size 432x288 with 2 Axes>"
      ]
     },
     "metadata": {
      "needs_background": "light"
     },
     "output_type": "display_data"
    }
   ],
   "source": [
    "sns.heatmap(xbox_emotions_perc, cmap=\"YlGnBu\", annot=True)\n",
    "plt.ylabel('Emotions')\n",
    "plt.xlabel('Topics')\n",
    "plt.xticks(rotation=45)\n",
    "plt.yticks(rotation=0)\n",
    "plt.title(\"Xbox Emotions\")\n",
    "plt.show()"
   ]
  },
  {
   "cell_type": "markdown",
   "id": "08b7a519-3ce0-436c-b43d-76e513ed232c",
   "metadata": {},
   "source": [
    "Model: Model used: Distilbert-base-uncased-emotion - distilbert model for emotion analysis\n",
    "\n",
    "PS5:\n",
    "Overall, joy seems to be the dominant emotion that is classified. Oddly, most PS Plus post are classified as 'Joy' when the sentiments were more negative.\n",
    "Another surprising outcome is the percentage of post that is classified as 'anger' for Horizon Zero Dawn. The results for Emotions Analysis might not be \n",
    "as meaningful as from a glance, most reddit post seem to be neutral in nature, such as posting facts, news or questions. These posts are likely not to \n",
    "elicit any emotions.\n",
    "\n",
    "Xbox\n",
    "Similar to PS5, joy seems to be the dominant emotion that is classfied for the post in general. The emotions from xbox also seem to contradict some of the\n",
    "sentiments analysis done earlier. One interesting feature is that the naming of the game could be an influcing factor when the model categorises a post. For\n",
    "instance, Dying Light is categorise as 'fear', possibly due to its name. The opposite effect might be true for Halo. "
   ]
  },
  {
   "cell_type": "markdown",
   "id": "0c2da0d1-a431-4286-8ed4-141b74edca52",
   "metadata": {},
   "source": [
    "### Summary"
   ]
  },
  {
   "cell_type": "markdown",
   "id": "f9b1163d-c61e-47ac-8d1a-8cb64dd3ec03",
   "metadata": {},
   "source": [
    "Overall, the results from our sentiment and emotion analysis could be useful for problem statement. In general, the results from sentiments analysis seem\n",
    "to be a better indication than the emotions analysis due to the neutral nature of most posts. Games then to be a topic that generates more positive \n",
    "sentiments for both console. On the other hand, the controller seems to be a topic that is not well-received, possibly due to complaints or issues. \n",
    "Game Pass subscription seems to be well received as compared to PS Plus as well. This are some insights that could be useful for our client's marketing \n",
    "campaign."
   ]
  },
  {
   "cell_type": "markdown",
   "id": "36380a1d-13ed-4306-98bf-b2c8d50e2225",
   "metadata": {},
   "source": [
    "# Conclusion and Recommendation"
   ]
  },
  {
   "cell_type": "markdown",
   "id": "8e824c18-568a-4c8f-ada9-340bbad139b1",
   "metadata": {},
   "source": [
    "## Conclusion\n",
    "\n",
    "From our research, it is indicative that PS5 is the more popular of the two. However, we should not disregard Xbox as it is still a huge community and potential market. For both consoles, the topics of interest seems to be the top games and their subscription services. The top games are generally the post that garner more positive sentiments. Xbox Game Pass also seems to be well-received. Our sentiments and emotions analysis also do indicate that most community post are neutral in nature. In order to create a solution for the tagging of posts for the local gaming forum, we will use a Logistic Regression Model that is trained on reddit post to distinguish an Xbox topic from a PS5 topic."
   ]
  },
  {
   "cell_type": "markdown",
   "id": "4c93aeb9-6b21-4d74-8bf7-0b956c475973",
   "metadata": {},
   "source": [
    "## Limitations"
   ]
  },
  {
   "cell_type": "markdown",
   "id": "34759638-485f-445b-b1de-3a3127fa866f",
   "metadata": {},
   "source": [
    "Both consoles tend to have very similar topics as well as same words that appear prominently in many of their posts as they are both very similar in nature. These words that appear commonly in both topics - such as games, controller and trailers could be factors that limit our predictions. \n",
    "\n",
    "Emotions analysis seem to be ineffective in giving accurate outcomes due to the neutral nature of most post on reddit and might not be effective in predicting titles that relate to questions, news and facts.  "
   ]
  },
  {
   "cell_type": "markdown",
   "id": "4e7d449e-894f-468d-ac6f-ed5d4dee1cb9",
   "metadata": {},
   "source": [
    "## Recommendation\n",
    "\n",
    "Marketing Campaign: \n",
    "\n",
    "- Allocate more resources to PS5 products\n",
    "- Avoid focusing on the controllers for each console\n",
    "- Prioritse Game Pass for Xbox over PS Plus\n",
    "- The top games for each console are generall well received and could be the main focus for marketing\n",
    "\n",
    "Forum/product review categorisation:\n",
    "\n",
    "- A Logistic Regression Model can be implemented to help with the tagging of documents"
   ]
  },
  {
   "cell_type": "code",
   "execution_count": null,
   "id": "6c66c5bb-18d6-40b0-9eaa-974640e4256d",
   "metadata": {},
   "outputs": [],
   "source": []
  }
 ],
 "metadata": {
  "kernelspec": {
   "display_name": "Python 3 (ipykernel)",
   "language": "python",
   "name": "python3"
  },
  "language_info": {
   "codemirror_mode": {
    "name": "ipython",
    "version": 3
   },
   "file_extension": ".py",
   "mimetype": "text/x-python",
   "name": "python",
   "nbconvert_exporter": "python",
   "pygments_lexer": "ipython3",
   "version": "3.9.12"
  }
 },
 "nbformat": 4,
 "nbformat_minor": 5
}
