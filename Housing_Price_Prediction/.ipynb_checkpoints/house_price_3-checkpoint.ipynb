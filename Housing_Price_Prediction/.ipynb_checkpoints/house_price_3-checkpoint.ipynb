{
 "cells": [
  {
   "cell_type": "markdown",
   "id": "1d8ff292-b15d-479d-9551-c82506137868",
   "metadata": {},
   "source": [
    "# Project - House Prices Prediction"
   ]
  },
  {
   "cell_type": "markdown",
   "id": "9a22547f-1962-41b9-ba12-ea999f441092",
   "metadata": {},
   "source": [
    "### Notebook 3 of 3"
   ]
  },
  {
   "cell_type": "markdown",
   "id": "02c053ec-a650-4e71-b261-5945a965bac6",
   "metadata": {},
   "source": [
    "1. Data Importing and Cleaning (This Notebook)\n",
    "2. Exploratory Data Analysis and Feature Engineering\n",
    "3. **Model Training, Evaluation and Implementation**"
   ]
  },
  {
   "cell_type": "code",
   "execution_count": 1,
   "id": "c89b2176-563d-4c9b-8a66-417bc9cebe34",
   "metadata": {},
   "outputs": [],
   "source": [
    "#Import libraries for data cleaning and exploration\n",
    "\n",
    "import numpy as np\n",
    "import pandas as pd\n",
    "import matplotlib.pyplot as plt\n",
    "import seaborn as sns\n",
    "import plotly.express as px\n",
    "import statsmodels.api as sm"
   ]
  },
  {
   "cell_type": "code",
   "execution_count": 2,
   "id": "09cee614-caaa-4632-8b2f-0d2d8422a92f",
   "metadata": {},
   "outputs": [],
   "source": [
    "# Import Datasets\n",
    "\n",
    "house_train_df = pd.read_csv(\"datasets/train.csv\")\n",
    "house_test_df = pd.read_csv(\"datasets/test.csv\")\n",
    "house_train_df_cleaned = pd.read_csv(\"datasets/train_cleaned_2.csv\")\n",
    "house_test_df_cleaned = pd.read_csv(\"datasets/test_cleaned_2.csv\")"
   ]
  },
  {
   "cell_type": "markdown",
   "id": "cd247ee0-d750-4196-a691-c156cddb57b5",
   "metadata": {},
   "source": [
    "## Model Selection"
   ]
  },
  {
   "cell_type": "markdown",
   "id": "4af60a5a-6bdc-4628-af47-eeb4a5a2dd76",
   "metadata": {},
   "source": [
    "We will be using regression models since Sale Price is a continuous variable. The models that we will evaluate are the Linear Regression, Ridge and Lasso models. We will utilise a RMSE and R-squared metric score to identify the best regression model between the three. "
   ]
  },
  {
   "cell_type": "markdown",
   "id": "77ddcc74-2d63-436e-a1e3-ad526e1919c8",
   "metadata": {},
   "source": [
    "# Run OLS Model "
   ]
  },
  {
   "cell_type": "code",
   "execution_count": 3,
   "id": "e0ff6623-5047-4337-b6cf-93bddaaba7b4",
   "metadata": {},
   "outputs": [],
   "source": [
    "# Define response and feature\n",
    "X = house_train_df_cleaned.drop('SalePrice', axis=1)\n",
    "y = house_train_df_cleaned['SalePrice']"
   ]
  },
  {
   "cell_type": "code",
   "execution_count": 4,
   "id": "d85fcc4e-e031-4966-a740-f4b0b3159b18",
   "metadata": {},
   "outputs": [
    {
     "name": "stderr",
     "output_type": "stream",
     "text": [
      "C:\\Users\\Lucas Cher\\anaconda3\\lib\\site-packages\\statsmodels\\tsa\\tsatools.py:142: FutureWarning: In a future version of pandas all arguments of concat except for the argument 'objs' will be keyword-only\n",
      "  x = pd.concat(x[::order], 1)\n"
     ]
    }
   ],
   "source": [
    "X_ols = sm.add_constant(X, prepend=True)\n",
    "results = sm.OLS(y, X_ols).fit()"
   ]
  },
  {
   "cell_type": "code",
   "execution_count": 5,
   "id": "f7222924-c25d-467d-958f-0b2fb8a80375",
   "metadata": {
    "tags": []
   },
   "outputs": [
    {
     "data": {
      "text/html": [
       "<table class=\"simpletable\">\n",
       "<caption>OLS Regression Results</caption>\n",
       "<tr>\n",
       "  <th>Dep. Variable:</th>        <td>SalePrice</td>    <th>  R-squared:         </th> <td>   0.917</td> \n",
       "</tr>\n",
       "<tr>\n",
       "  <th>Model:</th>                   <td>OLS</td>       <th>  Adj. R-squared:    </th> <td>   0.913</td> \n",
       "</tr>\n",
       "<tr>\n",
       "  <th>Method:</th>             <td>Least Squares</td>  <th>  F-statistic:       </th> <td>   215.6</td> \n",
       "</tr>\n",
       "<tr>\n",
       "  <th>Date:</th>             <td>Mon, 13 Jun 2022</td> <th>  Prob (F-statistic):</th>  <td>  0.00</td>  \n",
       "</tr>\n",
       "<tr>\n",
       "  <th>Time:</th>                 <td>11:16:10</td>     <th>  Log-Likelihood:    </th> <td> -23470.</td> \n",
       "</tr>\n",
       "<tr>\n",
       "  <th>No. Observations:</th>      <td>  2049</td>      <th>  AIC:               </th> <td>4.714e+04</td>\n",
       "</tr>\n",
       "<tr>\n",
       "  <th>Df Residuals:</th>          <td>  1948</td>      <th>  BIC:               </th> <td>4.771e+04</td>\n",
       "</tr>\n",
       "<tr>\n",
       "  <th>Df Model:</th>              <td>   100</td>      <th>                     </th>     <td> </td>    \n",
       "</tr>\n",
       "<tr>\n",
       "  <th>Covariance Type:</th>      <td>nonrobust</td>    <th>                     </th>     <td> </td>    \n",
       "</tr>\n",
       "</table>\n",
       "<table class=\"simpletable\">\n",
       "<tr>\n",
       "          <td></td>             <th>coef</th>     <th>std err</th>      <th>t</th>      <th>P>|t|</th>  <th>[0.025</th>    <th>0.975]</th>  \n",
       "</tr>\n",
       "<tr>\n",
       "  <th>const</th>             <td> -6.82e+04</td> <td> 2.38e+04</td> <td>   -2.867</td> <td> 0.004</td> <td>-1.15e+05</td> <td>-2.16e+04</td>\n",
       "</tr>\n",
       "<tr>\n",
       "  <th>Lot Area</th>          <td>    0.6462</td> <td>    0.104</td> <td>    6.230</td> <td> 0.000</td> <td>    0.443</td> <td>    0.850</td>\n",
       "</tr>\n",
       "<tr>\n",
       "  <th>Mas Vnr Area</th>      <td>   39.5275</td> <td>    4.919</td> <td>    8.035</td> <td> 0.000</td> <td>   29.880</td> <td>   49.175</td>\n",
       "</tr>\n",
       "<tr>\n",
       "  <th>Bsmt Exposure</th>     <td> 5082.7446</td> <td>  666.963</td> <td>    7.621</td> <td> 0.000</td> <td> 3774.709</td> <td> 6390.780</td>\n",
       "</tr>\n",
       "<tr>\n",
       "  <th>Heating QC</th>        <td> 1120.7299</td> <td>  724.629</td> <td>    1.547</td> <td> 0.122</td> <td> -300.400</td> <td> 2541.860</td>\n",
       "</tr>\n",
       "<tr>\n",
       "  <th>TotRms AbvGrd</th>     <td>  146.8929</td> <td>  681.708</td> <td>    0.215</td> <td> 0.829</td> <td>-1190.061</td> <td> 1483.847</td>\n",
       "</tr>\n",
       "<tr>\n",
       "  <th>Garage Area</th>       <td>   28.3505</td> <td>    4.324</td> <td>    6.556</td> <td> 0.000</td> <td>   19.869</td> <td>   36.832</td>\n",
       "</tr>\n",
       "<tr>\n",
       "  <th>Misc Val</th>          <td>   -0.3698</td> <td>    1.250</td> <td>   -0.296</td> <td> 0.767</td> <td>   -2.820</td> <td>    2.081</td>\n",
       "</tr>\n",
       "<tr>\n",
       "  <th>overall_score</th>     <td> 1223.2482</td> <td>   80.772</td> <td>   15.145</td> <td> 0.000</td> <td> 1064.840</td> <td> 1381.656</td>\n",
       "</tr>\n",
       "<tr>\n",
       "  <th>exter_score</th>       <td> 1553.2071</td> <td>  500.445</td> <td>    3.104</td> <td> 0.002</td> <td>  571.742</td> <td> 2534.672</td>\n",
       "</tr>\n",
       "<tr>\n",
       "  <th>bsmt_score</th>        <td>  364.9567</td> <td>  306.946</td> <td>    1.189</td> <td> 0.235</td> <td> -237.020</td> <td>  966.934</td>\n",
       "</tr>\n",
       "<tr>\n",
       "  <th>total_sf</th>          <td>    9.8042</td> <td>    2.707</td> <td>    3.622</td> <td> 0.000</td> <td>    4.495</td> <td>   15.113</td>\n",
       "</tr>\n",
       "<tr>\n",
       "  <th>bsmt_fin_score</th>    <td>    5.6391</td> <td>    0.387</td> <td>   14.565</td> <td> 0.000</td> <td>    4.880</td> <td>    6.398</td>\n",
       "</tr>\n",
       "<tr>\n",
       "  <th>gr_liv_area_score</th> <td>   42.8912</td> <td>    4.741</td> <td>    9.047</td> <td> 0.000</td> <td>   33.594</td> <td>   52.189</td>\n",
       "</tr>\n",
       "<tr>\n",
       "  <th>bathroom_score</th>    <td> -692.4472</td> <td> 1163.043</td> <td>   -0.595</td> <td> 0.552</td> <td>-2973.388</td> <td> 1588.493</td>\n",
       "</tr>\n",
       "<tr>\n",
       "  <th>kitchen_score</th>     <td> 6417.3503</td> <td> 1114.813</td> <td>    5.756</td> <td> 0.000</td> <td> 4230.998</td> <td> 8603.702</td>\n",
       "</tr>\n",
       "<tr>\n",
       "  <th>fireplace_score</th>   <td> 1456.7571</td> <td>  305.084</td> <td>    4.775</td> <td> 0.000</td> <td>  858.432</td> <td> 2055.082</td>\n",
       "</tr>\n",
       "<tr>\n",
       "  <th>outdoor_area</th>      <td>   14.5859</td> <td>    3.897</td> <td>    3.743</td> <td> 0.000</td> <td>    6.944</td> <td>   22.228</td>\n",
       "</tr>\n",
       "<tr>\n",
       "  <th>garage_score</th>      <td>  259.1881</td> <td>   99.562</td> <td>    2.603</td> <td> 0.009</td> <td>   63.928</td> <td>  454.448</td>\n",
       "</tr>\n",
       "<tr>\n",
       "  <th>house_age</th>         <td> -513.1754</td> <td>   56.386</td> <td>   -9.101</td> <td> 0.000</td> <td> -623.758</td> <td> -402.593</td>\n",
       "</tr>\n",
       "<tr>\n",
       "  <th>x0_30</th>             <td> 9421.4354</td> <td> 3583.004</td> <td>    2.629</td> <td> 0.009</td> <td> 2394.510</td> <td> 1.64e+04</td>\n",
       "</tr>\n",
       "<tr>\n",
       "  <th>x0_40</th>             <td> 6478.3780</td> <td> 1.23e+04</td> <td>    0.527</td> <td> 0.599</td> <td>-1.76e+04</td> <td> 3.06e+04</td>\n",
       "</tr>\n",
       "<tr>\n",
       "  <th>x0_45</th>             <td>   3.5e+04</td> <td> 1.59e+04</td> <td>    2.198</td> <td> 0.028</td> <td> 3771.401</td> <td> 6.62e+04</td>\n",
       "</tr>\n",
       "<tr>\n",
       "  <th>x0_50</th>             <td> 1.296e+04</td> <td> 7248.596</td> <td>    1.788</td> <td> 0.074</td> <td>-1258.652</td> <td> 2.72e+04</td>\n",
       "</tr>\n",
       "<tr>\n",
       "  <th>x0_60</th>             <td> 4399.2186</td> <td> 5769.187</td> <td>    0.763</td> <td> 0.446</td> <td>-6915.210</td> <td> 1.57e+04</td>\n",
       "</tr>\n",
       "<tr>\n",
       "  <th>x0_70</th>             <td> 1.163e+04</td> <td> 6221.879</td> <td>    1.869</td> <td> 0.062</td> <td> -575.165</td> <td> 2.38e+04</td>\n",
       "</tr>\n",
       "<tr>\n",
       "  <th>x0_75</th>             <td> 2.164e+04</td> <td> 1.22e+04</td> <td>    1.769</td> <td> 0.077</td> <td>-2351.047</td> <td> 4.56e+04</td>\n",
       "</tr>\n",
       "<tr>\n",
       "  <th>x0_80</th>             <td>-5535.5928</td> <td> 1.04e+04</td> <td>   -0.534</td> <td> 0.593</td> <td>-2.59e+04</td> <td> 1.48e+04</td>\n",
       "</tr>\n",
       "<tr>\n",
       "  <th>x0_85</th>             <td> -969.4109</td> <td> 8313.262</td> <td>   -0.117</td> <td> 0.907</td> <td>-1.73e+04</td> <td> 1.53e+04</td>\n",
       "</tr>\n",
       "<tr>\n",
       "  <th>x0_90</th>             <td>-1.273e+04</td> <td> 2202.908</td> <td>   -5.779</td> <td> 0.000</td> <td>-1.71e+04</td> <td>-8411.305</td>\n",
       "</tr>\n",
       "<tr>\n",
       "  <th>x0_120</th>            <td>-4.015e+04</td> <td> 1.22e+04</td> <td>   -3.278</td> <td> 0.001</td> <td>-6.42e+04</td> <td>-1.61e+04</td>\n",
       "</tr>\n",
       "<tr>\n",
       "  <th>x0_150</th>            <td>-3.148e+04</td> <td> 2.91e+04</td> <td>   -1.083</td> <td> 0.279</td> <td>-8.85e+04</td> <td> 2.55e+04</td>\n",
       "</tr>\n",
       "<tr>\n",
       "  <th>x0_160</th>            <td>-3.692e+04</td> <td> 1.37e+04</td> <td>   -2.700</td> <td> 0.007</td> <td>-6.37e+04</td> <td>-1.01e+04</td>\n",
       "</tr>\n",
       "<tr>\n",
       "  <th>x0_180</th>            <td>-2.853e+04</td> <td> 1.63e+04</td> <td>   -1.749</td> <td> 0.081</td> <td>-6.05e+04</td> <td> 3467.054</td>\n",
       "</tr>\n",
       "<tr>\n",
       "  <th>x0_190</th>            <td>-2.394e+04</td> <td> 1.75e+04</td> <td>   -1.368</td> <td> 0.172</td> <td>-5.83e+04</td> <td> 1.04e+04</td>\n",
       "</tr>\n",
       "<tr>\n",
       "  <th>x1_C (all)</th>        <td> 7266.0784</td> <td>  1.8e+04</td> <td>    0.403</td> <td> 0.687</td> <td>-2.81e+04</td> <td> 4.26e+04</td>\n",
       "</tr>\n",
       "<tr>\n",
       "  <th>x1_FV</th>             <td>  2.86e+04</td> <td> 1.79e+04</td> <td>    1.594</td> <td> 0.111</td> <td>-6598.388</td> <td> 6.38e+04</td>\n",
       "</tr>\n",
       "<tr>\n",
       "  <th>x1_I (all)</th>        <td>  3.91e+04</td> <td> 2.91e+04</td> <td>    1.344</td> <td> 0.179</td> <td> -1.8e+04</td> <td> 9.62e+04</td>\n",
       "</tr>\n",
       "<tr>\n",
       "  <th>x1_RH</th>             <td>  2.11e+04</td> <td> 1.86e+04</td> <td>    1.134</td> <td> 0.257</td> <td>-1.54e+04</td> <td> 5.76e+04</td>\n",
       "</tr>\n",
       "<tr>\n",
       "  <th>x1_RL</th>             <td> 1.686e+04</td> <td> 1.72e+04</td> <td>    0.981</td> <td> 0.327</td> <td>-1.68e+04</td> <td> 5.06e+04</td>\n",
       "</tr>\n",
       "<tr>\n",
       "  <th>x1_RM</th>             <td> 1.237e+04</td> <td> 1.72e+04</td> <td>    0.718</td> <td> 0.473</td> <td>-2.14e+04</td> <td> 4.61e+04</td>\n",
       "</tr>\n",
       "<tr>\n",
       "  <th>x2_CulDSac</th>        <td> 5138.6583</td> <td> 2552.516</td> <td>    2.013</td> <td> 0.044</td> <td>  132.709</td> <td> 1.01e+04</td>\n",
       "</tr>\n",
       "<tr>\n",
       "  <th>x2_FR2</th>            <td>-1129.8815</td> <td> 3460.654</td> <td>   -0.326</td> <td> 0.744</td> <td>-7916.855</td> <td> 5657.092</td>\n",
       "</tr>\n",
       "<tr>\n",
       "  <th>x2_FR3</th>            <td>-1.762e+04</td> <td> 8107.434</td> <td>   -2.173</td> <td> 0.030</td> <td>-3.35e+04</td> <td>-1719.322</td>\n",
       "</tr>\n",
       "<tr>\n",
       "  <th>x2_Inside</th>         <td> 2060.3986</td> <td> 1436.677</td> <td>    1.434</td> <td> 0.152</td> <td> -757.187</td> <td> 4877.984</td>\n",
       "</tr>\n",
       "<tr>\n",
       "  <th>x3_Blueste</th>        <td> 3341.0565</td> <td> 1.19e+04</td> <td>    0.280</td> <td> 0.780</td> <td>-2.01e+04</td> <td> 2.68e+04</td>\n",
       "</tr>\n",
       "<tr>\n",
       "  <th>x3_BrDale</th>         <td> 1.291e+04</td> <td> 9607.722</td> <td>    1.344</td> <td> 0.179</td> <td>-5929.545</td> <td> 3.18e+04</td>\n",
       "</tr>\n",
       "<tr>\n",
       "  <th>x3_BrkSide</th>        <td>-1.224e+04</td> <td> 7434.303</td> <td>   -1.647</td> <td> 0.100</td> <td>-2.68e+04</td> <td> 2336.589</td>\n",
       "</tr>\n",
       "<tr>\n",
       "  <th>x3_ClearCr</th>        <td>-2.102e+04</td> <td> 7925.628</td> <td>   -2.652</td> <td> 0.008</td> <td>-3.66e+04</td> <td>-5471.719</td>\n",
       "</tr>\n",
       "<tr>\n",
       "  <th>x3_CollgCr</th>        <td>-2.241e+04</td> <td> 6031.900</td> <td>   -3.715</td> <td> 0.000</td> <td>-3.42e+04</td> <td>-1.06e+04</td>\n",
       "</tr>\n",
       "<tr>\n",
       "  <th>x3_Crawfor</th>        <td> -650.4754</td> <td> 6737.362</td> <td>   -0.097</td> <td> 0.923</td> <td>-1.39e+04</td> <td> 1.26e+04</td>\n",
       "</tr>\n",
       "<tr>\n",
       "  <th>x3_Edwards</th>        <td>-2.101e+04</td> <td> 6497.898</td> <td>   -3.234</td> <td> 0.001</td> <td>-3.38e+04</td> <td>-8271.344</td>\n",
       "</tr>\n",
       "<tr>\n",
       "  <th>x3_Gilbert</th>        <td>-2.026e+04</td> <td> 6286.775</td> <td>   -3.223</td> <td> 0.001</td> <td>-3.26e+04</td> <td>-7934.251</td>\n",
       "</tr>\n",
       "<tr>\n",
       "  <th>x3_Greens</th>         <td>-5287.1878</td> <td> 1.51e+04</td> <td>   -0.351</td> <td> 0.726</td> <td>-3.49e+04</td> <td> 2.43e+04</td>\n",
       "</tr>\n",
       "<tr>\n",
       "  <th>x3_GrnHill</th>        <td> 1.179e+05</td> <td> 1.78e+04</td> <td>    6.630</td> <td> 0.000</td> <td>  8.3e+04</td> <td> 1.53e+05</td>\n",
       "</tr>\n",
       "<tr>\n",
       "  <th>x3_IDOTRR</th>         <td>-1.658e+04</td> <td> 8182.710</td> <td>   -2.026</td> <td> 0.043</td> <td>-3.26e+04</td> <td> -534.148</td>\n",
       "</tr>\n",
       "<tr>\n",
       "  <th>x3_Landmrk</th>        <td> 1650.2541</td> <td> 2.56e+04</td> <td>    0.064</td> <td> 0.949</td> <td>-4.85e+04</td> <td> 5.18e+04</td>\n",
       "</tr>\n",
       "<tr>\n",
       "  <th>x3_MeadowV</th>        <td>-3949.3462</td> <td> 9020.657</td> <td>   -0.438</td> <td> 0.662</td> <td>-2.16e+04</td> <td> 1.37e+04</td>\n",
       "</tr>\n",
       "<tr>\n",
       "  <th>x3_Mitchel</th>        <td>-2.121e+04</td> <td> 6541.927</td> <td>   -3.241</td> <td> 0.001</td> <td> -3.4e+04</td> <td>-8375.506</td>\n",
       "</tr>\n",
       "<tr>\n",
       "  <th>x3_NAmes</th>          <td> -1.86e+04</td> <td> 6302.367</td> <td>   -2.952</td> <td> 0.003</td> <td> -3.1e+04</td> <td>-6242.630</td>\n",
       "</tr>\n",
       "<tr>\n",
       "  <th>x3_NPkVill</th>        <td> 1.233e+04</td> <td> 8658.985</td> <td>    1.424</td> <td> 0.155</td> <td>-4648.773</td> <td> 2.93e+04</td>\n",
       "</tr>\n",
       "<tr>\n",
       "  <th>x3_NWAmes</th>         <td>-2.749e+04</td> <td> 6527.092</td> <td>   -4.212</td> <td> 0.000</td> <td>-4.03e+04</td> <td>-1.47e+04</td>\n",
       "</tr>\n",
       "<tr>\n",
       "  <th>x3_NoRidge</th>        <td>   -7.5063</td> <td> 6912.916</td> <td>   -0.001</td> <td> 0.999</td> <td>-1.36e+04</td> <td> 1.35e+04</td>\n",
       "</tr>\n",
       "<tr>\n",
       "  <th>x3_NridgHt</th>        <td> 2.123e+04</td> <td> 6120.724</td> <td>    3.469</td> <td> 0.001</td> <td> 9225.892</td> <td> 3.32e+04</td>\n",
       "</tr>\n",
       "<tr>\n",
       "  <th>x3_OldTown</th>        <td>-1.975e+04</td> <td> 7518.503</td> <td>   -2.626</td> <td> 0.009</td> <td>-3.45e+04</td> <td>-5000.696</td>\n",
       "</tr>\n",
       "<tr>\n",
       "  <th>x3_SWISU</th>          <td>-1.888e+04</td> <td> 7852.496</td> <td>   -2.404</td> <td> 0.016</td> <td>-3.43e+04</td> <td>-3475.897</td>\n",
       "</tr>\n",
       "<tr>\n",
       "  <th>x3_Sawyer</th>         <td> -1.92e+04</td> <td> 6542.361</td> <td>   -2.935</td> <td> 0.003</td> <td> -3.2e+04</td> <td>-6372.195</td>\n",
       "</tr>\n",
       "<tr>\n",
       "  <th>x3_SawyerW</th>        <td>-2.515e+04</td> <td> 6305.783</td> <td>   -3.989</td> <td> 0.000</td> <td>-3.75e+04</td> <td>-1.28e+04</td>\n",
       "</tr>\n",
       "<tr>\n",
       "  <th>x3_Somerst</th>        <td>-8914.7998</td> <td> 7316.968</td> <td>   -1.218</td> <td> 0.223</td> <td>-2.33e+04</td> <td> 5435.110</td>\n",
       "</tr>\n",
       "<tr>\n",
       "  <th>x3_StoneBr</th>        <td> 4.397e+04</td> <td> 6756.732</td> <td>    6.508</td> <td> 0.000</td> <td> 3.07e+04</td> <td> 5.72e+04</td>\n",
       "</tr>\n",
       "<tr>\n",
       "  <th>x3_Timber</th>         <td>-1.697e+04</td> <td> 6676.050</td> <td>   -2.542</td> <td> 0.011</td> <td>-3.01e+04</td> <td>-3874.282</td>\n",
       "</tr>\n",
       "<tr>\n",
       "  <th>x3_Veenker</th>        <td> -1.57e+04</td> <td> 8147.872</td> <td>   -1.927</td> <td> 0.054</td> <td>-3.17e+04</td> <td>  280.915</td>\n",
       "</tr>\n",
       "<tr>\n",
       "  <th>x4_2fmCon</th>         <td> 1.562e+04</td> <td> 1.75e+04</td> <td>    0.891</td> <td> 0.373</td> <td>-1.88e+04</td> <td>    5e+04</td>\n",
       "</tr>\n",
       "<tr>\n",
       "  <th>x4_Duplex</th>         <td>-1.273e+04</td> <td> 2202.908</td> <td>   -5.779</td> <td> 0.000</td> <td>-1.71e+04</td> <td>-8411.305</td>\n",
       "</tr>\n",
       "<tr>\n",
       "  <th>x4_Twnhs</th>          <td> 3779.6805</td> <td> 1.28e+04</td> <td>    0.296</td> <td> 0.767</td> <td>-2.13e+04</td> <td> 2.88e+04</td>\n",
       "</tr>\n",
       "<tr>\n",
       "  <th>x4_TwnhsE</th>         <td> 1.177e+04</td> <td> 1.22e+04</td> <td>    0.967</td> <td> 0.333</td> <td>-1.21e+04</td> <td> 3.56e+04</td>\n",
       "</tr>\n",
       "<tr>\n",
       "  <th>x5_Gable</th>          <td>-1819.6530</td> <td> 7241.675</td> <td>   -0.251</td> <td> 0.802</td> <td> -1.6e+04</td> <td> 1.24e+04</td>\n",
       "</tr>\n",
       "<tr>\n",
       "  <th>x5_Gambrel</th>        <td>-4152.1323</td> <td> 1.01e+04</td> <td>   -0.410</td> <td> 0.682</td> <td> -2.4e+04</td> <td> 1.57e+04</td>\n",
       "</tr>\n",
       "<tr>\n",
       "  <th>x5_Hip</th>            <td> 5559.7484</td> <td> 7304.089</td> <td>    0.761</td> <td> 0.447</td> <td>-8764.903</td> <td> 1.99e+04</td>\n",
       "</tr>\n",
       "<tr>\n",
       "  <th>x5_Mansard</th>        <td> -2.29e+04</td> <td> 1.16e+04</td> <td>   -1.969</td> <td> 0.049</td> <td>-4.57e+04</td> <td>  -90.599</td>\n",
       "</tr>\n",
       "<tr>\n",
       "  <th>x5_Shed</th>           <td>-9593.5197</td> <td> 1.59e+04</td> <td>   -0.604</td> <td> 0.546</td> <td>-4.08e+04</td> <td> 2.16e+04</td>\n",
       "</tr>\n",
       "<tr>\n",
       "  <th>x6_BrkFace</th>        <td> 1.975e+04</td> <td> 6783.173</td> <td>    2.911</td> <td> 0.004</td> <td> 6442.307</td> <td>  3.3e+04</td>\n",
       "</tr>\n",
       "<tr>\n",
       "  <th>x6_CBlock</th>         <td> 3.345e-11</td> <td> 1.36e-11</td> <td>    2.462</td> <td> 0.014</td> <td>  6.8e-12</td> <td> 6.01e-11</td>\n",
       "</tr>\n",
       "<tr>\n",
       "  <th>x6_None</th>           <td>  2.82e+04</td> <td> 6795.141</td> <td>    4.149</td> <td> 0.000</td> <td> 1.49e+04</td> <td> 4.15e+04</td>\n",
       "</tr>\n",
       "<tr>\n",
       "  <th>x6_Stone</th>          <td> 3.086e+04</td> <td> 7042.230</td> <td>    4.383</td> <td> 0.000</td> <td> 1.71e+04</td> <td> 4.47e+04</td>\n",
       "</tr>\n",
       "<tr>\n",
       "  <th>x7_CBlock</th>         <td>-3634.5374</td> <td> 2453.041</td> <td>   -1.482</td> <td> 0.139</td> <td>-8445.399</td> <td> 1176.324</td>\n",
       "</tr>\n",
       "<tr>\n",
       "  <th>x7_PConc</th>          <td> 2271.9059</td> <td> 2737.627</td> <td>    0.830</td> <td> 0.407</td> <td>-3097.081</td> <td> 7640.892</td>\n",
       "</tr>\n",
       "<tr>\n",
       "  <th>x7_Slab</th>           <td> 1.565e+04</td> <td> 6030.877</td> <td>    2.596</td> <td> 0.010</td> <td> 3826.923</td> <td> 2.75e+04</td>\n",
       "</tr>\n",
       "<tr>\n",
       "  <th>x7_Stone</th>          <td> 9872.8052</td> <td> 1.11e+04</td> <td>    0.892</td> <td> 0.373</td> <td>-1.18e+04</td> <td> 3.16e+04</td>\n",
       "</tr>\n",
       "<tr>\n",
       "  <th>x7_Wood</th>           <td> -452.4860</td> <td> 1.76e+04</td> <td>   -0.026</td> <td> 0.980</td> <td> -3.5e+04</td> <td> 3.41e+04</td>\n",
       "</tr>\n",
       "<tr>\n",
       "  <th>x8_1.5Unf</th>         <td> -1.31e+04</td> <td> 1.44e+04</td> <td>   -0.912</td> <td> 0.362</td> <td>-4.13e+04</td> <td> 1.51e+04</td>\n",
       "</tr>\n",
       "<tr>\n",
       "  <th>x8_1Story</th>         <td> 1.038e+04</td> <td> 6973.914</td> <td>    1.488</td> <td> 0.137</td> <td>-3296.853</td> <td> 2.41e+04</td>\n",
       "</tr>\n",
       "<tr>\n",
       "  <th>x8_2.5Fin</th>         <td> -152.9038</td> <td> 1.42e+04</td> <td>   -0.011</td> <td> 0.991</td> <td> -2.8e+04</td> <td> 2.77e+04</td>\n",
       "</tr>\n",
       "<tr>\n",
       "  <th>x8_2.5Unf</th>         <td> -185.1053</td> <td> 1.27e+04</td> <td>   -0.015</td> <td> 0.988</td> <td>-2.51e+04</td> <td> 2.47e+04</td>\n",
       "</tr>\n",
       "<tr>\n",
       "  <th>x8_2Story</th>         <td>  870.8723</td> <td> 6923.471</td> <td>    0.126</td> <td> 0.900</td> <td>-1.27e+04</td> <td> 1.44e+04</td>\n",
       "</tr>\n",
       "<tr>\n",
       "  <th>x8_SFoyer</th>         <td> 2115.8090</td> <td> 8957.327</td> <td>    0.236</td> <td> 0.813</td> <td>-1.55e+04</td> <td> 1.97e+04</td>\n",
       "</tr>\n",
       "<tr>\n",
       "  <th>x8_SLvl</th>           <td> 6053.0281</td> <td> 1.14e+04</td> <td>    0.530</td> <td> 0.596</td> <td>-1.64e+04</td> <td> 2.85e+04</td>\n",
       "</tr>\n",
       "<tr>\n",
       "  <th>x9_Attchd</th>         <td> 1.195e+04</td> <td> 5935.904</td> <td>    2.014</td> <td> 0.044</td> <td>  313.165</td> <td> 2.36e+04</td>\n",
       "</tr>\n",
       "<tr>\n",
       "  <th>x9_Basment</th>        <td> 1.052e+04</td> <td> 7735.384</td> <td>    1.360</td> <td> 0.174</td> <td>-4648.709</td> <td> 2.57e+04</td>\n",
       "</tr>\n",
       "<tr>\n",
       "  <th>x9_BuiltIn</th>        <td> 1.649e+04</td> <td> 6405.044</td> <td>    2.574</td> <td> 0.010</td> <td> 3923.930</td> <td>  2.9e+04</td>\n",
       "</tr>\n",
       "<tr>\n",
       "  <th>x9_CarPort</th>        <td> 9567.9239</td> <td> 9293.482</td> <td>    1.030</td> <td> 0.303</td> <td>-8658.290</td> <td> 2.78e+04</td>\n",
       "</tr>\n",
       "<tr>\n",
       "  <th>x9_Detchd</th>         <td> 1.408e+04</td> <td> 5907.285</td> <td>    2.383</td> <td> 0.017</td> <td> 2494.677</td> <td> 2.57e+04</td>\n",
       "</tr>\n",
       "<tr>\n",
       "  <th>x9_NoFeat</th>         <td> 2.617e+04</td> <td> 6871.908</td> <td>    3.808</td> <td> 0.000</td> <td> 1.27e+04</td> <td> 3.96e+04</td>\n",
       "</tr>\n",
       "</table>\n",
       "<table class=\"simpletable\">\n",
       "<tr>\n",
       "  <th>Omnibus:</th>       <td>461.163</td> <th>  Durbin-Watson:     </th> <td>   1.979</td>\n",
       "</tr>\n",
       "<tr>\n",
       "  <th>Prob(Omnibus):</th> <td> 0.000</td>  <th>  Jarque-Bera (JB):  </th> <td>4084.793</td>\n",
       "</tr>\n",
       "<tr>\n",
       "  <th>Skew:</th>          <td> 0.801</td>  <th>  Prob(JB):          </th> <td>    0.00</td>\n",
       "</tr>\n",
       "<tr>\n",
       "  <th>Kurtosis:</th>      <td> 9.729</td>  <th>  Cond. No.          </th> <td>1.16e+16</td>\n",
       "</tr>\n",
       "</table><br/><br/>Notes:<br/>[1] Standard Errors assume that the covariance matrix of the errors is correctly specified.<br/>[2] The smallest eigenvalue is 2.42e-21. This might indicate that there are<br/>strong multicollinearity problems or that the design matrix is singular."
      ],
      "text/plain": [
       "<class 'statsmodels.iolib.summary.Summary'>\n",
       "\"\"\"\n",
       "                            OLS Regression Results                            \n",
       "==============================================================================\n",
       "Dep. Variable:              SalePrice   R-squared:                       0.917\n",
       "Model:                            OLS   Adj. R-squared:                  0.913\n",
       "Method:                 Least Squares   F-statistic:                     215.6\n",
       "Date:                Mon, 13 Jun 2022   Prob (F-statistic):               0.00\n",
       "Time:                        11:16:10   Log-Likelihood:                -23470.\n",
       "No. Observations:                2049   AIC:                         4.714e+04\n",
       "Df Residuals:                    1948   BIC:                         4.771e+04\n",
       "Df Model:                         100                                         \n",
       "Covariance Type:            nonrobust                                         \n",
       "=====================================================================================\n",
       "                        coef    std err          t      P>|t|      [0.025      0.975]\n",
       "-------------------------------------------------------------------------------------\n",
       "const              -6.82e+04   2.38e+04     -2.867      0.004   -1.15e+05   -2.16e+04\n",
       "Lot Area              0.6462      0.104      6.230      0.000       0.443       0.850\n",
       "Mas Vnr Area         39.5275      4.919      8.035      0.000      29.880      49.175\n",
       "Bsmt Exposure      5082.7446    666.963      7.621      0.000    3774.709    6390.780\n",
       "Heating QC         1120.7299    724.629      1.547      0.122    -300.400    2541.860\n",
       "TotRms AbvGrd       146.8929    681.708      0.215      0.829   -1190.061    1483.847\n",
       "Garage Area          28.3505      4.324      6.556      0.000      19.869      36.832\n",
       "Misc Val             -0.3698      1.250     -0.296      0.767      -2.820       2.081\n",
       "overall_score      1223.2482     80.772     15.145      0.000    1064.840    1381.656\n",
       "exter_score        1553.2071    500.445      3.104      0.002     571.742    2534.672\n",
       "bsmt_score          364.9567    306.946      1.189      0.235    -237.020     966.934\n",
       "total_sf              9.8042      2.707      3.622      0.000       4.495      15.113\n",
       "bsmt_fin_score        5.6391      0.387     14.565      0.000       4.880       6.398\n",
       "gr_liv_area_score    42.8912      4.741      9.047      0.000      33.594      52.189\n",
       "bathroom_score     -692.4472   1163.043     -0.595      0.552   -2973.388    1588.493\n",
       "kitchen_score      6417.3503   1114.813      5.756      0.000    4230.998    8603.702\n",
       "fireplace_score    1456.7571    305.084      4.775      0.000     858.432    2055.082\n",
       "outdoor_area         14.5859      3.897      3.743      0.000       6.944      22.228\n",
       "garage_score        259.1881     99.562      2.603      0.009      63.928     454.448\n",
       "house_age          -513.1754     56.386     -9.101      0.000    -623.758    -402.593\n",
       "x0_30              9421.4354   3583.004      2.629      0.009    2394.510    1.64e+04\n",
       "x0_40              6478.3780   1.23e+04      0.527      0.599   -1.76e+04    3.06e+04\n",
       "x0_45                3.5e+04   1.59e+04      2.198      0.028    3771.401    6.62e+04\n",
       "x0_50              1.296e+04   7248.596      1.788      0.074   -1258.652    2.72e+04\n",
       "x0_60              4399.2186   5769.187      0.763      0.446   -6915.210    1.57e+04\n",
       "x0_70              1.163e+04   6221.879      1.869      0.062    -575.165    2.38e+04\n",
       "x0_75              2.164e+04   1.22e+04      1.769      0.077   -2351.047    4.56e+04\n",
       "x0_80             -5535.5928   1.04e+04     -0.534      0.593   -2.59e+04    1.48e+04\n",
       "x0_85              -969.4109   8313.262     -0.117      0.907   -1.73e+04    1.53e+04\n",
       "x0_90             -1.273e+04   2202.908     -5.779      0.000   -1.71e+04   -8411.305\n",
       "x0_120            -4.015e+04   1.22e+04     -3.278      0.001   -6.42e+04   -1.61e+04\n",
       "x0_150            -3.148e+04   2.91e+04     -1.083      0.279   -8.85e+04    2.55e+04\n",
       "x0_160            -3.692e+04   1.37e+04     -2.700      0.007   -6.37e+04   -1.01e+04\n",
       "x0_180            -2.853e+04   1.63e+04     -1.749      0.081   -6.05e+04    3467.054\n",
       "x0_190            -2.394e+04   1.75e+04     -1.368      0.172   -5.83e+04    1.04e+04\n",
       "x1_C (all)         7266.0784    1.8e+04      0.403      0.687   -2.81e+04    4.26e+04\n",
       "x1_FV               2.86e+04   1.79e+04      1.594      0.111   -6598.388    6.38e+04\n",
       "x1_I (all)          3.91e+04   2.91e+04      1.344      0.179    -1.8e+04    9.62e+04\n",
       "x1_RH               2.11e+04   1.86e+04      1.134      0.257   -1.54e+04    5.76e+04\n",
       "x1_RL              1.686e+04   1.72e+04      0.981      0.327   -1.68e+04    5.06e+04\n",
       "x1_RM              1.237e+04   1.72e+04      0.718      0.473   -2.14e+04    4.61e+04\n",
       "x2_CulDSac         5138.6583   2552.516      2.013      0.044     132.709    1.01e+04\n",
       "x2_FR2            -1129.8815   3460.654     -0.326      0.744   -7916.855    5657.092\n",
       "x2_FR3            -1.762e+04   8107.434     -2.173      0.030   -3.35e+04   -1719.322\n",
       "x2_Inside          2060.3986   1436.677      1.434      0.152    -757.187    4877.984\n",
       "x3_Blueste         3341.0565   1.19e+04      0.280      0.780   -2.01e+04    2.68e+04\n",
       "x3_BrDale          1.291e+04   9607.722      1.344      0.179   -5929.545    3.18e+04\n",
       "x3_BrkSide        -1.224e+04   7434.303     -1.647      0.100   -2.68e+04    2336.589\n",
       "x3_ClearCr        -2.102e+04   7925.628     -2.652      0.008   -3.66e+04   -5471.719\n",
       "x3_CollgCr        -2.241e+04   6031.900     -3.715      0.000   -3.42e+04   -1.06e+04\n",
       "x3_Crawfor         -650.4754   6737.362     -0.097      0.923   -1.39e+04    1.26e+04\n",
       "x3_Edwards        -2.101e+04   6497.898     -3.234      0.001   -3.38e+04   -8271.344\n",
       "x3_Gilbert        -2.026e+04   6286.775     -3.223      0.001   -3.26e+04   -7934.251\n",
       "x3_Greens         -5287.1878   1.51e+04     -0.351      0.726   -3.49e+04    2.43e+04\n",
       "x3_GrnHill         1.179e+05   1.78e+04      6.630      0.000     8.3e+04    1.53e+05\n",
       "x3_IDOTRR         -1.658e+04   8182.710     -2.026      0.043   -3.26e+04    -534.148\n",
       "x3_Landmrk         1650.2541   2.56e+04      0.064      0.949   -4.85e+04    5.18e+04\n",
       "x3_MeadowV        -3949.3462   9020.657     -0.438      0.662   -2.16e+04    1.37e+04\n",
       "x3_Mitchel        -2.121e+04   6541.927     -3.241      0.001    -3.4e+04   -8375.506\n",
       "x3_NAmes           -1.86e+04   6302.367     -2.952      0.003    -3.1e+04   -6242.630\n",
       "x3_NPkVill         1.233e+04   8658.985      1.424      0.155   -4648.773    2.93e+04\n",
       "x3_NWAmes         -2.749e+04   6527.092     -4.212      0.000   -4.03e+04   -1.47e+04\n",
       "x3_NoRidge           -7.5063   6912.916     -0.001      0.999   -1.36e+04    1.35e+04\n",
       "x3_NridgHt         2.123e+04   6120.724      3.469      0.001    9225.892    3.32e+04\n",
       "x3_OldTown        -1.975e+04   7518.503     -2.626      0.009   -3.45e+04   -5000.696\n",
       "x3_SWISU          -1.888e+04   7852.496     -2.404      0.016   -3.43e+04   -3475.897\n",
       "x3_Sawyer          -1.92e+04   6542.361     -2.935      0.003    -3.2e+04   -6372.195\n",
       "x3_SawyerW        -2.515e+04   6305.783     -3.989      0.000   -3.75e+04   -1.28e+04\n",
       "x3_Somerst        -8914.7998   7316.968     -1.218      0.223   -2.33e+04    5435.110\n",
       "x3_StoneBr         4.397e+04   6756.732      6.508      0.000    3.07e+04    5.72e+04\n",
       "x3_Timber         -1.697e+04   6676.050     -2.542      0.011   -3.01e+04   -3874.282\n",
       "x3_Veenker         -1.57e+04   8147.872     -1.927      0.054   -3.17e+04     280.915\n",
       "x4_2fmCon          1.562e+04   1.75e+04      0.891      0.373   -1.88e+04       5e+04\n",
       "x4_Duplex         -1.273e+04   2202.908     -5.779      0.000   -1.71e+04   -8411.305\n",
       "x4_Twnhs           3779.6805   1.28e+04      0.296      0.767   -2.13e+04    2.88e+04\n",
       "x4_TwnhsE          1.177e+04   1.22e+04      0.967      0.333   -1.21e+04    3.56e+04\n",
       "x5_Gable          -1819.6530   7241.675     -0.251      0.802    -1.6e+04    1.24e+04\n",
       "x5_Gambrel        -4152.1323   1.01e+04     -0.410      0.682    -2.4e+04    1.57e+04\n",
       "x5_Hip             5559.7484   7304.089      0.761      0.447   -8764.903    1.99e+04\n",
       "x5_Mansard         -2.29e+04   1.16e+04     -1.969      0.049   -4.57e+04     -90.599\n",
       "x5_Shed           -9593.5197   1.59e+04     -0.604      0.546   -4.08e+04    2.16e+04\n",
       "x6_BrkFace         1.975e+04   6783.173      2.911      0.004    6442.307     3.3e+04\n",
       "x6_CBlock          3.345e-11   1.36e-11      2.462      0.014     6.8e-12    6.01e-11\n",
       "x6_None             2.82e+04   6795.141      4.149      0.000    1.49e+04    4.15e+04\n",
       "x6_Stone           3.086e+04   7042.230      4.383      0.000    1.71e+04    4.47e+04\n",
       "x7_CBlock         -3634.5374   2453.041     -1.482      0.139   -8445.399    1176.324\n",
       "x7_PConc           2271.9059   2737.627      0.830      0.407   -3097.081    7640.892\n",
       "x7_Slab            1.565e+04   6030.877      2.596      0.010    3826.923    2.75e+04\n",
       "x7_Stone           9872.8052   1.11e+04      0.892      0.373   -1.18e+04    3.16e+04\n",
       "x7_Wood            -452.4860   1.76e+04     -0.026      0.980    -3.5e+04    3.41e+04\n",
       "x8_1.5Unf          -1.31e+04   1.44e+04     -0.912      0.362   -4.13e+04    1.51e+04\n",
       "x8_1Story          1.038e+04   6973.914      1.488      0.137   -3296.853    2.41e+04\n",
       "x8_2.5Fin          -152.9038   1.42e+04     -0.011      0.991    -2.8e+04    2.77e+04\n",
       "x8_2.5Unf          -185.1053   1.27e+04     -0.015      0.988   -2.51e+04    2.47e+04\n",
       "x8_2Story           870.8723   6923.471      0.126      0.900   -1.27e+04    1.44e+04\n",
       "x8_SFoyer          2115.8090   8957.327      0.236      0.813   -1.55e+04    1.97e+04\n",
       "x8_SLvl            6053.0281   1.14e+04      0.530      0.596   -1.64e+04    2.85e+04\n",
       "x9_Attchd          1.195e+04   5935.904      2.014      0.044     313.165    2.36e+04\n",
       "x9_Basment         1.052e+04   7735.384      1.360      0.174   -4648.709    2.57e+04\n",
       "x9_BuiltIn         1.649e+04   6405.044      2.574      0.010    3923.930     2.9e+04\n",
       "x9_CarPort         9567.9239   9293.482      1.030      0.303   -8658.290    2.78e+04\n",
       "x9_Detchd          1.408e+04   5907.285      2.383      0.017    2494.677    2.57e+04\n",
       "x9_NoFeat          2.617e+04   6871.908      3.808      0.000    1.27e+04    3.96e+04\n",
       "==============================================================================\n",
       "Omnibus:                      461.163   Durbin-Watson:                   1.979\n",
       "Prob(Omnibus):                  0.000   Jarque-Bera (JB):             4084.793\n",
       "Skew:                           0.801   Prob(JB):                         0.00\n",
       "Kurtosis:                       9.729   Cond. No.                     1.16e+16\n",
       "==============================================================================\n",
       "\n",
       "Notes:\n",
       "[1] Standard Errors assume that the covariance matrix of the errors is correctly specified.\n",
       "[2] The smallest eigenvalue is 2.42e-21. This might indicate that there are\n",
       "strong multicollinearity problems or that the design matrix is singular.\n",
       "\"\"\""
      ]
     },
     "execution_count": 5,
     "metadata": {},
     "output_type": "execute_result"
    }
   ],
   "source": [
    "# OLS Results\n",
    "results.summary()"
   ]
  },
  {
   "cell_type": "markdown",
   "id": "345acef7-bfcf-4e90-b86c-f7c2af023482",
   "metadata": {},
   "source": [
    "Result:\n",
    "\n",
    "- An adjusted R-squared value of 0.91 \n",
    "- Some variables (Heating QC, Total Rooms Above ground, Miscellenous Value) are not statistically significant at the 5% level"
   ]
  },
  {
   "cell_type": "markdown",
   "id": "30762dcb-b256-4ffd-b417-a6d8da34b27d",
   "metadata": {},
   "source": [
    "# Evaluate Models"
   ]
  },
  {
   "cell_type": "code",
   "execution_count": 6,
   "id": "c7a339dd-def1-4179-bf05-f61ec8f5fe03",
   "metadata": {},
   "outputs": [],
   "source": [
    "#Import Libraries\n",
    "\n",
    "from sklearn.linear_model import LinearRegression, Ridge, RidgeCV, Lasso, LassoCV, ElasticNet, ElasticNetCV\n",
    "from sklearn.model_selection import train_test_split, cross_val_score, GridSearchCV\n",
    "from sklearn.preprocessing import StandardScaler, MinMaxScaler\n",
    "from sklearn import metrics\n",
    "from sklearn.pipeline import Pipeline"
   ]
  },
  {
   "cell_type": "code",
   "execution_count": 7,
   "id": "2f3a0f05-1e83-4223-8693-990af296166e",
   "metadata": {},
   "outputs": [],
   "source": [
    "# perform Train test split\n",
    "\n",
    "X_train, X_test, y_train, y_test = train_test_split(X, y, test_size=0.25, random_state=42)"
   ]
  },
  {
   "cell_type": "code",
   "execution_count": 8,
   "id": "eccc4f9f-0110-4129-aafa-208e88e6e358",
   "metadata": {},
   "outputs": [],
   "source": [
    "# Scale Data using Min Max Scalar\n",
    "\n",
    "mc = MinMaxScaler(feature_range=(0,1))\n",
    "S_train = mc.fit_transform(X_train)\n",
    "S_test = mc.transform(X_test)"
   ]
  },
  {
   "cell_type": "code",
   "execution_count": 9,
   "id": "f0ed7d68-5c65-4e60-b994-24088c8eba47",
   "metadata": {},
   "outputs": [],
   "source": [
    "final_mc = MinMaxScaler(feature_range=(0,1))\n",
    "X_scaled = final_mc.fit_transform(X)"
   ]
  },
  {
   "cell_type": "markdown",
   "id": "2f1eaa76-2b32-4c90-856c-3d47c1c405dd",
   "metadata": {},
   "source": [
    "Due to the use of One Hot Encoding to encode our categorical variable, a Min Max Scalar is used to scale values to between 0 and 1. Additionally, not all variables are normally distributed, a standard Z scaling might not be suitable"
   ]
  },
  {
   "cell_type": "markdown",
   "id": "1e27a33a-ad3e-4e9f-86d0-54587170bc5c",
   "metadata": {},
   "source": [
    "We will train our data on 3 models and evaluate the best model"
   ]
  },
  {
   "cell_type": "markdown",
   "id": "8ee452b2-279f-4b71-acbb-59311261917f",
   "metadata": {},
   "source": [
    "## Linear Regression"
   ]
  },
  {
   "cell_type": "markdown",
   "id": "b57afabf-17c4-49fb-8b63-8ba6132e5b01",
   "metadata": {},
   "source": [
    "1. Cross validation Score"
   ]
  },
  {
   "cell_type": "code",
   "execution_count": 10,
   "id": "176d5dfa-e0fe-4777-bf54-592145a622a1",
   "metadata": {},
   "outputs": [],
   "source": [
    "# Fit on train dataset\n",
    "linear_reg_cv = LinearRegression()\n",
    "linear_reg_cv = linear_reg_cv.fit(X_train, y_train)"
   ]
  },
  {
   "cell_type": "code",
   "execution_count": 11,
   "id": "a0adf3fe-e627-41db-99f6-7016cdef4a8c",
   "metadata": {},
   "outputs": [],
   "source": [
    "lr_cross_val = cross_val_score(linear_reg_cv, X_train, y_train, cv=5)"
   ]
  },
  {
   "cell_type": "code",
   "execution_count": 12,
   "id": "072b3ae7-6f64-480f-88c5-5171219b9e22",
   "metadata": {},
   "outputs": [
    {
     "data": {
      "text/plain": [
       "0.8918015416726787"
      ]
     },
     "execution_count": 12,
     "metadata": {},
     "output_type": "execute_result"
    }
   ],
   "source": [
    "lr_cross_val.mean()"
   ]
  },
  {
   "cell_type": "markdown",
   "id": "112db53b-be6f-4a5a-90a8-5ab120d1348d",
   "metadata": {},
   "source": [
    "2. Train-Test Model"
   ]
  },
  {
   "cell_type": "code",
   "execution_count": 13,
   "id": "df85abf7-eb46-40c3-9201-1e1748233b20",
   "metadata": {},
   "outputs": [],
   "source": [
    "linear_reg = LinearRegression()\n",
    "linear_reg = linear_reg.fit(X_train, y_train)"
   ]
  },
  {
   "cell_type": "code",
   "execution_count": 14,
   "id": "00b7d4b9-768b-40c3-8038-7c88458f33b2",
   "metadata": {},
   "outputs": [
    {
     "data": {
      "text/plain": [
       "0.9142891314975099"
      ]
     },
     "execution_count": 14,
     "metadata": {},
     "output_type": "execute_result"
    }
   ],
   "source": [
    "# Train R-squared\n",
    "linear_reg.score(X_train, y_train)"
   ]
  },
  {
   "cell_type": "code",
   "execution_count": 15,
   "id": "70e651f7-d9db-4485-9463-8e41421f6372",
   "metadata": {},
   "outputs": [],
   "source": [
    "y_pred_lr = linear_reg.predict(X_test)"
   ]
  },
  {
   "cell_type": "markdown",
   "id": "0e5865e4-8c78-4b7d-9551-39d1fc7702c7",
   "metadata": {},
   "source": [
    "3. Model metrics scores"
   ]
  },
  {
   "cell_type": "code",
   "execution_count": 16,
   "id": "600fef7e-3f05-46f3-8bae-d038db2232a1",
   "metadata": {},
   "outputs": [
    {
     "data": {
      "text/plain": [
       "0.9161585513320083"
      ]
     },
     "execution_count": 16,
     "metadata": {},
     "output_type": "execute_result"
    }
   ],
   "source": [
    "linear_reg.score(X_test, y_test)"
   ]
  },
  {
   "cell_type": "code",
   "execution_count": 17,
   "id": "efaac6fc-dd09-4f29-afc4-8697d84fa71c",
   "metadata": {},
   "outputs": [
    {
     "data": {
      "text/plain": [
       "23022.928647426434"
      ]
     },
     "execution_count": 17,
     "metadata": {},
     "output_type": "execute_result"
    }
   ],
   "source": [
    "rmse = metrics.mean_squared_error(y_test, y_pred_lr, squared=False)\n",
    "rmse"
   ]
  },
  {
   "cell_type": "markdown",
   "id": "c943b0ef-5528-46c4-8b8d-101f245ee905",
   "metadata": {},
   "source": [
    "Summary\n",
    "\n",
    "- Cross validation score (0.89) and Test score (0.91) does not differ much - Cross Validation score is lower than test\n",
    "- RMSE of around 23000"
   ]
  },
  {
   "cell_type": "markdown",
   "id": "ddd66f1f-6d47-4006-bf60-afb632ca5a5b",
   "metadata": {},
   "source": [
    "## Ridge "
   ]
  },
  {
   "cell_type": "markdown",
   "id": "2ce15e44-0be9-43e7-9ff9-33f4efb9000c",
   "metadata": {},
   "source": [
    "1. Cross Validation Score"
   ]
  },
  {
   "cell_type": "code",
   "execution_count": 18,
   "id": "7fd4a172-9f57-49d4-9c7a-4d939adb65a7",
   "metadata": {},
   "outputs": [],
   "source": [
    "r_alphas = np.logspace(0, 5, 100)\n",
    "ridge_cv = RidgeCV(alphas=r_alphas, scoring='r2', cv=3)\n",
    "ridge_cv = ridge_cv.fit(S_train, y_train)"
   ]
  },
  {
   "cell_type": "code",
   "execution_count": 19,
   "id": "672f1235-9ee8-4191-81f4-5ca0e68179b8",
   "metadata": {},
   "outputs": [
    {
     "data": {
      "text/plain": [
       "1.1233240329780274"
      ]
     },
     "execution_count": 19,
     "metadata": {},
     "output_type": "execute_result"
    }
   ],
   "source": [
    "# get optimal Alpha\n",
    "ridge_cv.alpha_"
   ]
  },
  {
   "cell_type": "code",
   "execution_count": 20,
   "id": "3a252819-e7bc-4fa4-9fd2-2fb6971cfec4",
   "metadata": {},
   "outputs": [
    {
     "data": {
      "text/plain": [
       "0.9128778880649232"
      ]
     },
     "execution_count": 20,
     "metadata": {},
     "output_type": "execute_result"
    }
   ],
   "source": [
    "# CV R-Squared score\n",
    "ridge_cv.score(S_train, y_train)"
   ]
  },
  {
   "cell_type": "markdown",
   "id": "d9f5c464-8977-4f66-a0d1-2c759ba9694a",
   "metadata": {},
   "source": [
    "2. Train-Test Model"
   ]
  },
  {
   "cell_type": "code",
   "execution_count": 21,
   "id": "e7b03bda-e2ea-4d8b-8263-8f0ff951f735",
   "metadata": {},
   "outputs": [
    {
     "data": {
      "text/plain": [
       "Ridge(alpha=1.1233240329780274)"
      ]
     },
     "execution_count": 21,
     "metadata": {},
     "output_type": "execute_result"
    }
   ],
   "source": [
    "# Use an alpha dervied from before\n",
    "ridge_model = Ridge(alpha=ridge_cv.alpha_)\n",
    "ridge_model.fit(S_train, y_train)"
   ]
  },
  {
   "cell_type": "code",
   "execution_count": 22,
   "id": "51ef5837-8dbd-42e4-8a74-119d93b1ecbd",
   "metadata": {},
   "outputs": [
    {
     "data": {
      "text/plain": [
       "0.9128778880649232"
      ]
     },
     "execution_count": 22,
     "metadata": {},
     "output_type": "execute_result"
    }
   ],
   "source": [
    "ridge_model.score(S_train, y_train)"
   ]
  },
  {
   "cell_type": "code",
   "execution_count": 23,
   "id": "20081fb4-d8e1-427a-859e-e434c4d83d83",
   "metadata": {},
   "outputs": [],
   "source": [
    "y_pred_ridge = ridge_model.predict(S_test)"
   ]
  },
  {
   "cell_type": "markdown",
   "id": "2e031906-18ce-44cb-b593-4cc5b0106c7d",
   "metadata": {},
   "source": [
    "3. Model metrics score"
   ]
  },
  {
   "cell_type": "code",
   "execution_count": 24,
   "id": "62f66844-7b47-458c-a770-37058e6f590d",
   "metadata": {},
   "outputs": [
    {
     "data": {
      "text/plain": [
       "0.9171444780777653"
      ]
     },
     "execution_count": 24,
     "metadata": {},
     "output_type": "execute_result"
    }
   ],
   "source": [
    "# R-squared for test\n",
    "ridge_model.score(S_test, y_test)"
   ]
  },
  {
   "cell_type": "code",
   "execution_count": 25,
   "id": "9e822db0-9fb9-4039-bd90-b25660c6f16e",
   "metadata": {},
   "outputs": [
    {
     "data": {
      "text/plain": [
       "22887.160192306328"
      ]
     },
     "execution_count": 25,
     "metadata": {},
     "output_type": "execute_result"
    }
   ],
   "source": [
    "rmse = metrics.mean_squared_error(y_test, y_pred_ridge, squared=False)\n",
    "rmse"
   ]
  },
  {
   "cell_type": "markdown",
   "id": "5428de43-9b09-42ed-a326-8dbcb09dec18",
   "metadata": {},
   "source": [
    "Summary\n",
    "\n",
    "- Cross validation R-squred score (0.913) and Test score (0.917) are almost identical\n",
    "- RMSE of around 22900"
   ]
  },
  {
   "cell_type": "markdown",
   "id": "8f2cb78d-2e93-4b8c-96a0-52b57cf49f42",
   "metadata": {},
   "source": [
    "## Lasso Model"
   ]
  },
  {
   "cell_type": "markdown",
   "id": "36f1c615-11b2-46c0-baff-71e389f561a4",
   "metadata": {},
   "source": [
    "1. Cross validation score"
   ]
  },
  {
   "cell_type": "code",
   "execution_count": 26,
   "id": "6afa95dc-6172-428b-9b97-e1143de12f40",
   "metadata": {},
   "outputs": [],
   "source": [
    "# get optimal alpha from cv\n",
    "l_alphas = np.logspace(-3, 0, 100)\n",
    "lasso_cv = LassoCV(alphas=l_alphas, cv=5, max_iter=100000)\n",
    "lasso_cv = lasso_cv.fit(S_train, y_train)"
   ]
  },
  {
   "cell_type": "code",
   "execution_count": 27,
   "id": "73fe9279-00f2-4a4e-bd93-d85f6ef2dca6",
   "metadata": {},
   "outputs": [
    {
     "data": {
      "text/plain": [
       "1.0"
      ]
     },
     "execution_count": 27,
     "metadata": {},
     "output_type": "execute_result"
    }
   ],
   "source": [
    "lasso_cv.alpha_"
   ]
  },
  {
   "cell_type": "code",
   "execution_count": 28,
   "id": "280d8780-e682-4131-a08f-df660087a8e9",
   "metadata": {},
   "outputs": [
    {
     "data": {
      "text/plain": [
       "array([ 6.17495455e+04,  5.56018054e+04,  2.20927687e+04,  5.75255689e+03,\n",
       "        7.33789554e+03,  3.13475167e+04,  7.23774258e+03,  1.05188109e+05,\n",
       "        3.00240417e+04,  6.39719718e+03,  6.75873946e+04,  7.78257889e+04,\n",
       "        1.34353507e+05, -3.82475383e+03,  3.88011134e+04,  1.64000288e+04,\n",
       "        1.95702578e+04,  1.46499207e+04, -7.42307431e+04,  1.04248624e+04,\n",
       "        1.16554768e+04,  2.91657955e+04,  1.25581614e+04,  4.20545021e+03,\n",
       "        1.10973504e+04,  2.95943123e+04, -1.31406764e+04, -2.97347463e+03,\n",
       "       -2.31600038e+04, -3.88878340e+04,  0.00000000e+00, -3.30658256e+04,\n",
       "       -2.77487079e+04, -2.55485678e+04,  3.40550753e+03,  2.61847648e+04,\n",
       "        0.00000000e+00,  1.74331780e+04,  1.43566376e+04,  1.34243638e+04,\n",
       "        4.31855065e+03, -1.56205837e+03, -3.67653636e+04,  2.21447720e+03,\n",
       "       -4.51440781e+02,  6.03872931e+03, -1.32990611e+04, -2.00492362e+04,\n",
       "       -2.17846311e+04,  7.91466171e+02, -2.29525596e+04, -2.00843978e+04,\n",
       "       -4.34382321e+03,  1.16731448e+05, -2.04406283e+04,  0.00000000e+00,\n",
       "       -1.40554938e+04, -1.95787532e+04, -1.95568659e+04,  1.27162805e+04,\n",
       "       -2.78490036e+04,  2.61451689e+03,  2.26162350e+04, -2.28487215e+04,\n",
       "       -1.90608147e+04, -2.20621142e+04, -2.53246753e+04, -9.94124244e+03,\n",
       "        4.48081829e+04, -1.48526289e+04, -2.44437475e+04,  1.51246591e+04,\n",
       "       -6.57513205e+02,  2.98066545e+03,  1.12851845e+04, -3.79327121e+03,\n",
       "       -4.49718889e+03,  4.04459896e+03, -2.32224810e+04, -1.06895149e+02,\n",
       "        1.08272507e+04,  0.00000000e+00,  1.91767538e+04,  2.34195358e+04,\n",
       "       -3.56283797e+03, -2.88867273e+01,  1.61341262e+04,  1.58877632e+04,\n",
       "       -3.10444327e+03, -7.15535386e+03,  9.33158764e+03,  1.78662136e+04,\n",
       "       -1.28970602e+03,  1.13481541e+03,  1.30404539e+03,  1.49415621e+04,\n",
       "        1.89517574e+04,  1.90689257e+04,  2.49814701e+04,  2.24857472e+04,\n",
       "        2.15667771e+04,  3.22631278e+04])"
      ]
     },
     "execution_count": 28,
     "metadata": {},
     "output_type": "execute_result"
    }
   ],
   "source": [
    "lasso_cv.coef_"
   ]
  },
  {
   "cell_type": "markdown",
   "id": "6a5ce254-32dc-477e-bc8e-bfaf6caf6c2e",
   "metadata": {},
   "source": [
    "None of the coefficients have been zero-ed out by the Lasso Model"
   ]
  },
  {
   "cell_type": "code",
   "execution_count": 29,
   "id": "b05c92a4-e2a7-4c99-994f-e886caae27c0",
   "metadata": {},
   "outputs": [
    {
     "data": {
      "text/plain": [
       "0.9142747247246612"
      ]
     },
     "execution_count": 29,
     "metadata": {},
     "output_type": "execute_result"
    }
   ],
   "source": [
    "lasso_cv.score(S_train, y_train)"
   ]
  },
  {
   "cell_type": "markdown",
   "id": "56991009-d0d6-493a-a69d-e97e5b77e938",
   "metadata": {},
   "source": [
    "2. Train-Test Model"
   ]
  },
  {
   "cell_type": "code",
   "execution_count": 30,
   "id": "1f36ea47-a84a-483c-a6e3-514f1443509a",
   "metadata": {},
   "outputs": [
    {
     "data": {
      "text/plain": [
       "Lasso(max_iter=100000)"
      ]
     },
     "execution_count": 30,
     "metadata": {},
     "output_type": "execute_result"
    }
   ],
   "source": [
    "lasso_model = Lasso(alpha=lasso_cv.alpha_, max_iter=100000)\n",
    "lasso_model.fit(S_train, y_train)"
   ]
  },
  {
   "cell_type": "code",
   "execution_count": 31,
   "id": "61dc7242-f5ad-44a7-b1c2-96179d3aa2b5",
   "metadata": {},
   "outputs": [
    {
     "data": {
      "text/plain": [
       "0.9142747247246612"
      ]
     },
     "execution_count": 31,
     "metadata": {},
     "output_type": "execute_result"
    }
   ],
   "source": [
    "lasso_model.score(S_train, y_train)"
   ]
  },
  {
   "cell_type": "code",
   "execution_count": 32,
   "id": "ea33bfd4-429e-4083-80f6-42bef18e03a7",
   "metadata": {},
   "outputs": [],
   "source": [
    "y_pred_lasso = lasso_model.predict(S_test)"
   ]
  },
  {
   "cell_type": "markdown",
   "id": "98df9eb0-5948-4c76-afb9-160b16e8c8fb",
   "metadata": {},
   "source": [
    "3. Model metrics score"
   ]
  },
  {
   "cell_type": "code",
   "execution_count": 33,
   "id": "f2a6f7d2-044a-498f-a02d-a10875418b48",
   "metadata": {},
   "outputs": [
    {
     "data": {
      "text/plain": [
       "0.9166083168005401"
      ]
     },
     "execution_count": 33,
     "metadata": {},
     "output_type": "execute_result"
    }
   ],
   "source": [
    "lasso_model.score(S_test, y_test)"
   ]
  },
  {
   "cell_type": "code",
   "execution_count": 34,
   "id": "c718be9f-1a8d-4d44-9bd0-fafb24c43768",
   "metadata": {},
   "outputs": [
    {
     "data": {
      "text/plain": [
       "22961.092628324528"
      ]
     },
     "execution_count": 34,
     "metadata": {},
     "output_type": "execute_result"
    }
   ],
   "source": [
    "rmse = metrics.mean_squared_error(y_test, y_pred_lasso, squared=False)\n",
    "rmse"
   ]
  },
  {
   "cell_type": "markdown",
   "id": "16b40f39-6198-4eaf-a04a-e9a50b1d3873",
   "metadata": {},
   "source": [
    "Summary\n",
    "\n",
    "- Cross validation R-squred score (0.914) and Test score (0.916) almost identical\n",
    "- RMSE of around 22900"
   ]
  },
  {
   "cell_type": "markdown",
   "id": "7379ea2b-e338-48fc-a269-ec7368f95d76",
   "metadata": {},
   "source": [
    "|Model|CV R-Squared|Validation R-Squred|RMSE|Alpha|\n",
    "|---|---|---|---|---|\n",
    "|Linear Reg|0.89|0.91|23022|NA\n",
    "|Ridge|0.91|0.91|22887|1.12\n",
    "|Lasso|0.91|0.91|22961|1.0"
   ]
  },
  {
   "cell_type": "markdown",
   "id": "4348cfeb-71bd-4ccf-b85a-260b35723161",
   "metadata": {},
   "source": [
    "Based on the R-squared and RMSE metrics, the Lasso model gave the best model. \n",
    "\n",
    "- difference between the three models in terms of R-squred and RMSE does not seem to differ much"
   ]
  },
  {
   "cell_type": "markdown",
   "id": "67764bff-4fde-41ed-b1e7-4464ec05e157",
   "metadata": {},
   "source": [
    "## Train Final Model"
   ]
  },
  {
   "cell_type": "markdown",
   "id": "c64c34cb-029b-4897-b5ac-9131ef746ab4",
   "metadata": {},
   "source": [
    "We fit the model on the entire train dataset"
   ]
  },
  {
   "cell_type": "code",
   "execution_count": 35,
   "id": "3f7175ae-e04a-467a-916e-6c1e6a38c518",
   "metadata": {},
   "outputs": [
    {
     "data": {
      "text/plain": [
       "Ridge(alpha=1.1233240329780274)"
      ]
     },
     "execution_count": 35,
     "metadata": {},
     "output_type": "execute_result"
    }
   ],
   "source": [
    "final_model = Ridge(alpha=ridge_cv.alpha_)\n",
    "final_model.fit(X_scaled, y)"
   ]
  },
  {
   "cell_type": "code",
   "execution_count": 36,
   "id": "69a1a1c0-4d66-4647-b705-719e6ffa39e5",
   "metadata": {},
   "outputs": [
    {
     "data": {
      "text/plain": [
       "0.9160216751239636"
      ]
     },
     "execution_count": 36,
     "metadata": {},
     "output_type": "execute_result"
    }
   ],
   "source": [
    "final_model.score(X_scaled, y)"
   ]
  },
  {
   "cell_type": "code",
   "execution_count": 37,
   "id": "4007c32e-e7e9-48fb-99bf-b4942027f2aa",
   "metadata": {},
   "outputs": [
    {
     "data": {
      "text/plain": [
       "array([ 69883.45164596,  59979.58525026,  21382.31808703,   5360.61259496,\n",
       "         9540.0136788 ,  40085.31321736,  -2361.53586506, 100537.71245104,\n",
       "        28944.4304586 ,   8433.96954929,  76065.22113162,  74414.37123138,\n",
       "       121719.73738366,   2655.03073198,  39188.72832682,  20354.56146337,\n",
       "        21003.28419806,  19423.42066272, -60594.92054932,   7228.19892505,\n",
       "         3426.41534695,  20113.59471415,   9244.5425287 ,   5199.91725387,\n",
       "         9956.55840507,  17387.06230098,  -4018.63575218,  -1271.63026323,\n",
       "       -13297.82773334, -24639.86726472,  -9739.82508099, -20730.45510917,\n",
       "       -11063.0908002 , -14598.71943632,  -8044.18375976,  11819.14231889,\n",
       "        12988.10938908,   4626.09192748,   1412.31728833,  -2053.52612627,\n",
       "         6429.58470894,   -696.76556002, -15275.64631775,   2030.39468698,\n",
       "         3977.87091367,  13254.98405567,  -8332.50123183, -13848.56053725,\n",
       "       -17366.29531772,   4366.16138883, -16498.27688535, -15512.00556116,\n",
       "        -1036.17929993,  79141.24375418, -12912.57516798,   3182.37149729,\n",
       "        -3296.03430056, -16731.42248455, -14725.03555512,  13255.83037091,\n",
       "       -22208.60032696,   6757.47685649,  26494.76478163, -16099.77697245,\n",
       "       -13952.20512208, -15373.36916914, -19651.6628524 ,  -3154.1651279 ,\n",
       "        47190.502469  , -11060.71840758,  -9563.15324109,   3921.26197311,\n",
       "       -13297.82773334, -10793.13667244,  -2419.06123823,   -219.39397755,\n",
       "        -2181.60641099,   7343.33936839, -17586.2148166 ,  -5095.08133063,\n",
       "        12733.90338214,      0.        ,  20451.74558949,  23199.48134299,\n",
       "        -2845.95080758,   3093.38170038,  18048.00669184,   7133.96089229,\n",
       "         -229.94579361,  -4098.54215306,   7336.36509781,   2413.97892604,\n",
       "          597.9943636 ,  -1208.02425682,   -932.55560647,   1810.60797713,\n",
       "         7975.33887695,   4445.70554785,  12962.025238  ,   4668.23565794,\n",
       "         9445.87194842,  20778.71324655])"
      ]
     },
     "execution_count": 37,
     "metadata": {},
     "output_type": "execute_result"
    }
   ],
   "source": [
    "final_model.coef_"
   ]
  },
  {
   "cell_type": "code",
   "execution_count": 38,
   "id": "c5aa48bb-a28d-4c93-b903-7f89e4270ff5",
   "metadata": {},
   "outputs": [],
   "source": [
    "final_model_coefs = pd.Series(final_model.coef_, index=X.columns)"
   ]
  },
  {
   "cell_type": "code",
   "execution_count": 39,
   "id": "77ec4018-0bf0-41f0-b834-3a2621388c29",
   "metadata": {},
   "outputs": [
    {
     "data": {
      "text/plain": [
       "gr_liv_area_score    121719.737384\n",
       "overall_score        100537.712451\n",
       "x3_GrnHill            79141.243754\n",
       "total_sf              76065.221132\n",
       "bsmt_fin_score        74414.371231\n",
       "Lot Area              69883.451646\n",
       "house_age             60594.920549\n",
       "Mas Vnr Area          59979.585250\n",
       "x3_StoneBr            47190.502469\n",
       "Garage Area           40085.313217\n",
       "dtype: float64"
      ]
     },
     "execution_count": 39,
     "metadata": {},
     "output_type": "execute_result"
    }
   ],
   "source": [
    "# Coefficients on final model\n",
    "final_model_coefs.apply(abs).sort_values(ascending=False).head(10)"
   ]
  },
  {
   "cell_type": "markdown",
   "id": "acdb7d72-987d-4ff9-9163-8d0d7046d932",
   "metadata": {},
   "source": [
    "The most important variable in the model is above ground living area and overall score (Quality and Condition). The Lot Area, basement finishing area (Basement SF with finishing), neighbourhood and house age are also important features in determining Sale Price. "
   ]
  },
  {
   "cell_type": "markdown",
   "id": "6b025a83-5dcf-45d9-b393-aa95682d8bc9",
   "metadata": {},
   "source": [
    "# Transform test dataset and generate predictions"
   ]
  },
  {
   "cell_type": "code",
   "execution_count": 40,
   "id": "c0bc8fd8-d096-4add-9c4e-9cde02531a83",
   "metadata": {},
   "outputs": [],
   "source": [
    "# Define feature variables for test dataset\n",
    "X_final = house_test_df_cleaned"
   ]
  },
  {
   "cell_type": "code",
   "execution_count": 41,
   "id": "c58ab9d0-bffb-49e0-8dae-562de78020d7",
   "metadata": {},
   "outputs": [],
   "source": [
    "# Scale \n",
    "X_final_scaled = final_mc.transform(X_final)"
   ]
  },
  {
   "cell_type": "code",
   "execution_count": 42,
   "id": "ec86d483-a1aa-4df1-9c89-a75a96c73b65",
   "metadata": {},
   "outputs": [],
   "source": [
    "# generate pedictions\n",
    "y_pred_final = final_model.predict(X_final_scaled)\n",
    "y_pred_final = pd.Series(y_pred_final, name=\"SalePrice\")"
   ]
  },
  {
   "cell_type": "code",
   "execution_count": 43,
   "id": "2afa8d1a-23fb-4aff-9278-556619a5ed9c",
   "metadata": {},
   "outputs": [
    {
     "data": {
      "text/plain": [
       "0      138898.380124\n",
       "1      170899.650726\n",
       "2      211745.671624\n",
       "3       99872.344033\n",
       "4      171597.434851\n",
       "           ...      \n",
       "873    184763.276596\n",
       "874    224245.784922\n",
       "875    133032.858125\n",
       "876    117622.996318\n",
       "877    119488.299449\n",
       "Name: SalePrice, Length: 878, dtype: float64"
      ]
     },
     "execution_count": 43,
     "metadata": {},
     "output_type": "execute_result"
    }
   ],
   "source": [
    "y_pred_final"
   ]
  },
  {
   "cell_type": "code",
   "execution_count": 44,
   "id": "1bfe2838-9d25-4a64-a373-432b4145e595",
   "metadata": {},
   "outputs": [],
   "source": [
    "# get ID column from test dataset\n",
    "id_col = house_test_df['Id']"
   ]
  },
  {
   "cell_type": "code",
   "execution_count": 45,
   "id": "21fd15e7-e42d-48ea-a5a5-65888022bf34",
   "metadata": {},
   "outputs": [],
   "source": [
    "# Prediction submission in correct format\n",
    "submission = pd.concat([id_col, y_pred_final], axis=1)\n",
    "submission = pd.DataFrame(submission)"
   ]
  },
  {
   "cell_type": "code",
   "execution_count": 46,
   "id": "cdcacdc6-c9b8-41cf-9444-cdc4d296b713",
   "metadata": {},
   "outputs": [],
   "source": [
    "#export to csv\n",
    "\n",
    "submission.to_csv(\"Output/submission.csv\", index = False)"
   ]
  },
  {
   "cell_type": "markdown",
   "id": "e5659ac9-3574-4710-a886-d7ec6127afbd",
   "metadata": {},
   "source": [
    "Ridge: RMSE on test dataset is 21648"
   ]
  },
  {
   "cell_type": "markdown",
   "id": "4c1e965b-c550-434f-9432-088d4381fb6e",
   "metadata": {},
   "source": [
    "# Conclusion and Recommendation"
   ]
  },
  {
   "cell_type": "markdown",
   "id": "19f0cf46-5ff7-44d5-ad3d-6a4757a7f20f",
   "metadata": {},
   "source": [
    "### Conclusion"
   ]
  },
  {
   "cell_type": "markdown",
   "id": "09680e89-fae1-41db-98b0-4e1a5ee16b28",
   "metadata": {},
   "source": [
    "A Regression model (Ridge) is useful in predicting Sale Prices and can be used to predict new house prices as it has a RMSE of 21648 on the test dataset (similating new data). \n",
    "\n",
    "The most important variable in the model are above ground living area and overall score (Quality and Condition). The Lot Area, basement finishing area (Basement SF with finishing), neighbourhood and house age are also important features in determining Sale Price.\n",
    "\n",
    "Relating to to our problem statements and the key questions we wanted to answer.\n",
    "1. Neighbourhood is a strong influencer on Sale Price - possibly because \n",
    "2. House Size is in fact the most important feature from our model\n",
    "3. The inner house area above the ground floor seems to be the most valuable area\n",
    "4. The overall finishing (Quality and Condition) also influences Sale Price quite significantly\n",
    "5. House age is also a good predictor of houses\n",
    "\n",
    "\n",
    "Limitations of our findings\n",
    "\n",
    "There are other social, economic and political factors that are likely to heaviliy influence house prices. We are not able to control for these variables with the information provided in our dataset. Some of these factors are:\n",
    "- Demographics\n",
    "- Interest rate\n",
    "- The Economy\n",
    "- Government Policies\n"
   ]
  },
  {
   "cell_type": "markdown",
   "id": "ce4b9577-8838-4c0e-851d-58acc8273fcc",
   "metadata": {},
   "source": [
    "## Recommendation"
   ]
  },
  {
   "cell_type": "markdown",
   "id": "0b7c4267-c1eb-40a6-a256-c94c077a0b74",
   "metadata": {},
   "source": [
    "1. We can build a Ridge Regression model to help predict prices of houses that will be added to the listing from the property agency\n",
    "2. The most important data to collect are above ground living area and overall finishing (Quality and Condition), Lot Area, Basement SF & Finishing, neighbourhood and house age.\n",
    "3. More external data, such as Demographics and Interest rate should be collected and added to our prediction model"
   ]
  }
 ],
 "metadata": {
  "kernelspec": {
   "display_name": "Python 3 (ipykernel)",
   "language": "python",
   "name": "python3"
  },
  "language_info": {
   "codemirror_mode": {
    "name": "ipython",
    "version": 3
   },
   "file_extension": ".py",
   "mimetype": "text/x-python",
   "name": "python",
   "nbconvert_exporter": "python",
   "pygments_lexer": "ipython3",
   "version": "3.9.7"
  }
 },
 "nbformat": 4,
 "nbformat_minor": 5
}
